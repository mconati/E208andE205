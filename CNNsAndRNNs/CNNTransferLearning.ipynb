{
  "nbformat": 4,
  "nbformat_minor": 0,
  "metadata": {
    "colab": {
      "provenance": [],
      "collapsed_sections": []
    },
    "kernelspec": {
      "name": "python3",
      "display_name": "Python 3"
    },
    "language_info": {
      "name": "python"
    },
    "accelerator": "GPU"
  },
  "cells": [
    {
      "cell_type": "markdown",
      "metadata": {
        "id": "H9aUzbFTYJZI"
      },
      "source": [
        "### Note: All the trainings in this notebook take a very long time(about 10 min each with a GPU on Colab). Many of them could be run longer to get better results, but I kept training this long so that the notebook is less cumbersome"
      ]
    },
    {
      "cell_type": "code",
      "metadata": {
        "id": "J3z4Q4_5a-1p"
      },
      "source": [
        "import torch\n",
        "import torch.nn as nn\n",
        "import torch.nn.functional as F\n",
        "import torch.optim as optim\n",
        "import torch.utils\n",
        "import torchvision\n",
        "import torchvision.models as models\n",
        "from torchvision import datasets, models, transforms\n",
        "from torch.utils.data import DataLoader, Subset\n",
        "import numpy as np\n",
        "import matplotlib.pyplot as plt\n",
        "import time\n",
        "import copy\n",
        "%matplotlib inline\n",
        "device = torch.device('cuda:0' if torch.cuda.is_available() else 'cpu')"
      ],
      "execution_count": null,
      "outputs": []
    },
    {
      "cell_type": "markdown",
      "metadata": {
        "id": "iarEPvW2xRhO"
      },
      "source": [
        "## Part 1. Make a MNIST classifier using Pytorch and the Modified LeNet model"
      ]
    },
    {
      "cell_type": "markdown",
      "metadata": {
        "id": "oV09JA4O2H8Z"
      },
      "source": [
        "1a) Define the model. The model comes from HW7 and has 2 conv layers and 3 linear layers"
      ]
    },
    {
      "cell_type": "code",
      "metadata": {
        "id": "wn3bS1VAbSA_"
      },
      "source": [
        "class modified_LeNet(nn.Module):\n",
        "    def __init__(self):\n",
        "        super(modified_LeNet, self).__init__()\n",
        "        #Declare the model\n",
        "        #From HW7, we have the model structure: two conv layers, two linear, and output\n",
        "        self.conv1 = nn.Conv2d(1,6,5,1,2)\n",
        "        self.conv2 = nn.Conv2d(6,16,5,1,0)\n",
        "        self.lin1 = nn.Linear(400, 120, bias=True)\n",
        "        self.lin2 = nn.Linear(120,84, bias=True)\n",
        "        self.lin3 = nn.Linear(84,10,bias = True)\n",
        "        self.pool = nn.MaxPool2d(2,2)\n",
        "\n",
        "\n",
        "        \n",
        "#Describe forward path through net. x is input data\n",
        "    def forward(self, x):\n",
        "        #Pass data through linear layers\n",
        "\n",
        "        #Conv, relu, pool\n",
        "        x = self.conv1(x)\n",
        "        x = F.relu(x) \n",
        "        x = self.pool(x)\n",
        "\n",
        "        #Conv, relu, pool\n",
        "        x = self.conv2(x)\n",
        "        x = F.relu(x) \n",
        "        x = self.pool(x)\n",
        "        \n",
        "        #Flatten but not in batch dimension\n",
        "        x = torch.flatten(x, start_dim=1)\n",
        "        \n",
        "        #Linear 1 and relu\n",
        "        x = self.lin1(x)\n",
        "        x = F.relu(x) \n",
        "        \n",
        "        #Linear 2 and relu\n",
        "        x = self.lin2(x)\n",
        "        x = F.relu(x)\n",
        "        \n",
        "        #Linear 3 and SM for output\n",
        "        x = self.lin3(x)\n",
        "        out = F.softmax(x, dim = 1)\n",
        "        return out"
      ],
      "execution_count": null,
      "outputs": []
    },
    {
      "cell_type": "markdown",
      "metadata": {
        "id": "rNqjKkLdx7sS"
      },
      "source": [
        "#### Prepare the dataset and dataloaders. Make a dataloader for the full-data model and the small-data model"
      ]
    },
    {
      "cell_type": "code",
      "metadata": {
        "colab": {
          "base_uri": "https://localhost:8080/"
        },
        "id": "1o1d5BhNdza8",
        "outputId": "0c99ba5d-3190-4a8a-e124-11165bb05ba1"
      },
      "source": [
        "#Import the data. Transform the data so that it is a tensor and we can work with it easier(instead of PIL)\n",
        "mnist_dataset = datasets.MNIST('/files/', train=True, download=True,\n",
        "                             transform=torchvision.transforms.Compose([\n",
        "                               torchvision.transforms.ToTensor(),\n",
        "                               torchvision.transforms.Normalize(\n",
        "                                 (0.1307,), (0.3081,))\n",
        "                             ]))\n",
        "\n",
        "#Declare sizes for the sets. I chose a 70/30/0 split\n",
        "train_len = int(len(mnist_dataset) * 0.7)\n",
        "val_len = int(len(mnist_dataset) - train_len)\n",
        "\n",
        "#Randomly split the dataset into the test, validation, and train sets\n",
        "train_set, val_set = torch.utils.data.random_split(mnist_dataset, [train_len, val_len])\n",
        "\n",
        "\n",
        "#Also create the dataloaders\n",
        "#First, declare a batch size\n",
        "batch_size = 10000\n",
        "#Make a dataloader for each dataset\n",
        "train_DL = DataLoader(train_set, batch_size=batch_size, shuffle=True)\n",
        "val_DL = DataLoader(val_set, batch_size=batch_size, shuffle=True)\n",
        "\n",
        "\n",
        "#For the small data problem, make a separate dataloader\n",
        "#Take 200 random elements from the train_set\n",
        "indicies = torch.randperm(len(train_set))[:200]\n",
        "small_train_set = Subset(train_set, indicies)\n",
        "small_train_DL = DataLoader(small_train_set, batch_size=100, shuffle=True)"
      ],
      "execution_count": null,
      "outputs": [
        {
          "output_type": "stream",
          "name": "stderr",
          "text": [
            "/usr/local/lib/python3.7/dist-packages/torchvision/datasets/mnist.py:498: UserWarning: The given NumPy array is not writeable, and PyTorch does not support non-writeable tensors. This means you can write to the underlying (supposedly non-writeable) NumPy array using the tensor. You may want to copy the array to protect its data or make it writeable before converting it to a tensor. This type of warning will be suppressed for the rest of this program. (Triggered internally at  /pytorch/torch/csrc/utils/tensor_numpy.cpp:180.)\n",
            "  return torch.from_numpy(parsed.astype(m[2], copy=False)).view(*s)\n"
          ]
        }
      ]
    },
    {
      "cell_type": "markdown",
      "metadata": {
        "id": "iNPhsFHizUCF"
      },
      "source": [
        "Test the dataloader to make sure it all matches up. The img should be a possible input and it should also have the correct label. Can rerun this code block to check new random data"
      ]
    },
    {
      "cell_type": "code",
      "metadata": {
        "colab": {
          "base_uri": "https://localhost:8080/",
          "height": 282
        },
        "id": "uSo7c5CMfkss",
        "outputId": "0b395dd7-627c-4ba1-ae7e-307e6925c8e1"
      },
      "source": [
        "img, label = [x[0] for x in iter(small_train_DL).next()]\n",
        "plt.imshow(img.reshape(28,-1))\n",
        "print(\"Label is: \" + str(label.item()))"
      ],
      "execution_count": null,
      "outputs": [
        {
          "output_type": "stream",
          "name": "stdout",
          "text": [
            "Label is: 2\n"
          ]
        },
        {
          "output_type": "display_data",
          "data": {
            "image/png": "[encoded data removed]",
            "text/plain": [
              "<Figure size 432x288 with 1 Axes>"
            ]
          },
          "metadata": {
            "needs_background": "light"
          }
        }
      ]
    },
    {
      "cell_type": "markdown",
      "metadata": {
        "id": "n44U72l0zXGo"
      },
      "source": [
        "The dataloaders work as expected. We can define functions for training and evaluation of the model:"
      ]
    },
    {
      "cell_type": "code",
      "metadata": {
        "id": "2pSvwcekgeC1"
      },
      "source": [
        "\"\"\"\n",
        "Function: Train a model\n",
        "Inputs: model: model to train\n",
        "        train_DL: Dataloader for trainset\n",
        "        valid_DL: Dataloader for valid set\n",
        "        num_epochs: number of training epochs\n",
        "        lr: learning rate\n",
        "        lambd: regularization of loss function\n",
        "        \n",
        "Outputs: model: trained model\n",
        "         losses: list of trainset losses over iterations\n",
        "         vallosses: list of valid set losses over iterations\n",
        "\"\"\"\n",
        "def trainLoop(model, train_DL, val_DL, num_epochs, lr, lambd, momentum = 0.9, verbose = True):\n",
        "    #Declare the loss and optimizer\n",
        "    for name,param in model.named_parameters():\n",
        "        if param.requires_grad == True:\n",
        "            print(\"\\t\",name)\n",
        "    criterion = nn.CrossEntropyLoss()\n",
        "    optimizer = torch.optim.SGD(model.parameters(), lr, momentum = momentum, weight_decay = lambd)\n",
        "    \n",
        "    #Create lists to store losses for plotting later\n",
        "    losses = []\n",
        "    valLosses = []\n",
        "    valAccuracy = []\n",
        "    \n",
        "    #Iterate for each epoch\n",
        "    for epoch in range(num_epochs):\n",
        "        \n",
        "        #Make values to store loss and count samples\n",
        "        total_loss = 0\n",
        "        trainSamples = 0\n",
        "        #Loop through the train loader\n",
        "        for step, (data, labels) in enumerate(train_DL):\n",
        "            #Send the data and labels to GPU\n",
        "            inputs= data.to(device).float()\n",
        "            labels = labels.to(device).long()\n",
        "            #Zero gradients\n",
        "            optimizer.zero_grad()\n",
        "            #Find predictions and calculate loss on GPU\n",
        "            outputs = model(inputs)\n",
        "            loss = criterion(outputs, labels)\n",
        "            #Use Autograd to find gradients\n",
        "            loss.backward()\n",
        "            #Step with the gradients\n",
        "            optimizer.step()\n",
        "            #Store loss and count samples\n",
        "            total_loss += loss.item()\n",
        "            trainSamples += 1\n",
        "\n",
        "        #Find the validation loss\n",
        "        #Make variables to store the loss and samples\n",
        "        total_val_loss = 0  \n",
        "        validSamples = 0\n",
        "        #Set to eval mode for validation set and iterate through the valid dataloader\n",
        "        model.eval()\n",
        "        for step, (data, labels) in enumerate(val_DL):\n",
        "            #Pass validation data to GPU\n",
        "            inputs = data.to(device).float()\n",
        "            labels = labels.to(device).long()\n",
        "            #Forward pass to find loss. Use eval mode for valid set\n",
        "            outputs = model(inputs)\n",
        "            loss = criterion(outputs, labels)\n",
        "            total_val_loss +=loss.item()\n",
        "            validSamples += 1\n",
        "        \n",
        "        #Use eval function to find validation accuracy\n",
        "        valAccuracy.append(evaluateModel(model, val_DL, verbose = False)[0])\n",
        "        #return to train mode after finding validation accuracy and\n",
        "        model.train()\n",
        "        \n",
        "        #Print out accuracies if wanted\n",
        "        if epoch%1 ==0 and epoch !=0 and verbose ==True:\n",
        "            print(\"Epoch: \" + str(epoch)+ \". Average loss per training sample is: \"+str(total_loss/trainSamples))\n",
        "            print(\"Epoch: \" + str(epoch)+ \". Average loss per valid sample is: \"+str(total_val_loss/validSamples) + '\\n')\n",
        "\n",
        "\n",
        "        #Save losses per sample\n",
        "        losses.append(total_loss/trainSamples)\n",
        "        valLosses.append(total_val_loss/validSamples)\n",
        "        \n",
        "    return model, losses, valLosses, valAccuracy"
      ],
      "execution_count": null,
      "outputs": []
    },
    {
      "cell_type": "code",
      "metadata": {
        "id": "9zQ0L3peg6rU"
      },
      "source": [
        "\"\"\"\n",
        "Function: Evaluate a trained model\n",
        "Inputs: model: model to evaluate\n",
        "        test_DL: Dataloader to use for evaluation\n",
        "\n",
        "        \n",
        "Outputs: Accuracy: Accuracy of the model on the given DL\n",
        "\"\"\"\n",
        "def evaluateModel(model, test_DL, verbose = True):\n",
        "    #Put the model in eval mode\n",
        "    model.eval()\n",
        "    #Save numbers for the correct guesses, total, and incorrect\n",
        "    correct = 0\n",
        "    total = 0\n",
        "    incorrect = 0\n",
        "    #Also save misclassified samples for debugging net\n",
        "    badPreds = []\n",
        "    \n",
        "    #Don't save gradients\n",
        "    with torch.no_grad():\n",
        "        #Iterate through the DL\n",
        "        for data in test_DL:\n",
        "            #Find the predictions on the data\n",
        "            inputs, labels = data\n",
        "            outputs = model(inputs.to(device).float())\n",
        "            _, predicted = torch.max(outputs.data, 1)\n",
        "            predicted = predicted.cpu().numpy()\n",
        "            labels = labels.numpy()\n",
        "            #Iterate through labels\n",
        "            for x in range(len(labels)):\n",
        "                total +=1\n",
        "                #If label doesn't match predictions, increment incorrect and save the sample for debugging\n",
        "                if labels[x]!=predicted[x]:\n",
        "                    incorrect +=1\n",
        "                    badPreds.append([inputs[x], outputs.data[x], labels[x], predicted[x]])\n",
        "                #Otherwise it's correct\n",
        "                else:\n",
        "                    correct +=1\n",
        "    #Print out the accuracy if wanted\n",
        "    if verbose:\n",
        "        print('Accuracy of the network on the ' + str(total) + ' test images: %d %%' % (\n",
        "            100 * correct / total))\n",
        "    \n",
        "    #Calculate accuracy and return it alongside mispredicted samples\n",
        "    accuracy = correct / total\n",
        "    return accuracy, badPreds"
      ],
      "execution_count": null,
      "outputs": []
    },
    {
      "cell_type": "markdown",
      "metadata": {
        "id": "K2PertSZzgb0"
      },
      "source": [
        "Also define a helper function for plotting results from the training"
      ]
    },
    {
      "cell_type": "code",
      "metadata": {
        "id": "O0zvGcEVg9KQ"
      },
      "source": [
        "\"\"\"\n",
        "Function: Plot losses of a trained model\n",
        "Inputs: val_loss: list of validation losses\n",
        "        train_loss: list of test set losses\n",
        "\n",
        "        \n",
        "Outputs: N/a\n",
        "\"\"\"\n",
        "def plotLosses(val_loss, train_loss, valid_accuracy = False):\n",
        "    #Setup subplots\n",
        "    ax2 = plt.subplot(2,1,2)\n",
        "    #Label plots\n",
        "    ax2.plot(val_loss, label = 'Validation loss')\n",
        "    ax2.plot(train_loss, label = 'Train loss')\n",
        "    if valid_accuracy != False:\n",
        "      ax1 = plt.subplot(2,1,1)\n",
        "      ax1.plot(valid_accuracy, label = 'Validation Accuracy')\n",
        "      ax1.set_xlabel(\"Iteration\")\n",
        "      ax1.set_ylabel(\"Validation Accuracy\")\n",
        "      ax1.legend()\n",
        "    ax2.set_xlabel(\"Iteration\")\n",
        "    ax2.set_ylabel(\"Loss per Sample\")\n",
        "    ax2.legend()\n",
        "    plt.show()"
      ],
      "execution_count": null,
      "outputs": []
    },
    {
      "cell_type": "markdown",
      "metadata": {
        "id": "oX8VCFt-zkPR"
      },
      "source": [
        "1b) Run training with the full data problem. I found that some training attempts went quickly while others took a long while. This is currently set for 50 epochs, which takes a long time to run"
      ]
    },
    {
      "cell_type": "code",
      "metadata": {
        "colab": {
          "base_uri": "https://localhost:8080/"
        },
        "id": "MvwM9XTag_Q0",
        "outputId": "f543d721-924b-463b-d8be-d85d3605dc41"
      },
      "source": [
        "#Train on the full dataset\n",
        "#Declare parameters for nn and training\n",
        "device = torch.device('cuda:0' if torch.cuda.is_available() else 'cpu')\n",
        "num_epochs = 50\n",
        "lr = 0.1\n",
        "lambd = 0.00001\n",
        "\n",
        "#Make the model\n",
        "model = modified_LeNet().to(device).train()\n",
        "#Train the model\n",
        "trained_model, losses, valid_losses, valid_accuracy = trainLoop(model, train_DL, val_DL, num_epochs, lr, lambd, momentum=0.9)"
      ],
      "execution_count": null,
      "outputs": [
        {
          "output_type": "stream",
          "name": "stdout",
          "text": [
            "\t conv1.weight\n",
            "\t conv1.bias\n",
            "\t conv2.weight\n",
            "\t conv2.bias\n",
            "\t lin1.weight\n",
            "\t lin1.bias\n",
            "\t lin2.weight\n",
            "\t lin2.bias\n",
            "\t lin3.weight\n",
            "\t lin3.bias\n"
          ]
        },
        {
          "output_type": "stream",
          "name": "stderr",
          "text": [
            "/usr/local/lib/python3.7/dist-packages/torch/nn/functional.py:718: UserWarning: Named tensors and all their associated APIs are an experimental feature and subject to change. Please do not use them for anything important until they are released as stable. (Triggered internally at  /pytorch/c10/core/TensorImpl.h:1156.)\n",
            "  return torch.max_pool2d(input, kernel_size, stride, padding, dilation, ceil_mode)\n"
          ]
        },
        {
          "output_type": "stream",
          "name": "stdout",
          "text": [
            "Epoch: 1. Average loss per training sample is: 2.302078437805176\n",
            "Epoch: 1. Average loss per valid sample is: 2.3017174005508423\n",
            "\n",
            "Epoch: 2. Average loss per training sample is: 2.301276969909668\n",
            "Epoch: 2. Average loss per valid sample is: 2.3008086681365967\n",
            "\n",
            "Epoch: 3. Average loss per training sample is: 2.3002281188964844\n",
            "Epoch: 3. Average loss per valid sample is: 2.2995963096618652\n",
            "\n",
            "Epoch: 4. Average loss per training sample is: 2.298822546005249\n",
            "Epoch: 4. Average loss per valid sample is: 2.2978073358535767\n",
            "\n",
            "Epoch: 5. Average loss per training sample is: 2.2966681480407716\n",
            "Epoch: 5. Average loss per valid sample is: 2.2948068380355835\n",
            "\n",
            "Epoch: 6. Average loss per training sample is: 2.29257755279541\n",
            "Epoch: 6. Average loss per valid sample is: 2.2886253595352173\n",
            "\n",
            "Epoch: 7. Average loss per training sample is: 2.282982349395752\n",
            "Epoch: 7. Average loss per valid sample is: 2.270003914833069\n",
            "\n",
            "Epoch: 8. Average loss per training sample is: 2.2425222873687742\n",
            "Epoch: 8. Average loss per valid sample is: 2.182818055152893\n",
            "\n",
            "Epoch: 9. Average loss per training sample is: 2.146422290802002\n",
            "Epoch: 9. Average loss per valid sample is: 2.079661726951599\n",
            "\n",
            "Epoch: 10. Average loss per training sample is: 2.009938931465149\n",
            "Epoch: 10. Average loss per valid sample is: 1.949321210384369\n",
            "\n",
            "Epoch: 11. Average loss per training sample is: 1.9076579570770265\n",
            "Epoch: 11. Average loss per valid sample is: 1.8935633897781372\n",
            "\n",
            "Epoch: 12. Average loss per training sample is: 1.8409062623977661\n",
            "Epoch: 12. Average loss per valid sample is: 1.8176142573356628\n",
            "\n",
            "Epoch: 13. Average loss per training sample is: 1.7749894618988038\n",
            "Epoch: 13. Average loss per valid sample is: 1.7358384132385254\n",
            "\n",
            "Epoch: 14. Average loss per training sample is: 1.7037786722183228\n",
            "Epoch: 14. Average loss per valid sample is: 1.6841385960578918\n",
            "\n",
            "Epoch: 15. Average loss per training sample is: 1.672453022003174\n",
            "Epoch: 15. Average loss per valid sample is: 1.6606627702713013\n",
            "\n",
            "Epoch: 16. Average loss per training sample is: 1.6587770700454711\n",
            "Epoch: 16. Average loss per valid sample is: 1.654765546321869\n",
            "\n",
            "Epoch: 17. Average loss per training sample is: 1.6460174083709718\n",
            "Epoch: 17. Average loss per valid sample is: 1.6423295736312866\n",
            "\n",
            "Epoch: 18. Average loss per training sample is: 1.6359235048294067\n",
            "Epoch: 18. Average loss per valid sample is: 1.635414958000183\n",
            "\n",
            "Epoch: 19. Average loss per training sample is: 1.6307581901550292\n",
            "Epoch: 19. Average loss per valid sample is: 1.6288718581199646\n",
            "\n",
            "Epoch: 20. Average loss per training sample is: 1.6236611127853393\n",
            "Epoch: 20. Average loss per valid sample is: 1.6220754384994507\n",
            "\n",
            "Epoch: 21. Average loss per training sample is: 1.6181140422821045\n",
            "Epoch: 21. Average loss per valid sample is: 1.6191815733909607\n",
            "\n",
            "Epoch: 22. Average loss per training sample is: 1.61424400806427\n",
            "Epoch: 22. Average loss per valid sample is: 1.6146489381790161\n",
            "\n",
            "Epoch: 23. Average loss per training sample is: 1.6113696336746215\n",
            "Epoch: 23. Average loss per valid sample is: 1.6132266521453857\n",
            "\n",
            "Epoch: 24. Average loss per training sample is: 1.6095550298690795\n",
            "Epoch: 24. Average loss per valid sample is: 1.6106901168823242\n",
            "\n",
            "Epoch: 25. Average loss per training sample is: 1.6088170528411865\n",
            "Epoch: 25. Average loss per valid sample is: 1.606274425983429\n",
            "\n",
            "Epoch: 26. Average loss per training sample is: 1.5993965864181519\n",
            "Epoch: 26. Average loss per valid sample is: 1.573820948600769\n",
            "\n",
            "Epoch: 27. Average loss per training sample is: 1.5641997814178468\n",
            "Epoch: 27. Average loss per valid sample is: 1.570221185684204\n",
            "\n",
            "Epoch: 28. Average loss per training sample is: 1.5472031116485596\n",
            "Epoch: 28. Average loss per valid sample is: 1.5492612719535828\n",
            "\n",
            "Epoch: 29. Average loss per training sample is: 1.5393843173980712\n",
            "Epoch: 29. Average loss per valid sample is: 1.5352330803871155\n",
            "\n",
            "Epoch: 30. Average loss per training sample is: 1.5290427923202514\n",
            "Epoch: 30. Average loss per valid sample is: 1.5331077575683594\n",
            "\n",
            "Epoch: 31. Average loss per training sample is: 1.5227307558059693\n",
            "Epoch: 31. Average loss per valid sample is: 1.5276314616203308\n",
            "\n",
            "Epoch: 32. Average loss per training sample is: 1.5192593336105347\n",
            "Epoch: 32. Average loss per valid sample is: 1.522271454334259\n",
            "\n",
            "Epoch: 33. Average loss per training sample is: 1.514376163482666\n",
            "Epoch: 33. Average loss per valid sample is: 1.521585762500763\n",
            "\n",
            "Epoch: 34. Average loss per training sample is: 1.513789963722229\n",
            "Epoch: 34. Average loss per valid sample is: 1.5186711549758911\n",
            "\n",
            "Epoch: 35. Average loss per training sample is: 1.5097256660461427\n",
            "Epoch: 35. Average loss per valid sample is: 1.5156710147857666\n",
            "\n",
            "Epoch: 36. Average loss per training sample is: 1.506058406829834\n",
            "Epoch: 36. Average loss per valid sample is: 1.5173026323318481\n",
            "\n",
            "Epoch: 37. Average loss per training sample is: 1.5065683603286744\n",
            "Epoch: 37. Average loss per valid sample is: 1.5116670727729797\n",
            "\n",
            "Epoch: 38. Average loss per training sample is: 1.5028810024261474\n",
            "Epoch: 38. Average loss per valid sample is: 1.5095996856689453\n",
            "\n",
            "Epoch: 39. Average loss per training sample is: 1.5003523588180543\n",
            "Epoch: 39. Average loss per valid sample is: 1.5088539719581604\n",
            "\n",
            "Epoch: 40. Average loss per training sample is: 1.4986523151397706\n",
            "Epoch: 40. Average loss per valid sample is: 1.507145345211029\n",
            "\n",
            "Epoch: 41. Average loss per training sample is: 1.497609305381775\n",
            "Epoch: 41. Average loss per valid sample is: 1.505465030670166\n",
            "\n",
            "Epoch: 42. Average loss per training sample is: 1.4951998949050904\n",
            "Epoch: 42. Average loss per valid sample is: 1.5045189261436462\n",
            "\n",
            "Epoch: 43. Average loss per training sample is: 1.49428334236145\n",
            "Epoch: 43. Average loss per valid sample is: 1.5030732154846191\n",
            "\n",
            "Epoch: 44. Average loss per training sample is: 1.493894386291504\n",
            "Epoch: 44. Average loss per valid sample is: 1.5016884207725525\n",
            "\n",
            "Epoch: 45. Average loss per training sample is: 1.492657518386841\n",
            "Epoch: 45. Average loss per valid sample is: 1.5012930035591125\n",
            "\n",
            "Epoch: 46. Average loss per training sample is: 1.4914563655853272\n",
            "Epoch: 46. Average loss per valid sample is: 1.5006173849105835\n",
            "\n",
            "Epoch: 47. Average loss per training sample is: 1.490200924873352\n",
            "Epoch: 47. Average loss per valid sample is: 1.4998207092285156\n",
            "\n",
            "Epoch: 48. Average loss per training sample is: 1.4905314683914184\n",
            "Epoch: 48. Average loss per valid sample is: 1.4985759258270264\n",
            "\n",
            "Epoch: 49. Average loss per training sample is: 1.4897467851638795\n",
            "Epoch: 49. Average loss per valid sample is: 1.4982725977897644\n",
            "\n"
          ]
        }
      ]
    },
    {
      "cell_type": "code",
      "metadata": {
        "colab": {
          "base_uri": "https://localhost:8080/",
          "height": 299
        },
        "id": "HIdGNh173X0p",
        "outputId": "9b6201b5-3abd-48ad-d3e6-bbb59c4bea11"
      },
      "source": [
        "#Plot the results\n",
        "plotLosses(valid_losses, losses, valid_accuracy)\n",
        "print(\"Max accuracy\" + str(max(valid_accuracy)))"
      ],
      "execution_count": null,
      "outputs": [
        {
          "output_type": "display_data",
          "data": {
            "image/png": "[encoded data removed]",
            "text/plain": [
              "<Figure size 432x288 with 2 Axes>"
            ]
          },
          "metadata": {
            "needs_background": "light"
          }
        },
        {
          "output_type": "stream",
          "name": "stdout",
          "text": [
            "Max accuracy0.9645\n"
          ]
        }
      ]
    },
    {
      "cell_type": "markdown",
      "metadata": {
        "id": "2hyRvCkDzobI"
      },
      "source": [
        "1c)Run training with the partial data problem(Also takes a while)"
      ]
    },
    {
      "cell_type": "code",
      "metadata": {
        "id": "gzWr9TvVv_Qi",
        "colab": {
          "base_uri": "https://localhost:8080/"
        },
        "outputId": "c95e5b80-6106-4c15-ea3b-e6fd1a5391e2"
      },
      "source": [
        "#Train on a small subset\n",
        "#Declare parameters for nn and training\n",
        "device = torch.device('cuda:0' if torch.cuda.is_available() else 'cpu')\n",
        "num_epochs = 50\n",
        "lr = 0.1\n",
        "lambd = 0.00001\n",
        "\n",
        "#Make the model\n",
        "model = modified_LeNet().to(device).train()\n",
        "#Train the model. The small dataloader is already defined\n",
        "trained_model, losses, valid_losses, valid_accuracy = trainLoop(model, small_train_DL, val_DL, num_epochs, lr, lambd, momentum=0.9)"
      ],
      "execution_count": null,
      "outputs": [
        {
          "output_type": "stream",
          "name": "stdout",
          "text": [
            "\t conv1.weight\n",
            "\t conv1.bias\n",
            "\t conv2.weight\n",
            "\t conv2.bias\n",
            "\t lin1.weight\n",
            "\t lin1.bias\n",
            "\t lin2.weight\n",
            "\t lin2.bias\n",
            "\t lin3.weight\n",
            "\t lin3.bias\n",
            "Epoch: 1. Average loss per training sample is: 2.3026342391967773\n",
            "Epoch: 1. Average loss per valid sample is: 2.3026541471481323\n",
            "\n",
            "Epoch: 2. Average loss per training sample is: 2.3025327920913696\n",
            "Epoch: 2. Average loss per valid sample is: 2.3026317358016968\n",
            "\n",
            "Epoch: 3. Average loss per training sample is: 2.302402973175049\n",
            "Epoch: 3. Average loss per valid sample is: 2.3025962114334106\n",
            "\n",
            "Epoch: 4. Average loss per training sample is: 2.302234172821045\n",
            "Epoch: 4. Average loss per valid sample is: 2.302554726600647\n",
            "\n",
            "Epoch: 5. Average loss per training sample is: 2.302063226699829\n",
            "Epoch: 5. Average loss per valid sample is: 2.3025203943252563\n",
            "\n",
            "Epoch: 6. Average loss per training sample is: 2.301864504814148\n",
            "Epoch: 6. Average loss per valid sample is: 2.3024771213531494\n",
            "\n",
            "Epoch: 7. Average loss per training sample is: 2.301637291908264\n",
            "Epoch: 7. Average loss per valid sample is: 2.302431583404541\n",
            "\n",
            "Epoch: 8. Average loss per training sample is: 2.301410675048828\n",
            "Epoch: 8. Average loss per valid sample is: 2.3023900985717773\n",
            "\n",
            "Epoch: 9. Average loss per training sample is: 2.3011518716812134\n",
            "Epoch: 9. Average loss per valid sample is: 2.3023221492767334\n",
            "\n",
            "Epoch: 10. Average loss per training sample is: 2.3008826971054077\n",
            "Epoch: 10. Average loss per valid sample is: 2.302268862724304\n",
            "\n",
            "Epoch: 11. Average loss per training sample is: 2.3006045818328857\n",
            "Epoch: 11. Average loss per valid sample is: 2.3022106885910034\n",
            "\n",
            "Epoch: 12. Average loss per training sample is: 2.300313115119934\n",
            "Epoch: 12. Average loss per valid sample is: 2.3021563291549683\n",
            "\n",
            "Epoch: 13. Average loss per training sample is: 2.3000388145446777\n",
            "Epoch: 13. Average loss per valid sample is: 2.3020992279052734\n",
            "\n",
            "Epoch: 14. Average loss per training sample is: 2.29971182346344\n",
            "Epoch: 14. Average loss per valid sample is: 2.3020352125167847\n",
            "\n",
            "Epoch: 15. Average loss per training sample is: 2.299434185028076\n",
            "Epoch: 15. Average loss per valid sample is: 2.301961302757263\n",
            "\n",
            "Epoch: 16. Average loss per training sample is: 2.299076795578003\n",
            "Epoch: 16. Average loss per valid sample is: 2.301875948905945\n",
            "\n",
            "Epoch: 17. Average loss per training sample is: 2.2987475395202637\n",
            "Epoch: 17. Average loss per valid sample is: 2.3018115758895874\n",
            "\n",
            "Epoch: 18. Average loss per training sample is: 2.298366904258728\n",
            "Epoch: 18. Average loss per valid sample is: 2.3017125129699707\n",
            "\n",
            "Epoch: 19. Average loss per training sample is: 2.2979243993759155\n",
            "Epoch: 19. Average loss per valid sample is: 2.301580548286438\n",
            "\n",
            "Epoch: 20. Average loss per training sample is: 2.297449827194214\n",
            "Epoch: 20. Average loss per valid sample is: 2.3014546632766724\n",
            "\n",
            "Epoch: 21. Average loss per training sample is: 2.296975255012512\n",
            "Epoch: 21. Average loss per valid sample is: 2.301300048828125\n",
            "\n",
            "Epoch: 22. Average loss per training sample is: 2.2964060306549072\n",
            "Epoch: 22. Average loss per valid sample is: 2.301126003265381\n",
            "\n",
            "Epoch: 23. Average loss per training sample is: 2.295680522918701\n",
            "Epoch: 23. Average loss per valid sample is: 2.300898551940918\n",
            "\n",
            "Epoch: 24. Average loss per training sample is: 2.2949090003967285\n",
            "Epoch: 24. Average loss per valid sample is: 2.300663709640503\n",
            "\n",
            "Epoch: 25. Average loss per training sample is: 2.2941240072250366\n",
            "Epoch: 25. Average loss per valid sample is: 2.300389885902405\n",
            "\n",
            "Epoch: 26. Average loss per training sample is: 2.2930670976638794\n",
            "Epoch: 26. Average loss per valid sample is: 2.3000441789627075\n",
            "\n",
            "Epoch: 27. Average loss per training sample is: 2.2918477058410645\n",
            "Epoch: 27. Average loss per valid sample is: 2.2996585369110107\n",
            "\n",
            "Epoch: 28. Average loss per training sample is: 2.2903071641921997\n",
            "Epoch: 28. Average loss per valid sample is: 2.299142360687256\n",
            "\n",
            "Epoch: 29. Average loss per training sample is: 2.2880455255508423\n",
            "Epoch: 29. Average loss per valid sample is: 2.29862380027771\n",
            "\n",
            "Epoch: 30. Average loss per training sample is: 2.2857526540756226\n",
            "Epoch: 30. Average loss per valid sample is: 2.298268675804138\n",
            "\n",
            "Epoch: 31. Average loss per training sample is: 2.281553268432617\n",
            "Epoch: 31. Average loss per valid sample is: 2.2979416847229004\n",
            "\n",
            "Epoch: 32. Average loss per training sample is: 2.276468276977539\n",
            "Epoch: 32. Average loss per valid sample is: 2.2986046075820923\n",
            "\n",
            "Epoch: 33. Average loss per training sample is: 2.268789291381836\n",
            "Epoch: 33. Average loss per valid sample is: 2.300349712371826\n",
            "\n",
            "Epoch: 34. Average loss per training sample is: 2.2615338563919067\n",
            "Epoch: 34. Average loss per valid sample is: 2.3003491163253784\n",
            "\n",
            "Epoch: 35. Average loss per training sample is: 2.253823757171631\n",
            "Epoch: 35. Average loss per valid sample is: 2.290253520011902\n",
            "\n",
            "Epoch: 36. Average loss per training sample is: 2.2361059188842773\n",
            "Epoch: 36. Average loss per valid sample is: 2.2690670490264893\n",
            "\n",
            "Epoch: 37. Average loss per training sample is: 2.217018961906433\n",
            "Epoch: 37. Average loss per valid sample is: 2.2489235401153564\n",
            "\n",
            "Epoch: 38. Average loss per training sample is: 2.1830601692199707\n",
            "Epoch: 38. Average loss per valid sample is: 2.224439024925232\n",
            "\n",
            "Epoch: 39. Average loss per training sample is: 2.1387561559677124\n",
            "Epoch: 39. Average loss per valid sample is: 2.1946024894714355\n",
            "\n",
            "Epoch: 40. Average loss per training sample is: 2.106493830680847\n",
            "Epoch: 40. Average loss per valid sample is: 2.1767388582229614\n",
            "\n",
            "Epoch: 41. Average loss per training sample is: 2.075586438179016\n",
            "Epoch: 41. Average loss per valid sample is: 2.119104266166687\n",
            "\n",
            "Epoch: 42. Average loss per training sample is: 2.026458501815796\n",
            "Epoch: 42. Average loss per valid sample is: 2.0752886533737183\n",
            "\n",
            "Epoch: 43. Average loss per training sample is: 1.9775174856185913\n",
            "Epoch: 43. Average loss per valid sample is: 2.048867106437683\n",
            "\n",
            "Epoch: 44. Average loss per training sample is: 1.9552767276763916\n",
            "Epoch: 44. Average loss per valid sample is: 2.027011275291443\n",
            "\n",
            "Epoch: 45. Average loss per training sample is: 1.940903663635254\n",
            "Epoch: 45. Average loss per valid sample is: 2.065231204032898\n",
            "\n",
            "Epoch: 46. Average loss per training sample is: 1.956297755241394\n",
            "Epoch: 46. Average loss per valid sample is: 2.0229157209396362\n",
            "\n",
            "Epoch: 47. Average loss per training sample is: 1.9552661776542664\n",
            "Epoch: 47. Average loss per valid sample is: 2.0108615159988403\n",
            "\n",
            "Epoch: 48. Average loss per training sample is: 1.904926359653473\n",
            "Epoch: 48. Average loss per valid sample is: 2.0750229358673096\n",
            "\n",
            "Epoch: 49. Average loss per training sample is: 1.9776555299758911\n",
            "Epoch: 49. Average loss per valid sample is: 2.0008572936058044\n",
            "\n"
          ]
        }
      ]
    },
    {
      "cell_type": "code",
      "metadata": {
        "id": "SnEYyPAE36Ah",
        "colab": {
          "base_uri": "https://localhost:8080/",
          "height": 296
        },
        "outputId": "5ff56324-d918-485a-8fbc-ddf2d27e77f9"
      },
      "source": [
        "#Plot the results\n",
        "plotLosses(valid_losses, losses, valid_accuracy)\n",
        "print(\"Max accuracy\" + str(max(valid_accuracy)))"
      ],
      "execution_count": null,
      "outputs": [
        {
          "output_type": "display_data",
          "data": {
            "image/png": "[encoded data removed]",
            "text/plain": [
              "<Figure size 432x288 with 2 Axes>"
            ]
          },
          "metadata": {
            "needs_background": "light"
          }
        },
        {
          "output_type": "stream",
          "name": "stdout",
          "text": [
            "Max accuracy0.45816666666666667\n"
          ]
        }
      ]
    },
    {
      "cell_type": "markdown",
      "metadata": {
        "id": "Q91hnhoGz11b"
      },
      "source": [
        "## Comparison of full-data and small-data problems:\n",
        "The full data problem trains much more robustly. Training with a small dataset often gets stuck in local minimums or oscillates between getting worse and better. Over many training runs, it often took a while to converge and didn't achieve as good of accuracy as the full data problem. This is because the small dataset lacks the variation needed to generalize to the validation set. Looking at the outputs from the training, there is a larger spread between training loss and validation loss for the small dataset at each iteration; the results of training are not generalizing to the validation set as well."
      ]
    },
    {
      "cell_type": "markdown",
      "metadata": {
        "id": "hSpJUAtezKCM"
      },
      "source": [
        "## Part 2. Convolutional Autoencoder"
      ]
    },
    {
      "cell_type": "markdown",
      "metadata": {
        "id": "stQ4Ed9uVDWw"
      },
      "source": [
        "Part 2a) Define the autoencoder model. "
      ]
    },
    {
      "cell_type": "code",
      "metadata": {
        "id": "YgpwOjb3zOzp"
      },
      "source": [
        "class conv_autoencoder(nn.Module):\n",
        "    def __init__(self):\n",
        "        super(conv_autoencoder, self).__init__()\n",
        "        #Declare the model\n",
        "        #From HW7, we have the model structure: two conv layers as the encoder\n",
        "        self.encoder = nn.Sequential(\n",
        "            nn.Conv2d(1,6,5,1,2),\n",
        "            nn.MaxPool2d(2,2),\n",
        "            nn.ReLU(),\n",
        "            nn.Conv2d(6,16,5,1,0),\n",
        "            nn.MaxPool2d(2,2),\n",
        "            nn.ReLU()\n",
        "        )\n",
        "        #Make decoder layers to return to original dims\n",
        "        self.decoder = nn.Sequential(\n",
        "            nn.Conv2d(16,6,3,1,2),\n",
        "            nn.BatchNorm2d(6),\n",
        "            nn.ReLU(),\n",
        "            nn.Upsample(scale_factor = 2),\n",
        "            nn.Conv2d(6,1,3,1,1),\n",
        "            nn.BatchNorm2d(1),\n",
        "            nn.ReLU(),\n",
        "            nn.Upsample(scale_factor = 2)\n",
        "        )\n",
        "\n",
        "        \n",
        "#Describe forward path through net. x is input data\n",
        "    def forward(self, x):\n",
        "        #Pass data through linear layers\n",
        "\n",
        "        x = self.encoder(x)\n",
        "        out = self.decoder(x)\n",
        "\n",
        "        return out"
      ],
      "execution_count": null,
      "outputs": []
    },
    {
      "cell_type": "markdown",
      "metadata": {
        "id": "ppMVuy6BVR8l"
      },
      "source": [
        "The dataset used for training the autoencoder is different than the classification. Here, I'll make a dataset where the input images have a copy of the image as their label:"
      ]
    },
    {
      "cell_type": "code",
      "metadata": {
        "id": "SqOHnQ-ZX_iC"
      },
      "source": [
        "class mnistAutoencoder(torch.utils.data.Dataset):\n",
        "  '''\n",
        "  Custom Dataset class for mnist autoencoder training\n",
        "  '''\n",
        "  \n",
        "  def __init__(self, inputData):\n",
        "    a_class = []\n",
        "    #make a list of images as the datastructure\n",
        "    for i,label in inputData:\n",
        "        a_class.append(i)\n",
        "    self.imgs= a_class\n",
        "    \n",
        "  def __len__(self):\n",
        "    return len(self.imgs)\n",
        "\n",
        "  def __getitem__(self, index):\n",
        "    #When an image is retrieved, return a copy of it as the label as well\n",
        "    img = self.imgs[index]\n",
        "    img_original = np.asarray(img)\n",
        "\n",
        "    return torch.from_numpy(img_original).float(), torch.from_numpy(img_original).float()"
      ],
      "execution_count": null,
      "outputs": []
    },
    {
      "cell_type": "markdown",
      "metadata": {
        "id": "VzjWFZTrVcg4"
      },
      "source": [
        "Initialize a dataset for autoencoder training. Also setup dataloaders for the dataset"
      ]
    },
    {
      "cell_type": "code",
      "metadata": {
        "id": "0otHuDdtuloV"
      },
      "source": [
        "autoencoder_set = mnistAutoencoder(mnist_dataset)\n",
        "#Declare sizes for the sets. I chose a 60/20/20 split\n",
        "train_len = int(len(autoencoder_set) * 0.6)\n",
        "test_len = int(len(autoencoder_set) * 0.2)\n",
        "validation_len = len(autoencoder_set)-(train_len+test_len)\n",
        "#Randomly split the dataset into the test, validation, and train sets\n",
        "train_set, val_set, test_set = torch.utils.data.random_split(autoencoder_set, [train_len, validation_len, test_len])\n",
        "\n",
        "\n",
        "#Also create the dataloaders\n",
        "#First, declare a batch size\n",
        "batch_size = 10000\n",
        "#Make a dataloader for each dataset\n",
        "a_train_DL = DataLoader(train_set, batch_size=batch_size, shuffle=True)\n",
        "a_val_DL = DataLoader(test_set, batch_size=batch_size, shuffle=True)\n",
        "a_test_DL = DataLoader(val_set, batch_size=batch_size, shuffle=True)\n"
      ],
      "execution_count": null,
      "outputs": []
    },
    {
      "cell_type": "markdown",
      "metadata": {
        "id": "v9dfMB0QV0EJ"
      },
      "source": [
        "Check that everything works as expected"
      ]
    },
    {
      "cell_type": "code",
      "metadata": {
        "id": "v3meeqAIw7E8",
        "colab": {
          "base_uri": "https://localhost:8080/",
          "height": 530
        },
        "outputId": "592bc53e-85ec-42e9-ef49-8566f5d91c0f"
      },
      "source": [
        "img, label = [x[0] for x in iter(a_train_DL).next()]\n",
        "plt.imshow(label.reshape(28,-1))\n",
        "plt.figure()\n",
        "plt.imshow(img.reshape(28,-1))\n",
        "print(\"Our labels are now just our original images as desired\")"
      ],
      "execution_count": null,
      "outputs": [
        {
          "output_type": "stream",
          "name": "stdout",
          "text": [
            "Our labels are now just our original images as desired\n"
          ]
        },
        {
          "output_type": "display_data",
          "data": {
            "image/png": "[encoded data removed]",
            "text/plain": [
              "<Figure size 432x288 with 1 Axes>"
            ]
          },
          "metadata": {
            "needs_background": "light"
          }
        },
        {
          "output_type": "display_data",
          "data": {
            "image/png": "[encoded data removed]",
            "text/plain": [
              "<Figure size 432x288 with 1 Axes>"
            ]
          },
          "metadata": {
            "needs_background": "light"
          }
        }
      ]
    },
    {
      "cell_type": "markdown",
      "metadata": {
        "id": "bXeN4Wz4V3ra"
      },
      "source": [
        "I defined another train loop for the autoencoders. This really wasn't that necessary(and the code looks a lot like the first train loop). But this one saves the model(since we use it for transfer learning), can use a loss function other than classification loss, and it doesn't call evaluateModel to record accuracies for runtime considerations(and since accuracy doesn't make as much sense outside of the classification context)"
      ]
    },
    {
      "cell_type": "code",
      "metadata": {
        "id": "K9wAxRhvyUad"
      },
      "source": [
        "def train_model(model, dataloaders, criterion, optimizer, num_epochs=25):\n",
        "    train_since = time.time()\n",
        "    \n",
        "    losses = []\n",
        "    valLosses = []\n",
        "    minimal_loss = 1e10\n",
        "    size = dict()\n",
        "    for i in dataloaders:\n",
        "      size[i] = len(dataloaders[i].dataset)\n",
        "    for epoch in range(num_epochs):\n",
        "        since = time.time()\n",
        "        print('Epoch {}/{}'.format(epoch, num_epochs - 1))\n",
        "        print('-' * 10)\n",
        "        # Each epoch has a training and validation phase\n",
        "        for phase in ['train', 'val']:\n",
        "            if phase == 'train':\n",
        "                model.train()  # Set model to training mode\n",
        "                \n",
        "            else:\n",
        "                model.eval()   # Set model to evaluate mode\n",
        "            running_loss = 0.0\n",
        "            \n",
        "            \n",
        "            # Iterate over data.\n",
        "            for inputs, labels in dataloaders[phase]:\n",
        "                inputs = inputs.to(device)\n",
        "                labels = labels.to(device)\n",
        "                if phase == 'train':\n",
        "                    optimizer.zero_grad()  # zero the parameter gradients\n",
        "                # forward\n",
        "                # track history if only in train\n",
        "                with torch.set_grad_enabled(phase == 'train'):\n",
        "                    optimizer.zero_grad()\n",
        "                    outputs = model(inputs)\n",
        "                    loss = criterion(outputs, labels)\n",
        "\n",
        "                    # backward + optimize only if in training phase\n",
        "                    if phase == 'train':\n",
        "                        loss.backward()\n",
        "                        optimizer.step()\n",
        "                        \n",
        "                # statistics\n",
        "                running_loss += loss.item() * inputs.size(0)\n",
        "            epoch_loss = running_loss / size[phase]         \n",
        "            print('{} Loss: {:.6f} Time: {:.4f}s'.format(phase, epoch_loss, time.time()-since))\n",
        "            if phase == 'train':\n",
        "              losses.append(epoch_loss)   \n",
        "            if phase == 'val':\n",
        "                valLosses.append(epoch_loss)\n",
        "                if epoch > 3 and minimal_loss > epoch_loss:\n",
        "                    minimal_loss = epoch_loss\n",
        "                    best_model_wts = copy.deepcopy(model.state_dict())\n",
        "\n",
        "    model_wts = copy.deepcopy(model.state_dict())\n",
        "    time_elapsed = time.time() - train_since\n",
        "    print('Training complete in {:.0f}m {:.0f}s'.format(time_elapsed // 60, time_elapsed % 60))\n",
        "    print('Minimal Loss: {:6f}'.format(minimal_loss))\n",
        "    model.load_state_dict(best_model_wts)\n",
        "    \n",
        "\n",
        "    return model, model_wts, best_model_wts, losses, valLosses"
      ],
      "execution_count": null,
      "outputs": []
    },
    {
      "cell_type": "markdown",
      "metadata": {
        "id": "Kmt2bC8oW5nW"
      },
      "source": [
        "2b) Run the train loop with the conv_autoencoder model"
      ]
    },
    {
      "cell_type": "code",
      "metadata": {
        "id": "OmSuwzoW1veN",
        "colab": {
          "base_uri": "https://localhost:8080/"
        },
        "outputId": "7e445ed2-5a16-441f-8be2-4d1149ffb750"
      },
      "source": [
        "a_model = conv_autoencoder()\n",
        "criterion = nn.MSELoss()\n",
        "num_epochs = 25\n",
        "optimizer = torch.optim.Adam(a_model.parameters(), lr=9e-4, weight_decay=0.0001)\n",
        "# Move model and loss function to GPU\n",
        "if torch.cuda.is_available(): \n",
        "  criterion = criterion.cuda()\n",
        "  a_model = a_model.cuda()\n",
        "loader_set = dict()\n",
        "loader_set['train'] = a_train_DL\n",
        "loader_set['val'] = a_val_DL\n",
        "\n",
        "a_model, model_wts, best_model_wts, losses, valLosses = train_model(a_model,loader_set, criterion, optimizer, num_epochs)"
      ],
      "execution_count": null,
      "outputs": [
        {
          "output_type": "stream",
          "name": "stdout",
          "text": [
            "Epoch 0/24\n",
            "----------\n",
            "train Loss: 0.868487 Time: 1.7296s\n",
            "val Loss: 0.867315 Time: 2.0307s\n",
            "Epoch 1/24\n",
            "----------\n",
            "train Loss: 0.683676 Time: 1.4930s\n",
            "val Loss: 0.812776 Time: 1.7986s\n",
            "Epoch 2/24\n",
            "----------\n",
            "train Loss: 0.618207 Time: 1.4770s\n",
            "val Loss: 0.762666 Time: 1.7747s\n",
            "Epoch 3/24\n",
            "----------\n",
            "train Loss: 0.571870 Time: 1.4774s\n",
            "val Loss: 0.704258 Time: 1.7107s\n",
            "Epoch 4/24\n",
            "----------\n",
            "train Loss: 0.540082 Time: 1.5724s\n",
            "val Loss: 0.631291 Time: 1.8122s\n",
            "Epoch 5/24\n",
            "----------\n",
            "train Loss: 0.519374 Time: 1.5958s\n",
            "val Loss: 0.552537 Time: 1.8436s\n",
            "Epoch 6/24\n",
            "----------\n",
            "train Loss: 0.501696 Time: 1.5606s\n",
            "val Loss: 0.500442 Time: 1.8010s\n",
            "Epoch 7/24\n",
            "----------\n",
            "train Loss: 0.487631 Time: 1.5475s\n",
            "val Loss: 0.480200 Time: 1.7895s\n",
            "Epoch 8/24\n",
            "----------\n",
            "train Loss: 0.476248 Time: 1.5803s\n",
            "val Loss: 0.468963 Time: 1.8231s\n",
            "Epoch 9/24\n",
            "----------\n",
            "train Loss: 0.466342 Time: 1.4824s\n",
            "val Loss: 0.459774 Time: 1.7772s\n",
            "Epoch 10/24\n",
            "----------\n",
            "train Loss: 0.457798 Time: 1.4921s\n",
            "val Loss: 0.449536 Time: 1.7899s\n",
            "Epoch 11/24\n",
            "----------\n",
            "train Loss: 0.450150 Time: 1.5047s\n",
            "val Loss: 0.443932 Time: 1.8050s\n",
            "Epoch 12/24\n",
            "----------\n",
            "train Loss: 0.443954 Time: 1.4869s\n",
            "val Loss: 0.437672 Time: 1.7963s\n",
            "Epoch 13/24\n",
            "----------\n",
            "train Loss: 0.438664 Time: 1.5030s\n",
            "val Loss: 0.432544 Time: 1.8369s\n",
            "Epoch 14/24\n",
            "----------\n",
            "train Loss: 0.434102 Time: 1.4951s\n",
            "val Loss: 0.428482 Time: 1.8285s\n",
            "Epoch 15/24\n",
            "----------\n",
            "train Loss: 0.430018 Time: 1.4964s\n",
            "val Loss: 0.425079 Time: 1.7334s\n",
            "Epoch 16/24\n",
            "----------\n",
            "train Loss: 0.426382 Time: 1.6014s\n",
            "val Loss: 0.421584 Time: 1.8476s\n",
            "Epoch 17/24\n",
            "----------\n",
            "train Loss: 0.423055 Time: 1.5730s\n",
            "val Loss: 0.418487 Time: 1.8306s\n",
            "Epoch 18/24\n",
            "----------\n",
            "train Loss: 0.419950 Time: 1.5670s\n",
            "val Loss: 0.415619 Time: 1.8047s\n",
            "Epoch 19/24\n",
            "----------\n",
            "train Loss: 0.416996 Time: 1.5757s\n",
            "val Loss: 0.412952 Time: 1.8218s\n",
            "Epoch 20/24\n",
            "----------\n",
            "train Loss: 0.414191 Time: 1.5609s\n",
            "val Loss: 0.410356 Time: 1.8102s\n",
            "Epoch 21/24\n",
            "----------\n",
            "train Loss: 0.411519 Time: 1.5379s\n",
            "val Loss: 0.407885 Time: 1.7850s\n",
            "Epoch 22/24\n",
            "----------\n",
            "train Loss: 0.408995 Time: 1.4965s\n",
            "val Loss: 0.405635 Time: 1.7939s\n",
            "Epoch 23/24\n",
            "----------\n",
            "train Loss: 0.406620 Time: 1.5208s\n",
            "val Loss: 0.403637 Time: 1.8254s\n",
            "Epoch 24/24\n",
            "----------\n",
            "train Loss: 0.404367 Time: 1.5140s\n",
            "val Loss: 0.401616 Time: 1.8367s\n",
            "Training complete in 0m 45s\n",
            "Minimal Loss: 0.401616\n"
          ]
        }
      ]
    },
    {
      "cell_type": "code",
      "metadata": {
        "id": "wetyKeKU4ZyG",
        "colab": {
          "base_uri": "https://localhost:8080/",
          "height": 674
        },
        "outputId": "d14fe6ea-c4f0-4066-d568-98bb24ae8d75"
      },
      "source": [
        "plotLosses(valLosses, losses)\n",
        "plt.figure()\n",
        "img, label = [x[0] for x in iter(a_train_DL).next()]\n",
        "img = img.reshape(1,1,28,28).cuda()\n",
        "plt.imshow(label.reshape(28,28))\n",
        "plt.figure()\n",
        "output = a_model(img)\n",
        "output = output.detach().cpu().numpy()\n",
        "plt.imshow(output.reshape(28,28))"
      ],
      "execution_count": null,
      "outputs": [
        {
          "output_type": "display_data",
          "data": {
            "image/png": "[encoded data removed]",
            "text/plain": [
              "<Figure size 432x288 with 1 Axes>"
            ]
          },
          "metadata": {
            "needs_background": "light"
          }
        },
        {
          "output_type": "execute_result",
          "data": {
            "text/plain": [
              "<matplotlib.image.AxesImage at 0x7fd219ad13d0>"
            ]
          },
          "metadata": {},
          "execution_count": 18
        },
        {
          "output_type": "display_data",
          "data": {
            "image/png": "[encoded data removed]",
            "text/plain": [
              "<Figure size 432x288 with 1 Axes>"
            ]
          },
          "metadata": {
            "needs_background": "light"
          }
        },
        {
          "output_type": "display_data",
          "data": {
            "image/png": "[encoded data removed]",
            "text/plain": [
              "<Figure size 432x288 with 1 Axes>"
            ]
          },
          "metadata": {
            "needs_background": "light"
          }
        }
      ]
    },
    {
      "cell_type": "markdown",
      "metadata": {
        "id": "ocSgC0PDXEF7"
      },
      "source": [
        "2c) Define and train a second model that has one more conv layer in the encoder and the decoder"
      ]
    },
    {
      "cell_type": "code",
      "metadata": {
        "id": "r85SNXe16YUJ"
      },
      "source": [
        "class conv_autoencoder_deep(nn.Module):\n",
        "    def __init__(self):\n",
        "        super(conv_autoencoder_deep, self).__init__()\n",
        "        #Declare the model\n",
        "        #The new model has three conv layers\n",
        "        self.encoder = nn.Sequential(\n",
        "            nn.Conv2d(1,12,5,1,2),\n",
        "            nn.ReLU(),\n",
        "            nn.MaxPool2d(2,2),\n",
        "            nn.Conv2d(12,24,5,1,0),\n",
        "            nn.ReLU(),\n",
        "            nn.MaxPool2d(2,2),\n",
        "            nn.Conv2d(24,30,3,1,1),\n",
        "            nn.ReLU(),\n",
        "        )\n",
        "        self.decoder = nn.Sequential(\n",
        "            nn.Conv2d(30,24,3,1,2),\n",
        "            nn.BatchNorm2d(24),\n",
        "            nn.ReLU(),\n",
        "            nn.Upsample(scale_factor = 2),\n",
        "            nn.Conv2d(24,12,3,1,1),\n",
        "            nn.BatchNorm2d(12),\n",
        "            nn.ReLU(),\n",
        "            nn.Upsample(scale_factor = 2),\n",
        "            nn.Conv2d(12,1,3,1,1),\n",
        "            nn.BatchNorm2d(1),\n",
        "            nn.ReLU(),\n",
        "        )\n",
        "    def forward(self, x):\n",
        "        #Pass data through linear layers\n",
        "\n",
        "        x = self.encoder(x)\n",
        "        out = self.decoder(x)\n",
        "        \n",
        "        return out\n"
      ],
      "execution_count": null,
      "outputs": []
    },
    {
      "cell_type": "code",
      "metadata": {
        "id": "uZuR_hXG-Ldf",
        "colab": {
          "base_uri": "https://localhost:8080/"
        },
        "outputId": "656dcaa2-f059-4039-b03b-27db05e223b3"
      },
      "source": [
        "de_model = conv_autoencoder_deep()\n",
        "criterion = nn.MSELoss()\n",
        "num_epochs = 25\n",
        "optimizer = torch.optim.Adam(de_model.parameters(), lr=9e-4, weight_decay=0.0001)\n",
        "# Move model and loss function to GPU\n",
        "if torch.cuda.is_available(): \n",
        "  criterion = criterion.cuda()\n",
        "  de_model = de_model.cuda()\n",
        "loader_set = dict()\n",
        "loader_set['train'] = a_train_DL\n",
        "loader_set['val'] = a_val_DL\n",
        "\n",
        "de_model, model_wts, best_model_wts,  losses, valLosses = train_model(de_model,loader_set, criterion, optimizer, num_epochs)"
      ],
      "execution_count": null,
      "outputs": [
        {
          "output_type": "stream",
          "name": "stdout",
          "text": [
            "Epoch 0/24\n",
            "----------\n",
            "train Loss: 1.142370 Time: 2.9926s\n",
            "val Loss: 0.996768 Time: 3.3879s\n",
            "Epoch 1/24\n",
            "----------\n",
            "train Loss: 0.673572 Time: 2.9665s\n",
            "val Loss: 0.992835 Time: 3.3800s\n",
            "Epoch 2/24\n",
            "----------\n",
            "train Loss: 0.575445 Time: 2.9542s\n",
            "val Loss: 0.990595 Time: 3.3770s\n",
            "Epoch 3/24\n",
            "----------\n",
            "train Loss: 0.511957 Time: 2.9671s\n",
            "val Loss: 0.949500 Time: 3.3648s\n",
            "Epoch 4/24\n",
            "----------\n",
            "train Loss: 0.467909 Time: 2.9545s\n",
            "val Loss: 0.873026 Time: 3.3488s\n",
            "Epoch 5/24\n",
            "----------\n",
            "train Loss: 0.437454 Time: 2.8759s\n",
            "val Loss: 0.785698 Time: 3.3500s\n",
            "Epoch 6/24\n",
            "----------\n",
            "train Loss: 0.413446 Time: 2.9170s\n",
            "val Loss: 0.659177 Time: 3.3939s\n",
            "Epoch 7/24\n",
            "----------\n",
            "train Loss: 0.394734 Time: 2.9167s\n",
            "val Loss: 0.570619 Time: 3.3943s\n",
            "Epoch 8/24\n",
            "----------\n",
            "train Loss: 0.378299 Time: 2.9118s\n",
            "val Loss: 0.498310 Time: 3.3956s\n",
            "Epoch 9/24\n",
            "----------\n",
            "train Loss: 0.364316 Time: 2.8712s\n",
            "val Loss: 0.424965 Time: 3.3479s\n",
            "Epoch 10/24\n",
            "----------\n",
            "train Loss: 0.352267 Time: 2.9116s\n",
            "val Loss: 0.380307 Time: 3.3860s\n",
            "Epoch 11/24\n",
            "----------\n",
            "train Loss: 0.341866 Time: 2.9173s\n",
            "val Loss: 0.345534 Time: 3.3314s\n",
            "Epoch 12/24\n",
            "----------\n",
            "train Loss: 0.332719 Time: 2.9571s\n",
            "val Loss: 0.329972 Time: 3.3562s\n",
            "Epoch 13/24\n",
            "----------\n",
            "train Loss: 0.324483 Time: 2.9923s\n",
            "val Loss: 0.320328 Time: 3.3877s\n",
            "Epoch 14/24\n",
            "----------\n",
            "train Loss: 0.317064 Time: 2.9674s\n",
            "val Loss: 0.313488 Time: 3.3569s\n",
            "Epoch 15/24\n",
            "----------\n",
            "train Loss: 0.310514 Time: 2.9519s\n",
            "val Loss: 0.308368 Time: 3.3548s\n",
            "Epoch 16/24\n",
            "----------\n",
            "train Loss: 0.304706 Time: 2.9565s\n",
            "val Loss: 0.303355 Time: 3.3503s\n",
            "Epoch 17/24\n",
            "----------\n",
            "train Loss: 0.299450 Time: 2.8780s\n",
            "val Loss: 0.298078 Time: 3.3476s\n",
            "Epoch 18/24\n",
            "----------\n",
            "train Loss: 0.294665 Time: 2.8927s\n",
            "val Loss: 0.293046 Time: 3.3679s\n",
            "Epoch 19/24\n",
            "----------\n",
            "train Loss: 0.290314 Time: 2.8554s\n",
            "val Loss: 0.288318 Time: 3.3237s\n",
            "Epoch 20/24\n",
            "----------\n",
            "train Loss: 0.286302 Time: 2.8934s\n",
            "val Loss: 0.284332 Time: 3.3702s\n",
            "Epoch 21/24\n",
            "----------\n",
            "train Loss: 0.282554 Time: 2.8927s\n",
            "val Loss: 0.280245 Time: 3.3754s\n",
            "Epoch 22/24\n",
            "----------\n",
            "train Loss: 0.279067 Time: 2.8751s\n",
            "val Loss: 0.276988 Time: 3.3477s\n",
            "Epoch 23/24\n",
            "----------\n",
            "train Loss: 0.275796 Time: 2.8742s\n",
            "val Loss: 0.273824 Time: 3.3035s\n",
            "Epoch 24/24\n",
            "----------\n",
            "train Loss: 0.272735 Time: 2.9599s\n",
            "val Loss: 0.270674 Time: 3.3910s\n",
            "Training complete in 1m 24s\n",
            "Minimal Loss: 0.270674\n"
          ]
        }
      ]
    },
    {
      "cell_type": "code",
      "metadata": {
        "id": "W5Jddz_D-Sgk",
        "colab": {
          "base_uri": "https://localhost:8080/",
          "height": 674
        },
        "outputId": "779b9fc6-dde5-46d0-ecbf-eafb6af63096"
      },
      "source": [
        "plotLosses(valLosses, losses)\n",
        "plt.figure()\n",
        "\n",
        "img, label = [x[0] for x in iter(a_train_DL).next()]\n",
        "img = img.reshape(1,1,28,28).cuda()\n",
        "plt.imshow(label.reshape(28,28))\n",
        "plt.figure()\n",
        "output = de_model(img)\n",
        "output = output.detach().cpu().numpy()\n",
        "plt.imshow(output.reshape(28,28))"
      ],
      "execution_count": null,
      "outputs": [
        {
          "output_type": "display_data",
          "data": {
            "image/png": "[encoded data removed]",
            "text/plain": [
              "<Figure size 432x288 with 1 Axes>"
            ]
          },
          "metadata": {
            "needs_background": "light"
          }
        },
        {
          "output_type": "execute_result",
          "data": {
            "text/plain": [
              "<matplotlib.image.AxesImage at 0x7fd21b8c7cd0>"
            ]
          },
          "metadata": {},
          "execution_count": 21
        },
        {
          "output_type": "display_data",
          "data": {
            "image/png": "[encoded data removed]",
            "text/plain": [
              "<Figure size 432x288 with 1 Axes>"
            ]
          },
          "metadata": {
            "needs_background": "light"
          }
        },
        {
          "output_type": "display_data",
          "data": {
            "image/png": "[encoded data removed]",
            "text/plain": [
              "<Figure size 432x288 with 1 Axes>"
            ]
          },
          "metadata": {
            "needs_background": "light"
          }
        }
      ]
    },
    {
      "cell_type": "markdown",
      "metadata": {
        "id": "QVRAILxUXPRL"
      },
      "source": [
        "The deeper model does slightly better in the autoencoder task!"
      ]
    },
    {
      "cell_type": "markdown",
      "metadata": {
        "id": "26QZI2yoNANh"
      },
      "source": [
        "## Part 3: Transfer Learning"
      ]
    },
    {
      "cell_type": "markdown",
      "metadata": {
        "id": "lZ4FqkDYXV5Q"
      },
      "source": [
        "1a) Make a model to use the autoencoder as a backbone"
      ]
    },
    {
      "cell_type": "markdown",
      "metadata": {
        "id": "EgYckSPTXavw"
      },
      "source": [
        "First, make a helper function to freeze weights of the backbone"
      ]
    },
    {
      "cell_type": "code",
      "metadata": {
        "id": "xFCYfHliW7SN"
      },
      "source": [
        "def remove_grad(model):\n",
        "  for param in model.parameters():\n",
        "    param.requires_grad = False\n",
        "  return model"
      ],
      "execution_count": null,
      "outputs": []
    },
    {
      "cell_type": "markdown",
      "metadata": {
        "id": "qEWW9s3xXfRL"
      },
      "source": [
        "Define the model. Take the encoder from the autoencoder, freeze it, and feed to linear for output."
      ]
    },
    {
      "cell_type": "code",
      "metadata": {
        "id": "keefTupFO3wG"
      },
      "source": [
        "class transfer_classifier(nn.Module):\n",
        "  def __init__(self, model, num_feats):\n",
        "    super(transfer_classifier, self).__init__()\n",
        "\n",
        "    ## First half: encoder\n",
        "    self.encoder = remove_grad(model.encoder)\n",
        "\n",
        "    ## Second half: classify\n",
        "    #Flatten but not in batch dimension\n",
        "    self.lin = nn.Linear(num_feats, 10, bias = True)\n",
        "\n",
        "  def forward(self, input):\n",
        "\n",
        "    # Pass input through ResNet-gray to extract features\n",
        "    encoder_features = self.encoder(input)\n",
        "\n",
        "    # Upsample to get colors\n",
        "    x = torch.flatten(encoder_features, start_dim=1)\n",
        "    x = self.lin(x)\n",
        "    out = F.softmax(x, dim = 1)\n",
        "    return out"
      ],
      "execution_count": null,
      "outputs": []
    },
    {
      "cell_type": "markdown",
      "metadata": {
        "id": "0BJ_ZiDSXom3"
      },
      "source": [
        "3b) Train the autoencoder backbone model on the small train dataloader"
      ]
    },
    {
      "cell_type": "code",
      "metadata": {
        "id": "JfB9ej26PuLX",
        "colab": {
          "base_uri": "https://localhost:8080/"
        },
        "outputId": "d26ca3d6-abf7-4093-f08d-a290555b26a1"
      },
      "source": [
        "#Transfer learn on MNIST\n",
        "#Declare parameters for nn and training\n",
        "num_epochs = 75\n",
        "lr = 0.1\n",
        "lambd = 0.00001\n",
        "\n",
        "#Make the model\n",
        "a_t_model = transfer_classifier(a_model, 400).to(device).train()\n",
        "#Train the model\n",
        "trained_model, losses, valid_losses, valid_accuracy = trainLoop(a_t_model, small_train_DL, val_DL, num_epochs, lr, lambd)"
      ],
      "execution_count": null,
      "outputs": [
        {
          "output_type": "stream",
          "name": "stdout",
          "text": [
            "\t lin.weight\n",
            "\t lin.bias\n",
            "Epoch: 1. Average loss per training sample is: 2.288128972053528\n",
            "Epoch: 1. Average loss per valid sample is: 2.2867645025253296\n",
            "\n",
            "Epoch: 2. Average loss per training sample is: 2.269884705543518\n",
            "Epoch: 2. Average loss per valid sample is: 2.2761164903640747\n",
            "\n",
            "Epoch: 3. Average loss per training sample is: 2.244597911834717\n",
            "Epoch: 3. Average loss per valid sample is: 2.2620891332626343\n",
            "\n",
            "Epoch: 4. Average loss per training sample is: 2.213038682937622\n",
            "Epoch: 4. Average loss per valid sample is: 2.2414774894714355\n",
            "\n",
            "Epoch: 5. Average loss per training sample is: 2.175537586212158\n",
            "Epoch: 5. Average loss per valid sample is: 2.2104501724243164\n",
            "\n",
            "Epoch: 6. Average loss per training sample is: 2.137901782989502\n",
            "Epoch: 6. Average loss per valid sample is: 2.1887346506118774\n",
            "\n",
            "Epoch: 7. Average loss per training sample is: 2.108630418777466\n",
            "Epoch: 7. Average loss per valid sample is: 2.173689603805542\n",
            "\n",
            "Epoch: 8. Average loss per training sample is: 2.084684371948242\n",
            "Epoch: 8. Average loss per valid sample is: 2.161955714225769\n",
            "\n",
            "Epoch: 9. Average loss per training sample is: 2.0663931369781494\n",
            "Epoch: 9. Average loss per valid sample is: 2.1469300985336304\n",
            "\n",
            "Epoch: 10. Average loss per training sample is: 2.0490949153900146\n",
            "Epoch: 10. Average loss per valid sample is: 2.129071354866028\n",
            "\n",
            "Epoch: 11. Average loss per training sample is: 2.0304309129714966\n",
            "Epoch: 11. Average loss per valid sample is: 2.10219407081604\n",
            "\n",
            "Epoch: 12. Average loss per training sample is: 2.0065447092056274\n",
            "Epoch: 12. Average loss per valid sample is: 2.065201759338379\n",
            "\n",
            "Epoch: 13. Average loss per training sample is: 1.978992998600006\n",
            "Epoch: 13. Average loss per valid sample is: 2.0438942909240723\n",
            "\n",
            "Epoch: 14. Average loss per training sample is: 1.9591136574745178\n",
            "Epoch: 14. Average loss per valid sample is: 1.9942837953567505\n",
            "\n",
            "Epoch: 15. Average loss per training sample is: 1.915626347064972\n",
            "Epoch: 15. Average loss per valid sample is: 1.9615436792373657\n",
            "\n",
            "Epoch: 16. Average loss per training sample is: 1.8987725973129272\n",
            "Epoch: 16. Average loss per valid sample is: 1.9673980474472046\n",
            "\n",
            "Epoch: 17. Average loss per training sample is: 1.8824052214622498\n",
            "Epoch: 17. Average loss per valid sample is: 1.9360929131507874\n",
            "\n",
            "Epoch: 18. Average loss per training sample is: 1.8605172038078308\n",
            "Epoch: 18. Average loss per valid sample is: 1.9281904101371765\n",
            "\n",
            "Epoch: 19. Average loss per training sample is: 1.842653512954712\n",
            "Epoch: 19. Average loss per valid sample is: 1.9029105305671692\n",
            "\n",
            "Epoch: 20. Average loss per training sample is: 1.8180680871009827\n",
            "Epoch: 20. Average loss per valid sample is: 1.8938196301460266\n",
            "\n",
            "Epoch: 21. Average loss per training sample is: 1.8138209581375122\n",
            "Epoch: 21. Average loss per valid sample is: 1.8875271081924438\n",
            "\n",
            "Epoch: 22. Average loss per training sample is: 1.801885962486267\n",
            "Epoch: 22. Average loss per valid sample is: 1.8746441006660461\n",
            "\n",
            "Epoch: 23. Average loss per training sample is: 1.7907699942588806\n",
            "Epoch: 23. Average loss per valid sample is: 1.8705224990844727\n",
            "\n",
            "Epoch: 24. Average loss per training sample is: 1.7840917706489563\n",
            "Epoch: 24. Average loss per valid sample is: 1.8668239116668701\n",
            "\n",
            "Epoch: 25. Average loss per training sample is: 1.7774447202682495\n",
            "Epoch: 25. Average loss per valid sample is: 1.8563525676727295\n",
            "\n",
            "Epoch: 26. Average loss per training sample is: 1.7615980505943298\n",
            "Epoch: 26. Average loss per valid sample is: 1.8425893187522888\n",
            "\n",
            "Epoch: 27. Average loss per training sample is: 1.7455406188964844\n",
            "Epoch: 27. Average loss per valid sample is: 1.8451581597328186\n",
            "\n",
            "Epoch: 28. Average loss per training sample is: 1.7459584474563599\n",
            "Epoch: 28. Average loss per valid sample is: 1.8443946242332458\n",
            "\n",
            "Epoch: 29. Average loss per training sample is: 1.7397173643112183\n",
            "Epoch: 29. Average loss per valid sample is: 1.8346565961837769\n",
            "\n",
            "Epoch: 30. Average loss per training sample is: 1.7309633493423462\n",
            "Epoch: 30. Average loss per valid sample is: 1.8291743993759155\n",
            "\n",
            "Epoch: 31. Average loss per training sample is: 1.7250202298164368\n",
            "Epoch: 31. Average loss per valid sample is: 1.8220401406288147\n",
            "\n",
            "Epoch: 32. Average loss per training sample is: 1.717976987361908\n",
            "Epoch: 32. Average loss per valid sample is: 1.8201441168785095\n",
            "\n",
            "Epoch: 33. Average loss per training sample is: 1.7138044834136963\n",
            "Epoch: 33. Average loss per valid sample is: 1.8171687126159668\n",
            "\n",
            "Epoch: 34. Average loss per training sample is: 1.7072312831878662\n",
            "Epoch: 34. Average loss per valid sample is: 1.8125855922698975\n",
            "\n",
            "Epoch: 35. Average loss per training sample is: 1.702438235282898\n",
            "Epoch: 35. Average loss per valid sample is: 1.811658263206482\n",
            "\n",
            "Epoch: 36. Average loss per training sample is: 1.699403703212738\n",
            "Epoch: 36. Average loss per valid sample is: 1.8096718788146973\n",
            "\n",
            "Epoch: 37. Average loss per training sample is: 1.6950664520263672\n",
            "Epoch: 37. Average loss per valid sample is: 1.8071677088737488\n",
            "\n",
            "Epoch: 38. Average loss per training sample is: 1.6921823024749756\n",
            "Epoch: 38. Average loss per valid sample is: 1.8049856424331665\n",
            "\n",
            "Epoch: 39. Average loss per training sample is: 1.6895160675048828\n",
            "Epoch: 39. Average loss per valid sample is: 1.8023356795310974\n",
            "\n",
            "Epoch: 40. Average loss per training sample is: 1.6867069602012634\n",
            "Epoch: 40. Average loss per valid sample is: 1.800576090812683\n",
            "\n",
            "Epoch: 41. Average loss per training sample is: 1.6842961311340332\n",
            "Epoch: 41. Average loss per valid sample is: 1.7996233105659485\n",
            "\n",
            "Epoch: 42. Average loss per training sample is: 1.6824031472206116\n",
            "Epoch: 42. Average loss per valid sample is: 1.7991151213645935\n",
            "\n",
            "Epoch: 43. Average loss per training sample is: 1.68073171377182\n",
            "Epoch: 43. Average loss per valid sample is: 1.7988442182540894\n",
            "\n",
            "Epoch: 44. Average loss per training sample is: 1.6791789531707764\n",
            "Epoch: 44. Average loss per valid sample is: 1.7972393035888672\n",
            "\n",
            "Epoch: 45. Average loss per training sample is: 1.6768922805786133\n",
            "Epoch: 45. Average loss per valid sample is: 1.7944287061691284\n",
            "\n",
            "Epoch: 46. Average loss per training sample is: 1.6751834750175476\n",
            "Epoch: 46. Average loss per valid sample is: 1.7928142547607422\n",
            "\n",
            "Epoch: 47. Average loss per training sample is: 1.6739479303359985\n",
            "Epoch: 47. Average loss per valid sample is: 1.791766881942749\n",
            "\n",
            "Epoch: 48. Average loss per training sample is: 1.6725274920463562\n",
            "Epoch: 48. Average loss per valid sample is: 1.7911574244499207\n",
            "\n",
            "Epoch: 49. Average loss per training sample is: 1.671073853969574\n",
            "Epoch: 49. Average loss per valid sample is: 1.7918869256973267\n",
            "\n",
            "Epoch: 50. Average loss per training sample is: 1.6700125336647034\n",
            "Epoch: 50. Average loss per valid sample is: 1.7917386293411255\n",
            "\n",
            "Epoch: 51. Average loss per training sample is: 1.668991506099701\n",
            "Epoch: 51. Average loss per valid sample is: 1.7915875911712646\n",
            "\n",
            "Epoch: 52. Average loss per training sample is: 1.667712390422821\n",
            "Epoch: 52. Average loss per valid sample is: 1.7900779247283936\n",
            "\n",
            "Epoch: 53. Average loss per training sample is: 1.6667826771736145\n",
            "Epoch: 53. Average loss per valid sample is: 1.788707196712494\n",
            "\n",
            "Epoch: 54. Average loss per training sample is: 1.6655617952346802\n",
            "Epoch: 54. Average loss per valid sample is: 1.7879454493522644\n",
            "\n",
            "Epoch: 55. Average loss per training sample is: 1.6644677519798279\n",
            "Epoch: 55. Average loss per valid sample is: 1.7870600819587708\n",
            "\n",
            "Epoch: 56. Average loss per training sample is: 1.6632924675941467\n",
            "Epoch: 56. Average loss per valid sample is: 1.787426769733429\n",
            "\n",
            "Epoch: 57. Average loss per training sample is: 1.662281572818756\n",
            "Epoch: 57. Average loss per valid sample is: 1.7872284054756165\n",
            "\n",
            "Epoch: 58. Average loss per training sample is: 1.6613512635231018\n",
            "Epoch: 58. Average loss per valid sample is: 1.7866272330284119\n",
            "\n",
            "Epoch: 59. Average loss per training sample is: 1.6601200699806213\n",
            "Epoch: 59. Average loss per valid sample is: 1.7870653867721558\n",
            "\n",
            "Epoch: 60. Average loss per training sample is: 1.6590547561645508\n",
            "Epoch: 60. Average loss per valid sample is: 1.7860934734344482\n",
            "\n",
            "Epoch: 61. Average loss per training sample is: 1.657756507396698\n",
            "Epoch: 61. Average loss per valid sample is: 1.7851464748382568\n",
            "\n",
            "Epoch: 62. Average loss per training sample is: 1.6562234163284302\n",
            "Epoch: 62. Average loss per valid sample is: 1.7837855815887451\n",
            "\n",
            "Epoch: 63. Average loss per training sample is: 1.6541826128959656\n",
            "Epoch: 63. Average loss per valid sample is: 1.782548725605011\n",
            "\n",
            "Epoch: 64. Average loss per training sample is: 1.6520771980285645\n",
            "Epoch: 64. Average loss per valid sample is: 1.7797776460647583\n",
            "\n",
            "Epoch: 65. Average loss per training sample is: 1.6458200216293335\n",
            "Epoch: 65. Average loss per valid sample is: 1.7718022465705872\n",
            "\n",
            "Epoch: 66. Average loss per training sample is: 1.6348105072975159\n",
            "Epoch: 66. Average loss per valid sample is: 1.7594884634017944\n",
            "\n",
            "Epoch: 67. Average loss per training sample is: 1.6369341611862183\n",
            "Epoch: 67. Average loss per valid sample is: 1.7593286633491516\n",
            "\n",
            "Epoch: 68. Average loss per training sample is: 1.6310054659843445\n",
            "Epoch: 68. Average loss per valid sample is: 1.7523005604743958\n",
            "\n",
            "Epoch: 69. Average loss per training sample is: 1.6171440482139587\n",
            "Epoch: 69. Average loss per valid sample is: 1.7550243735313416\n",
            "\n",
            "Epoch: 70. Average loss per training sample is: 1.6170719265937805\n",
            "Epoch: 70. Average loss per valid sample is: 1.754461407661438\n",
            "\n",
            "Epoch: 71. Average loss per training sample is: 1.6100308895111084\n",
            "Epoch: 71. Average loss per valid sample is: 1.7415927648544312\n",
            "\n",
            "Epoch: 72. Average loss per training sample is: 1.6021302342414856\n",
            "Epoch: 72. Average loss per valid sample is: 1.735840916633606\n",
            "\n",
            "Epoch: 73. Average loss per training sample is: 1.599418818950653\n",
            "Epoch: 73. Average loss per valid sample is: 1.7338476777076721\n",
            "\n",
            "Epoch: 74. Average loss per training sample is: 1.5933652520179749\n",
            "Epoch: 74. Average loss per valid sample is: 1.73226398229599\n",
            "\n"
          ]
        }
      ]
    },
    {
      "cell_type": "code",
      "metadata": {
        "id": "S73vf-Q14Idg",
        "colab": {
          "base_uri": "https://localhost:8080/",
          "height": 300
        },
        "outputId": "90a4782b-9317-4126-c26f-9243d3006796"
      },
      "source": [
        "#Plot the results\n",
        "plotLosses(valid_losses, losses, valid_accuracy)\n",
        "print(\"Max accuracy\" + str(max(valid_accuracy)))"
      ],
      "execution_count": null,
      "outputs": [
        {
          "output_type": "display_data",
          "data": {
            "image/png": "[encoded data removed]",
            "text/plain": [
              "<Figure size 432x288 with 2 Axes>"
            ]
          },
          "metadata": {
            "needs_background": "light"
          }
        },
        {
          "output_type": "stream",
          "name": "stdout",
          "text": [
            "Max accuracy0.7745\n"
          ]
        }
      ]
    },
    {
      "cell_type": "markdown",
      "metadata": {
        "id": "_aUFmy2jXx2I"
      },
      "source": [
        "3c) Train a version of the model using the deep autoencoder's encoder as the backbone"
      ]
    },
    {
      "cell_type": "code",
      "metadata": {
        "id": "jEe57nafZdQl",
        "colab": {
          "base_uri": "https://localhost:8080/"
        },
        "outputId": "dbd75903-aaca-4dc0-fa26-1e6e391ea2a3"
      },
      "source": [
        "#Transfer learn on MNIST\n",
        "#Declare parameters for nn and training\n",
        "num_epochs = 75\n",
        "lr = 0.1\n",
        "lambd = 0.00001\n",
        "\n",
        "#Make the model\n",
        "d_t_model = transfer_classifier(de_model, 750).to(device).train()\n",
        "#Train the model\n",
        "trained_model, losses, valid_losses, valid_accuracy = trainLoop(d_t_model, small_train_DL, val_DL, num_epochs, lr, lambd)"
      ],
      "execution_count": null,
      "outputs": [
        {
          "output_type": "stream",
          "name": "stdout",
          "text": [
            "\t lin.weight\n",
            "\t lin.bias\n",
            "Epoch: 1. Average loss per training sample is: 2.298816204071045\n",
            "Epoch: 1. Average loss per valid sample is: 2.2957305908203125\n",
            "\n",
            "Epoch: 2. Average loss per training sample is: 2.2900487184524536\n",
            "Epoch: 2. Average loss per valid sample is: 2.2909857034683228\n",
            "\n",
            "Epoch: 3. Average loss per training sample is: 2.2786444425582886\n",
            "Epoch: 3. Average loss per valid sample is: 2.2862753868103027\n",
            "\n",
            "Epoch: 4. Average loss per training sample is: 2.263936996459961\n",
            "Epoch: 4. Average loss per valid sample is: 2.282291889190674\n",
            "\n",
            "Epoch: 5. Average loss per training sample is: 2.2476788759231567\n",
            "Epoch: 5. Average loss per valid sample is: 2.2733967304229736\n",
            "\n",
            "Epoch: 6. Average loss per training sample is: 2.2266868352890015\n",
            "Epoch: 6. Average loss per valid sample is: 2.2557677030563354\n",
            "\n",
            "Epoch: 7. Average loss per training sample is: 2.206380009651184\n",
            "Epoch: 7. Average loss per valid sample is: 2.236521601676941\n",
            "\n",
            "Epoch: 8. Average loss per training sample is: 2.1786683797836304\n",
            "Epoch: 8. Average loss per valid sample is: 2.2164831161499023\n",
            "\n",
            "Epoch: 9. Average loss per training sample is: 2.1530362367630005\n",
            "Epoch: 9. Average loss per valid sample is: 2.2006354331970215\n",
            "\n",
            "Epoch: 10. Average loss per training sample is: 2.129680871963501\n",
            "Epoch: 10. Average loss per valid sample is: 2.1861056089401245\n",
            "\n",
            "Epoch: 11. Average loss per training sample is: 2.1061445474624634\n",
            "Epoch: 11. Average loss per valid sample is: 2.1688718795776367\n",
            "\n",
            "Epoch: 12. Average loss per training sample is: 2.0848827362060547\n",
            "Epoch: 12. Average loss per valid sample is: 2.156819701194763\n",
            "\n",
            "Epoch: 13. Average loss per training sample is: 2.0728018283843994\n",
            "Epoch: 13. Average loss per valid sample is: 2.147323489189148\n",
            "\n",
            "Epoch: 14. Average loss per training sample is: 2.0590717792510986\n",
            "Epoch: 14. Average loss per valid sample is: 2.1386072635650635\n",
            "\n",
            "Epoch: 15. Average loss per training sample is: 2.04570734500885\n",
            "Epoch: 15. Average loss per valid sample is: 2.1306971311569214\n",
            "\n",
            "Epoch: 16. Average loss per training sample is: 2.0356967449188232\n",
            "Epoch: 16. Average loss per valid sample is: 2.1221193075180054\n",
            "\n",
            "Epoch: 17. Average loss per training sample is: 2.0246506333351135\n",
            "Epoch: 17. Average loss per valid sample is: 2.109752893447876\n",
            "\n",
            "Epoch: 18. Average loss per training sample is: 2.009683847427368\n",
            "Epoch: 18. Average loss per valid sample is: 2.0934207439422607\n",
            "\n",
            "Epoch: 19. Average loss per training sample is: 1.9897445440292358\n",
            "Epoch: 19. Average loss per valid sample is: 2.0693546533584595\n",
            "\n",
            "Epoch: 20. Average loss per training sample is: 1.9679740071296692\n",
            "Epoch: 20. Average loss per valid sample is: 2.052977204322815\n",
            "\n",
            "Epoch: 21. Average loss per training sample is: 1.9637552499771118\n",
            "Epoch: 21. Average loss per valid sample is: 2.0419845581054688\n",
            "\n",
            "Epoch: 22. Average loss per training sample is: 1.9546192288398743\n",
            "Epoch: 22. Average loss per valid sample is: 2.0288044214248657\n",
            "\n",
            "Epoch: 23. Average loss per training sample is: 1.935982346534729\n",
            "Epoch: 23. Average loss per valid sample is: 2.0225675106048584\n",
            "\n",
            "Epoch: 24. Average loss per training sample is: 1.924877107143402\n",
            "Epoch: 24. Average loss per valid sample is: 2.019684076309204\n",
            "\n",
            "Epoch: 25. Average loss per training sample is: 1.9155810475349426\n",
            "Epoch: 25. Average loss per valid sample is: 2.0094895362854004\n",
            "\n",
            "Epoch: 26. Average loss per training sample is: 1.9047001004219055\n",
            "Epoch: 26. Average loss per valid sample is: 1.9980047941207886\n",
            "\n",
            "Epoch: 27. Average loss per training sample is: 1.8970609307289124\n",
            "Epoch: 27. Average loss per valid sample is: 1.988983929157257\n",
            "\n",
            "Epoch: 28. Average loss per training sample is: 1.8908434510231018\n",
            "Epoch: 28. Average loss per valid sample is: 1.9823591709136963\n",
            "\n",
            "Epoch: 29. Average loss per training sample is: 1.8852395415306091\n",
            "Epoch: 29. Average loss per valid sample is: 1.9797174334526062\n",
            "\n",
            "Epoch: 30. Average loss per training sample is: 1.879713773727417\n",
            "Epoch: 30. Average loss per valid sample is: 1.9764110445976257\n",
            "\n",
            "Epoch: 31. Average loss per training sample is: 1.8756448030471802\n",
            "Epoch: 31. Average loss per valid sample is: 1.9732704758644104\n",
            "\n",
            "Epoch: 32. Average loss per training sample is: 1.8713798522949219\n",
            "Epoch: 32. Average loss per valid sample is: 1.9687572121620178\n",
            "\n",
            "Epoch: 33. Average loss per training sample is: 1.8675872683525085\n",
            "Epoch: 33. Average loss per valid sample is: 1.9646676182746887\n",
            "\n",
            "Epoch: 34. Average loss per training sample is: 1.8646441102027893\n",
            "Epoch: 34. Average loss per valid sample is: 1.9618818759918213\n",
            "\n",
            "Epoch: 35. Average loss per training sample is: 1.8616406321525574\n",
            "Epoch: 35. Average loss per valid sample is: 1.9620531797409058\n",
            "\n",
            "Epoch: 36. Average loss per training sample is: 1.8579784631729126\n",
            "Epoch: 36. Average loss per valid sample is: 1.960269033908844\n",
            "\n",
            "Epoch: 37. Average loss per training sample is: 1.8549661040306091\n",
            "Epoch: 37. Average loss per valid sample is: 1.9578033685684204\n",
            "\n",
            "Epoch: 38. Average loss per training sample is: 1.8524966835975647\n",
            "Epoch: 38. Average loss per valid sample is: 1.9541553258895874\n",
            "\n",
            "Epoch: 39. Average loss per training sample is: 1.8479682803153992\n",
            "Epoch: 39. Average loss per valid sample is: 1.948714017868042\n",
            "\n",
            "Epoch: 40. Average loss per training sample is: 1.8402259945869446\n",
            "Epoch: 40. Average loss per valid sample is: 1.9405715465545654\n",
            "\n",
            "Epoch: 41. Average loss per training sample is: 1.8321788907051086\n",
            "Epoch: 41. Average loss per valid sample is: 1.932424545288086\n",
            "\n",
            "Epoch: 42. Average loss per training sample is: 1.8301494717597961\n",
            "Epoch: 42. Average loss per valid sample is: 1.9350497126579285\n",
            "\n",
            "Epoch: 43. Average loss per training sample is: 1.8282488584518433\n",
            "Epoch: 43. Average loss per valid sample is: 1.9309861063957214\n",
            "\n",
            "Epoch: 44. Average loss per training sample is: 1.8219013214111328\n",
            "Epoch: 44. Average loss per valid sample is: 1.9289682507514954\n",
            "\n",
            "Epoch: 45. Average loss per training sample is: 1.8173494338989258\n",
            "Epoch: 45. Average loss per valid sample is: 1.9287513494491577\n",
            "\n",
            "Epoch: 46. Average loss per training sample is: 1.8148586750030518\n",
            "Epoch: 46. Average loss per valid sample is: 1.9233372807502747\n",
            "\n",
            "Epoch: 47. Average loss per training sample is: 1.8099772930145264\n",
            "Epoch: 47. Average loss per valid sample is: 1.9180890917778015\n",
            "\n",
            "Epoch: 48. Average loss per training sample is: 1.8047747611999512\n",
            "Epoch: 48. Average loss per valid sample is: 1.9154323935508728\n",
            "\n",
            "Epoch: 49. Average loss per training sample is: 1.8028252124786377\n",
            "Epoch: 49. Average loss per valid sample is: 1.914880633354187\n",
            "\n",
            "Epoch: 50. Average loss per training sample is: 1.7993119955062866\n",
            "Epoch: 50. Average loss per valid sample is: 1.9127917289733887\n",
            "\n",
            "Epoch: 51. Average loss per training sample is: 1.79583078622818\n",
            "Epoch: 51. Average loss per valid sample is: 1.9111487865447998\n",
            "\n",
            "Epoch: 52. Average loss per training sample is: 1.793448269367218\n",
            "Epoch: 52. Average loss per valid sample is: 1.908220887184143\n",
            "\n",
            "Epoch: 53. Average loss per training sample is: 1.7902054190635681\n",
            "Epoch: 53. Average loss per valid sample is: 1.905288577079773\n",
            "\n",
            "Epoch: 54. Average loss per training sample is: 1.7872300744056702\n",
            "Epoch: 54. Average loss per valid sample is: 1.902859628200531\n",
            "\n",
            "Epoch: 55. Average loss per training sample is: 1.7849684953689575\n",
            "Epoch: 55. Average loss per valid sample is: 1.9003301858901978\n",
            "\n",
            "Epoch: 56. Average loss per training sample is: 1.7828063368797302\n",
            "Epoch: 56. Average loss per valid sample is: 1.898958146572113\n",
            "\n",
            "Epoch: 57. Average loss per training sample is: 1.7802370190620422\n",
            "Epoch: 57. Average loss per valid sample is: 1.8985530138015747\n",
            "\n",
            "Epoch: 58. Average loss per training sample is: 1.7779315114021301\n",
            "Epoch: 58. Average loss per valid sample is: 1.897739589214325\n",
            "\n",
            "Epoch: 59. Average loss per training sample is: 1.7763500809669495\n",
            "Epoch: 59. Average loss per valid sample is: 1.896715223789215\n",
            "\n",
            "Epoch: 60. Average loss per training sample is: 1.7746403813362122\n",
            "Epoch: 60. Average loss per valid sample is: 1.8942511081695557\n",
            "\n",
            "Epoch: 61. Average loss per training sample is: 1.7721283435821533\n",
            "Epoch: 61. Average loss per valid sample is: 1.8930519223213196\n",
            "\n",
            "Epoch: 62. Average loss per training sample is: 1.7704285383224487\n",
            "Epoch: 62. Average loss per valid sample is: 1.8911982774734497\n",
            "\n",
            "Epoch: 63. Average loss per training sample is: 1.7691447138786316\n",
            "Epoch: 63. Average loss per valid sample is: 1.8901377320289612\n",
            "\n",
            "Epoch: 64. Average loss per training sample is: 1.767494797706604\n",
            "Epoch: 64. Average loss per valid sample is: 1.8887562155723572\n",
            "\n",
            "Epoch: 65. Average loss per training sample is: 1.7658672332763672\n",
            "Epoch: 65. Average loss per valid sample is: 1.8882951736450195\n",
            "\n",
            "Epoch: 66. Average loss per training sample is: 1.7643553614616394\n",
            "Epoch: 66. Average loss per valid sample is: 1.887445330619812\n",
            "\n",
            "Epoch: 67. Average loss per training sample is: 1.763088881969452\n",
            "Epoch: 67. Average loss per valid sample is: 1.8871748447418213\n",
            "\n",
            "Epoch: 68. Average loss per training sample is: 1.7617009282112122\n",
            "Epoch: 68. Average loss per valid sample is: 1.8863092064857483\n",
            "\n",
            "Epoch: 69. Average loss per training sample is: 1.7603104710578918\n",
            "Epoch: 69. Average loss per valid sample is: 1.8845795392990112\n",
            "\n",
            "Epoch: 70. Average loss per training sample is: 1.759695589542389\n",
            "Epoch: 70. Average loss per valid sample is: 1.884552776813507\n",
            "\n",
            "Epoch: 71. Average loss per training sample is: 1.7580304741859436\n",
            "Epoch: 71. Average loss per valid sample is: 1.8830335140228271\n",
            "\n",
            "Epoch: 72. Average loss per training sample is: 1.756847321987152\n",
            "Epoch: 72. Average loss per valid sample is: 1.8830705881118774\n",
            "\n",
            "Epoch: 73. Average loss per training sample is: 1.7559723258018494\n",
            "Epoch: 73. Average loss per valid sample is: 1.882591187953949\n",
            "\n",
            "Epoch: 74. Average loss per training sample is: 1.7548092007637024\n",
            "Epoch: 74. Average loss per valid sample is: 1.8817358613014221\n",
            "\n"
          ]
        }
      ]
    },
    {
      "cell_type": "code",
      "metadata": {
        "id": "5WxjOFkW4LRh",
        "colab": {
          "base_uri": "https://localhost:8080/",
          "height": 296
        },
        "outputId": "4ca1df35-ba60-4749-f876-b09f2c550650"
      },
      "source": [
        "#Plot the results\n",
        "plotLosses(valid_losses, losses, valid_accuracy)\n",
        "print(\"Max accuracy\" + str(max(valid_accuracy)))"
      ],
      "execution_count": null,
      "outputs": [
        {
          "output_type": "display_data",
          "data": {
            "image/png": "[encoded data removed]",
            "text/plain": [
              "<Figure size 432x288 with 2 Axes>"
            ]
          },
          "metadata": {
            "needs_background": "light"
          }
        },
        {
          "output_type": "stream",
          "name": "stdout",
          "text": [
            "Max accuracy0.6163888888888889\n"
          ]
        }
      ]
    },
    {
      "cell_type": "markdown",
      "metadata": {
        "id": "HXlVdyWCYF2e"
      },
      "source": [
        "Both 3b and 3c use transfer learning to train better on the small dataset. Looking at the training and validation losses during training, 3b and 3c begin improving loss and accuracy much earlier in training. This is the case because they were able to learn features of the larger dataset in the autoencoder training, and the new training is just applying those features to a classification problem. Additionally, training with transfer learning had a smoother progression. Loss seems less likely to backtrack, possibly because there are less complex gradients with the one linear layer.\n",
        "\n",
        "Interestingly, 3b performs significantly better than 3c in the classification problem, despite 3c using the deeper autoencoder that did better on the autoencoder task. This is likely the case because deep autoencoder produces more features so it could be more difficult to train with limited data(model complexity requires more data). It could also possibly be the case because the features generated by the deep autoencoder are more specific to the autoencoder task.\n",
        "\n",
        "Overall, transfer learning made training faster and smoother."
      ]
    }
  ]
}
