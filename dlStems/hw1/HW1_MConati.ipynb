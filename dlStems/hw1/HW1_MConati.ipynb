{
 "cells": [
  {
   "cell_type": "markdown",
   "id": "sporting-island",
   "metadata": {},
   "source": [
    "# QUESTION 1)"
   ]
  },
  {
   "cell_type": "markdown",
   "id": "broken-craps",
   "metadata": {},
   "source": [
    "### 1b) Read CSV into jupyter, standardize all columns, and fit a linear model to predict final exam score from Midterm 1."
   ]
  },
  {
   "cell_type": "markdown",
   "id": "constant-evans",
   "metadata": {},
   "source": [
    "#### Read in the data and import useful things"
   ]
  },
  {
   "cell_type": "code",
   "execution_count": 168,
   "id": "labeled-respect",
   "metadata": {},
   "outputs": [],
   "source": [
    "import pandas as pd\n",
    "import numpy as np\n",
    "import matplotlib.pyplot as plt"
   ]
  },
  {
   "cell_type": "code",
   "execution_count": 169,
   "id": "little-quality",
   "metadata": {},
   "outputs": [],
   "source": [
    "data = pd.read_csv('/home/marco/Downloads/testScores.csv')"
   ]
  },
  {
   "cell_type": "markdown",
   "id": "proof-worthy",
   "metadata": {},
   "source": [
    "#### Standardize all columns"
   ]
  },
  {
   "cell_type": "code",
   "execution_count": 170,
   "id": "regulation-ghost",
   "metadata": {},
   "outputs": [],
   "source": [
    "data = (data - data.mean())/data.std()"
   ]
  },
  {
   "cell_type": "markdown",
   "id": "labeled-newark",
   "metadata": {},
   "source": [
    "#### Find the analytical solution with my answer from 1a"
   ]
  },
  {
   "cell_type": "code",
   "execution_count": 171,
   "id": "dedicated-mirror",
   "metadata": {},
   "outputs": [],
   "source": [
    "#Take the first column(Midterm 1) and  third column(final)\n",
    "X = data.iloc[:,0]\n",
    "Y = data.iloc[:,3]\n",
    "#Use my answer from 1a to find a and b. The sums and in turn b\n",
    "#are just going to be 0 since the data is now zero mean,\n",
    "#but they are included for completeness.\n",
    "N=25\n",
    "a = (X.dot(Y) - (1/N)*X.sum()*Y.sum())/(X.dot(X))\n",
    "b = (1/N) * (Y.sum()-X.sum()*a)"
   ]
  },
  {
   "cell_type": "code",
   "execution_count": 172,
   "id": "editorial-brook",
   "metadata": {},
   "outputs": [
    {
     "name": "stdout",
     "output_type": "stream",
     "text": [
      "Here are my calculated coefficient values!\n",
      "a is: 0.9460708318102031 and b is: 7.903008610321238e-16\n"
     ]
    }
   ],
   "source": [
    "print(\"Here are my calculated coefficient values!\")\n",
    "print(\"a is: \" + str(a) + \" and b is: \"+ str(b))"
   ]
  },
  {
   "cell_type": "markdown",
   "id": "oriental-niagara",
   "metadata": {},
   "source": [
    "#### Plot the analytical solution over the data"
   ]
  },
  {
   "cell_type": "code",
   "execution_count": 173,
   "id": "noted-norway",
   "metadata": {},
   "outputs": [
    {
     "data": {
      "text/plain": [
       "Text(0.5, 1.0, 'Predicting Final scores from Midterm 1')"
      ]
     },
     "execution_count": 173,
     "metadata": {},
     "output_type": "execute_result"
    },
    {
     "data": {
      "image/png": "[encoded data removed]",
      "text/plain": [
       "<Figure size 432x288 with 1 Axes>"
      ]
     },
     "metadata": {
      "needs_background": "light"
     },
     "output_type": "display_data"
    }
   ],
   "source": [
    "plt.scatter(X,Y)\n",
    "x = np.linspace(-2.5,1.5,100)\n",
    "y = a*x + b\n",
    "plt.plot(x,y)\n",
    "plt.xlabel(\"Standardized and 0 mean Midterm score\")\n",
    "plt.ylabel(\"Standardized and 0 mean Final score\")\n",
    "plt.title(\"Predicting Final scores from Midterm 1\")"
   ]
  },
  {
   "cell_type": "markdown",
   "id": "alive-battlefield",
   "metadata": {},
   "source": [
    "### 1c) Use gradient descent to solve for a and b. Start from a=0 and b=0. Include a plot of MSE vs iteration as well as a visualization of a and b converging to the desired values from 1b."
   ]
  },
  {
   "cell_type": "markdown",
   "id": "nasty-split",
   "metadata": {},
   "source": [
    "#### From 1a, we have the following definitions for our gradients f'(a) and f'(b) which I am calling da and db respectively. These are vectorized versions of the lines I labeled Equation 1 and Equation 2 in my 1a PDF"
   ]
  },
  {
   "cell_type": "code",
   "execution_count": 174,
   "id": "native-employee",
   "metadata": {},
   "outputs": [],
   "source": [
    "da = (1/N *a* X.dot(X)) + ((b/N)*X.sum())- ((1/N)*X.dot(Y))\n",
    "db = ((2*a/N)*X.sum()) + (2*b) - ((2/N)*Y.sum())"
   ]
  },
  {
   "cell_type": "code",
   "execution_count": 175,
   "id": "uniform-phenomenon",
   "metadata": {},
   "outputs": [
    {
     "name": "stdout",
     "output_type": "stream",
     "text": [
      "da is: 0.0 and db is: 0.0\n",
      "Yay, they are both 0!\n"
     ]
    }
   ],
   "source": [
    "#As a sanity check, the derivatives should be 0 right now since I haven't\n",
    "#initialized a and b to the starting point of 0:\n",
    "print(\"da is: \"+str(da)+\" and db is: \"+str(db))\n",
    "print(\"Yay, they are both 0!\")"
   ]
  },
  {
   "cell_type": "markdown",
   "id": "unlikely-simple",
   "metadata": {},
   "source": [
    "#### Gradient descent has three steps: initialize W randomly, step in the direction of negative gradient, and repeat until convergent"
   ]
  },
  {
   "cell_type": "code",
   "execution_count": 177,
   "id": "defined-commitment",
   "metadata": {},
   "outputs": [
    {
     "name": "stdout",
     "output_type": "stream",
     "text": [
      "Gradients at iteration: 198\n",
      "[-7.87373389e-10]\n",
      "[5.02839876e-20]\n",
      "Gradients at iteration: 199\n",
      "[-7.11785519e-10]\n",
      "[4.02271117e-20]\n",
      "\n",
      "The gradient is nearly zero and consistent for all weights. We have converged\n",
      "------------------------------------------------------------------------\n",
      "\n",
      "Using gradient descent with ordinary linear regression, we get weights: \n",
      "\n",
      "a: [0.94607083]\n",
      "b: [7.90316952e-16]\n",
      "------------------------------------------------------------------------\n",
      "\n"
     ]
    }
   ],
   "source": [
    "\n",
    "#Alternate form of gradient descent. Stop at a certain number of iterations\n",
    "#Initialize randomly:\n",
    "a = np.random.rand(1)\n",
    "b = np.random.rand(1)\n",
    "#lambda isn't specified for 1c. I will use 0.1 as the learning rate\n",
    "l = 0.1\n",
    "\n",
    "A = []\n",
    "B = []\n",
    "MSE = []\n",
    "iterations = 200\n",
    "#Loop and step. Use the definitions for da and db from above.\n",
    "#Loop for a certain number of iterations\n",
    "for x in range(iterations):\n",
    "    #calculate MSE for plotting\n",
    "    mse = (Y - a*X+b).pow(2).sum() * 1/N\n",
    "    #Find new a and b\n",
    "    da = ((1/N *a* X.dot(X)) + ((b/N)*X.sum())- ((1/N)*X.dot(Y)))\n",
    "    db = (((2*a/N)*X.sum()) + (2*b) - ((2/N)*Y.sum()))\n",
    "    a = a - l*da\n",
    "    b = b - l*db\n",
    "    #add the values of a, b, and mse to our arrays for plotting later\n",
    "    A.append(a)\n",
    "    B.append(b)\n",
    "    MSE.append(mse)\n",
    "    #Sanity check to see if we are convergent\n",
    "    if x>(iterations-3):\n",
    "        print(\"Gradients at iteration: \" + str(x))\n",
    "        print(da)\n",
    "        print(db)\n",
    "print(\"\\nThe gradient is nearly zero and consistent for all weights. We have converged\")\n",
    "print(\"------------------------------------------------------------------------\\n\")\n",
    "print(\"Using gradient descent with ordinary linear regression, we get weights: \\n\"  )\n",
    "print(\"a: \" + str(A[-1]))\n",
    "print(\"b: \" + str(B[-1]))\n",
    "print(\"------------------------------------------------------------------------\\n\")\n"
   ]
  },
  {
   "cell_type": "markdown",
   "id": "logical-sewing",
   "metadata": {},
   "source": [
    "#### Plot the Mean Squared Error over all of the iterations"
   ]
  },
  {
   "cell_type": "code",
   "execution_count": 178,
   "id": "returning-lawyer",
   "metadata": {},
   "outputs": [
    {
     "data": {
      "text/plain": [
       "Text(0.5, 1.0, 'MSE over 200 iterations')"
      ]
     },
     "execution_count": 178,
     "metadata": {},
     "output_type": "execute_result"
    },
    {
     "data": {
      "image/png": "[encoded data removed]",
      "text/plain": [
       "<Figure size 432x288 with 1 Axes>"
      ]
     },
     "metadata": {
      "needs_background": "light"
     },
     "output_type": "display_data"
    }
   ],
   "source": [
    "#plot MSE\n",
    "iters = np.arange(iterations)\n",
    "plt.plot(iters, MSE)\n",
    "plt.xlabel(\"Iteration\")\n",
    "plt.ylabel(\"MSE\")\n",
    "plt.title(\"MSE over \" + str(iterations) + \" iterations\")"
   ]
  },
  {
   "cell_type": "markdown",
   "id": "published-montana",
   "metadata": {},
   "source": [
    "#### Plot weights a and b over the iterations. Based on the answers from 1b, we would expect a to approach 0.946 and b to approach 0"
   ]
  },
  {
   "cell_type": "code",
   "execution_count": 179,
   "id": "spanish-endorsement",
   "metadata": {},
   "outputs": [
    {
     "data": {
      "text/plain": [
       "Text(0.5, 1.0, 'A and B over 200 iterations')"
      ]
     },
     "execution_count": 179,
     "metadata": {},
     "output_type": "execute_result"
    },
    {
     "data": {
      "image/png": "[encoded data removed]",
      "text/plain": [
       "<Figure size 432x288 with 1 Axes>"
      ]
     },
     "metadata": {
      "needs_background": "light"
     },
     "output_type": "display_data"
    }
   ],
   "source": [
    "#plot A and B over time\n",
    "plt.plot(iters, A, label = 'a')\n",
    "plt.plot(iters, B, label = 'b')\n",
    "plt.legend(loc=\"lower right\")\n",
    "plt.xlabel(\"Iteration\")\n",
    "plt.ylabel(\"A and B values\")\n",
    "plt.title(\"A and B over \" + str(iterations) + \" iterations\")"
   ]
  },
  {
   "cell_type": "code",
   "execution_count": 180,
   "id": "concrete-apple",
   "metadata": {},
   "outputs": [
    {
     "name": "stdout",
     "output_type": "stream",
     "text": [
      "To check this all makes sense:\n",
      "a should start at 0.5922946318729372 and approach 0.9460708311399384\n",
      "b should start at 0.31022642063199496 and approach 7.903169515080444e-16\n",
      "The weights are changed as expected!\n"
     ]
    }
   ],
   "source": [
    "print(\"To check this all makes sense:\")\n",
    "print(\"a should start at \" + str(A[0][0]) +\" and approach \" + str(A[-1][0]))\n",
    "print(\"b should start at \" + str(B[0][0])+ \" and approach \" + str(B[-1][0]))\n",
    "print(\"The weights are changed as expected!\")"
   ]
  },
  {
   "cell_type": "markdown",
   "id": "speaking-zealand",
   "metadata": {},
   "source": [
    "#### Print the results from 1b and 1c to check that they match"
   ]
  },
  {
   "cell_type": "code",
   "execution_count": 181,
   "id": "christian-sister",
   "metadata": {},
   "outputs": [
    {
     "name": "stdout",
     "output_type": "stream",
     "text": [
      "In part b, we got: \n",
      "a is: 0.9460708318102031 and b is: 7.903008610321238e-16\n",
      "\n",
      "To check that it converges as expected:\n",
      "Now we get a is: 0.9460708311399384 and b is: 7.903169515080444e-16\n",
      "True\n",
      "True\n",
      "\n",
      "\n",
      "Woohoo, they match!\n"
     ]
    }
   ],
   "source": [
    "print(\"In part b, we got: \\na is: 0.9460708318102031 and b is: 7.903008610321238e-16\")\n",
    "print(\"\\nTo check that it converges as expected:\")\n",
    "print(\"Now we get a is: \" + str(A[-1][0]) + \" and b is: \" + str(B[-1][0]))\n",
    "\n",
    "print(np.allclose(a, A[-1][0]))\n",
    "print(np.allclose(b, B[-1][0]))\n",
    "print(\"\\n\\nWoohoo, they match!\")"
   ]
  },
  {
   "cell_type": "markdown",
   "id": "sacred-device",
   "metadata": {},
   "source": [
    "## QUESTION 2)"
   ]
  },
  {
   "cell_type": "markdown",
   "id": "functional-robertson",
   "metadata": {},
   "source": [
    "### 2a) Use gradient descent to estimate all 4 coefficients in an ordinary linear regression model(R squared loss). Verify  that they match the analytical function. Also plot error vs iteration"
   ]
  },
  {
   "cell_type": "markdown",
   "id": "quick-footwear",
   "metadata": {},
   "source": [
    "#### From class, we have the following expression for the gradient:\n",
    "\n",
    "#### gradweights = -2$X^{T}$Y + 2*$X^{T}$XW\n",
    "\n",
    "#### Perform gradient descent with the full matrix X. As the first step, initialize X with 3 columns as the 3 midterms and the fourth as all ones for the bias term. Then, perform gradient descent as before "
   ]
  },
  {
   "cell_type": "code",
   "execution_count": 197,
   "id": "sticky-cursor",
   "metadata": {},
   "outputs": [
    {
     "name": "stdout",
     "output_type": "stream",
     "text": [
      "Gradient at iteration: 298\n",
      "EXAM1   -2.993586e-07\n",
      "EXAM2    1.718013e-07\n",
      "EXAM3    1.332042e-07\n",
      "Bias    -4.432507e-23\n",
      "dtype: float64\n",
      "Gradient at iteration: 299\n",
      "EXAM1   -2.870772e-07\n",
      "EXAM2    1.647409e-07\n",
      "EXAM3    1.277516e-07\n",
      "Bias    -4.250747e-23\n",
      "dtype: float64\n",
      "\n",
      "The gradient is nearly zero and consistent for all weights. We have converged\n",
      "-------------------------------------------------------------------------------\n",
      "\n",
      "Using gradient descent with ordinary linear regression, we get weights: \n",
      "\n",
      "Midterm 1: 0.18178183532973177\n",
      "Midterm 2: 0.2821267411142648\n",
      "Midterm 3: 0.5712626000739005\n",
      "Bias: 7.183292730172534e-16\n",
      "-------------------------------------------------------------------------------\n",
      "\n"
     ]
    }
   ],
   "source": [
    "#Separate out the data(midterms 1-3) and the final exam scores\n",
    "#add a column of ones to X for the bias\n",
    "X = pd.concat([data.iloc[:, 0:3], pd.DataFrame(np.ones(N), columns = ['Bias'])], axis = 1)\n",
    "Y = data.iloc[:, 3]\n",
    "\n",
    "\n",
    "#initialize weights w as 0 and learning rate(not specified) as 0.001\n",
    "W = np.random.rand(4)\n",
    "l = 0.01\n",
    "\n",
    "\n",
    "#Perform gradient descent:\n",
    "#E holds error at each iter\n",
    "E = []\n",
    "iterations = 300\n",
    "#Loop and step. Use the definitions for da and db from above. In this version\n",
    "#just loop for a certain number of iterations\n",
    "for x in range(iterations):\n",
    "    #calculate error for plotting\n",
    "    e = (Y - X.dot(W)).pow(2).sum()\n",
    "    #Find new a and b\n",
    "    dw =  -2*X.transpose().dot(Y) +  2*X.transpose().dot(X).dot(W)\n",
    "    W = W - l*dw.to_numpy()\n",
    "    #add the values of a, b, and mse to our arrays for plotting later\n",
    "    E.append(e)\n",
    "    #Print the last two gradients as a sanity check to see that we have converged\n",
    "    if x>(iterations-3):\n",
    "        print(\"Gradient at iteration: \" + str(x))\n",
    "        print(dw)\n",
    "print(\"\\nThe gradient is nearly zero and consistent for all weights. We have converged\")\n",
    "print(\"-------------------------------------------------------------------------------\\n\")\n",
    "print(\"Using gradient descent with ordinary linear regression, we get weights: \\n\"  )\n",
    "print(\"Midterm 1: \" + str(W[0]))\n",
    "print(\"Midterm 2: \" + str(W[1]))\n",
    "print(\"Midterm 3: \" + str(W[2]))\n",
    "print(\"Bias: \" + str(W[3]))\n",
    "print(\"-------------------------------------------------------------------------------\\n\")"
   ]
  },
  {
   "cell_type": "markdown",
   "id": "greatest-terrorism",
   "metadata": {},
   "source": [
    "#### From class, we have the following expression for the analytical loss function:\n",
    "\n",
    "#### weights =($X^{T}$X)$^{-1}$ $X^{T}$Y\n",
    "\n",
    "#### Check that the analytical solution yields the same results for the weights"
   ]
  },
  {
   "cell_type": "code",
   "execution_count": 198,
   "id": "needed-importance",
   "metadata": {},
   "outputs": [
    {
     "name": "stdout",
     "output_type": "stream",
     "text": [
      "Using the analytical function, we get weights: \n",
      "\n",
      "Midterm 1: 0.18178190243132852\n",
      "Midterm 2: 0.2821267026446539\n",
      "Midterm 3: 0.5712625701760201\n",
      "Bias: 7.147060721024445e-16\n"
     ]
    }
   ],
   "source": [
    "#Calculating with the analytical function:\n",
    "Wa = np.linalg.pinv(X.transpose().dot(X).values).dot(X.transpose()).dot(Y)\n",
    "print(\"Using the analytical function, we get weights: \\n\"  )\n",
    "print(\"Midterm 1: \" + str(Wa[0]))\n",
    "print(\"Midterm 2: \" + str(Wa[1]))\n",
    "print(\"Midterm 3: \" + str(Wa[2]))\n",
    "print(\"Bias: \" + str(Wa[3]))"
   ]
  },
  {
   "cell_type": "code",
   "execution_count": 199,
   "id": "about-protein",
   "metadata": {},
   "outputs": [
    {
     "name": "stdout",
     "output_type": "stream",
     "text": [
      "True\n"
     ]
    }
   ],
   "source": [
    "print(np.allclose(W, Wa))"
   ]
  },
  {
   "cell_type": "markdown",
   "id": "interior-franchise",
   "metadata": {},
   "source": [
    "#### Gradient descent matches the analytical approach!"
   ]
  },
  {
   "cell_type": "markdown",
   "id": "lined-intent",
   "metadata": {},
   "source": [
    "#### Plot error against iterations"
   ]
  },
  {
   "cell_type": "code",
   "execution_count": 200,
   "id": "agricultural-cassette",
   "metadata": {},
   "outputs": [
    {
     "data": {
      "text/plain": [
       "Text(0.5, 1.0, 'Error over 300 iterations')"
      ]
     },
     "execution_count": 200,
     "metadata": {},
     "output_type": "execute_result"
    },
    {
     "data": {
      "image/png": "[encoded data removed]",
      "text/plain": [
       "<Figure size 432x288 with 1 Axes>"
      ]
     },
     "metadata": {
      "needs_background": "light"
     },
     "output_type": "display_data"
    }
   ],
   "source": [
    "#plot error\n",
    "iters = np.arange(iterations)\n",
    "plt.plot(iters, E)\n",
    "plt.xlabel(\"Iteration\")\n",
    "plt.ylabel(\"Error\")\n",
    "plt.title(\"Error over \" + str(iterations) + \" iterations\")"
   ]
  },
  {
   "cell_type": "markdown",
   "id": "accepting-certification",
   "metadata": {},
   "source": [
    "### 2b) Use gradient descent to estimate all 4 coefficients with a ridge regression model(including L2 regularization) and lambda 1. Compare results to the analytical function. Plot objective loss vs iteration. How does learning rate affect estimated values?"
   ]
  },
  {
   "cell_type": "markdown",
   "id": "convertible-canyon",
   "metadata": {},
   "source": [
    "#### We have a new error term for ridge. From class, error is given by:\n",
    "\n",
    "#### Sum((Y-Prediction)$^{2}$) + squaredL2norm(W)\n",
    "\n",
    "#### The gradient of our weights is given by:\n",
    "\n",
    "#### gradweights = -2$X^{T}$Y + 2*$X^{T}$XW + Lambda * 2W\n",
    "\n",
    "#### We will find the weights same gradient descent code with the new error and gradweights. I used a nested loop to perform descent with different lambda values"
   ]
  },
  {
   "cell_type": "code",
   "execution_count": 201,
   "id": "brilliant-explosion",
   "metadata": {},
   "outputs": [
    {
     "name": "stdout",
     "output_type": "stream",
     "text": [
      "\n",
      "Using gradient descent on LASSO with lambda = 0.01 , we get weights:\n",
      "Midterm 1: 0.1825035547105583\n",
      "Midterm 2: 0.2820510648180037\n",
      "Midterm 3: 0.5704448635657968\n",
      "Bias: 7.181105613106267e-16\n",
      "MSE: 0.00992502612615653\n",
      "--------------------------------------------------------------------------\n",
      "\n",
      "Using gradient descent on LASSO with lambda = 0.1 , we get weights:\n",
      "Midterm 1: 0.18878518396238872\n",
      "Midterm 2: 0.28139384514754756\n",
      "Midterm 3: 0.5632817093749451\n",
      "Bias: 7.161170161040958e-16\n",
      "MSE: 0.009938449551894536\n",
      "--------------------------------------------------------------------------\n",
      "\n",
      "Using gradient descent on LASSO with lambda = 1 , we get weights:\n",
      "Midterm 1: 0.2296761235299761\n",
      "Midterm 2: 0.27973918097438044\n",
      "Midterm 3: 0.5093050526307112\n",
      "Bias: 6.936812526237386e-16\n",
      "MSE: 0.010773798751827766\n",
      "--------------------------------------------------------------------------\n",
      "\n",
      "Using gradient descent on LASSO with lambda = 10 , we get weights:\n",
      "Midterm 1: 0.27292791736708505\n",
      "Midterm 2: 0.27236661825882585\n",
      "Midterm 3: 0.35163754102212413\n",
      "Bias: 4.926515033031335e-16\n",
      "MSE: 0.03192905795053454\n",
      "--------------------------------------------------------------------------\n"
     ]
    }
   ],
   "source": [
    "#Separate out the data(midterms 1-3) and the final exam scores\n",
    "#add a column of ones to X for the bias\n",
    "X = pd.concat([data.iloc[:, 0:3], pd.DataFrame(np.ones(N), columns = ['Bias'])], axis = 1)\n",
    "Y = data.iloc[:, 3]\n",
    "\n",
    "\n",
    "#Use learning rate 0.01\n",
    "l = 0.01\n",
    "\n",
    "#Make an array of lambdas to test\n",
    "lambdas = [0.01, 0.1, 1, 10]\n",
    "\n",
    "#Perform gradient descent:\n",
    "#E holds error at each iter for each lambda\n",
    "E = []\n",
    "iterations = 200\n",
    "for la in lambdas:\n",
    "    #initialize weights\n",
    "    W = np.random.rand(4)\n",
    "    #create a temporary array for this lambdas error\n",
    "    temp = []\n",
    "    #Loop and step. Use the definition for dw from above. In this version\n",
    "    #just loop for a certain number of iterations\n",
    "    for x in range(iterations):\n",
    "        #calculate error for plotting\n",
    "        e = ((Y - X.dot(W)).pow(2).sum() + np.absolute(W).sum())\n",
    "        #Find new a and b44\n",
    "        dw =  -2*X.transpose().dot(Y) +  2*X.transpose().dot(X).dot(W) + la*2*W\n",
    "        W = W - l*dw.to_numpy()\n",
    "        #add the values of a, b, and mse to our arrays for plotting later\n",
    "        temp.append(e)\n",
    "    E.append(temp)\n",
    "    print(\"\\nUsing gradient descent on LASSO with lambda = \" + str(la) +\" , we get weights:\"  )\n",
    "    print(\"Midterm 1: \" + str(W[0]))\n",
    "    print(\"Midterm 2: \" + str(W[1]))\n",
    "    print(\"Midterm 3: \" + str(W[2]))\n",
    "    print(\"Bias: \" + str(W[3]))\n",
    "    print(\"MSE: \" + str((1/N)* ((Y - X.dot(W)).pow(2).sum())))\n",
    "    print(\"--------------------------------------------------------------------------\")"
   ]
  },
  {
   "cell_type": "markdown",
   "id": "automated-field",
   "metadata": {},
   "source": [
    "## What does lambda(regularization weight) do?\n",
    "#### It seems like increasing lambda increases MSE in exchange for making the weights smaller on average. It controls the tradeoff between training error and model simplicity.\n",
    "\n",
    "#### Side note: it increases MSE but objective error is always minimized as expected"
   ]
  },
  {
   "cell_type": "markdown",
   "id": "registered-convergence",
   "metadata": {},
   "source": [
    "#### Plot the objective error for each lambda"
   ]
  },
  {
   "cell_type": "code",
   "execution_count": 202,
   "id": "treated-helmet",
   "metadata": {},
   "outputs": [
    {
     "data": {
      "text/plain": [
       "Text(0.5, 1.0, 'Error over 200 iterations')"
      ]
     },
     "execution_count": 202,
     "metadata": {},
     "output_type": "execute_result"
    },
    {
     "data": {
      "image/png": "[encoded data removed]",
      "text/plain": [
       "<Figure size 432x288 with 1 Axes>"
      ]
     },
     "metadata": {
      "needs_background": "light"
     },
     "output_type": "display_data"
    }
   ],
   "source": [
    "#plot error\n",
    "iters = np.arange(iterations)\n",
    "plt.plot(iters, E[0], label = 'lambda=0.01')\n",
    "plt.plot(iters, E[1], label = 'lambda=0.1')\n",
    "plt.plot(iters, E[2], label = 'lambda=1')\n",
    "plt.plot(iters, E[3], label = 'lambda=10')\n",
    "plt.legend(loc=\"upper right\")\n",
    "plt.xlabel(\"Iteration\")\n",
    "plt.ylabel(\"Error\")\n",
    "plt.title(\"Error over \" + str(iterations) + \" iterations\")"
   ]
  },
  {
   "cell_type": "markdown",
   "id": "defensive-israeli",
   "metadata": {},
   "source": [
    "#### Compare results to the analytical function:"
   ]
  },
  {
   "cell_type": "markdown",
   "id": "preceding-public",
   "metadata": {},
   "source": [
    "#### From class, we have the following expression for the analytical loss function:\n",
    "\n",
    "#### weights =($X^{T}$X + lambda*I)$^{-1}$ $X^{T}$Y\n",
    "\n",
    "#### Check that the analytical solution yields the same results for the weights"
   ]
  },
  {
   "cell_type": "code",
   "execution_count": 204,
   "id": "valuable-pulse",
   "metadata": {},
   "outputs": [
    {
     "name": "stdout",
     "output_type": "stream",
     "text": [
      "\n",
      "Using ridge analytical solution with lambda = 0.01 , we get weights:\n",
      "Midterm 1: 0.18250918151727585\n",
      "Midterm 2: 0.2820478171943541\n",
      "Midterm 3: 0.5704423783046317\n",
      "Bias: 6.869504964868156e-16\n",
      "\n",
      "Using ridge analytical solution with lambda = 0.1 , we get weights:\n",
      "Midterm 1: 0.18873540645281317\n",
      "Midterm 2: 0.2814223757939739\n",
      "Midterm 3: 0.5633038953305189\n",
      "Bias: 7.077671781985373e-16\n",
      "\n",
      "Using ridge analytical solution with lambda = 1 , we get weights:\n",
      "Midterm 1: 0.22967670851623775\n",
      "Midterm 2: 0.27973884698352297\n",
      "Midterm 3: 0.5093047905946798\n",
      "Bias: 6.800116025829084e-16\n",
      "\n",
      "Using ridge analytical solution with lambda = 10 , we get weights:\n",
      "Midterm 1: 0.2729279173670856\n",
      "Midterm 2: 0.2723666182588249\n",
      "Midterm 3: 0.3516375410221238\n",
      "Bias: 4.718447854656915e-16\n"
     ]
    }
   ],
   "source": [
    "for la in lambdas:\n",
    "    #Calculating with the analytical function:\n",
    "    Wa = np.linalg.pinv(X.transpose().dot(X).values +  la * np.eye(len(X.values[0]))).dot(X.transpose()).dot(Y)\n",
    "    print(\"\\nUsing ridge analytical solution with lambda = \" + str(la) +\" , we get weights:\"  )\n",
    "    print(\"Midterm 1: \" + str(Wa[0]))\n",
    "    print(\"Midterm 2: \" + str(Wa[1]))\n",
    "    print(\"Midterm 3: \" + str(Wa[2]))\n",
    "    print(\"Bias: \" + str(Wa[3]))"
   ]
  },
  {
   "cell_type": "markdown",
   "id": "correct-stewart",
   "metadata": {},
   "source": [
    "#### They are the same as above! To be sure, use np.allclose to verify they are the same."
   ]
  },
  {
   "cell_type": "code",
   "execution_count": 206,
   "id": "bibliographic-rubber",
   "metadata": {},
   "outputs": [
    {
     "name": "stdout",
     "output_type": "stream",
     "text": [
      "True\n"
     ]
    }
   ],
   "source": [
    "print(np.allclose(W, Wa))"
   ]
  },
  {
   "cell_type": "markdown",
   "id": "manufactured-cache",
   "metadata": {},
   "source": [
    "#### The analytical solution matches gradient descent!!"
   ]
  },
  {
   "cell_type": "markdown",
   "id": "opened-chart",
   "metadata": {},
   "source": [
    "### 2c) Use gradient descent to find all coefficients in LASSO(L1 regularization) with lambda 1. Include coefficient values, and a plot of objective loss vs iteration."
   ]
  },
  {
   "cell_type": "markdown",
   "id": "imperial-norfolk",
   "metadata": {},
   "source": [
    "#### We have a new error term for LASSO. From class, error is given by:\n",
    "\n",
    "#### Sum((Y-Prediction)$^{2}$) + L1norm(W)\n",
    "\n",
    "#### The gradient of our weights(also from class) is given by:\n",
    "\n",
    "#### gradweights = -2$X^{T}$Y + 2*$X^{T}$XW + Lambda * sign(W)\n",
    "\n",
    "#### Using the same gradient descent code with the new error and gradweights:"
   ]
  },
  {
   "cell_type": "code",
   "execution_count": 209,
   "id": "quiet-basket",
   "metadata": {},
   "outputs": [
    {
     "name": "stdout",
     "output_type": "stream",
     "text": [
      "Using gradient descent on LASSO, we get weights: \n",
      "\n",
      "Midterm 1: 0.17721476833493263\n",
      "Midterm 2: 0.27318818405219264\n",
      "Midterm 3: 0.5620703448026285\n",
      "Bias: -0.006666666666665957\n"
     ]
    }
   ],
   "source": [
    "#Separate out the data(midterms 1-3) and the final exam scores\n",
    "#add a column of ones to X for the bias\n",
    "X = pd.concat([data.iloc[:, 0:3], pd.DataFrame(np.ones(N), columns = ['Bias'])], axis = 1)\n",
    "Y = data.iloc[:, 3]\n",
    "\n",
    "\n",
    "#initialize weights w as 0 and learning rate 0.01\n",
    "W = np.random.rand(4)\n",
    "l = 0.01\n",
    "#initialize regularization parameter lambda as 1\n",
    "la = 1\n",
    "\n",
    "#Perform gradient descent:\n",
    "#E holds error at each iter\n",
    "E = []\n",
    "iterations = 200\n",
    "#Loop and step. Use the definitions for da and db from above. In this version\n",
    "#just loop for a certain number of iterations\n",
    "for x in range(iterations):\n",
    "    #calculate error for plotting\n",
    "    e = ((Y - X.dot(W)).pow(2).sum() + np.absolute(W).sum())\n",
    "    #Find new a and b44\n",
    "    dw =  -2*X.transpose().dot(Y) +  2*X.transpose().dot(X).dot(W) + la*np.sign(W)\n",
    "    W = W - l*dw.to_numpy()\n",
    "    #add the values of a, b, and mse to our arrays for plotting later\n",
    "    E.append(e)\n",
    "\n",
    "print(\"Using gradient descent on LASSO, we get weights: \\n\"  )\n",
    "print(\"Midterm 1: \" + str(W[0]))\n",
    "print(\"Midterm 2: \" + str(W[1]))\n",
    "print(\"Midterm 3: \" + str(W[2]))\n",
    "print(\"Bias: \" + str(W[3]))"
   ]
  },
  {
   "cell_type": "markdown",
   "id": "reasonable-airfare",
   "metadata": {},
   "source": [
    "#### Plot the error over iterations"
   ]
  },
  {
   "cell_type": "code",
   "execution_count": 210,
   "id": "bibliographic-affect",
   "metadata": {},
   "outputs": [
    {
     "data": {
      "text/plain": [
       "Text(0.5, 1.0, 'Error over 200 iterations')"
      ]
     },
     "execution_count": 210,
     "metadata": {},
     "output_type": "execute_result"
    },
    {
     "data": {
      "image/png": "[encoded data removed]",
      "text/plain": [
       "<Figure size 432x288 with 1 Axes>"
      ]
     },
     "metadata": {
      "needs_background": "light"
     },
     "output_type": "display_data"
    }
   ],
   "source": [
    "#plot error\n",
    "iters = np.arange(iterations)\n",
    "plt.plot(iters, E)\n",
    "plt.xlabel(\"Iteration\")\n",
    "plt.ylabel(\"Error\")\n",
    "plt.title(\"Error over \" + str(iterations) + \" iterations\")"
   ]
  }
 ],
 "metadata": {
  "kernelspec": {
   "display_name": "Python 3 (ipykernel)",
   "language": "python",
   "name": "python3"
  },
  "language_info": {
   "codemirror_mode": {
    "name": "ipython",
    "version": 3
   },
   "file_extension": ".py",
   "mimetype": "text/x-python",
   "name": "python",
   "nbconvert_exporter": "python",
   "pygments_lexer": "ipython3",
   "version": "3.8.5"
  }
 },
 "nbformat": 4,
 "nbformat_minor": 5
}
