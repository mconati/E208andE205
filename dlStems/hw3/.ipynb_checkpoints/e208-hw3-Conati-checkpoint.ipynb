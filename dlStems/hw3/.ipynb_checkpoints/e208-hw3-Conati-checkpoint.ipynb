{
 "cells": [
  {
   "cell_type": "markdown",
   "metadata": {},
   "source": [
    "Before you turn this problem in, make sure everything runs as expected. First, **restart the kernel** (in the menubar, select Kernel$\\rightarrow$Restart) and then **run all cells** (in the menubar, select Cell$\\rightarrow$Run All).\n",
    "\n",
    "Make sure you fill in any place that says `YOUR CODE HERE` or \"YOUR ANSWER HERE\", as well as your name and collaborators below:"
   ]
  },
  {
   "cell_type": "code",
   "execution_count": 1,
   "metadata": {},
   "outputs": [],
   "source": [
    "NAME = \"Marco Conati\"\n",
    "COLLABORATORS = \"\""
   ]
  },
  {
   "cell_type": "markdown",
   "metadata": {},
   "source": [
    "---"
   ]
  },
  {
   "cell_type": "markdown",
   "metadata": {
    "colab_type": "text",
    "deletable": false,
    "editable": false,
    "id": "RSbXDkeq36e1",
    "nbgrader": {
     "cell_type": "markdown",
     "checksum": "7520426530164c823f684f174d00e9db",
     "grade": false,
     "grade_id": "cell-7bfac14d0fc05f49",
     "locked": true,
     "schema_version": 3,
     "solution": false,
     "task": false
    }
   },
   "source": [
    "# Assignment 3\n",
    "\n",
    "The purpose of this assignment is to give you experience applying gradient descent to slightly more complicated models like logistic regression.  These models will require using the chain rule in order to calculate gradients.\n",
    "\n",
    "**IMPORTANT**\n",
    "\n",
    "Please name your notebook in the following format:\n",
    "\n",
    "**e208-hw3-[your_last_name].ipynb**"
   ]
  },
  {
   "cell_type": "code",
   "execution_count": 2,
   "metadata": {
    "ExecuteTime": {
     "end_time": "2020-02-17T23:17:48.809088Z",
     "start_time": "2020-02-17T23:17:48.530968Z"
    },
    "colab": {},
    "colab_type": "code",
    "id": "y19B0OR_36e4"
   },
   "outputs": [],
   "source": [
    "%matplotlib inline"
   ]
  },
  {
   "cell_type": "code",
   "execution_count": 3,
   "metadata": {
    "ExecuteTime": {
     "end_time": "2020-02-17T23:17:50.119043Z",
     "start_time": "2020-02-17T23:17:49.261003Z"
    },
    "colab": {},
    "colab_type": "code",
    "id": "7mET4gZm36e9"
   },
   "outputs": [],
   "source": [
    "import numpy as np\n",
    "import matplotlib.pyplot as plt\n",
    "import pandas as pd\n",
    "from sklearn import preprocessing\n",
    "from sklearn.model_selection import train_test_split\n",
    "from sklearn.linear_model import LogisticRegression\n",
    "from sklearn.metrics import accuracy_score"
   ]
  },
  {
   "cell_type": "markdown",
   "metadata": {
    "ExecuteTime": {
     "end_time": "2020-02-10T21:28:40.132335Z",
     "start_time": "2020-02-10T21:28:40.118857Z"
    },
    "colab_type": "text",
    "id": "ohmx9_KH36fA"
   },
   "source": [
    "### Important:\n",
    "- For autograding purposes, many cells are set in read-only mode. This means you cannot edit, delete, or move these cells.\n",
    "- You should not modify any code except where you see `# YOUR CODE HERE`. Please remove the `raise NotImplementedError()` line and write your code in its place. \n",
    "- You should write your written responses in the designated cells. \n",
    "- We provide code cells that check your code as you progress through the assignment. These tests will help catch obvious errors, but passing these tests is not a guarantee that your implementation is correct. Your notebook will be graded on a more complete set of tests which are not visible to you.\n",
    "- You may add new cells anywhere in the notebook while working, but make sure to delete them before submitting your assignment. Please do not change the sequence of the cells. This is to ensure that autograding works properly.\n",
    "- If you run cells out of order, it may change variable values which may cause tests to fail. The easiest way to avoid this problem is to use the Restart & Run all option available in the Kernel tab. Before submitting, you should do this to ensure that your notebook can be run from beginning to end without errors. This is how your notebook will be graded.\n",
    "\n"
   ]
  },
  {
   "cell_type": "markdown",
   "metadata": {
    "colab_type": "text",
    "deletable": false,
    "editable": false,
    "id": "UE6ZH7nx36fA",
    "nbgrader": {
     "cell_type": "markdown",
     "checksum": "29541aab4f882c43be13aba0e2a55cf3",
     "grade": false,
     "grade_id": "cell-75a70287195de111",
     "locked": true,
     "schema_version": 3,
     "solution": false,
     "task": false
    }
   },
   "source": [
    "### Problem 1: Parameter Estimation"
   ]
  },
  {
   "cell_type": "markdown",
   "metadata": {
    "colab_type": "text",
    "deletable": false,
    "editable": false,
    "id": "ZtwZj_L336fB",
    "nbgrader": {
     "cell_type": "markdown",
     "checksum": "cbb9afbd259a28adf552f7a04d2f73fb",
     "grade": false,
     "grade_id": "cell-ea42dc3c198973ee",
     "locked": true,
     "schema_version": 3,
     "solution": false,
     "task": false
    }
   },
   "source": [
    "This problem will give you practice applying the chain rule when calculating gradients.\n",
    "\n",
    "Let's say that we have a model of the form:\n",
    "\n",
    "$$y = log_d ((a x^2 + b x + c)^2)$$\n",
    "\n",
    "where $a$, $b$, $c$, and $d$ are the parameters of the model.  Given a set of data points, we would like to estimate the parameters of the model using batch gradient descent.\n",
    "\n",
    "Let's first generate the sample data."
   ]
  },
  {
   "cell_type": "code",
   "execution_count": 4,
   "metadata": {
    "ExecuteTime": {
     "end_time": "2020-02-17T23:17:53.455951Z",
     "start_time": "2020-02-17T23:17:53.452001Z"
    },
    "colab": {},
    "colab_type": "code",
    "deletable": false,
    "id": "j-KDgMub36fC",
    "nbgrader": {
     "cell_type": "code",
     "checksum": "a0f5144a0af8ee6adfc73815b290d0cc",
     "grade": false,
     "grade_id": "cell-01e8e9ddb864d11e",
     "locked": false,
     "schema_version": 3,
     "solution": true,
     "task": false
    }
   },
   "outputs": [],
   "source": [
    "def compute_model_outputs(x, w):\n",
    "    '''\n",
    "    Inputs\n",
    "      x: numpy array containing the independent variable\n",
    "      w: numpy array containing the model parameters\n",
    "      \n",
    "    Returns\n",
    "      y_hat: numpy array containing the model outputs\n",
    "    '''\n",
    "    #Return the value predicted by the model\n",
    "    y_hat = np.log(np.square(w[0] * x*x + w[1]*x + w[2]))/np.log(w[3]) \n",
    "    return y_hat"
   ]
  },
  {
   "cell_type": "code",
   "execution_count": 5,
   "metadata": {
    "ExecuteTime": {
     "end_time": "2020-02-17T23:17:55.373387Z",
     "start_time": "2020-02-17T23:17:55.369692Z"
    },
    "colab": {
     "base_uri": "https://localhost:8080/",
     "height": 34
    },
    "colab_type": "code",
    "deletable": false,
    "editable": false,
    "executionInfo": {
     "elapsed": 2870,
     "status": "ok",
     "timestamp": 1588313796847,
     "user": {
      "displayName": "Mazda Moayeri",
      "photoUrl": "",
      "userId": "03659336037567690961"
     },
     "user_tz": 240
    },
    "id": "t94eMfZ036fE",
    "nbgrader": {
     "cell_type": "code",
     "checksum": "67f4a5c0c46e7e40c04f34d8a6824810",
     "grade": true,
     "grade_id": "cell-44d208f6cf6c86a7",
     "locked": true,
     "points": 1,
     "schema_version": 3,
     "solution": false,
     "task": false
    },
    "outputId": "874661ea-c24e-447b-e303-7bed37accb01"
   },
   "outputs": [],
   "source": [
    "# test of correctness\n",
    "ans = compute_model_outputs(3, [1,4,1,5])\n",
    "assert(np.allclose(ans, 3.8411453209567425, atol=0.05))"
   ]
  },
  {
   "cell_type": "code",
   "execution_count": 6,
   "metadata": {
    "ExecuteTime": {
     "end_time": "2020-02-17T23:17:56.364698Z",
     "start_time": "2020-02-17T23:17:56.353448Z"
    },
    "colab": {},
    "colab_type": "code",
    "deletable": false,
    "editable": false,
    "id": "n3BF3z8e36fI",
    "nbgrader": {
     "cell_type": "code",
     "checksum": "8f12bd51cd780fcd2ff81e3c3e7d4e4a",
     "grade": false,
     "grade_id": "cell-008acb4c5e36811b",
     "locked": true,
     "schema_version": 3,
     "solution": false,
     "task": false
    }
   },
   "outputs": [],
   "source": [
    "def generate_sample_data(params, N, noiseVar):\n",
    "    '''\n",
    "    Inputs\n",
    "      params: a numpy array containing the model parameters a, b, c, d\n",
    "      N: the number of data points to generate\n",
    "      noiseVar: the variance of the noise to add\n",
    "      \n",
    "    Returns\n",
    "      x: numpy array containing the independent variable\n",
    "      y: numpy array containing the dependent variable\n",
    "    '''\n",
    "    assert(len(params) == 4)\n",
    "    a, b, c, d = params\n",
    "    np.random.seed(0)\n",
    "    x = np.random.uniform(-3, 3, N)\n",
    "    noise = np.random.normal(0, noiseVar, N)\n",
    "    y = compute_model_outputs(x, params) + noise\n",
    "    return x, y"
   ]
  },
  {
   "cell_type": "code",
   "execution_count": 7,
   "metadata": {
    "ExecuteTime": {
     "end_time": "2020-02-17T23:17:57.848965Z",
     "start_time": "2020-02-17T23:17:57.840392Z"
    },
    "colab": {},
    "colab_type": "code",
    "deletable": false,
    "editable": false,
    "id": "u7JERUII36fL",
    "nbgrader": {
     "cell_type": "code",
     "checksum": "e99e719d4a9fe83f06de4413de26caf2",
     "grade": false,
     "grade_id": "cell-97b2a8f2cf9c7214",
     "locked": true,
     "schema_version": 3,
     "solution": false,
     "task": false
    }
   },
   "outputs": [],
   "source": [
    "params_true = [.5, 3.7, -4.2, 2.6]\n",
    "N = 30\n",
    "noiseVar = 0.2\n",
    "x, y = generate_sample_data(params_true, N, noiseVar)"
   ]
  },
  {
   "cell_type": "code",
   "execution_count": 8,
   "metadata": {
    "ExecuteTime": {
     "end_time": "2020-02-17T23:17:58.588455Z",
     "start_time": "2020-02-17T23:17:58.423143Z"
    },
    "colab": {
     "base_uri": "https://localhost:8080/",
     "height": 265
    },
    "colab_type": "code",
    "deletable": false,
    "editable": false,
    "executionInfo": {
     "elapsed": 2855,
     "status": "ok",
     "timestamp": 1588313796878,
     "user": {
      "displayName": "Mazda Moayeri",
      "photoUrl": "",
      "userId": "03659336037567690961"
     },
     "user_tz": 240
    },
    "id": "rhIhe-R636fP",
    "nbgrader": {
     "cell_type": "code",
     "checksum": "24f63d93f4635650374f0ae3dcf7ac4a",
     "grade": false,
     "grade_id": "cell-106417ab7482c051",
     "locked": true,
     "schema_version": 3,
     "solution": false,
     "task": false
    },
    "outputId": "e7e94a2d-162d-411a-8e59-db815320c960"
   },
   "outputs": [
    {
     "data": {
      "image/png": "[encoded data removed]",
      "text/plain": [
       "<Figure size 432x288 with 1 Axes>"
      ]
     },
     "metadata": {
      "needs_background": "light"
     },
     "output_type": "display_data"
    }
   ],
   "source": [
    "plt.plot(x,y, 'b.')\n",
    "plt.show()"
   ]
  },
  {
   "cell_type": "markdown",
   "metadata": {
    "colab_type": "text",
    "deletable": false,
    "editable": false,
    "id": "oZivuDoC36fS",
    "nbgrader": {
     "cell_type": "markdown",
     "checksum": "0230b019062c67b9ab8753b57c97d2e0",
     "grade": false,
     "grade_id": "cell-4d6a1ef3a7e202bc",
     "locked": true,
     "schema_version": 3,
     "solution": false,
     "task": false
    }
   },
   "source": [
    "Your goal below is to estimate the model coefficients using batch gradient descent with a mean squared error metric.  You may use as many code and markdown cells as needed.  In your work, you should do the following:\n",
    "- Derive an analytical expression for the error gradient.\n",
    "- Complete the compute_grad and grad_checking functions below.  Verify that your implementation passes gradient checking.\n",
    "- Plot MSE vs iteration for three different learning rates (all of which should converge).\n",
    "- Plot the original data points with the estimated curve overlaid.\n",
    "- Provide a discussion of any challenges that you encountered in getting your system to converge to a good solution.\n",
    "\n",
    "Part of your grade will be on the readability of your writeup and code, so be sure to decompose and comment your code accordingly."
   ]
  },
  {
   "cell_type": "markdown",
   "metadata": {
    "colab_type": "text",
    "deletable": false,
    "id": "Jj82MsGt36fT",
    "nbgrader": {
     "cell_type": "markdown",
     "checksum": "0beb3e70eef1ed32226ae8974d81840f",
     "grade": true,
     "grade_id": "cell-457c6158d9670d12",
     "locked": false,
     "points": 6,
     "schema_version": 3,
     "solution": true,
     "task": false
    }
   },
   "source": [
    "#### Derive an analytical expression for the error gradient:\n",
    "\n",
    "I'll use a computational graph for this. Let's look at the original loss function:\n",
    "\n",
    "loss = $\\frac{1}{N}\\Sigma_{i=1}^n({y}-log_d(ax^2 + bx + c)^2)^2$\n",
    "\n",
    "Splitting this into functions for the computational graph.\n",
    "\n",
    "Let:\n",
    "\n",
    "z = $(ax^2 + bx + c)$   \n",
    "g = $z^2$   \n",
    "p = $log_d(g)$   \n",
    "\n",
    "Then, we can just express our loss as   \n",
    "mse = $\\frac{1}{N}\\Sigma_{i=1}^n({y}-p)^2$  \n",
    "If we rewrite y and p as vectors where  \n",
    "Y = \\begin{bmatrix}\n",
    "y_0&\n",
    "y_1&\n",
    "...&\n",
    "y_n\n",
    "\\end{bmatrix}\n",
    "P = \\begin{bmatrix}\n",
    "p_0&\n",
    "p_1&\n",
    "...&\n",
    "p_n\n",
    "\\end{bmatrix}  \n",
    "We can rewrite the sum as:  \n",
    "mse = $\\frac{1}{N}(YY^T -2YP + PP^T)$\n",
    "\n",
    "Taking our derivatives along the computational graph:  \n",
    "First, find the derivative of z with respect to the parameters a,b,c:  \n",
    "$\\frac{dz}{da} = x^2$  \n",
    "$\\frac{dz}{db} = x$  \n",
    "$\\frac{dz}{dc} = 1$\n",
    "\n",
    "Second, find the derivative of g with respect to z:  \n",
    "$\\frac{dg}{dz} = 2z$  \n",
    "\n",
    "Third, take the derivative of p with respect to g and our parameter d:  \n",
    "It was very useful to use the property: $log_d(x) = \\frac {log(x)}{log(d)}$   \n",
    "$\\frac{dp}{dd} = \\frac {log(g)}{(dlog^2(d))}$  \n",
    "$\\frac{dp}{dg} = \\frac {1} {glog(d)}$  \n",
    "\n",
    "Finally, take the derivative of the mean squared error with respect to p. I will call this loss l:  \n",
    "$\\frac{dl}{dp} = \\frac{1}{N}(-2y + 2p)$  \n",
    "\n",
    "Now we can find all of the derivatives of our weights. I'll write out the chain rule for each, but leave the calculation up to the computer(also I used l to represent our loss given by MSE):  \n",
    "$\\frac{dl}{da} = \\frac{dl}{dp}\\frac{dp}{dg}\\frac{dg}{dz}\\frac{dz}{da}$   \n",
    "$\\frac{dl}{db} = \\frac{dl}{dp}\\frac{dp}{dg}\\frac{dg}{dz}\\frac{dz}{db}$   \n",
    "$\\frac{dl}{dc} = \\frac{dl}{dp}\\frac{dp}{dg}\\frac{dg}{dz}\\frac{dz}{dc}$   \n",
    "$\\frac{dl}{dd} = \\frac{dl}{dp}\\frac{dp}{dd}$  \n",
    "\n",
    "Where all the derivaives are defined above. In compute_grad, I use the computer to calculate the value of the gradients"
   ]
  },
  {
   "cell_type": "code",
   "execution_count": 9,
   "metadata": {
    "ExecuteTime": {
     "end_time": "2020-02-17T23:19:54.944124Z",
     "start_time": "2020-02-17T23:19:54.925615Z"
    },
    "colab": {},
    "colab_type": "code",
    "deletable": false,
    "id": "stR-Fbpn36fT",
    "nbgrader": {
     "cell_type": "code",
     "checksum": "1788b7419b38afe04ebf69e359b5795b",
     "grade": true,
     "grade_id": "cell-13caa4a90047853e",
     "locked": false,
     "points": 0,
     "schema_version": 3,
     "solution": true,
     "task": false
    }
   },
   "outputs": [],
   "source": [
    "def compute_grad(x, y, w):\n",
    "    '''\n",
    "    Inputs\n",
    "      x: numpy array containing the independent variable\n",
    "      y: numpy array containing the target values\n",
    "      w: numpy array containing the model parameters\n",
    "      \n",
    "    Returns\n",
    "      grad: numpy array containing the gradients of w\n",
    "      mse: scalar indicating the mean squared error\n",
    "    '''\n",
    "    # Separate values for readability\n",
    "    N = x.size\n",
    "    a = w[0]\n",
    "    b = w[1]\n",
    "    c = w[2]\n",
    "    d = w[3]\n",
    "    #Plug in values to calculate z,g,p, and mse as defined above\n",
    "    z = a*np.square(x) + b*x + c\n",
    "    g = np.square(z)\n",
    "    p = np.log(g)/np.log(d)\n",
    "    mse = (y.dot(y) - 2*y.dot(p) + p.dot(p))/N\n",
    "    #calculate derivatives at each state\n",
    "    #for my naming convention, dadb means derivative of a with respect to b\n",
    "    #Also, l stands for loss(mse)\n",
    "    dldp = -2*y + 2*p\n",
    "    dpdd = -np.log(g)/(d*np.log(d)*np.log(d))\n",
    "    dpdg = 1/(g*np.log(d))\n",
    "    dgdz = 2*z\n",
    "    dzda = np.square(x)\n",
    "    dzdb = x\n",
    "    dzdc = np.ones_like(x)\n",
    "    #Currently, the derivatives are vector of derivatives for each data point. To get the batch gradients\n",
    "    #Sum them and divide by the number of samples in the batch\n",
    "    dlda = sum(dldp * dpdg * dgdz * dzda)/N\n",
    "    dldb = sum(dldp * dpdg * dgdz * dzdb)/N\n",
    "    dldc = sum(dldp * dpdg * dgdz * dzdc)/N\n",
    "    dldd = sum(dldp * dpdd)/N\n",
    "    #Group them into one gradient\n",
    "    grad = np.array([dlda,dldb,dldc,dldd])\n",
    "    return grad, mse"
   ]
  },
  {
   "cell_type": "code",
   "execution_count": 10,
   "metadata": {},
   "outputs": [
    {
     "data": {
      "text/plain": [
       "array([ 0.09858311,  0.07513076,  0.05820139, -0.07536709])"
      ]
     },
     "execution_count": 10,
     "metadata": {},
     "output_type": "execute_result"
    }
   ],
   "source": [
    "compute_grad(x, y, np.array([.5, 3.7, -4.2, 2.6]))[0]"
   ]
  },
  {
   "cell_type": "code",
   "execution_count": 11,
   "metadata": {
    "ExecuteTime": {
     "end_time": "2020-02-17T23:20:30.645685Z",
     "start_time": "2020-02-17T23:20:30.641762Z"
    },
    "colab": {},
    "colab_type": "code",
    "deletable": false,
    "editable": false,
    "id": "VYnpoYQ436fX",
    "nbgrader": {
     "cell_type": "code",
     "checksum": "3eee2ae7b1d0872de91066b2d740f202",
     "grade": true,
     "grade_id": "cell-c10c67fafbb137ac",
     "locked": true,
     "points": 3,
     "schema_version": 3,
     "solution": false,
     "task": false
    }
   },
   "outputs": [],
   "source": [
    "# test of accuracy \n",
    "assert(np.allclose(compute_grad(x, y, np.array([.5, 3.7, -4.2, 2.6]))[0],\n",
    "                    np.array([ 0.09858311,  0.07513076,  0.05820139, -0.07536709]), rtol = 0.01))"
   ]
  },
  {
   "cell_type": "code",
   "execution_count": 12,
   "metadata": {
    "deletable": false,
    "editable": false,
    "nbgrader": {
     "cell_type": "code",
     "checksum": "1d042793c965a64a9a4c1c2b893ecd4a",
     "grade": true,
     "grade_id": "cell-c73596c2b6bce649",
     "locked": true,
     "points": 4,
     "schema_version": 3,
     "solution": false,
     "task": false
    }
   },
   "outputs": [],
   "source": [
    "assert(np.allclose(compute_grad(x, y, np.array([.5, 3.7, -4.2, 2.6]))[1], 0.04986061848931964, rtol = 0.01))"
   ]
  },
  {
   "cell_type": "code",
   "execution_count": 13,
   "metadata": {
    "ExecuteTime": {
     "end_time": "2020-02-10T21:34:39.152732Z",
     "start_time": "2020-02-10T21:34:39.146414Z"
    },
    "colab": {},
    "colab_type": "code",
    "deletable": false,
    "id": "CmuMxE0q36fj",
    "nbgrader": {
     "cell_type": "code",
     "checksum": "ee644ca3be75fa8cf3054f0a55561599",
     "grade": true,
     "grade_id": "cell-a56721a5615ec9e3",
     "locked": false,
     "points": 0,
     "schema_version": 3,
     "solution": true,
     "task": false
    }
   },
   "outputs": [],
   "source": [
    "def grad_checking(x, y, w, eps = 1e-7):\n",
    "    '''\n",
    "    Performs gradient checking on a single (x,y) data point\n",
    "    \n",
    "    Inputs\n",
    "      x: scalar input \n",
    "      y: scalar output\n",
    "      w: model weights\n",
    "      eps: tolerance for gradient checking\n",
    "      \n",
    "    Returns\n",
    "      isCorrect: boolean indicating whether gradient checking passes or fails\n",
    "    '''\n",
    "    x_arr = np.array([x])\n",
    "    y_arr = np.array([y])\n",
    "    grad, _ = compute_grad(x_arr, y_arr, w)\n",
    "    grad_approx = np.zeros_like(grad)\n",
    "    for i in range(len(w)):\n",
    "        delta = np.zeros_like(w) \n",
    "        delta[i] = eps\n",
    "        #Move the weights slightly and find the value\n",
    "        yPlus = np.square(y-compute_model_outputs(x, w + delta))\n",
    "        yMinus = np.square(y-compute_model_outputs(x, w - delta))\n",
    "        #Esimate the derivative\n",
    "        grad_approx[i] = (yPlus - yMinus)/(2*eps)\n",
    "    num = np.linalg.norm(grad - grad_approx)\n",
    "    denom = np.linalg.norm(grad) + np.linalg.norm(grad_approx)\n",
    "    diff = num / denom\n",
    "    if diff < eps:\n",
    "        print('Passes gradient checking')\n",
    "        return True\n",
    "    else:\n",
    "        print('Fails gradient checking')\n",
    "        print(diff)\n",
    "        return False"
   ]
  },
  {
   "cell_type": "markdown",
   "metadata": {
    "colab_type": "text",
    "deletable": false,
    "editable": false,
    "id": "vw8Y1soI36fm",
    "nbgrader": {
     "cell_type": "markdown",
     "checksum": "d8500a15693ff7bfd4d52b6e00624bed",
     "grade": false,
     "grade_id": "cell-2b6b1a5d00170f22",
     "locked": true,
     "schema_version": 3,
     "solution": false,
     "task": false
    }
   },
   "source": [
    "Check that your implementation passes gradient checking:"
   ]
  },
  {
   "cell_type": "code",
   "execution_count": 14,
   "metadata": {
    "ExecuteTime": {
     "end_time": "2020-02-10T21:34:42.996790Z",
     "start_time": "2020-02-10T21:34:42.990076Z"
    },
    "colab": {
     "base_uri": "https://localhost:8080/",
     "height": 34
    },
    "colab_type": "code",
    "deletable": false,
    "editable": false,
    "executionInfo": {
     "elapsed": 340,
     "status": "ok",
     "timestamp": 1588314344601,
     "user": {
      "displayName": "Mazda Moayeri",
      "photoUrl": "",
      "userId": "03659336037567690961"
     },
     "user_tz": 240
    },
    "id": "BHYHDPB536fm",
    "nbgrader": {
     "cell_type": "code",
     "checksum": "80df7cdc42beb697448e9e07557110bc",
     "grade": true,
     "grade_id": "cell-cd0e0b9accd39546",
     "locked": true,
     "points": 4,
     "schema_version": 3,
     "solution": false,
     "task": false
    },
    "outputId": "a935250c-cd07-4237-9fb5-b8963bf706dc"
   },
   "outputs": [
    {
     "name": "stdout",
     "output_type": "stream",
     "text": [
      "Passes gradient checking\n"
     ]
    }
   ],
   "source": [
    "assert(grad_checking(x[0], y[0], np.array([-1.2, 2.3, 1.7, 2.6])))"
   ]
  },
  {
   "cell_type": "markdown",
   "metadata": {},
   "source": [
    "Implement a wrapper function that learns the model weights given a set of data and training hyperparameters."
   ]
  },
  {
   "cell_type": "code",
   "execution_count": 15,
   "metadata": {
    "deletable": false,
    "nbgrader": {
     "cell_type": "code",
     "checksum": "aeaf4d95e08de131851a2591486f110a",
     "grade": true,
     "grade_id": "cell-ff0452f2320d75e2",
     "locked": false,
     "points": 2,
     "schema_version": 3,
     "solution": true,
     "task": false
    }
   },
   "outputs": [],
   "source": [
    "def estimate_params(x, y, lr, iters, seed = 0):\n",
    "    '''\n",
    "    Learns model weights by minimizing MSE.\n",
    "    \n",
    "    Inputs:\n",
    "        x - inputs\n",
    "        y - target values\n",
    "        lr - learning rate\n",
    "        iters - number of iterations to train\n",
    "        seed - for random number generator\n",
    "        \n",
    "    Returns:\n",
    "        w - estimated model weights\n",
    "        mse_traj - history of MSE vs iteration\n",
    "    '''\n",
    "    np.random.seed(seed)\n",
    "    w = np.random.normal(0, 1, 4) \n",
    "    w[3] = np.random.uniform(1,5) # when initializing, note that d should be > 1 and that log(0) is invalid\n",
    "    mse_traj = []\n",
    "    \n",
    "    for n in range(iters):\n",
    "        N = x.size\n",
    "        a = w[0]\n",
    "        b = w[1]\n",
    "        c = w[2]\n",
    "        d = w[3]\n",
    "        #Plug in values to calculate z,g,p, and in turn mse as defined above\n",
    "        z = a*np.square(x) + b*x + c\n",
    "        g = np.square(z)\n",
    "        p = np.log(g)/np.log(d)\n",
    "        mse = (y.dot(y) - 2*y.dot(p) + p.dot(p))/N\n",
    "        #Use the grad function\n",
    "        grad = compute_grad(x,y,w)[0]\n",
    "        #Alther weights\n",
    "        w = w - lr * grad\n",
    "        mse_traj.append(mse)\n",
    "\n",
    "    mse_traj = np.array(mse_traj)\n",
    "    return w, mse_traj"
   ]
  },
  {
   "cell_type": "markdown",
   "metadata": {},
   "source": [
    "Here is a helper function for visualizing a model's performance."
   ]
  },
  {
   "cell_type": "code",
   "execution_count": 16,
   "metadata": {
    "ExecuteTime": {
     "end_time": "2020-02-06T07:33:00.299404Z",
     "start_time": "2020-02-06T07:33:00.278399Z"
    },
    "colab": {},
    "colab_type": "code",
    "deletable": false,
    "editable": false,
    "id": "vUwfmZh936fr",
    "nbgrader": {
     "cell_type": "code",
     "checksum": "7f3e052203c4305b043a5de74f8453af",
     "grade": false,
     "grade_id": "cell-a6d84a4567b0a641",
     "locked": true,
     "schema_version": 3,
     "solution": false,
     "task": false
    }
   },
   "outputs": [],
   "source": [
    "def display_losses_and_fit(x, y, w, losses):\n",
    "    '''\n",
    "    Generate two side-by-side figures:\n",
    "      - A plot of MSE vs iteration \n",
    "      - A scatterplot with the fitted quadratic overlaid\n",
    "      \n",
    "    Inputs:\n",
    "        x - inputs\n",
    "        y - target values\n",
    "        w - weights of model\n",
    "        losses - MSE for each epoch\n",
    "    '''\n",
    "    fig, (ax1, ax2) = plt.subplots(1,2)\n",
    "\n",
    "    ax1.plot( losses, 'b.')\n",
    "    ax1.set_title('MSE vs. Iteration')\n",
    "\n",
    "    x_pts = np.linspace(min(x), max(x), 300)\n",
    "    pred_y = compute_model_outputs(x_pts, w)\n",
    "    ax2.plot(x_pts, pred_y)\n",
    "    ax2.set_title('Fitted Quadratic')\n",
    "    ax2.scatter(x, y)\n",
    "    plt.show()\n",
    "    print(\"weights \",w)\n",
    "    print(\"final loss, \",losses[-1])"
   ]
  },
  {
   "cell_type": "markdown",
   "metadata": {
    "deletable": false,
    "editable": false,
    "nbgrader": {
     "cell_type": "markdown",
     "checksum": "22b63fcbe8218216872dfd21c3da437a",
     "grade": false,
     "grade_id": "cell-fa2f4d9a8687e86b",
     "locked": true,
     "points": 2,
     "schema_version": 3,
     "solution": false,
     "task": true
    }
   },
   "source": [
    "Visualize the results using three different learning rates below. "
   ]
  },
  {
   "cell_type": "code",
   "execution_count": 17,
   "metadata": {
    "ExecuteTime": {
     "end_time": "2020-02-06T07:33:05.244300Z",
     "start_time": "2020-02-06T07:33:04.422982Z"
    },
    "colab": {
     "base_uri": "https://localhost:8080/",
     "height": 358
    },
    "colab_type": "code",
    "deletable": false,
    "executionInfo": {
     "elapsed": 436,
     "status": "error",
     "timestamp": 1588314393333,
     "user": {
      "displayName": "Mazda Moayeri",
      "photoUrl": "",
      "userId": "03659336037567690961"
     },
     "user_tz": 240
    },
    "id": "6Ob7pxAd36ft",
    "nbgrader": {
     "cell_type": "code",
     "checksum": "819a97e73f67e241802df3a675c321f0",
     "grade": true,
     "grade_id": "cell-a8d50795ba5edf1d",
     "locked": false,
     "points": 0,
     "schema_version": 3,
     "solution": true,
     "task": false
    },
    "outputId": "ecaedb4d-4a45-44d2-952a-7a494b6161bc"
   },
   "outputs": [
    {
     "data": {
      "image/png": "[encoded data removed]",
      "text/plain": [
       "<Figure size 432x288 with 2 Axes>"
      ]
     },
     "metadata": {
      "needs_background": "light"
     },
     "output_type": "display_data"
    },
    {
     "name": "stdout",
     "output_type": "stream",
     "text": [
      "weights  [ 23.10106648 -43.11701879  20.40846146   7.9709211 ]\n",
      "final loss,  0.16335757326900763\n"
     ]
    }
   ],
   "source": [
    "# Visualize results with learning rate #1\n",
    "w,mset = estimate_params(x,y,0.1, 100000)\n",
    "display_losses_and_fit(x,y,w,mset)"
   ]
  },
  {
   "cell_type": "code",
   "execution_count": 18,
   "metadata": {
    "ExecuteTime": {
     "end_time": "2020-02-06T07:33:07.322148Z",
     "start_time": "2020-02-06T07:33:06.792212Z"
    },
    "colab": {
     "base_uri": "https://localhost:8080/",
     "height": 358
    },
    "colab_type": "code",
    "deletable": false,
    "executionInfo": {
     "elapsed": 280,
     "status": "error",
     "timestamp": 1588314353418,
     "user": {
      "displayName": "Mazda Moayeri",
      "photoUrl": "",
      "userId": "03659336037567690961"
     },
     "user_tz": 240
    },
    "id": "shaZZgHn36fw",
    "nbgrader": {
     "cell_type": "code",
     "checksum": "3cb50818551b02adc01d1ae0d7e5da05",
     "grade": true,
     "grade_id": "cell-9a3f465540a79bb9",
     "locked": false,
     "points": 0,
     "schema_version": 3,
     "solution": true,
     "task": false
    },
    "outputId": "4588c59a-73c3-4812-966a-2e9de81eaf83"
   },
   "outputs": [
    {
     "data": {
      "image/png": "[encoded data removed]",
      "text/plain": [
       "<Figure size 432x288 with 2 Axes>"
      ]
     },
     "metadata": {
      "needs_background": "light"
     },
     "output_type": "display_data"
    },
    {
     "name": "stdout",
     "output_type": "stream",
     "text": [
      "weights  [ 29.20612088 -54.91528754  26.00346659   8.9727332 ]\n",
      "final loss,  0.14855678362492122\n"
     ]
    }
   ],
   "source": [
    "# Visualize results with learning rate #2\n",
    "w,mset = estimate_params(x,y,0.5, 50000)\n",
    "display_losses_and_fit(x,y,w,mset)"
   ]
  },
  {
   "cell_type": "code",
   "execution_count": 19,
   "metadata": {
    "ExecuteTime": {
     "end_time": "2020-02-06T07:33:02.945272Z",
     "start_time": "2020-02-06T07:33:01.896317Z"
    },
    "colab": {},
    "colab_type": "code",
    "deletable": false,
    "id": "7Aa-Zrbr36fz",
    "nbgrader": {
     "cell_type": "code",
     "checksum": "a15fc7c0f1aa287394028d35d73c1d14",
     "grade": true,
     "grade_id": "cell-a531f8373329c1d1",
     "locked": false,
     "points": 0,
     "schema_version": 3,
     "solution": true,
     "task": false
    }
   },
   "outputs": [
    {
     "data": {
      "image/png": "[encoded data removed]",
      "text/plain": [
       "<Figure size 432x288 with 2 Axes>"
      ]
     },
     "metadata": {
      "needs_background": "light"
     },
     "output_type": "display_data"
    },
    {
     "name": "stdout",
     "output_type": "stream",
     "text": [
      "weights  [ 31.66078318 -59.66423998  28.26303966   9.34992578]\n",
      "final loss,  0.1454944071208312\n"
     ]
    }
   ],
   "source": [
    "# Visualize results with learning rate #3\n",
    "w,mset = estimate_params(x,y,0.9, 40000)\n",
    "display_losses_and_fit(x,y,w,mset)"
   ]
  },
  {
   "cell_type": "markdown",
   "metadata": {
    "ExecuteTime": {
     "end_time": "2020-02-10T21:44:49.401304Z",
     "start_time": "2020-02-10T21:44:49.395263Z"
    },
    "colab_type": "text",
    "deletable": false,
    "editable": false,
    "id": "BgtLld6A36f1",
    "nbgrader": {
     "cell_type": "markdown",
     "checksum": "8c7c295b099adef233148e5858175c38",
     "grade": false,
     "grade_id": "cell-5bff875fbf5712d0",
     "locked": true,
     "schema_version": 3,
     "solution": false,
     "task": false
    }
   },
   "source": [
    "Provide a discussion of any observations you have and any challenges that you encountered in getting your system to converge to a good solution."
   ]
  },
  {
   "cell_type": "markdown",
   "metadata": {
    "colab_type": "text",
    "deletable": false,
    "id": "6b5JUwTU36f1",
    "nbgrader": {
     "cell_type": "markdown",
     "checksum": "fc3b8ba22a9f926e25a6fb80dd269706",
     "grade": true,
     "grade_id": "cell-16247cc6e2df7a32",
     "locked": false,
     "points": 3,
     "schema_version": 3,
     "solution": true,
     "task": false
    }
   },
   "source": [
    "**Write your answers here:**\n",
    "\n",
    "Compared to previous models, this model is more resilient to higher learning rate(doesn't diverge as easily), but takes way more iterations to converge. In previous homeworks, a lr of 0.1 has been good for stable convergence, but in this case, it took tens of thousands of iterations for the model to converge with a lr of 0.1. This is likely because the model is more complicated than previous ones from the class.\n",
    "\n",
    "I was able to get it to converge faster with higher learning rates; surprisingly, convergence seemed stable with a learning rate as high as 0.9. \n",
    "\n",
    "In all three cases, I could've gotten the final loss lower by increasing the number of iterations further. However, it was taking my computer a long time to run. There was definitely a tradeoff between using a more stable learning rate and time/hardware investment."
   ]
  },
  {
   "cell_type": "markdown",
   "metadata": {
    "colab_type": "text",
    "deletable": false,
    "editable": false,
    "id": "LnxItRGw36f2",
    "nbgrader": {
     "cell_type": "markdown",
     "checksum": "1123a2f1e542017221ed1491e9357226",
     "grade": false,
     "grade_id": "cell-3d5b0577bbfcef51",
     "locked": true,
     "schema_version": 3,
     "solution": false,
     "task": false
    }
   },
   "source": [
    "### Problem 2: Logistic Regression"
   ]
  },
  {
   "cell_type": "markdown",
   "metadata": {
    "colab_type": "text",
    "deletable": false,
    "editable": false,
    "id": "_QdKRm0036f2",
    "nbgrader": {
     "cell_type": "markdown",
     "checksum": "77b0085d8aeee29303cd9a87bc5ba09f",
     "grade": false,
     "grade_id": "cell-0873615981f5681d",
     "locked": true,
     "schema_version": 3,
     "solution": false,
     "task": false
    }
   },
   "source": [
    "In this problem we will implement logistic regression to predict whether or not a student will get into graduate school.  We will work with a dataset of student admissions at UCLA."
   ]
  },
  {
   "cell_type": "code",
   "execution_count": 20,
   "metadata": {
    "ExecuteTime": {
     "end_time": "2020-02-17T23:40:36.933018Z",
     "start_time": "2020-02-17T23:40:36.922398Z"
    },
    "colab": {},
    "colab_type": "code",
    "id": "qd8VixzK36f3"
   },
   "outputs": [],
   "source": [
    "df = pd.read_csv('ucla_admissions.csv')"
   ]
  },
  {
   "cell_type": "code",
   "execution_count": 21,
   "metadata": {
    "ExecuteTime": {
     "end_time": "2020-02-17T23:40:37.149372Z",
     "start_time": "2020-02-17T23:40:37.137386Z"
    },
    "colab": {},
    "colab_type": "code",
    "id": "OSjJkIid36f7"
   },
   "outputs": [
    {
     "data": {
      "text/html": [
       "<div>\n",
       "<style scoped>\n",
       "    .dataframe tbody tr th:only-of-type {\n",
       "        vertical-align: middle;\n",
       "    }\n",
       "\n",
       "    .dataframe tbody tr th {\n",
       "        vertical-align: top;\n",
       "    }\n",
       "\n",
       "    .dataframe thead th {\n",
       "        text-align: right;\n",
       "    }\n",
       "</style>\n",
       "<table border=\"1\" class=\"dataframe\">\n",
       "  <thead>\n",
       "    <tr style=\"text-align: right;\">\n",
       "      <th></th>\n",
       "      <th>admit</th>\n",
       "      <th>gre</th>\n",
       "      <th>gpa</th>\n",
       "      <th>rank</th>\n",
       "    </tr>\n",
       "  </thead>\n",
       "  <tbody>\n",
       "    <tr>\n",
       "      <th>0</th>\n",
       "      <td>0</td>\n",
       "      <td>380</td>\n",
       "      <td>3.61</td>\n",
       "      <td>3</td>\n",
       "    </tr>\n",
       "    <tr>\n",
       "      <th>1</th>\n",
       "      <td>1</td>\n",
       "      <td>660</td>\n",
       "      <td>3.67</td>\n",
       "      <td>3</td>\n",
       "    </tr>\n",
       "    <tr>\n",
       "      <th>2</th>\n",
       "      <td>1</td>\n",
       "      <td>800</td>\n",
       "      <td>4.00</td>\n",
       "      <td>1</td>\n",
       "    </tr>\n",
       "    <tr>\n",
       "      <th>3</th>\n",
       "      <td>1</td>\n",
       "      <td>640</td>\n",
       "      <td>3.19</td>\n",
       "      <td>4</td>\n",
       "    </tr>\n",
       "    <tr>\n",
       "      <th>4</th>\n",
       "      <td>0</td>\n",
       "      <td>520</td>\n",
       "      <td>2.93</td>\n",
       "      <td>4</td>\n",
       "    </tr>\n",
       "  </tbody>\n",
       "</table>\n",
       "</div>"
      ],
      "text/plain": [
       "   admit  gre   gpa  rank\n",
       "0      0  380  3.61     3\n",
       "1      1  660  3.67     3\n",
       "2      1  800  4.00     1\n",
       "3      1  640  3.19     4\n",
       "4      0  520  2.93     4"
      ]
     },
     "execution_count": 21,
     "metadata": {},
     "output_type": "execute_result"
    }
   ],
   "source": [
    "df.head()"
   ]
  },
  {
   "cell_type": "code",
   "execution_count": 22,
   "metadata": {
    "ExecuteTime": {
     "end_time": "2020-02-17T23:40:37.343635Z",
     "start_time": "2020-02-17T23:40:37.312989Z"
    },
    "colab": {},
    "colab_type": "code",
    "id": "p_Seh-zZ36f9"
   },
   "outputs": [
    {
     "data": {
      "text/html": [
       "<div>\n",
       "<style scoped>\n",
       "    .dataframe tbody tr th:only-of-type {\n",
       "        vertical-align: middle;\n",
       "    }\n",
       "\n",
       "    .dataframe tbody tr th {\n",
       "        vertical-align: top;\n",
       "    }\n",
       "\n",
       "    .dataframe thead th {\n",
       "        text-align: right;\n",
       "    }\n",
       "</style>\n",
       "<table border=\"1\" class=\"dataframe\">\n",
       "  <thead>\n",
       "    <tr style=\"text-align: right;\">\n",
       "      <th></th>\n",
       "      <th>admit</th>\n",
       "      <th>gre</th>\n",
       "      <th>gpa</th>\n",
       "      <th>rank</th>\n",
       "    </tr>\n",
       "  </thead>\n",
       "  <tbody>\n",
       "    <tr>\n",
       "      <th>count</th>\n",
       "      <td>400.000000</td>\n",
       "      <td>400.000000</td>\n",
       "      <td>400.000000</td>\n",
       "      <td>400.00000</td>\n",
       "    </tr>\n",
       "    <tr>\n",
       "      <th>mean</th>\n",
       "      <td>0.317500</td>\n",
       "      <td>587.700000</td>\n",
       "      <td>3.389900</td>\n",
       "      <td>2.48500</td>\n",
       "    </tr>\n",
       "    <tr>\n",
       "      <th>std</th>\n",
       "      <td>0.466087</td>\n",
       "      <td>115.516536</td>\n",
       "      <td>0.380567</td>\n",
       "      <td>0.94446</td>\n",
       "    </tr>\n",
       "    <tr>\n",
       "      <th>min</th>\n",
       "      <td>0.000000</td>\n",
       "      <td>220.000000</td>\n",
       "      <td>2.260000</td>\n",
       "      <td>1.00000</td>\n",
       "    </tr>\n",
       "    <tr>\n",
       "      <th>25%</th>\n",
       "      <td>0.000000</td>\n",
       "      <td>520.000000</td>\n",
       "      <td>3.130000</td>\n",
       "      <td>2.00000</td>\n",
       "    </tr>\n",
       "    <tr>\n",
       "      <th>50%</th>\n",
       "      <td>0.000000</td>\n",
       "      <td>580.000000</td>\n",
       "      <td>3.395000</td>\n",
       "      <td>2.00000</td>\n",
       "    </tr>\n",
       "    <tr>\n",
       "      <th>75%</th>\n",
       "      <td>1.000000</td>\n",
       "      <td>660.000000</td>\n",
       "      <td>3.670000</td>\n",
       "      <td>3.00000</td>\n",
       "    </tr>\n",
       "    <tr>\n",
       "      <th>max</th>\n",
       "      <td>1.000000</td>\n",
       "      <td>800.000000</td>\n",
       "      <td>4.000000</td>\n",
       "      <td>4.00000</td>\n",
       "    </tr>\n",
       "  </tbody>\n",
       "</table>\n",
       "</div>"
      ],
      "text/plain": [
       "            admit         gre         gpa       rank\n",
       "count  400.000000  400.000000  400.000000  400.00000\n",
       "mean     0.317500  587.700000    3.389900    2.48500\n",
       "std      0.466087  115.516536    0.380567    0.94446\n",
       "min      0.000000  220.000000    2.260000    1.00000\n",
       "25%      0.000000  520.000000    3.130000    2.00000\n",
       "50%      0.000000  580.000000    3.395000    2.00000\n",
       "75%      1.000000  660.000000    3.670000    3.00000\n",
       "max      1.000000  800.000000    4.000000    4.00000"
      ]
     },
     "execution_count": 22,
     "metadata": {},
     "output_type": "execute_result"
    }
   ],
   "source": [
    "df.describe()"
   ]
  },
  {
   "cell_type": "markdown",
   "metadata": {
    "colab_type": "text",
    "deletable": false,
    "editable": false,
    "id": "MFQy-RN836gA",
    "nbgrader": {
     "cell_type": "markdown",
     "checksum": "0c64e84f90012875d54e080f992237b0",
     "grade": false,
     "grade_id": "cell-1ab06ebba4fd73f1",
     "locked": true,
     "schema_version": 3,
     "solution": false,
     "task": false
    }
   },
   "source": [
    "So we have data on 400 students: their GRE scores, GPA, class rank (split into categories 1, 2, 3, 4), and whether or not they were admitted (0 - rejected, 1 - accepted)."
   ]
  },
  {
   "cell_type": "markdown",
   "metadata": {
    "colab_type": "text",
    "deletable": false,
    "editable": false,
    "id": "P_VPMREY36gA",
    "nbgrader": {
     "cell_type": "markdown",
     "checksum": "7a33a1c247ce559df7f10076494fac02",
     "grade": false,
     "grade_id": "cell-fa532de99ed0e2bc",
     "locked": true,
     "schema_version": 3,
     "solution": false,
     "task": false
    }
   },
   "source": [
    "Now let's do some data pre-processing.  We will first convert the rank categorical variable into a one hot encoding using the [pandas.get_dummies](https://pandas.pydata.org/pandas-docs/stable/reference/api/pandas.get_dummies.html) function."
   ]
  },
  {
   "cell_type": "code",
   "execution_count": 23,
   "metadata": {
    "ExecuteTime": {
     "end_time": "2020-02-17T23:40:37.870494Z",
     "start_time": "2020-02-17T23:40:37.850000Z"
    },
    "colab": {},
    "colab_type": "code",
    "id": "izueouBz36gB"
   },
   "outputs": [
    {
     "data": {
      "text/html": [
       "<div>\n",
       "<style scoped>\n",
       "    .dataframe tbody tr th:only-of-type {\n",
       "        vertical-align: middle;\n",
       "    }\n",
       "\n",
       "    .dataframe tbody tr th {\n",
       "        vertical-align: top;\n",
       "    }\n",
       "\n",
       "    .dataframe thead th {\n",
       "        text-align: right;\n",
       "    }\n",
       "</style>\n",
       "<table border=\"1\" class=\"dataframe\">\n",
       "  <thead>\n",
       "    <tr style=\"text-align: right;\">\n",
       "      <th></th>\n",
       "      <th>rank_1</th>\n",
       "      <th>rank_2</th>\n",
       "      <th>rank_3</th>\n",
       "      <th>rank_4</th>\n",
       "    </tr>\n",
       "  </thead>\n",
       "  <tbody>\n",
       "    <tr>\n",
       "      <th>0</th>\n",
       "      <td>0</td>\n",
       "      <td>0</td>\n",
       "      <td>1</td>\n",
       "      <td>0</td>\n",
       "    </tr>\n",
       "    <tr>\n",
       "      <th>1</th>\n",
       "      <td>0</td>\n",
       "      <td>0</td>\n",
       "      <td>1</td>\n",
       "      <td>0</td>\n",
       "    </tr>\n",
       "    <tr>\n",
       "      <th>2</th>\n",
       "      <td>1</td>\n",
       "      <td>0</td>\n",
       "      <td>0</td>\n",
       "      <td>0</td>\n",
       "    </tr>\n",
       "    <tr>\n",
       "      <th>3</th>\n",
       "      <td>0</td>\n",
       "      <td>0</td>\n",
       "      <td>0</td>\n",
       "      <td>1</td>\n",
       "    </tr>\n",
       "    <tr>\n",
       "      <th>4</th>\n",
       "      <td>0</td>\n",
       "      <td>0</td>\n",
       "      <td>0</td>\n",
       "      <td>1</td>\n",
       "    </tr>\n",
       "  </tbody>\n",
       "</table>\n",
       "</div>"
      ],
      "text/plain": [
       "   rank_1  rank_2  rank_3  rank_4\n",
       "0       0       0       1       0\n",
       "1       0       0       1       0\n",
       "2       1       0       0       0\n",
       "3       0       0       0       1\n",
       "4       0       0       0       1"
      ]
     },
     "execution_count": 23,
     "metadata": {},
     "output_type": "execute_result"
    }
   ],
   "source": [
    "rank_one_hot = pd.get_dummies(df['rank'], prefix='rank')\n",
    "rank_one_hot.head()"
   ]
  },
  {
   "cell_type": "markdown",
   "metadata": {
    "colab_type": "text",
    "deletable": false,
    "editable": false,
    "id": "jIBPZxnW36gE",
    "nbgrader": {
     "cell_type": "markdown",
     "checksum": "9a2a0302d143eefa761290e89d81f72f",
     "grade": false,
     "grade_id": "cell-7add658e968d2489",
     "locked": true,
     "schema_version": 3,
     "solution": false,
     "task": false
    }
   },
   "source": [
    "We'll add the one hot encoded features to the data frame and drop the original rank feature column."
   ]
  },
  {
   "cell_type": "code",
   "execution_count": 24,
   "metadata": {
    "ExecuteTime": {
     "end_time": "2020-02-17T23:40:38.226933Z",
     "start_time": "2020-02-17T23:40:38.216127Z"
    },
    "colab": {},
    "colab_type": "code",
    "id": "sb_VKyhw36gF"
   },
   "outputs": [
    {
     "data": {
      "text/html": [
       "<div>\n",
       "<style scoped>\n",
       "    .dataframe tbody tr th:only-of-type {\n",
       "        vertical-align: middle;\n",
       "    }\n",
       "\n",
       "    .dataframe tbody tr th {\n",
       "        vertical-align: top;\n",
       "    }\n",
       "\n",
       "    .dataframe thead th {\n",
       "        text-align: right;\n",
       "    }\n",
       "</style>\n",
       "<table border=\"1\" class=\"dataframe\">\n",
       "  <thead>\n",
       "    <tr style=\"text-align: right;\">\n",
       "      <th></th>\n",
       "      <th>admit</th>\n",
       "      <th>gre</th>\n",
       "      <th>gpa</th>\n",
       "      <th>rank_1</th>\n",
       "      <th>rank_2</th>\n",
       "      <th>rank_3</th>\n",
       "      <th>rank_4</th>\n",
       "    </tr>\n",
       "  </thead>\n",
       "  <tbody>\n",
       "    <tr>\n",
       "      <th>0</th>\n",
       "      <td>0</td>\n",
       "      <td>380</td>\n",
       "      <td>3.61</td>\n",
       "      <td>0</td>\n",
       "      <td>0</td>\n",
       "      <td>1</td>\n",
       "      <td>0</td>\n",
       "    </tr>\n",
       "    <tr>\n",
       "      <th>1</th>\n",
       "      <td>1</td>\n",
       "      <td>660</td>\n",
       "      <td>3.67</td>\n",
       "      <td>0</td>\n",
       "      <td>0</td>\n",
       "      <td>1</td>\n",
       "      <td>0</td>\n",
       "    </tr>\n",
       "    <tr>\n",
       "      <th>2</th>\n",
       "      <td>1</td>\n",
       "      <td>800</td>\n",
       "      <td>4.00</td>\n",
       "      <td>1</td>\n",
       "      <td>0</td>\n",
       "      <td>0</td>\n",
       "      <td>0</td>\n",
       "    </tr>\n",
       "    <tr>\n",
       "      <th>3</th>\n",
       "      <td>1</td>\n",
       "      <td>640</td>\n",
       "      <td>3.19</td>\n",
       "      <td>0</td>\n",
       "      <td>0</td>\n",
       "      <td>0</td>\n",
       "      <td>1</td>\n",
       "    </tr>\n",
       "    <tr>\n",
       "      <th>4</th>\n",
       "      <td>0</td>\n",
       "      <td>520</td>\n",
       "      <td>2.93</td>\n",
       "      <td>0</td>\n",
       "      <td>0</td>\n",
       "      <td>0</td>\n",
       "      <td>1</td>\n",
       "    </tr>\n",
       "  </tbody>\n",
       "</table>\n",
       "</div>"
      ],
      "text/plain": [
       "   admit  gre   gpa  rank_1  rank_2  rank_3  rank_4\n",
       "0      0  380  3.61       0       0       1       0\n",
       "1      1  660  3.67       0       0       1       0\n",
       "2      1  800  4.00       1       0       0       0\n",
       "3      1  640  3.19       0       0       0       1\n",
       "4      0  520  2.93       0       0       0       1"
      ]
     },
     "execution_count": 24,
     "metadata": {},
     "output_type": "execute_result"
    }
   ],
   "source": [
    "df = pd.concat([df, rank_one_hot], axis = 1)\n",
    "df.drop(['rank'], axis = 1, inplace=True)\n",
    "df.head()"
   ]
  },
  {
   "cell_type": "markdown",
   "metadata": {
    "colab_type": "text",
    "deletable": false,
    "editable": false,
    "id": "Ex6JBBQT36gI",
    "nbgrader": {
     "cell_type": "markdown",
     "checksum": "39f988e4e0b178a5b9d98af5c5a4dae2",
     "grade": false,
     "grade_id": "cell-2e0901a029424e28",
     "locked": true,
     "schema_version": 3,
     "solution": false,
     "task": false
    }
   },
   "source": [
    "Now let's split the data into a training set and a testing set.  We can use scikit-learn's [train_test_split](https://scikit-learn.org/stable/modules/generated/sklearn.model_selection.train_test_split.html) function for this."
   ]
  },
  {
   "cell_type": "code",
   "execution_count": 25,
   "metadata": {
    "ExecuteTime": {
     "end_time": "2020-02-17T23:40:38.652941Z",
     "start_time": "2020-02-17T23:40:38.647993Z"
    },
    "colab": {},
    "colab_type": "code",
    "id": "A7XlBZ_Z36gI"
   },
   "outputs": [],
   "source": [
    "data = df.values # convert to numpy matrix\n",
    "X_train, X_test, y_train, y_test = train_test_split(data[:,1:], data[:,0], test_size=.20, random_state = 0)"
   ]
  },
  {
   "cell_type": "markdown",
   "metadata": {
    "colab_type": "text",
    "id": "wt1qpgua36gM"
   },
   "source": [
    "We will standardize the GRE and GPA features to be zero mean and unit variance.  The [preprocessing](https://scikit-learn.org/stable/modules/preprocessing.html) package from scikit-learn has useful functions to help us with this.  Notice that we scale the test data using the statistics from the *training* set."
   ]
  },
  {
   "cell_type": "code",
   "execution_count": 26,
   "metadata": {
    "ExecuteTime": {
     "end_time": "2020-02-17T23:40:39.025122Z",
     "start_time": "2020-02-17T23:40:39.020735Z"
    },
    "colab": {},
    "colab_type": "code",
    "id": "UQZ_U7Ja36gM"
   },
   "outputs": [],
   "source": [
    "scaler = preprocessing.StandardScaler().fit(X_train[:,0:2]) # useful for applying the same scaling to the test data\n",
    "X_train[:,0:2] = scaler.transform(X_train[:,0:2])\n",
    "X_test[:,0:2] = scaler.transform(X_test[:,0:2])"
   ]
  },
  {
   "cell_type": "markdown",
   "metadata": {
    "colab_type": "text",
    "deletable": false,
    "editable": false,
    "id": "E3q4zrGD36gQ",
    "nbgrader": {
     "cell_type": "markdown",
     "checksum": "c34a654e56bde801de47be0616d2bd43",
     "grade": false,
     "grade_id": "cell-c84aec0bb7264538",
     "locked": true,
     "schema_version": 3,
     "solution": false,
     "task": false
    }
   },
   "source": [
    "Now that our data is pre-processed, we will train a [logistic regression](https://scikit-learn.org/stable/modules/generated/sklearn.linear_model.LogisticRegression.html) model using scikit-learn and evaluate its performance on the test data."
   ]
  },
  {
   "cell_type": "code",
   "execution_count": 27,
   "metadata": {
    "ExecuteTime": {
     "end_time": "2020-02-17T23:54:48.949671Z",
     "start_time": "2020-02-17T23:54:48.935802Z"
    },
    "colab": {},
    "colab_type": "code",
    "id": "-UFoQcsE36hB"
   },
   "outputs": [
    {
     "data": {
      "text/plain": [
       "0.6875"
      ]
     },
     "execution_count": 27,
     "metadata": {},
     "output_type": "execute_result"
    }
   ],
   "source": [
    "lr_model = LogisticRegression(penalty = 'none', solver='lbfgs') # make an instance of the model\n",
    "lr_model.fit(X_train, y_train) # learn model weights\n",
    "predictions = lr_model.predict(X_test) # predictions on entire test dataset\n",
    "accuracy_score(y_test, predictions)"
   ]
  },
  {
   "cell_type": "code",
   "execution_count": 28,
   "metadata": {
    "ExecuteTime": {
     "end_time": "2020-02-06T07:40:13.393427Z",
     "start_time": "2020-02-06T07:40:13.384196Z"
    },
    "colab": {},
    "colab_type": "code",
    "deletable": false,
    "editable": false,
    "id": "hytcOtRt36g8",
    "nbgrader": {
     "cell_type": "code",
     "checksum": "b7dfecf3a357bc4080c34b8317044148",
     "grade": false,
     "grade_id": "cell-747c420315b7872a",
     "locked": true,
     "schema_version": 3,
     "solution": false,
     "task": false
    }
   },
   "outputs": [
    {
     "data": {
      "text/plain": [
       "(array([[ 0.20178059,  0.32587007,  0.81563491,  0.11295076, -0.61488503,\n",
       "         -0.9924196 ]]),\n",
       " array([-0.67871896]))"
      ]
     },
     "execution_count": 28,
     "metadata": {},
     "output_type": "execute_result"
    }
   ],
   "source": [
    "lr_model.coef_, lr_model.intercept_ # the learned weights "
   ]
  },
  {
   "cell_type": "markdown",
   "metadata": {
    "colab_type": "text",
    "deletable": false,
    "editable": false,
    "id": "NFGH9k8I36gR",
    "nbgrader": {
     "cell_type": "markdown",
     "checksum": "85f54f7a1f9e73c92c6c9e34a60d3b95",
     "grade": false,
     "grade_id": "cell-7744578cac529dba",
     "locked": true,
     "schema_version": 3,
     "solution": false,
     "task": false
    }
   },
   "source": [
    "Your goal below is to try to replicate these results, but using your own implementation of logistic regression from scratch.  Your model should not include a bias, so it should have 6 learned weights.  (Note that since some of the features are one-hot encoded variables, the bias term can be absorbed into the coefficients on the one-hot encoded inputs.)  In your work, you should include the following:\n",
    "- A derivation of the error gradients using a logistic loss function with L2 regularization\n",
    "- Complete the compute_lr_outputs, compute_logistic_loss, compute_total_loss, compute_lr_grad, and grad_checking_lr functions below.  Verify that your implementation passes gradient checking.\n",
    "- Experiment with different hyperparameter values for the learning rate, number of training iterations, L2 regularization weight, etc.  Find a setting that results in learned weights that agree with the weights that the scikit-learn model learned.  Explain any differences you see between your model's weights and the scikit-learn model's weights.\n",
    "- Include a plot of loss vs iteration for your selected hyperparameter settings, as well as estimated model weights and accuracy on the test data.\n",
    "\n",
    "Part of your grade will be on the readability of your writeup and code, so make sure to decompose and comment your code appropriately."
   ]
  },
  {
   "cell_type": "markdown",
   "metadata": {
    "colab_type": "text",
    "deletable": false,
    "id": "OFTPOAGv36gS",
    "nbgrader": {
     "cell_type": "markdown",
     "checksum": "516b8688271f3700656d5a49c092efd6",
     "grade": true,
     "grade_id": "cell-8be4aa6308bf4019",
     "locked": false,
     "points": 6,
     "schema_version": 3,
     "solution": true,
     "task": false
    }
   },
   "source": [
    "**Derivation of error gradient for logistic loss function with L2 regularization**\n",
    "\n",
    "#### What is the form of the logistic regression model?  Express the prediction $\\hat{y}_i$ in terms of model weights $w$ and input $x_i$.\n",
    "\n",
    "From class, the logitic model is given by:\n",
    "\n",
    "$\\hat{y} = σ(wX)$\n",
    "\n",
    "or for one input\n",
    "\n",
    "\n",
    "$\\hat{y}_i = σ(wx_i)$\n",
    "#### What is the logistic loss function with L2 regularization?  (mean logistic loss plus $\\lambda w^T w$ term)\n",
    "\n",
    "From class, the loss is given by:\n",
    "\n",
    "J_Regularization = $\\frac{1}{N} \\Sigma_{i=1}^n(-y_i log(\\hat{y}_i) - (1-y_i)log(1-\\hat{y}_i)) + \\lambda w^T w$\n",
    "\n",
    "If we make vectors Y and P of our targets $y_i$ and predictions $\\hat{y}_i$ respectively, this becomes:\n",
    "\n",
    "J = $\\frac{1}{N}(-Ylog(P) - (1-Y)log(1-P))+ \\lambda w^T w$  \n",
    "\n",
    "#### What is the gradient of the loss with respect to parameter $w_k$?\n",
    "\n",
    "\n",
    "I'll use a computational graph\n",
    "\n",
    "Splitting the loss with L2 into functions for the computational graph.\n",
    "\n",
    "Let:\n",
    "\n",
    "z = $wX$    \n",
    "p = $σ(z)$    \n",
    "l = $\\frac{1}{N}(-Ylog(P) - (1-Y)log(1-P))$   \n",
    "R = $w^T w$  \n",
    "J = $L+\\lambda R$\n",
    "\n",
    "\n",
    "Taking our derivatives along the computational graph:  \n",
    "First, find the derivative of z with respect to w:  \n",
    "$\\frac{dz}{dw} = X$  \n",
    "\n",
    "\n",
    "Second, find the derivative of p with respect to z:  \n",
    "$\\frac{dp}{dz} = (1-σ(z))σ(z)$  \n",
    "\n",
    "Third, take the derivative of l with respect to p:  \n",
    "$\\frac{dl}{dp} =\\frac{1}{N}( \\frac {-Y}{P} - \\frac {(1-Y)}{(1-P)})$  \n",
    "\n",
    "Fourth, take the derivative of the loss with respect to l:  \n",
    "$\\frac{dJ}{dl} = 1$  \n",
    "\n",
    "To account for regularizations, we also need to incorporate that term into our graph. First, find the derivative of our regularization term with respect to w:  \n",
    "$\\frac{dR}{dw} = 2w$\n",
    "\n",
    "Second, find the derivative of our loss function with respect to regularization term:  \n",
    "$\\frac{dJ}{dR} = \\lambda$\n",
    "\n",
    "\n",
    "Now we can find all of the derivatives of our weights. Following the chain rule:  \n",
    "$\\frac{dJ}{dw} = \\frac{dJ}{dl}\\frac{dl}{dp}\\frac{dp}{dz}\\frac{dz}{dw} + \\frac{dJ}{dR}\\frac{dR}{dw}$   \n",
    " \n",
    "Where all the derivatives are defined above. This creates a vector of gradients for the weights w. To find the gradient of a specific weight $w_k$, I can simply take that element of the vector!\n",
    "\n",
    "In compute_lr_grad, I use the computer to calculate the value of the gradients"
   ]
  },
  {
   "cell_type": "code",
   "execution_count": 29,
   "metadata": {
    "ExecuteTime": {
     "end_time": "2020-02-17T23:40:39.753864Z",
     "start_time": "2020-02-17T23:40:39.749467Z"
    },
    "colab": {},
    "colab_type": "code",
    "deletable": false,
    "id": "PGgBWXyv36gT",
    "nbgrader": {
     "cell_type": "code",
     "checksum": "b974c5eae7b0b3a77eb589e84f5c5369",
     "grade": true,
     "grade_id": "cell-9957c7bc3e6230ce",
     "locked": false,
     "points": 0,
     "schema_version": 3,
     "solution": true,
     "task": false
    }
   },
   "outputs": [],
   "source": [
    "def compute_lr_outputs(X, w):\n",
    "    '''\n",
    "    Inputs\n",
    "      X: numpy array containing the input data, size: numDataPts x numPredictors\n",
    "      w: numpy array containing the model weights, size: numPredictors\n",
    "      \n",
    "    Returns\n",
    "      y_hat: numpy array containing the model outputs (i.e. probabilities)\n",
    "    '''\n",
    "    # Return model outputs\n",
    "    y_hat = 1/(1+np.exp(-1*X.dot(w)))\n",
    "    return y_hat"
   ]
  },
  {
   "cell_type": "code",
   "execution_count": 30,
   "metadata": {
    "ExecuteTime": {
     "end_time": "2020-02-17T23:40:39.938411Z",
     "start_time": "2020-02-17T23:40:39.933189Z"
    },
    "colab": {},
    "colab_type": "code",
    "deletable": false,
    "editable": false,
    "id": "zYhCkAc936gV",
    "nbgrader": {
     "cell_type": "code",
     "checksum": "e158f149f36233710cf73395914b8eaf",
     "grade": true,
     "grade_id": "cell-4849ba10b3d3bcc2",
     "locked": true,
     "points": 2,
     "schema_version": 3,
     "solution": false,
     "task": false
    }
   },
   "outputs": [],
   "source": [
    "# test of correctess\n",
    "ans = compute_lr_outputs(np.array([[1,2],[3,4],[5,6]]),np.array([1/3,1/9]))\n",
    "assert(np.allclose(ans, np.array([0.63542356, 0.80914196, 0.91160032]), atol=0.05))"
   ]
  },
  {
   "cell_type": "code",
   "execution_count": 31,
   "metadata": {
    "ExecuteTime": {
     "end_time": "2020-02-17T23:40:40.130984Z",
     "start_time": "2020-02-17T23:40:40.127732Z"
    },
    "colab": {},
    "colab_type": "code",
    "deletable": false,
    "id": "NpYrK6Ol36gX",
    "nbgrader": {
     "cell_type": "code",
     "checksum": "e7f0396a4b0d29a3b034b1c7a3fca8a6",
     "grade": true,
     "grade_id": "cell-79ced2cb4f8226d8",
     "locked": false,
     "points": 0,
     "schema_version": 3,
     "solution": true,
     "task": false
    }
   },
   "outputs": [],
   "source": [
    "def compute_logistic_loss(y, y_hat):\n",
    "    '''\n",
    "    Inputs\n",
    "      y: numpy array containing ground truth labels\n",
    "      y_hat: numpy array containing predicted outputs\n",
    "      \n",
    "    Returns\n",
    "      J: average logistic loss across all predictions (scalar)\n",
    "    '''\n",
    "    # plug into the log loss function\n",
    "    N = y.size\n",
    "    J = (-y.dot(np.log(y_hat)) - (1-y).dot(np.log(1-y_hat)))/N\n",
    "    \n",
    "    return J"
   ]
  },
  {
   "cell_type": "code",
   "execution_count": 32,
   "metadata": {
    "ExecuteTime": {
     "end_time": "2020-02-17T23:40:40.325317Z",
     "start_time": "2020-02-17T23:40:40.320357Z"
    },
    "colab": {},
    "colab_type": "code",
    "deletable": false,
    "editable": false,
    "id": "eYINqkoS36ga",
    "nbgrader": {
     "cell_type": "code",
     "checksum": "f6a4e900bc57d3b05d873e9be9d42f68",
     "grade": true,
     "grade_id": "cell-d9e3a7cc9cd51ecd",
     "locked": true,
     "points": 2,
     "schema_version": 3,
     "solution": false,
     "task": false
    }
   },
   "outputs": [],
   "source": [
    "# test of correctness\n",
    "ans = compute_logistic_loss(np.array([0,1,1]),np.array([.6,.7,.8]))\n",
    "assert(np.allclose(ans, 0.49870307570903244, atol=.05))"
   ]
  },
  {
   "cell_type": "code",
   "execution_count": 33,
   "metadata": {
    "deletable": false,
    "nbgrader": {
     "cell_type": "code",
     "checksum": "66c42a0cb55a23a4481fedce0ab02d39",
     "grade": true,
     "grade_id": "cell-52eeee7eaf2ad819",
     "locked": false,
     "points": 0,
     "schema_version": 3,
     "solution": true,
     "task": false
    }
   },
   "outputs": [],
   "source": [
    "def compute_total_loss(y, y_hat, w, lambd):\n",
    "    '''\n",
    "    Computes logistic loss with L2 regularization.\n",
    "    \n",
    "    Inputs\n",
    "      y: numpy array containing ground truth labels\n",
    "      y_hat: numpy array containing predicted outputs \n",
    "      w: numpy array containing the model weights\n",
    "      lambd: L2 regularization penalty weight\n",
    "      \n",
    "    Returns\n",
    "      loss: return the value of the loss function (including the regularization penalty)\n",
    "    '''\n",
    "    # Use log loss with a regularization term\n",
    "    N = y.size\n",
    "    loss = (-y.dot(np.log(y_hat)) - (1-y).dot(np.log(1-y_hat)))/N + lambd * w.dot(w)\n",
    "    \n",
    "    return loss"
   ]
  },
  {
   "cell_type": "code",
   "execution_count": 34,
   "metadata": {
    "deletable": false,
    "editable": false,
    "nbgrader": {
     "cell_type": "code",
     "checksum": "31afd4648921fbe9a8994744cd4a183f",
     "grade": true,
     "grade_id": "cell-a9ce27f7500ad2c4",
     "locked": true,
     "points": 2,
     "schema_version": 3,
     "solution": false,
     "task": false
    }
   },
   "outputs": [],
   "source": [
    "# test of correctness\n",
    "ans = compute_total_loss(np.array([0,1,1]),np.array([.6,.7,.8]), np.array([1,2,3]), 1)\n",
    "assert(np.allclose(ans, 14.498703075709033, atol=.05))"
   ]
  },
  {
   "cell_type": "code",
   "execution_count": 35,
   "metadata": {
    "ExecuteTime": {
     "end_time": "2020-02-17T23:54:28.426787Z",
     "start_time": "2020-02-17T23:54:28.422189Z"
    },
    "colab": {},
    "colab_type": "code",
    "deletable": false,
    "id": "xM_TE0uf36gd",
    "nbgrader": {
     "cell_type": "code",
     "checksum": "c1aa964fdf37aad720f02df134b9cd75",
     "grade": true,
     "grade_id": "cell-e4031a42d5a7791f",
     "locked": false,
     "points": 0,
     "schema_version": 3,
     "solution": true,
     "task": false
    }
   },
   "outputs": [],
   "source": [
    "def compute_lr_grad(X, y, w, lambd = 0):\n",
    "    '''\n",
    "    Computes error gradient for logistic regression function.\n",
    "    \n",
    "    Inputs\n",
    "      X: numpy array containing the input data\n",
    "      y: numpy array containing the target values\n",
    "      w: numpy array containing all model weights\n",
    "      lambd: L2 regularization penalty weight\n",
    "      \n",
    "    Returns\n",
    "      grad: numpy array containing the gradient of loss with respect to all model weights\n",
    "    '''\n",
    "\n",
    "    N = y.size\n",
    "    #Plug in values to calculate z,p,J,R,Lreg as defined above\n",
    "    z = X.dot(w)\n",
    "    p = 1/(1+np.exp(-1*z))\n",
    "    l = 1/N*((-y.dot(np.log(p)) - (1-y).dot(np.log(1-p))))\n",
    "    R = w.dot(w)\n",
    "    J = l + lambd*R\n",
    "    #Find our partial derivatives\n",
    "    dJdR = lambd\n",
    "    dJdl = 1\n",
    "    dldy = 1/N*(-y *1/p +(1-y)*1/(1-p))\n",
    "    dydz = (1-p)*p\n",
    "    dzdw = X\n",
    "    dRdw = 2*w\n",
    "    #Chain rule for gradient\n",
    "    grad = ((dJdl * dldy * dydz).dot(dzdw) + dJdR*dRdw)\n",
    "    return grad"
   ]
  },
  {
   "cell_type": "code",
   "execution_count": 36,
   "metadata": {
    "ExecuteTime": {
     "end_time": "2020-02-17T23:54:29.091421Z",
     "start_time": "2020-02-17T23:54:29.086638Z"
    },
    "colab": {},
    "colab_type": "code",
    "deletable": false,
    "editable": false,
    "id": "ai29L9X536gi",
    "nbgrader": {
     "cell_type": "code",
     "checksum": "41cafa700607d6548843837cec2e1935",
     "grade": true,
     "grade_id": "cell-7339121f26dea58a",
     "locked": true,
     "points": 5,
     "schema_version": 3,
     "solution": false,
     "task": false
    }
   },
   "outputs": [],
   "source": [
    "# test of correctness\n",
    "ans = compute_lr_grad(np.array([[1,2],[3,4],[5,6]]),np.array([0,1,1]),np.array([1.2, -2.5]), 1)\n",
    "assert(np.allclose(np.array([-0.25750845, -8.3162873 ]), ans, atol=0.1))"
   ]
  },
  {
   "cell_type": "code",
   "execution_count": 37,
   "metadata": {
    "ExecuteTime": {
     "end_time": "2020-02-17T23:54:31.834840Z",
     "start_time": "2020-02-17T23:54:31.828682Z"
    },
    "colab": {},
    "colab_type": "code",
    "deletable": false,
    "id": "lKD9xqmj36gq",
    "nbgrader": {
     "cell_type": "code",
     "checksum": "860bfb2c008a4bd7e78c04e6d5116775",
     "grade": true,
     "grade_id": "cell-90f6525b16cac750",
     "locked": false,
     "points": 0,
     "schema_version": 3,
     "solution": true,
     "task": false
    }
   },
   "outputs": [],
   "source": [
    "def grad_checking_lr(x, y, w, lambd = 0, eps = 1e-7):\n",
    "    '''\n",
    "    Performs gradient checking on a single (x,y) data point\n",
    "    \n",
    "    Inputs\n",
    "      x: numpy array containing the predictors for a single data point\n",
    "      y: scalar output\n",
    "      w: numpy array containing the model weights\n",
    "      lambd: L2 regularization penalty weight\n",
    "      eps: tolerance for gradient checking\n",
    "      \n",
    "    Returns\n",
    "      isCorrect: boolean indicating whether gradient checking passes or fails\n",
    "    '''\n",
    "    x = x.reshape((1,-1))\n",
    "    y = np.array([y])\n",
    "    grad = compute_lr_grad(x, y, w, lambd)\n",
    "    grad_approx = np.zeros_like(grad)\n",
    "    for i in range(len(grad)):\n",
    "        delta = np.zeros_like(grad)\n",
    "        delta[i] = eps\n",
    "         #Move the weights slightly and find the value\n",
    "        yPlus = compute_total_loss(y,compute_lr_outputs(x, w + delta),w+delta,lambd)\n",
    "        yMinus = compute_total_loss(y,compute_lr_outputs(x, w - delta),w-delta,lambd)\n",
    "        #Calcualate approximate gradient\n",
    "        grad_approx[i] = (yPlus - yMinus)/(2*eps)\n",
    "    num = np.linalg.norm(grad - grad_approx)\n",
    "    denom = np.linalg.norm(grad) + np.linalg.norm(grad_approx)\n",
    "    diff = num / denom\n",
    "    if diff < eps:\n",
    "        print('Passes gradient checking')\n",
    "        return True\n",
    "    else:\n",
    "        print('Fails gradient checking')\n",
    "        return False"
   ]
  },
  {
   "cell_type": "markdown",
   "metadata": {
    "colab_type": "text",
    "deletable": false,
    "editable": false,
    "id": "dEylj0RN36gs",
    "nbgrader": {
     "cell_type": "markdown",
     "checksum": "4c98dc62348551422e284dd827278b13",
     "grade": false,
     "grade_id": "cell-e8981324c48945aa",
     "locked": true,
     "schema_version": 3,
     "solution": false,
     "task": false
    }
   },
   "source": [
    "Check that your implementation passes gradient checking:"
   ]
  },
  {
   "cell_type": "code",
   "execution_count": 38,
   "metadata": {
    "ExecuteTime": {
     "end_time": "2020-02-17T23:54:32.706020Z",
     "start_time": "2020-02-17T23:54:32.700319Z"
    },
    "colab": {},
    "colab_type": "code",
    "deletable": false,
    "editable": false,
    "id": "PEax1PE736gt",
    "nbgrader": {
     "cell_type": "code",
     "checksum": "1670d563eb8aed15a625c20fc0d28ff6",
     "grade": true,
     "grade_id": "cell-562ddb48114ef7ad",
     "locked": true,
     "points": 2,
     "schema_version": 3,
     "solution": false,
     "task": false
    }
   },
   "outputs": [
    {
     "name": "stdout",
     "output_type": "stream",
     "text": [
      "Passes gradient checking\n"
     ]
    }
   ],
   "source": [
    "params = np.array([1.2, -2.5, .2, -.7, .8, -2.1]) \n",
    "assert(grad_checking_lr(X_train[0], y_train[0], params, lambd = 0))"
   ]
  },
  {
   "cell_type": "code",
   "execution_count": 39,
   "metadata": {
    "deletable": false,
    "editable": false,
    "nbgrader": {
     "cell_type": "code",
     "checksum": "2ba775aa8b8432f3b09165cd8feb8b9b",
     "grade": true,
     "grade_id": "cell-9ba7744a862956dd",
     "locked": true,
     "points": 3,
     "schema_version": 3,
     "solution": false,
     "task": false
    }
   },
   "outputs": [
    {
     "name": "stdout",
     "output_type": "stream",
     "text": [
      "Passes gradient checking\n"
     ]
    }
   ],
   "source": [
    "params = np.array([1.2, -2.5, .2, -.7, .8, -2.1]) \n",
    "assert(grad_checking_lr(X_train[0], y_train[0], params, lambd = 1))"
   ]
  },
  {
   "cell_type": "code",
   "execution_count": 40,
   "metadata": {
    "ExecuteTime": {
     "end_time": "2020-02-17T23:54:35.335108Z",
     "start_time": "2020-02-17T23:54:35.329933Z"
    },
    "colab": {},
    "colab_type": "code",
    "deletable": false,
    "id": "G6X4qGLv36gv",
    "nbgrader": {
     "cell_type": "code",
     "checksum": "136afb0bf3e6a0fcaffac4d6aaf63b37",
     "grade": true,
     "grade_id": "cell-eca9be9e29f33bf5",
     "locked": false,
     "points": 2,
     "schema_version": 3,
     "solution": true,
     "task": false
    }
   },
   "outputs": [],
   "source": [
    "def fit_lr_model(X, y, lr, iters, lambd = 0, seed = 0):\n",
    "    '''\n",
    "    Fit logistic regression model to data.\n",
    "    \n",
    "    Inputs:\n",
    "        X - numpy array of inputs, size: numDataPoints x numPredictors\n",
    "        y - numpy array of targets\n",
    "        lr - learning rate\n",
    "        iters - number of iterations to train\n",
    "        lambd - regularization penalty weight\n",
    "        seed - for random number generation\n",
    "    \n",
    "    Returns:\n",
    "        params - estimated model weights\n",
    "        loss_traj - history of loss value at each iteration\n",
    "    '''\n",
    "    np.random.seed(seed)\n",
    "    params = np.random.normal(0, 1, X.shape[1]) \n",
    "    loss_traj = []\n",
    "    \n",
    "    for n in range(iters):\n",
    "        #Calculate z and p in order to get loss\n",
    "        N = x.size\n",
    "        z = X.dot(params)\n",
    "        p = 1/(1+np.exp(-1*z))\n",
    "        loss = compute_total_loss(y,p,params,lambd)\n",
    "        loss_traj.append(loss)\n",
    "        #Use function from above for the gradient and step weights\n",
    "        grad = compute_lr_grad(X,y,params,lambd)\n",
    "        params = params - lr * grad\n",
    "        \n",
    "    loss_traj = np.array(loss_traj)\n",
    "    return params, loss_traj"
   ]
  },
  {
   "cell_type": "markdown",
   "metadata": {
    "deletable": false,
    "editable": false,
    "nbgrader": {
     "cell_type": "markdown",
     "checksum": "899f38a23e967be2bda4cf14f9d5d8dd",
     "grade": false,
     "grade_id": "cell-49efbf2c1318de06",
     "locked": true,
     "schema_version": 3,
     "solution": false,
     "task": false
    }
   },
   "source": [
    "Here is a helper function for visualizing a model's performance."
   ]
  },
  {
   "cell_type": "code",
   "execution_count": 41,
   "metadata": {
    "ExecuteTime": {
     "end_time": "2020-02-17T23:54:36.012339Z",
     "start_time": "2020-02-17T23:54:36.005869Z"
    },
    "colab": {},
    "colab_type": "code",
    "id": "51vWBc3l36gy"
   },
   "outputs": [],
   "source": [
    "def display_losses_and_accuracy(losses, w, X_test, y_test):\n",
    "    '''\n",
    "    Plots training loss vs iteration and shows model parameters & test accuracy.\n",
    "    \n",
    "    Inputs:\n",
    "        losses - history of training loss at each epoch\n",
    "        w - model parameters\n",
    "        X_test - test inputs\n",
    "        y_test - test target values\n",
    "    '''\n",
    "    plt.plot(losses, 'b.')\n",
    "    plt.title('MSE vs Iteration')\n",
    "    plt.show()\n",
    "    predictions = np.round(compute_lr_outputs(X_test, w))\n",
    "    accuracy = accuracy_score(y_test, predictions)\n",
    "    np.set_printoptions(precision=3)\n",
    "    print(\"Estimated Model Parameters: \", w)\n",
    "    print(\"Test Accuracy: \", accuracy)"
   ]
  },
  {
   "cell_type": "code",
   "execution_count": 42,
   "metadata": {
    "ExecuteTime": {
     "end_time": "2020-02-17T23:54:36.656823Z",
     "start_time": "2020-02-17T23:54:36.638941Z"
    },
    "colab": {},
    "colab_type": "code",
    "deletable": false,
    "id": "E-F1NYyD36g0",
    "nbgrader": {
     "cell_type": "code",
     "checksum": "434ca17cd2570220f199aae075670211",
     "grade": true,
     "grade_id": "cell-b15b5ee083811cb6",
     "locked": false,
     "points": 1,
     "schema_version": 3,
     "solution": true,
     "task": false
    }
   },
   "outputs": [
    {
     "data": {
      "image/png": "[encoded data removed]",
      "text/plain": [
       "<Figure size 432x288 with 1 Axes>"
      ]
     },
     "metadata": {
      "needs_background": "light"
     },
     "output_type": "display_data"
    },
    {
     "name": "stdout",
     "output_type": "stream",
     "text": [
      "Estimated Model Parameters:  [ 0.202  0.326  0.137 -0.566 -1.293 -1.67 ]\n",
      "Test Accuracy:  0.6875\n",
      "\n",
      "Sckit model produced these weights: \n",
      "[[ 0.202  0.326  0.816  0.113 -0.615 -0.992]]\n",
      "and this bias:\n",
      "[-0.679]\n",
      "\n",
      "\n",
      "\n",
      "If you add the bias to the last four weights of the Sckit model:\n",
      "[[ 0.202  0.326  0.137 -0.566 -1.294 -1.671]]\n",
      "Ill explain why this matches my weights in the final section\n"
     ]
    }
   ],
   "source": [
    "# Plot loss trajectory & evaluate test accuracy for lambda value #1\n",
    "w, losses = fit_lr_model(X_train,y_train,0.1, 5000, 0.00001)\n",
    "display_losses_and_accuracy(losses, w, X_test, y_test)\n",
    "print('\\nSckit model produced these weights: ')\n",
    "print(lr_model.coef_)\n",
    "print('and this bias:')\n",
    "print(lr_model.intercept_)\n",
    "print('\\n\\n\\nIf you add the bias to the last four weights of the Sckit model:')\n",
    "new_lr = lr_model.coef_ + np.array([0,0,1,1,1,1])*lr_model.intercept_\n",
    "print(new_lr)\n",
    "print('Ill explain why this matches my weights in the final section')"
   ]
  },
  {
   "cell_type": "markdown",
   "metadata": {
    "colab_type": "text",
    "deletable": false,
    "id": "8DIm2pwZ36g8",
    "nbgrader": {
     "cell_type": "markdown",
     "checksum": "2264668dfb6e352ca32d08da530885a6",
     "grade": true,
     "grade_id": "cell-1ceb887041b9193f",
     "locked": false,
     "points": 3,
     "schema_version": 3,
     "solution": true,
     "task": false
    }
   },
   "source": [
    "**Discuss your observations here** \n",
    "\n",
    "Explain any differences you see between your model's weights and the scikit-learn model's weights.\n",
    "\n",
    "#### Similarities\n",
    "Generally, the weights appear to be doing the same thing. The first three weights are positive(as expected), since having a high GPA, gre, and class rank should correlate positively with admissions chances. The 3rd-6th weights also trend negatively in both models(by this I mean the 6th is smaller than the 5th, which is smaller than the 4th, etc..). This is the case since it is less beneficial to be towards the back of your class. Also, the test accuracy is reported to be the same as the Sckit model.\n",
    "\n",
    "\n",
    "#### Differences that actually aren't differences\n",
    "The only significant difference is the weights for class ranks. However, even this difference goes away when you consider the bias term that Sckit uses. Since the ranks are one hot encoded, only one can be present at a time, and the value is always one. So, the bias can effectively be incorporated into the weights for the class ranks:\n",
    "\n",
    "In the Sckit approach, there is a weight for the nonzero rank and there is a bias b. So the prediction is:\n",
    "\n",
    "$p =  σ(w_0*gre +w_1*gpa + w_r*1 + b)$\n",
    "where w_r is the weight that gets multiplied by the nonzero, one hot encoded rank\n",
    "\n",
    "Mathematically, this is the exact same result as my model, except the bias is incorporated into w_r:\n",
    "$p =  σ(w_0*gre +w_1*gpa + (w_r+b)*1)$\n",
    "\n",
    "So, even though the model weights look differently initially, they are the same once the bias from Sckit is incorporated into the categorical rank varaible. Once this adjustment is made, the models have the same weights."
   ]
  },
  {
   "cell_type": "code",
   "execution_count": 43,
   "metadata": {
    "deletable": false,
    "editable": false,
    "nbgrader": {
     "cell_type": "code",
     "checksum": "5a1fc46e7b627bad2594e9310da04ec1",
     "grade": true,
     "grade_id": "cell-d65bc7220cf52d28",
     "locked": true,
     "points": 0,
     "schema_version": 3,
     "solution": false,
     "task": false
    }
   },
   "outputs": [],
   "source": [
    "# intentionally empty"
   ]
  },
  {
   "cell_type": "code",
   "execution_count": 44,
   "metadata": {
    "deletable": false,
    "editable": false,
    "nbgrader": {
     "cell_type": "code",
     "checksum": "e4ce9b58974eeb7bfaa4d1cd7715765b",
     "grade": true,
     "grade_id": "cell-b661d8bc81af1aaf",
     "locked": true,
     "points": 0,
     "schema_version": 3,
     "solution": false,
     "task": false
    }
   },
   "outputs": [],
   "source": [
    "# intentionally empty"
   ]
  }
 ],
 "metadata": {
  "colab": {
   "name": "eng208-hw3-final.ipynb",
   "provenance": []
  },
  "kernelspec": {
   "display_name": "Python 3",
   "language": "python",
   "name": "python3"
  },
  "language_info": {
   "codemirror_mode": {
    "name": "ipython",
    "version": 3
   },
   "file_extension": ".py",
   "mimetype": "text/x-python",
   "name": "python",
   "nbconvert_exporter": "python",
   "pygments_lexer": "ipython3",
   "version": "3.8.5"
  },
  "toc": {
   "base_numbering": 1,
   "nav_menu": {},
   "number_sections": true,
   "sideBar": true,
   "skip_h1_title": false,
   "title_cell": "Table of Contents",
   "title_sidebar": "Contents",
   "toc_cell": false,
   "toc_position": {},
   "toc_section_display": true,
   "toc_window_display": false
  }
 },
 "nbformat": 4,
 "nbformat_minor": 1
}
