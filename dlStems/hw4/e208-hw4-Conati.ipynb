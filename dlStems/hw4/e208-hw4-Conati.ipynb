{
 "cells": [
  {
   "cell_type": "markdown",
   "metadata": {
    "deletable": false,
    "editable": false,
    "nbgrader": {
     "grade": false,
     "grade_id": "cell-8a165ac093a29dee",
     "locked": true,
     "schema_version": 1,
     "solution": false
    }
   },
   "source": [
    "# HW 4: Implementing a Neural Network\n",
    "\n",
    "In this homework assignment, you will implement a neural network from scratch using [`numpy`](https://numpy.org/).\n",
    "\n",
    "There are three parts to this assignment:\n",
    "- In part 1, you will implement a neural network that processes a single training sample at a time.  \n",
    "- In part 2, you will vectorize your implementation to process all training samples in parallel.\n",
    "- In part 3, you will use your neural network implementation to train an autoencoder."
   ]
  },
  {
   "cell_type": "markdown",
   "metadata": {
    "deletable": false,
    "editable": false,
    "nbgrader": {
     "grade": false,
     "grade_id": "cell-d215173ace0eb924",
     "locked": true,
     "schema_version": 3,
     "solution": false,
     "task": false
    }
   },
   "source": [
    "A few important notes:\n",
    "* For autograding purposes, many cells are set in *read-only* mode.  This means you cannot edit, delete, or move these cells. \n",
    "\n",
    "* For parts 1 and 2, you should not modify any code except where you see `# YOUR CODE HERE`.  Please remove `raise NotImplementedError()` and write your code in its place.\n",
    "\n",
    "* We provide code cells that check your code as you progress through the assignment. These tests will help catch obvious errors, but passing these tests is not a guarantee that your implementation is correct. Your notebook will be graded on a more complete set of tests which are not visible to you.\n",
    "\n",
    "* You may add new cells anywhere in the notebook while working, but make sure to delete them before submitting your assignment.  Please do not change the sequence of the cells.  This is to ensure that autograding works properly.\n",
    "\n",
    "* If you run cells out of order, it may change variable values which may cause tests to fail.  The easiest way to avoid this problem is to use the ***Restart & Run all*** option available in the **Kernel** tab.  Before submitting, you should do this to ensure that your notebook can be run from beginning to end without errors.  This is how your notebook will be graded."
   ]
  },
  {
   "cell_type": "markdown",
   "metadata": {
    "deletable": false,
    "editable": false,
    "nbgrader": {
     "grade": false,
     "grade_id": "cell-d269cca8e2af3e60",
     "locked": true,
     "schema_version": 1,
     "solution": false
    }
   },
   "source": [
    "## Part 1\n",
    "\n",
    "In this part you will implement a simple neural network with one hidden layer.  This implementation will process one data point at a time.  You will have to implement functions to do the following:\n",
    "\n",
    "* initialize network weights\n",
    "* calculate sigmoid function\n",
    "* calculate softmax function\n",
    "* forward propagation\n",
    "* calculate cross-entropy loss\n",
    "* backward propagation\n",
    "* update network weights\n",
    "* train the network on a set of data points\n",
    "* use the trained network to make a prediction"
   ]
  },
  {
   "cell_type": "markdown",
   "metadata": {
    "deletable": false,
    "editable": false,
    "nbgrader": {
     "grade": false,
     "grade_id": "cell-aa90e76427fb3726",
     "locked": true,
     "schema_version": 3,
     "solution": false,
     "task": false
    }
   },
   "source": [
    "Let's first define our notation:\n",
    "\n",
    "* The input $x$ and output $y$ are vectors of shape $(1, n_0)$ and $(1, n_2)$ respectively. \n",
    "\n",
    "* The number of nodes in the input, hidden, and output layers are $n_0$, $n_1$, and $n_2$ respectively.\n",
    "\n",
    "* The weights connecting the input and hidden layer are given by the matrix $W_1$ of shape $(n_0, n_1)$.\n",
    "\n",
    "* The weights connecting the hidden and output layer are given by the matrix $W_2$ of shape $(n_1, n_2)$.\n",
    "\n",
    "* The bias terms feeding into the hidden layer are given by the vector $b_1$ of shape $(1, n_1)$.\n",
    "\n",
    "* The bias terms feeding into the output layer are given by the vector $b_2$ of shape $(1, n_2)$.\n",
    "\n",
    "* The sigmoid activations for the hidden layer are given by the vector $a_1$ of shape $(1, n_1)$.\n",
    "\n",
    "* The softmax outputs at the output layer are given by the vector $a_2$ of shape $(1, n_2)$.\n",
    "\n",
    "Make sure to double check your dimensions when debugging.  Caution: An array of shape (1, n) is *not* the same as an array of shape (n, )."
   ]
  },
  {
   "cell_type": "markdown",
   "metadata": {
    "deletable": false,
    "editable": false,
    "nbgrader": {
     "grade": false,
     "grade_id": "cell-319c10bb5a5c256b",
     "locked": true,
     "schema_version": 3,
     "solution": false,
     "task": false
    }
   },
   "source": [
    "Let's define our layer sizes:"
   ]
  },
  {
   "cell_type": "code",
   "execution_count": 1,
   "metadata": {
    "deletable": false,
    "editable": false,
    "nbgrader": {
     "grade": false,
     "grade_id": "cell-16443fd8b77928f3",
     "locked": true,
     "schema_version": 1,
     "solution": false
    }
   },
   "outputs": [],
   "source": [
    "n0 = 4 # size of input layer\n",
    "n1 = 7 # size of hidden layer\n",
    "n2 = 3 # size of output layer"
   ]
  },
  {
   "cell_type": "code",
   "execution_count": 2,
   "metadata": {
    "deletable": false,
    "editable": false,
    "nbgrader": {
     "grade": false,
     "grade_id": "cell-3398bc2c1228257c",
     "locked": true,
     "schema_version": 1,
     "solution": false
    }
   },
   "outputs": [],
   "source": [
    "import numpy as np\n",
    "import time"
   ]
  },
  {
   "cell_type": "markdown",
   "metadata": {
    "deletable": false,
    "editable": false,
    "nbgrader": {
     "grade": false,
     "grade_id": "cell-8b9e781573ae18c1",
     "locked": true,
     "schema_version": 1,
     "solution": false
    }
   },
   "source": [
    "#### Initialize weight matrices\n",
    "\n",
    "Initialize the weight matrices $W_1$ and $W_2$ with small random values.  You can use [`np.random.randn()`](https://docs.scipy.org/doc/numpy/reference/generated/numpy.random.randn.html) and multiply the matrices by $0.01$."
   ]
  },
  {
   "cell_type": "code",
   "execution_count": 3,
   "metadata": {
    "deletable": false,
    "nbgrader": {
     "grade": false,
     "grade_id": "weights",
     "locked": false,
     "schema_version": 1,
     "solution": true
    }
   },
   "outputs": [],
   "source": [
    "def initialize_weights(n0, n1, n2):\n",
    "    '''\n",
    "    Returns a tuple (W1, W2) containing the initialized weight matrices.\n",
    "    '''\n",
    "    np.random.seed(0)\n",
    "    \n",
    "    # Make weights\n",
    "    W1 = np.random.randn(n0,n1) * 0.01\n",
    "    W2 = np.random.randn(n1,n2) * 0.01\n",
    "    return (W1, W2)\n"
   ]
  },
  {
   "cell_type": "code",
   "execution_count": 4,
   "metadata": {
    "deletable": false,
    "editable": false,
    "nbgrader": {
     "grade": false,
     "grade_id": "cell-83f22147650c23d9",
     "locked": true,
     "schema_version": 1,
     "solution": false
    }
   },
   "outputs": [],
   "source": [
    "W1, W2 = initialize_weights(n0, n1, n2)"
   ]
  },
  {
   "cell_type": "code",
   "execution_count": 5,
   "metadata": {
    "deletable": false,
    "editable": false,
    "nbgrader": {
     "grade": true,
     "grade_id": "weights_test",
     "locked": true,
     "points": 1,
     "schema_version": 1,
     "solution": false
    }
   },
   "outputs": [],
   "source": [
    "assert isinstance(W1, np.ndarray), \"W1 should be a numpy array.\"\n",
    "assert isinstance(W2, np.ndarray), \"W2 should be a numpy array.\"\n",
    "\n",
    "assert W1.shape[0] == n0, \"The number of rows in W1 is incorrect.\"\n",
    "assert W1.shape[1] == n1, \"The number of columns in W1 is incorrect.\"\n",
    "\n",
    "assert W2.shape[0] == n1, \"The number of rows in W2 is incorrect.\"\n",
    "assert W2.shape[1] == n2, \"The number of columns in W2 is incorrect.\"\n",
    "\n",
    "assert np.sum(np.abs(W1)) != 0, \"All the elements in W1 should not be zero.\"\n",
    "assert np.sum(np.abs(W2)) != 0, \"All the elements in W2 should not be zero.\"\n",
    "\n",
    "assert np.round(W1[0,0], decimals=8) == 0.01764052, \"Your matrices are not normalized correctly.\""
   ]
  },
  {
   "cell_type": "markdown",
   "metadata": {
    "deletable": false,
    "editable": false,
    "nbgrader": {
     "grade": false,
     "grade_id": "cell-da0bc716eed96fc2",
     "locked": true,
     "schema_version": 1,
     "solution": false
    }
   },
   "source": [
    "#### Initialize bias terms\n",
    "\n",
    "Initialize the bias terms $b_1$ and $b_2$ with zeros.  You can use [`np.zeros()`](https://docs.scipy.org/doc/numpy/reference/generated/numpy.zeros.html)."
   ]
  },
  {
   "cell_type": "code",
   "execution_count": 6,
   "metadata": {
    "deletable": false,
    "nbgrader": {
     "grade": false,
     "grade_id": "cell-efc325bb7130d00b",
     "locked": false,
     "schema_version": 1,
     "solution": true
    }
   },
   "outputs": [],
   "source": [
    "def initialize_bias(n0, n1, n2):\n",
    "    '''\n",
    "    Returns a tuple of vectors (b1, b2) with the initialized bias terms.\n",
    "    '''\n",
    "    \n",
    "    #Make bias terms\n",
    "    b1 = np.zeros((1,n1))\n",
    "    b2 = np.zeros((1,n2))\n",
    "    \n",
    "    return (b1, b2)"
   ]
  },
  {
   "cell_type": "code",
   "execution_count": 7,
   "metadata": {
    "deletable": false,
    "editable": false,
    "nbgrader": {
     "grade": false,
     "grade_id": "cell-c0ba658379bd6651",
     "locked": true,
     "schema_version": 1,
     "solution": false
    }
   },
   "outputs": [],
   "source": [
    "b1, b2 = initialize_bias(n0, n1, n2)"
   ]
  },
  {
   "cell_type": "code",
   "execution_count": 8,
   "metadata": {
    "deletable": false,
    "editable": false,
    "nbgrader": {
     "grade": true,
     "grade_id": "cell-713f6dea75488458",
     "locked": true,
     "points": 1,
     "schema_version": 1,
     "solution": false
    }
   },
   "outputs": [],
   "source": [
    "assert isinstance(b1, np.ndarray), \"b1 should be a numpy array.\"\n",
    "assert isinstance(b2, np.ndarray), \"b2 should be a numpy array.\"\n",
    "\n",
    "assert b1.shape[0] == 1, \"The number of rows in b1 is incorrect.\"\n",
    "assert b1.shape[1] == n1, \"The number of columns in b1 is incorrect.\"\n",
    "\n",
    "assert b2.shape[0] == 1, \"The number of rows in b2 is incorrect.\"\n",
    "assert b2.shape[1] == n2, \"The number of columns in b2 is incorrect.\"\n",
    "\n",
    "assert np.all(b1 == 0), \"The values in b1 should be all zeros, but they are not.\"\n",
    "assert np.all(b2 == 0), \"The values in b2 should be all zeros, but they are not.\""
   ]
  },
  {
   "cell_type": "markdown",
   "metadata": {
    "deletable": false,
    "editable": false,
    "nbgrader": {
     "grade": false,
     "grade_id": "cell-cb9f5e5331dc3cac",
     "locked": true,
     "schema_version": 1,
     "solution": false
    }
   },
   "source": [
    "#### Sigmoid activation function\n",
    "\n",
    "$$sig(z) = \\frac{1}{1+e^{-z}}$$\n",
    "\n",
    "Define the sigmoid activation function.  If the input is a numpy array, the function should apply the sigmoid activation function to each element."
   ]
  },
  {
   "cell_type": "code",
   "execution_count": 9,
   "metadata": {
    "deletable": false,
    "nbgrader": {
     "grade": false,
     "grade_id": "sigmoid",
     "locked": false,
     "schema_version": 1,
     "solution": true
    }
   },
   "outputs": [],
   "source": [
    "def sigmoid(z):\n",
    "    '''\n",
    "    Returns the sigmoid function value for each element in z.\n",
    "    '''\n",
    "    \n",
    "    #Implement the sigmoid with np\n",
    "    s = 1/(1+np.exp(-1*z))\n",
    "    \n",
    "    return s"
   ]
  },
  {
   "cell_type": "code",
   "execution_count": 10,
   "metadata": {
    "deletable": false,
    "editable": false,
    "nbgrader": {
     "grade": true,
     "grade_id": "sigmoid_test",
     "locked": true,
     "points": 2,
     "schema_version": 1,
     "solution": false
    }
   },
   "outputs": [],
   "source": [
    "assert sigmoid(0) == 0.5, \"Returns incorrect value for z = 0.\"\n",
    "assert sigmoid(np.Inf) == 1, \"Returns incorrect value for z = infinity.\"\n",
    "assert sigmoid(np.NINF) == 0, \"Returns incorrect value for z = -infinity.\"\n",
    "assert np.isnan(sigmoid(np.nan)), \"Returns incorrect value when z is nan.\"\n",
    "\n",
    "assert np.allclose(np.round(sigmoid(np.array([1, 2, 3])), decimals=8), np.array([0.73105858, 0.88079708, 0.95257413])), \"Returns incorrect values for 1D input.\"\n",
    "assert np.allclose(np.round(sigmoid(np.array([[-1, 6], [-3, np.Inf], [4, np.NINF]])), decimals=8),  np.array([[0.26894142, 0.99752738], [0.04742587, 1], [0.98201379, 0]])), \"Returns incorrect values for 2D input.\""
   ]
  },
  {
   "cell_type": "markdown",
   "metadata": {},
   "source": [
    "##### Softmax function\n",
    "\n",
    "$$ softmax([z_1, \\dots, z_k]) = \\left[\\frac{e^{z_1}}{e^{z_1}+ \\dots + e^{z_k}}, \\dots, \\frac{e^{z_k}}{e^{z_1}+ \\dots + e^{z_k}}\\right]$$\n",
    "\n",
    "The softmax function takes an input vector of length $k$ and returns a valid probability distribution.  In other words, it converts a set of $k$ numerical scores into a set of $k$ probabilities.  This is useful for multi-class classification, where we want to know the probability that the input is from a certain class.  Note that adding a constant scalar to all terms does not change the output:\n",
    "\n",
    "$$ softmax([z_1, z_2, \\dots, z_k]) = softmax([z_1 + c, z_2 + c, \\dots, z_k + c])$$\n",
    "\n",
    "In practice, it is useful to first subtract $c = max\\{z_1, z_2, \\dots, z_k\\}$ from the input terms in order to avoid numerical overflow or underflow.\n",
    "\n",
    "Define the softmax function.  Since we will use this function in both part 1 and part 2, we will implement a vectorized version.  Your implementation should use vectorized operations and broadcasting, so it should not have any for loops.  You may need to use [`np.max()`](https://docs.scipy.org/doc/numpy/reference/generated/numpy.ndarray.max.html), [`np.exp()`](https://docs.scipy.org/doc/numpy/reference/generated/numpy.exp.html), and [`np.sum()`](https://docs.scipy.org/doc/numpy/reference/generated/numpy.sum.html)."
   ]
  },
  {
   "cell_type": "code",
   "execution_count": 11,
   "metadata": {
    "deletable": false,
    "nbgrader": {
     "grade": false,
     "grade_id": "cell-998f7478d5a5400a",
     "locked": false,
     "schema_version": 3,
     "solution": true,
     "task": false
    }
   },
   "outputs": [],
   "source": [
    "def softmax(Z):\n",
    "    '''\n",
    "    Applies the softmax function to each row of a matrix Z.\n",
    "    This implementation should be vectorized, so it should not contain any for loops.\n",
    "    '''\n",
    "    assert isinstance(Z, np.ndarray) and Z.ndim == 2, \"Input should be a 2D numpy array.\"\n",
    "    \n",
    "    #Calculate exponentials(with the offset to avoid overflow)\n",
    "    expZ = np.exp(Z-np.max(Z))\n",
    "    #Divide each by the sum of the rest\n",
    "    Z = np.divide(expZ, np.reshape(np.sum(expZ, axis = 1), (Z.shape[0],1)))\n",
    "    return Z"
   ]
  },
  {
   "cell_type": "code",
   "execution_count": 12,
   "metadata": {
    "deletable": false,
    "editable": false,
    "nbgrader": {
     "grade": true,
     "grade_id": "cell-0c4593a4b7f9af0a",
     "locked": true,
     "points": 3,
     "schema_version": 3,
     "solution": false,
     "task": false
    }
   },
   "outputs": [],
   "source": [
    "assert np.allclose(np.round(softmax(np.array([[0, 0, 0, 0]])), decimals=8), np.array([[0.25, 0.25, 0.25, 0.25]])), \"Returns incorrect result for all zero matrix.\"\n",
    "assert np.allclose(np.round(softmax(np.array([[1, 2, 3]])), decimals=8), np.array([[0.09003057, 0.24472847, 0.66524096]])), \"Returns incorrect result for non-zero single row matrix.\"\n",
    "assert np.allclose(np.round(softmax(np.array([[-2, 0, 10]])), decimals=8), np.array([[6.1400000e-06, 4.5400000e-05, 9.9994846e-01]])), \"Returns incorrect result for single row matrix with.\"\n",
    "assert np.allclose(np.round(softmax(np.array([[0, 0], [-3.2, 1.1], [4, 3.4]])), decimals=8),  np.array([[0.5, 0.5],[0.01338692, 0.98661308],[0.64565631, 0.35434369]])), \"Returns incorrect result for non-zero multiple row matrix.\""
   ]
  },
  {
   "cell_type": "code",
   "execution_count": 13,
   "metadata": {
    "deletable": false,
    "editable": false,
    "nbgrader": {
     "grade": true,
     "grade_id": "cell-8a103c355d843bb5",
     "locked": true,
     "points": 3,
     "schema_version": 3,
     "solution": false,
     "task": false
    }
   },
   "outputs": [],
   "source": [
    "assert np.allclose(np.round(softmax(np.array([[1e6, 1e6, 1e6, 1e6]])), decimals=8), np.array([[0.25, 0.25, 0.25, 0.25]])), \"Your implementation does not handle numerical overflow.\""
   ]
  },
  {
   "cell_type": "markdown",
   "metadata": {
    "deletable": false,
    "editable": false,
    "nbgrader": {
     "grade": false,
     "grade_id": "cell-7ae9305e3ea32a70",
     "locked": true,
     "schema_version": 1,
     "solution": false
    }
   },
   "source": [
    "#### Forward propagation\n",
    "\n",
    "The process of propagating the input through the layers of the neural network to get the output is called forward propagation.  In our case, forward propagation consists of the following steps:\n",
    "\n",
    "* The input vector $x$ is fed into the network, multiplied by the weight matrix $W_1$, and the bias terms $b_1$ are added to the result.  The resulting vector $z_1$ is passed through the sigmoid activation function to produce the hidden layer activations $a_1$.\n",
    "* The activations $a_1$ are fed as input to the second layer, multiplied by the weight matrix $W_2$, and the bias terms $b_2$ are added to the result.  The resulting vector $z_2$ is passed through the softmax function to produce the output activations $a_2$.\n",
    "\n"
   ]
  },
  {
   "cell_type": "markdown",
   "metadata": {
    "deletable": false,
    "editable": false,
    "nbgrader": {
     "grade": false,
     "grade_id": "cell-1bceffed8cdda3aa",
     "locked": true,
     "schema_version": 1,
     "solution": false
    }
   },
   "source": [
    "Implement the forward propagation function.  You can use [`np.matmul()`](https://docs.scipy.org/doc/numpy/reference/generated/numpy.matmul.html) or `@` for matrix multiplication.  Be sure to check the dimensions of your variables in order to determine the correct order of matrix multiplication. "
   ]
  },
  {
   "cell_type": "code",
   "execution_count": 14,
   "metadata": {
    "deletable": false,
    "nbgrader": {
     "grade": false,
     "grade_id": "cell-3df38176993b76ee",
     "locked": false,
     "schema_version": 1,
     "solution": true
    }
   },
   "outputs": [],
   "source": [
    "def forward_propagation(W1, W2, b1, b2, x):\n",
    "    '''\n",
    "    Propagates the input vector x through the neural network.  Returns a tuple of \n",
    "    vectors (a1, a2) containing the activations for the hidden and output layers.\n",
    "    '''\n",
    "    assert x.shape == (1, n0), \"Input does not have correct dimensions.\"\n",
    "    \n",
    "    # Pass through each layer and activation\n",
    "\n",
    "    a1 = sigmoid(x@W1 + b1)\n",
    "    a2 = softmax(a1@W2 + b2)\n",
    "\n",
    "    return (a1, a2)"
   ]
  },
  {
   "cell_type": "code",
   "execution_count": 15,
   "metadata": {
    "deletable": false,
    "editable": false,
    "nbgrader": {
     "grade": false,
     "grade_id": "cell-b65765e64f2915d6",
     "locked": true,
     "schema_version": 3,
     "solution": false,
     "task": false
    }
   },
   "outputs": [],
   "source": [
    "x = np.array([3, 4, 1, 2]).reshape((1, n0)) # reshape from size (n0, ) to size (1, n0)\n",
    "(a1, a2) = forward_propagation(W1, W2, b1, b2, x)"
   ]
  },
  {
   "cell_type": "code",
   "execution_count": 16,
   "metadata": {
    "deletable": false,
    "editable": false,
    "nbgrader": {
     "grade": true,
     "grade_id": "cell-8d260be3d1c66bca",
     "locked": true,
     "points": 4,
     "schema_version": 1,
     "solution": false
    }
   },
   "outputs": [],
   "source": [
    "assert a1.shape[0] == 1, \"The number of rows in a1 is incorrect.\"\n",
    "assert a1.shape[1] == n1, \"The number of columns in a1 is incorrect.\"\n",
    "\n",
    "assert a2.shape[0] == 1, \"The number of rows in a2 is incorrect.\"\n",
    "assert a2.shape[1] == n2, \"The number of columns in a2 is incorrect.\"\n",
    "assert np.allclose(np.round(a1, decimals=8), np.array([[0.51608902, 0.50712488, 0.51146888, 0.52905026, 0.52204596, 0.49837435, 0.50102402]])), \"Incorrect values in a1.\"\n",
    "assert np.allclose(np.round(a2, decimals=8), np.array([[0.33920574, 0.33361887, 0.32717539]])), \"Incorrect values in a2.\""
   ]
  },
  {
   "cell_type": "code",
   "execution_count": 17,
   "metadata": {
    "deletable": false,
    "editable": false,
    "nbgrader": {
     "grade": true,
     "grade_id": "cell-8056f9b2b5c1e2ce",
     "locked": true,
     "points": 4,
     "schema_version": 3,
     "solution": false,
     "task": false
    }
   },
   "outputs": [],
   "source": [
    "# This cell has hidden tests, do not delete or edit it."
   ]
  },
  {
   "cell_type": "markdown",
   "metadata": {},
   "source": [
    "##### Cross-entropy loss\n",
    "\n",
    "The cross-entropy loss for the $i^{th}$ sample is given by\n",
    "\n",
    "$$ J^{(i)} = - \\sum_{j=1}^k y^{(i)}_j \\log(p^{(i)}_j)$$\n",
    "\n",
    "The average cross-entropy loss across all samples is given by\n",
    "\n",
    "$$ J = - \\frac{1}{m} \\sum_{i=1}^m \\sum_{j=1}^k y^{(i)}_j \\log(p^{(i)}_j)$$\n",
    "\n",
    "where $y^{(i)}$ is the one-hot encoded label for the $i^{th}$ data point and $p^{(i)}_j$ is the probability of the $j^{th}$ class for the $i^{th}$ data point.  Note that the inner summation will only contain a single non-zero term.\n",
    "\n",
    "Implement the cross-entropy loss function.  Since we will use this function in both part 1 and part 2, this implementation should be vectorized."
   ]
  },
  {
   "cell_type": "code",
   "execution_count": 18,
   "metadata": {
    "deletable": false,
    "nbgrader": {
     "grade": false,
     "grade_id": "cell-749b6215a15f3c0f",
     "locked": false,
     "schema_version": 3,
     "solution": true,
     "task": false
    }
   },
   "outputs": [],
   "source": [
    "def cross_entropy_loss(A, Y):\n",
    "    '''\n",
    "    Calculates the cross-entropy loss for a set of output probabilities and target labels.\n",
    "    \n",
    "    A is a matrix where each row specifies the output layer activations for a single input.\n",
    "    Y is a matrix where each row specifies the one-hot encoded target label for a single input.\n",
    "    The computed cross entropy loss should be a scalar.    \n",
    "    '''\n",
    "    \n",
    "    # Return CE loss\n",
    "    return (np.sum(np.multiply(np.log(A),Y)))/(-A.shape[0])"
   ]
  },
  {
   "cell_type": "code",
   "execution_count": 19,
   "metadata": {
    "deletable": false,
    "editable": false,
    "nbgrader": {
     "grade": false,
     "grade_id": "cell-ec0a15927370755f",
     "locked": true,
     "schema_version": 3,
     "solution": false,
     "task": false
    }
   },
   "outputs": [],
   "source": [
    "A = np.array([[.25, .20, .05, .5], [.7, .1, .1, .1]])\n",
    "Y = np.array([[0, 1, 0, 0], [1, 0, 0, 0]])\n",
    "J = cross_entropy_loss(A, Y)"
   ]
  },
  {
   "cell_type": "code",
   "execution_count": 20,
   "metadata": {
    "deletable": false,
    "editable": false,
    "nbgrader": {
     "grade": true,
     "grade_id": "cell-1b4e932372754d4f",
     "locked": true,
     "points": 3,
     "schema_version": 3,
     "solution": false,
     "task": false
    }
   },
   "outputs": [],
   "source": [
    "assert np.isscalar(J), \"Output is not a scalar.\"\n",
    "assert np.round(J, decimals=8) == 0.98305643, \"Returns incorrect loss value.\""
   ]
  },
  {
   "cell_type": "markdown",
   "metadata": {
    "deletable": false,
    "editable": false,
    "nbgrader": {
     "grade": false,
     "grade_id": "cell-337219485a399076",
     "locked": true,
     "schema_version": 1,
     "solution": false
    }
   },
   "source": [
    "#### Initialize gradients for weights and bias terms\n",
    "\n",
    "Initialize the gradients with zeros.  The shape of the gradients should be the same as the shape of the corresponding weight and bias terms."
   ]
  },
  {
   "cell_type": "code",
   "execution_count": 21,
   "metadata": {
    "deletable": false,
    "nbgrader": {
     "grade": false,
     "grade_id": "cell-f4d3109f25579939",
     "locked": false,
     "schema_version": 1,
     "solution": true
    }
   },
   "outputs": [],
   "source": [
    "def initialize_gradients(n0, n1, n2):\n",
    "    '''\n",
    "    Initializes the gradients with zeroes and returns a tuple of matrices (dW1, dW2, db1, db2)\n",
    "    corresponding to the gradients of W1, W2, b1, and b2, respectively.\n",
    "    '''\n",
    "    \n",
    "    # Create zeros matricies matching shapes of W1, W2, b1, b2\n",
    "    dW1 = np.zeros((n0,n1))\n",
    "    dW2 = np.zeros((n1,n2))\n",
    "    db1 = np.zeros((1,n1))\n",
    "    db2 = np.zeros((1,n2))\n",
    "    \n",
    "    \n",
    "    return (dW1, dW2, db1, db2)\n",
    "    "
   ]
  },
  {
   "cell_type": "code",
   "execution_count": 22,
   "metadata": {
    "deletable": false,
    "editable": false,
    "nbgrader": {
     "grade": false,
     "grade_id": "cell-75af41da31d6fcb5",
     "locked": true,
     "schema_version": 1,
     "solution": false
    }
   },
   "outputs": [],
   "source": [
    "(dW1, dW2, db1, db2) = initialize_gradients(n0, n1, n2)"
   ]
  },
  {
   "cell_type": "code",
   "execution_count": 23,
   "metadata": {
    "deletable": false,
    "editable": false,
    "nbgrader": {
     "grade": true,
     "grade_id": "cell-b24cebb300db0bcc",
     "locked": true,
     "points": 1,
     "schema_version": 1,
     "solution": false
    }
   },
   "outputs": [],
   "source": [
    "assert isinstance(dW1, np.ndarray), \"dW1 should be a numpy array.\"\n",
    "assert isinstance(dW2, np.ndarray), \"dW2 should be a numpy array.\"\n",
    "\n",
    "assert dW1.shape[0] == n0, \"The number of rows in dW1 is incorrect.\"\n",
    "assert dW1.shape[1] == n1, \"The number of columns in dW1 is incorrect.\"\n",
    "\n",
    "assert dW2.shape[0] == n1, \"The number of rows in dW2 is incorrect.\"\n",
    "assert dW2.shape[1] == n2, \"The number of columns in dW2 is incorrect.\"\n",
    "\n",
    "assert np.sum(np.abs(dW1)) == 0, \"All the elements in dW1 should be initialized to zero.\"\n",
    "assert np.sum(np.abs(dW2)) == 0, \"All the elements in dW2 should be initialized to zero.\"\n",
    "\n",
    "assert isinstance(db1, np.ndarray), \"db1 should be a numpy array.\"\n",
    "assert isinstance(db2, np.ndarray), \"db2 should be a numpy array.\"\n",
    "\n",
    "assert db1.shape[0] == 1, \"The number of rows in db1 is incorrect.\"\n",
    "assert db1.shape[1] == n1, \"The number of columns in db1 is incorrect.\"\n",
    "\n",
    "assert db2.shape[0] == 1, \"The number of rows in db2 is incorrect.\"\n",
    "assert db2.shape[1] == n2, \"The number of columns in db2 is incorrect.\"\n",
    "\n",
    "assert np.sum(np.abs(db1)) == 0, \"All the elements in db1 should be initialized to zero.\"\n",
    "assert np.sum(np.abs(db2)) == 0, \"All the elements in db2 should be initialized to zero.\""
   ]
  },
  {
   "cell_type": "markdown",
   "metadata": {
    "deletable": false,
    "editable": false,
    "nbgrader": {
     "grade": false,
     "grade_id": "cell-e693c5b5445a71bc",
     "locked": true,
     "schema_version": 1,
     "solution": false
    }
   },
   "source": [
    "#### Backward propagation\n",
    "\n",
    "Backward propagation refers to the process of taking the error of the output prediction and propagating it backwards through the neural network in order to calculate the gradients of the network weights."
   ]
  },
  {
   "cell_type": "markdown",
   "metadata": {
    "deletable": false,
    "editable": false,
    "nbgrader": {
     "grade": false,
     "grade_id": "cell-e544397f7c3728a5",
     "locked": true,
     "schema_version": 1,
     "solution": false
    }
   },
   "source": [
    "***Exercise:***\n",
    "\n",
    "Derive the equations to calculate $\\frac{dJ}{da_2}$, $\\frac{dJ}{dz_2}$, $\\frac{dJ}{db_2}$, $\\frac{dJ}{dW_2}$, $\\frac{dJ}{da_1}$, $\\frac{dJ}{dz_1}$, $\\frac{dJ}{db_1}$, and $\\frac{dJ}{dW_1}$ for a single sample.  You may re-use any results derived in class without re-proving it.  Please express your equations in matrix form, denoting matrix multiplication with $A*B$ and elementwise multiplication as $A.*B$.\n",
    "\n",
    "Steps: \n",
    "1. Calculate $\\frac{dJ}{da_2}$, the gradient of the error with respect to the output probabilities $a_2$.  In this case, $J$ is the cross-entropy loss for a single sample.  Express your result in vectorized form in terms of $a_2$ and $y$, the one hot encoded target labels.\n",
    "\n",
    "2. Now calculate $\\frac{dJ}{dz_2}$ with the chain rule.  To simplify the notations for this derivation, denote $a_2$ by $a$ and $z_2$ by $z$ and use the subscripts for indexing the elements of the vector (otherwise the notation will get very confusing).  Once you have derived a final result, switch back to the original notation and express your answer in vectorized form in terms of $a_2$, $z_2$, and $y$.  In this simplified notation, the gradient for the $i^{th}$ element is: $$\\frac{dJ}{dz_i} = \\sum_{i=1}^{k} \\frac{dJ}{da_j} \\frac{da_j}{dz_i}$$  You may simply re-use the results we derived in class, though re-deriving it from scratch yourself is one of the best ways to build mastery!\n",
    "\n",
    "3.  Express $z_2$ in terms of $W_2$ and $b_2$ and calculate $\\frac{dz_2}{dW_2}$ and $\\frac{dz_2}{db_2}$.  Calculate $\\frac{dJ}{dW_2}$ and $\\frac{dJ}{db_2}$ using the chain rule:\n",
    "\n",
    "$$\\frac{dJ}{dW_2} = \\frac{dJ}{dz_2} \\frac{dz_2}{dW_2}$$\n",
    "\n",
    "$$\\frac{dJ}{db_2} = \\frac{dJ}{dz_2} \\frac{dz_2}{db_2}$$\n",
    "\n",
    "4. Express $a_1$ in terms of $z_2$ and calculate $\\frac{dJ}{da_1}$.  Repeat steps 1 through 3 to calculate the derivative of $J$ w.r.t $z_1, W_1, b_1$.\n",
    "\n",
    "Note that the gradient of $J$ w.r.t. a matrix variable should have the same dimensions as the matrix variable.  One way to verify your derivation is to make sure all matrix operations have compatible dimensions.  \n"
   ]
  },
  {
   "cell_type": "markdown",
   "metadata": {
    "deletable": false,
    "nbgrader": {
     "grade": true,
     "grade_id": "cell-3a740c37e6a74cf1",
     "locked": false,
     "points": 20,
     "schema_version": 1,
     "solution": true
    }
   },
   "source": [
    "***Put your equations below***\n",
    "#### For a sample k\n",
    "\n",
    "dJ/da2:  \n",
    "$\\frac{dJ}{da_2} = [\\frac{-y_1}{\\hat{y_1}},\\frac{-y_2}{\\hat{y_2}},...\\frac{-y_{s2}}{\\hat{y_{s2}}}]$  (from class)\n",
    "\n",
    "\n",
    "$\\frac{dJ}{da_2} = \\bar{y} .* \\bar{a_2}^{ -1}$ \n",
    "\n",
    "dJ/dz2(from class):\n",
    "\n",
    "$\\frac{dJ}{dz_2} = \\bar{-y} + \\bar{a_2}$ \n",
    "\n",
    "dJ/db2(from class):\n",
    "\n",
    "$\\frac{dJ}{db_2} = \\frac{dJ}{dz_2}$ \n",
    "\n",
    "dJ/dW2:\n",
    "\n",
    "$\\frac{dJ}{dW_2} = \\bar{a}_{1}^T*\\frac{dJ}{dz_2}$  (from class)\n",
    "\n",
    "$\\frac{dJ}{dW_2} = \\bar{a}_{1}^T*\\bar{-y} + \\bar{a}_{1}^T*\\bar{a_2}$\n",
    "\n",
    "dJ/da1:\n",
    "\n",
    "$\\frac{dJ}{da_1} = \\frac{dJ}{dz_2} * W_2^T $ (from class)\n",
    "\n",
    "$\\frac{dJ}{da_1} = \\bar{-y}* W_2^T + \\bar{a_2}* W_2^T$\n",
    "\n",
    "dJ/dz1:\n",
    "\n",
    "$\\frac{dJ}{dz_1} = \\frac{dJ}{da_1} .*(1-\\bar{a}_1).*\\bar{a}_1$ (from class)\n",
    "\n",
    "$\\frac{dJ}{dz_1} = (\\bar{-y}* W_2^T + \\bar{a_2}* W_2^T) .*(1-\\bar{a}_1).*\\bar{a}_1$\n",
    "\n",
    "dJ/db1(from class):\n",
    "\n",
    "$\\frac{dJ}{db_1} = \\frac{dJ}{dz_1}$ (from class)\n",
    "\n",
    "$\\frac{dJ}{db_1} = (\\bar{-y}* W_2^T + \\bar{a_2}* W_2^T) .*(1-\\bar{a}_1).*\\bar{a}_1$\n",
    "\n",
    "dJ/dW1(from class):\n",
    "\n",
    "$\\frac{dJ}{dW_1} = \\bar{x}^T * \\frac{dJ}{dz_1}$ (from class)\n",
    "\n",
    "$\\frac{dJ}{dW_1} = \\bar{x}^T * ((\\bar{-y}* W_2^T + \\bar{a_2}* W_2^T) .*(1-\\bar{a}_1).*\\bar{a}_1)$"
   ]
  },
  {
   "cell_type": "markdown",
   "metadata": {
    "deletable": false,
    "editable": false,
    "nbgrader": {
     "grade": false,
     "grade_id": "cell-92d2558c67c5b193",
     "locked": true,
     "schema_version": 1,
     "solution": false
    }
   },
   "source": [
    "We will use the following notation in our backpropagation function:\n",
    "\n",
    "`dW1`: $\\frac{dJ}{dW_1}$\n",
    "\n",
    "`dW2 `: $\\frac{dJ}{dW_2}$\n",
    "\n",
    "`db1` : $\\frac{dJ}{db_1}$\n",
    "\n",
    "`db2` : $\\frac{dJ}{db_2}$\n",
    "\n",
    "`dz1` : $\\frac{dJ}{dz_1}$\n",
    "\n",
    "`dz2` : $\\frac{dJ}{dz_2}$"
   ]
  },
  {
   "cell_type": "markdown",
   "metadata": {
    "deletable": false,
    "editable": false,
    "nbgrader": {
     "grade": false,
     "grade_id": "cell-91886a9522c98896",
     "locked": true,
     "schema_version": 1,
     "solution": false
    }
   },
   "source": [
    "Hints: \n",
    "- Be careful to distinguish between matrix multiplication and elementwise multiplication of matrices.  For matrix multiplication, you can use [`np.matmul()`](https://docs.scipy.org/doc/numpy/reference/generated/numpy.matmul.html) or `@`.  For elementwise multiplication, you can use [`np.multiply()`](https://docs.scipy.org/doc/numpy/reference/generated/numpy.multiply.html) or `*`.\n",
    "- Pay close attention to the shape of matrices and vectors to determine the correct order of matrix multiplication."
   ]
  },
  {
   "cell_type": "code",
   "execution_count": 24,
   "metadata": {
    "deletable": false,
    "nbgrader": {
     "grade": false,
     "grade_id": "cell-eb4f12428289fdc5",
     "locked": false,
     "schema_version": 1,
     "solution": true
    }
   },
   "outputs": [],
   "source": [
    "def back_propagation(W1, W2, b1, b2, a1, a2, x, y):\n",
    "    '''\n",
    "    Calculates the gradients of the network weights for a single sample.\n",
    "    Returns a tuple of matrices (dW1, dW2, db1, db2).\n",
    "    '''\n",
    "    assert x.shape == (1, n0)\n",
    "    \n",
    "    #If the input data is not the right shape (1,n2), reshape it\n",
    "    if len(y.shape) == 1:\n",
    "        y = y.reshape((1, y.shape[0]))\n",
    "    #Move through each of the derivatives from above\n",
    "    da2 = y *(1/a2)\n",
    "    dz2 = -y  + a2\n",
    "    db2 = dz2\n",
    "    dW2 = a1.T@-y +a1.T@a2\n",
    "    da1 = -y@W2.T + a2@W2.T\n",
    "    dz1 = da1 *(1-a1)*a1\n",
    "    db1 = dz1\n",
    "    dW1 = x.T@dz1\n",
    "\n",
    "    return (dW1, dW2, db1, db2)"
   ]
  },
  {
   "cell_type": "code",
   "execution_count": 25,
   "metadata": {
    "deletable": false,
    "nbgrader": {
     "grade": false,
     "grade_id": "cell-eef6ef875cee6d3b",
     "locked": false,
     "schema_version": 3,
     "solution": true,
     "task": false
    }
   },
   "outputs": [],
   "source": [
    "x = np.array([[3, 4, 1, -1]])\n",
    "y = np.array([1, 0, 0])\n",
    "dW1, dW2, db1, db2 = back_propagation(W1, W2, b1, b2, a1, a2, x, y)"
   ]
  },
  {
   "cell_type": "code",
   "execution_count": 26,
   "metadata": {
    "deletable": false,
    "editable": false,
    "nbgrader": {
     "grade": true,
     "grade_id": "cell-669871e75c09463",
     "locked": true,
     "points": 5,
     "schema_version": 1,
     "solution": false
    }
   },
   "outputs": [],
   "source": [
    "assert isinstance(db1, np.ndarray), \"db1 should be a numpy array.\"\n",
    "assert isinstance(db2, np.ndarray), \"db2 should be a numpy array.\"\n",
    "\n",
    "assert db2.shape[0] == 1, \"The number of rows in db2 is incorrect.\"\n",
    "assert db2.shape[1] == n2, \"The number of columns in db2 is incorrect.\"\n",
    "\n",
    "assert db1.shape[0] == 1, \"The number of rows in db1 is incorrect.\"\n",
    "assert db1.shape[1] == n1, \"The number of columns in db1 is incorrect.\"\n",
    "\n",
    "assert isinstance(dW1, np.ndarray), \"dW1 should be a numpy array.\"\n",
    "assert isinstance(dW2, np.ndarray), \"dW2 should be a numpy array.\"\n",
    "\n",
    "assert dW2.shape[0] == n1, \"The number of rows in dW2 is incorrect.\"\n",
    "assert dW2.shape[1] == n2, \"The number of columns in dW2 is incorrect.\"\n",
    "\n",
    "assert dW1.shape[0] == n0, \"The number of rows in dW1 is incorrect.\"\n",
    "assert dW1.shape[1] == n1, \"The number of columns in dW1 is incorrect.\"\n",
    "\n",
    "assert np.allclose(np.round(dW1[:,0], decimals=8), np.array([-0.00353597, -0.00471462, -0.00117866,  0.00117866])), \"Incorrect values for dW1.\"\n",
    "assert np.allclose(np.round(db1[0,0:4], decimals=8), np.array([-0.00117866, -0.00298474,  0.00171055, -0.002548  ])), \"Incorrect values for db1.\""
   ]
  },
  {
   "cell_type": "code",
   "execution_count": 27,
   "metadata": {
    "deletable": false,
    "editable": false,
    "nbgrader": {
     "grade": true,
     "grade_id": "cell-9c21fe5f7c29bb87",
     "locked": true,
     "points": 5,
     "schema_version": 3,
     "solution": false,
     "task": false
    }
   },
   "outputs": [],
   "source": [
    "# This cell has hidden tests, do not delete or edit it."
   ]
  },
  {
   "cell_type": "markdown",
   "metadata": {
    "deletable": false,
    "editable": false,
    "nbgrader": {
     "grade": false,
     "grade_id": "cell-065a748cac173fdc",
     "locked": true,
     "schema_version": 1,
     "solution": false
    }
   },
   "source": [
    "#### Updating network weights\n",
    "\n",
    "The network weights are updated as follows:\n",
    "\n",
    "$W_1 = W_1 - \\alpha * \\frac{1}{m} \\sum_{i=1}^{m} dW^{(i)}_1$  \n",
    "\n",
    "$W_2 = W_2 - \\alpha * \\frac{1}{m} \\sum_{i=1}^{m} dW^{(i)}_2$  \n",
    "\n",
    "$b_1 = b_1 - \\alpha * \\frac{1}{m} \\sum_{i=1}^{m} db^{(i)}_1$  \n",
    "\n",
    "$b_2 = b_2 - \\alpha * \\frac{1}{m} \\sum_{i=1}^{m} db^{(i)}_2$\n",
    "\n",
    "where $\\alpha$ is the learning rate, $m$ is the number of training examples, and $dW^{(i)}_1$, $dW^{(i)}_2$, $db^{(i)}_1$, and $db^{(i)}_2$ are the gradients for the $i^{th}$ training sample."
   ]
  },
  {
   "cell_type": "code",
   "execution_count": 28,
   "metadata": {
    "deletable": false,
    "nbgrader": {
     "grade": false,
     "grade_id": "cell-f5cf67f3f7bcd0fc",
     "locked": false,
     "schema_version": 1,
     "solution": true
    }
   },
   "outputs": [],
   "source": [
    "def update_parameters(W1, W2, b1, b2, dW1, dW2, db1, db2, alpha):\n",
    "    '''\n",
    "    Returns the weights after a single gradient descent update.\n",
    "    dW1, dW2, db1, and db2 are the gradients averaged across all training samples.\n",
    "    W1, W2, b1, and b2 are the network weights, which should be updated and returned.\n",
    "    '''\n",
    "    #Gradient descent on all the network weights\n",
    "    W1 = W1-alpha*dW1\n",
    "    W2 = W2-alpha*dW2\n",
    "    b1 = b1-alpha*db1\n",
    "    b2 = b2-alpha*db2\n",
    "    \n",
    "    return (W1, W2, b1, b2)"
   ]
  },
  {
   "cell_type": "code",
   "execution_count": 29,
   "metadata": {
    "deletable": false,
    "nbgrader": {
     "grade": false,
     "grade_id": "cell-0134d8ebccc1ed19",
     "locked": false,
     "schema_version": 3,
     "solution": true,
     "task": false
    }
   },
   "outputs": [],
   "source": [
    "alpha = .1\n",
    "W1_prev, W2_prev, b1_prev, b2_prev = W1.copy(), W2.copy(), b1.copy(), b2.copy()\n",
    "W1, W2, b1, b2 = update_parameters(W1, W2, b1, b2, dW1, dW2, db1, db2, alpha)"
   ]
  },
  {
   "cell_type": "code",
   "execution_count": 30,
   "metadata": {
    "deletable": false,
    "editable": false,
    "nbgrader": {
     "grade": true,
     "grade_id": "cell-669871e75c094763",
     "locked": true,
     "points": 1,
     "schema_version": 1,
     "solution": false
    }
   },
   "outputs": [],
   "source": [
    "assert isinstance(b1, np.ndarray), \"b1 should be a numpy array.\"\n",
    "assert isinstance(b2, np.ndarray), \"b2 should be a numpy array.\"\n",
    "\n",
    "assert b1.shape[0] == 1, \"The number of rows in b1 is incorrect.\"\n",
    "assert b1.shape[1] == n1, \"The number of columns in b1 is incorrect.\"\n",
    "\n",
    "assert b2.shape[0] == 1, \"The number of rows in b2 is incorrect.\"\n",
    "assert b2.shape[1] == n2, \"The number of columns in b2 is incorrect.\"\n",
    "\n",
    "assert isinstance(W1, np.ndarray), \"W1 should be a numpy array.\"\n",
    "assert isinstance(W2, np.ndarray), \"W2 should be a numpy array.\"\n",
    "\n",
    "assert W1.shape[0] == n0, \"The number of rows in W1 is incorrect.\"\n",
    "assert W1.shape[1] == n1, \"The number of columns in W1 is incorrect.\"\n",
    "\n",
    "assert W2.shape[0] == n1, \"The number of rows in W2 is incorrect.\"\n",
    "assert W2.shape[1] == n2, \"The number of columns in W2 is incorrect.\"\n",
    "\n",
    "assert np.allclose(np.round((W1 - W1_prev)[:,0], decimals=8), np.array([ 0.0003536 ,  0.00047146,  0.00011787, -0.00011787])), \"Incorrect update to W1.\"\n",
    "assert np.allclose(np.round((b1 - b1_prev)[0,0:4], decimals=8), np.array([ 0.00011787,  0.00029847, -0.00017105,  0.0002548 ])), \"Incorrect updatae to b1.\""
   ]
  },
  {
   "cell_type": "code",
   "execution_count": 31,
   "metadata": {
    "deletable": false,
    "editable": false,
    "nbgrader": {
     "grade": true,
     "grade_id": "cell-ddecace1ceec426b",
     "locked": true,
     "points": 1,
     "schema_version": 3,
     "solution": false,
     "task": false
    }
   },
   "outputs": [],
   "source": [
    "# This cell has hidden tests, do not delete or edit it."
   ]
  },
  {
   "cell_type": "markdown",
   "metadata": {
    "deletable": false,
    "editable": false,
    "nbgrader": {
     "grade": false,
     "grade_id": "cell-aa3bc08c52b19d23",
     "locked": true,
     "schema_version": 1,
     "solution": false
    }
   },
   "source": [
    "#### Training\n",
    "\n",
    "In this function we will bring all the functions together to iteratively update the weights `W1`, `b1`, `W2`, and `b2` on a set of training examples.\n",
    "\n",
    "* The outer for loop iterates over the dataset `num_epochs` times, updating the weights once per epoch.  Each update should be based on the gradients averaged across all training samples in a single epoch.\n",
    "* The inner for loop iterates over the training samples in the dataset, accumulating gradients from each data point.  To calculate the gradient on each data point, you will need to do forward and backward propagation.\n",
    "* We will also want to calculate the average cross entropy loss across the training samples, so that we can monitor the training progress."
   ]
  },
  {
   "cell_type": "code",
   "execution_count": 32,
   "metadata": {
    "deletable": false,
    "nbgrader": {
     "grade": false,
     "grade_id": "cell-1002d9b35d78cdce",
     "locked": false,
     "schema_version": 1,
     "solution": true
    }
   },
   "outputs": [],
   "source": [
    "def training(X, Y, num_hidden, alpha, num_epochs):\n",
    "    '''\n",
    "    Learn the network weights on a set of training examples.  This implementation is not vectorized.\n",
    "    \n",
    "    Inputs\n",
    "    ------\n",
    "    X: a matrix containing the training data, where each row corresponds to a single training example\n",
    "    Y: a matrix containing the target labels, where each row contains a one hot encoded target label.\n",
    "    num_hidden: specifies the number of hidden units in the neural network.\n",
    "    alpha: the learning rate for gradient descent\n",
    "    num_epochs: the number of times to iterate over the dataset\n",
    "    \n",
    "    Returns a tuple of matrices (W1, W2, b1, b2) containing the learned network weights.\n",
    "    '''\n",
    "    \n",
    "    n0 = X.shape[1]\n",
    "    n1 = num_hidden\n",
    "    n2 = Y.shape[1]\n",
    "    m = X.shape[0]\n",
    "    \n",
    "    W1, W2 = initialize_weights(n0, n1, n2)\n",
    "    b1, b2 = initialize_bias(n0, n1, n2)\n",
    "    for epoch in range(num_epochs):\n",
    "\n",
    "        loss = 0\n",
    "        dW1, dW2, db1, db2 = initialize_gradients(n0, n1, n2)\n",
    "        \n",
    "        for i in range(m):\n",
    "            \n",
    "            x = X[i,:].reshape((1,-1))\n",
    "            y = Y[i,:].reshape((1,-1))\n",
    "            #Find the output with the weights on sample x\n",
    "            a1, a2 = forward_propagation(W1, W2, b1, b2, x)\n",
    "            #Find the gradients with sample x\n",
    "            tempdW1, tempdW2, tempdb1, tempdb2 = back_propagation(W1, W2, b1, b2, a1, a2, x, y)\n",
    "            #Add the gradient with sample x to a running total\n",
    "            dW1 += tempdW1\n",
    "            dW2 += tempdW2\n",
    "            db1 += tempdb1\n",
    "            db2 += tempdb2\n",
    "            #Add the loss of the output for sample x to a running total\n",
    "            loss += cross_entropy_loss(a2, y)\n",
    "        \n",
    "        #Divide all the running totals by the number of samples\n",
    "        dW1 = dW1 / m\n",
    "        dW2 = dW2 / m\n",
    "        db1 = db1 / m\n",
    "        db2 = db2 / m\n",
    "        loss = loss / m\n",
    "        #Update with the gradients\n",
    "        W1, W2, b1, b2 = update_parameters(W1, W2, b1, b2, dW1, dW2, db1, db2, alpha)\n",
    "        \n",
    "        if epoch % 100 == 0:\n",
    "            print('Epoch {}: Training Loss = {:.8f}'.format(epoch, loss))\n",
    "        \n",
    "    return W1, W2, b1, b2\n"
   ]
  },
  {
   "cell_type": "markdown",
   "metadata": {
    "deletable": false,
    "editable": false,
    "nbgrader": {
     "grade": false,
     "grade_id": "cell-e4a3aa07781d2935",
     "locked": true,
     "schema_version": 1,
     "solution": false
    }
   },
   "source": [
    "To test our training function, we can generate a small dataset suitable for a classification task using [`make_classification`](https://scikit-learn.org/stable/modules/generated/sklearn.datasets.make_classification.html) in [scikit-learn](https://scikit-learn.org/stable/)."
   ]
  },
  {
   "cell_type": "code",
   "execution_count": 33,
   "metadata": {},
   "outputs": [
    {
     "data": {
      "image/png": "[encoded data removed]",
      "text/plain": [
       "<Figure size 432x288 with 1 Axes>"
      ]
     },
     "metadata": {
      "needs_background": "light"
     },
     "output_type": "display_data"
    }
   ],
   "source": [
    "from sklearn.datasets import make_classification\n",
    "import matplotlib.pyplot as plt\n",
    "%matplotlib inline\n",
    "\n",
    "m = 100\n",
    "X, Y = make_classification(n_samples=m, n_features=n0, n_redundant=0, n_informative=n0, n_classes=n2, random_state=1)\n",
    "plt.scatter(X[:, 0], X[:, 1], marker='o', c=Y, s=25, edgecolor='k');\n",
    "Y = np.eye(n2)[Y]"
   ]
  },
  {
   "cell_type": "code",
   "execution_count": 34,
   "metadata": {
    "deletable": false,
    "editable": false,
    "nbgrader": {
     "grade": false,
     "grade_id": "cell-01cb6166d1d9cf72",
     "locked": true,
     "schema_version": 1,
     "solution": false
    }
   },
   "outputs": [
    {
     "name": "stdout",
     "output_type": "stream",
     "text": [
      "Epoch 0: Training Loss = 1.09854246\n",
      "Epoch 100: Training Loss = 0.66769965\n",
      "Epoch 200: Training Loss = 0.62075226\n",
      "Epoch 300: Training Loss = 0.53313843\n",
      "Epoch 400: Training Loss = 0.43255480\n",
      "Epoch 500: Training Loss = 0.37279295\n",
      "Epoch 600: Training Loss = 0.33923461\n",
      "Epoch 700: Training Loss = 0.31482535\n",
      "Epoch 800: Training Loss = 0.29518944\n",
      "Epoch 900: Training Loss = 0.27612031\n",
      "Epoch 1000: Training Loss = 0.25750832\n",
      "Epoch 1100: Training Loss = 0.24231282\n",
      "Epoch 1200: Training Loss = 0.22891277\n",
      "Epoch 1300: Training Loss = 0.21669590\n",
      "Epoch 1400: Training Loss = 0.20563874\n",
      "Epoch 1500: Training Loss = 0.19562613\n",
      "Epoch 1600: Training Loss = 0.18646676\n",
      "Epoch 1700: Training Loss = 0.17798751\n",
      "Epoch 1800: Training Loss = 0.16999538\n",
      "Epoch 1900: Training Loss = 0.16210703\n",
      "Epoch 2000: Training Loss = 0.15379149\n",
      "Epoch 2100: Training Loss = 0.14540899\n",
      "Epoch 2200: Training Loss = 0.13679592\n",
      "Epoch 2300: Training Loss = 0.12806248\n",
      "Epoch 2400: Training Loss = 0.11971815\n",
      "Epoch 2500: Training Loss = 0.11181989\n",
      "Epoch 2600: Training Loss = 0.10432723\n",
      "Epoch 2700: Training Loss = 0.09727166\n",
      "Epoch 2800: Training Loss = 0.09075262\n",
      "Epoch 2900: Training Loss = 0.08483663\n"
     ]
    }
   ],
   "source": [
    "W1, W2, b1, b2 = training(X, Y, n1, 1, 3000)"
   ]
  },
  {
   "cell_type": "code",
   "execution_count": 35,
   "metadata": {
    "deletable": false,
    "editable": false,
    "nbgrader": {
     "grade": true,
     "grade_id": "cell-e73ff98fe76d271b",
     "locked": true,
     "points": 4,
     "schema_version": 1,
     "solution": false
    }
   },
   "outputs": [],
   "source": [
    "assert isinstance(b1, np.ndarray), \"b1 should be a numpy array.\"\n",
    "assert isinstance(b2, np.ndarray), \"b2 should be a numpy array.\"\n",
    "\n",
    "assert b1.shape[0] == 1, \"The number of rows in b1 is incorrect.\"\n",
    "assert b1.shape[1] == n1, \"The number of columns in b1 is incorrect.\"\n",
    "\n",
    "assert b2.shape[0] == 1, \"The number of rows in b2 is incorrect.\"\n",
    "assert b2.shape[1] == n2, \"The number of columns in b2 is incorrect.\"\n",
    "\n",
    "assert isinstance(W1, np.ndarray), \"W1 should be a numpy array.\"\n",
    "assert isinstance(W2, np.ndarray), \"W2 should be a numpy array.\"\n",
    "\n",
    "assert W1.shape[0] == n0, \"The number of rows in W1 is incorrect.\"\n",
    "assert W1.shape[1] == n1, \"The number of columns in W1 is incorrect.\"\n",
    "\n",
    "assert W2.shape[0] == n1, \"The number of rows in W2 is incorrect.\"\n",
    "assert W2.shape[1] == n2, \"The number of columns in W2 is incorrect.\"\n",
    "\n",
    "assert np.allclose(np.round(W1[0,:], decimals=8), np.array([1.26422707, -0.70762336, 7.20233002, -2.53263138, 3.40793382, -5.59849532, 3.61526723])), \"Trained weights W1 are incorrect.\"\n",
    "assert np.allclose(np.round(b1, decimals = 8), np.array([6.93259983, 6.38592697, -1.368562, 3.32583488, 4.44835927, 2.09694021, -1.09501032])), \"Trained weights b1 are incorrect.\""
   ]
  },
  {
   "cell_type": "code",
   "execution_count": 36,
   "metadata": {
    "deletable": false,
    "editable": false,
    "nbgrader": {
     "grade": false,
     "grade_id": "cell-b9705fa0b5d5ff07",
     "locked": true,
     "points": 2,
     "schema_version": 3,
     "solution": false,
     "task": true
    }
   },
   "outputs": [
    {
     "ename": "SyntaxError",
     "evalue": "invalid syntax (764279130.py, line 1)",
     "output_type": "error",
     "traceback": [
      "\u001b[0;36m  File \u001b[0;32m\"/tmp/ipykernel_22274/764279130.py\"\u001b[0;36m, line \u001b[0;32m1\u001b[0m\n\u001b[0;31m    For grading purpose: weight accuracy\u001b[0m\n\u001b[0m        ^\u001b[0m\n\u001b[0;31mSyntaxError\u001b[0m\u001b[0;31m:\u001b[0m invalid syntax\n"
     ]
    }
   ],
   "source": [
    "For grading purpose: weight accuracy"
   ]
  },
  {
   "cell_type": "markdown",
   "metadata": {
    "deletable": false,
    "editable": false,
    "nbgrader": {
     "grade": false,
     "grade_id": "cell-ca398026a3c2ec38",
     "locked": true,
     "schema_version": 1,
     "solution": false
    }
   },
   "source": [
    "##### Prediction\n",
    "\n",
    "Write a function to predict the label and class probabilities for a single input using the trained neural network.  You can use the function [`np.argmax`](https://docs.scipy.org/doc/numpy/reference/generated/numpy.argmax.html) to find the largest element in an array."
   ]
  },
  {
   "cell_type": "code",
   "execution_count": 37,
   "metadata": {
    "deletable": false,
    "nbgrader": {
     "grade": false,
     "grade_id": "cell-20971a390d8ed68a",
     "locked": false,
     "schema_version": 1,
     "solution": true
    }
   },
   "outputs": [],
   "source": [
    "def predict(W1, W2, b1, b2, x):\n",
    "    '''\n",
    "    Returns the predicted label y and class probabilities p for a single input.\n",
    "    The predicted label should be an integer, and the class probabilities should be a vector.\n",
    "    '''\n",
    "    assert isinstance(x, np.ndarray) and x.shape == (1, n0), \"Input should be a numpy array of shape (1, n0).\"\n",
    "    \n",
    "    #Find the outputs with our weights. These are our predictions\n",
    "    a1, p = forward_propagation(W1,W2,b1,b2,x)\n",
    "    #The maximum is the index of our predicted class\n",
    "    y = np.argmax(p)\n",
    "    \n",
    "    return y, p"
   ]
  },
  {
   "cell_type": "code",
   "execution_count": 38,
   "metadata": {
    "deletable": false,
    "editable": false,
    "nbgrader": {
     "grade": false,
     "grade_id": "cell-beecf6d027507509",
     "locked": true,
     "schema_version": 1,
     "solution": false
    }
   },
   "outputs": [],
   "source": [
    "x = np.array([[.9, 2.1, 0.1, -.1]])\n",
    "y, p = predict(W1, W2, b1, b2, x)"
   ]
  },
  {
   "cell_type": "code",
   "execution_count": 39,
   "metadata": {
    "deletable": false,
    "editable": false,
    "nbgrader": {
     "grade": true,
     "grade_id": "cell-61b6afcf6bd5d13e",
     "locked": true,
     "points": 2,
     "schema_version": 1,
     "solution": false
    }
   },
   "outputs": [],
   "source": [
    "assert not isinstance(y, np.ndarray), \"y should be an integer, not a numpy array.\"\n",
    "assert isinstance(p, np.ndarray), \"p should be a numpy array.\"\n",
    "\n",
    "assert y == 1, \"Predicted label is incorrect.\"\n",
    "assert np.allclose(np.round(p, decimals=8), np.array([1.0800000e-06, 9.7427047e-01, 2.5728450e-02])), \"Class probabilities are incorrect.\""
   ]
  },
  {
   "cell_type": "code",
   "execution_count": 40,
   "metadata": {
    "deletable": false,
    "editable": false,
    "nbgrader": {
     "grade": true,
     "grade_id": "cell-bf6fe98ccc32c7d8",
     "locked": true,
     "points": 2,
     "schema_version": 3,
     "solution": false,
     "task": false
    }
   },
   "outputs": [],
   "source": [
    "# This cell has hidden tests, do not delete or edit it."
   ]
  },
  {
   "cell_type": "markdown",
   "metadata": {},
   "source": [
    "Congratulations, you just implemented your first neural network!"
   ]
  },
  {
   "cell_type": "markdown",
   "metadata": {
    "deletable": false,
    "editable": false,
    "nbgrader": {
     "grade": false,
     "grade_id": "cell-964b64a3161c7b1b",
     "locked": true,
     "schema_version": 1,
     "solution": false
    }
   },
   "source": [
    "## Part 2\n",
    " \n",
    "In the second part of this assignment, you will re-implement several functions using vectorization.  The main reason for vectorizing is to speed up the training process by performing operations in parallel rather than sequentially.  Rather than processing each training sample individually, you will stack all of the training examples into a matrix and rewrite the following functions to process all training samples simultaneously:\n",
    "\n",
    "* forward propagation    \n",
    "* backward propagation      \n",
    "* training the network\n",
    "* making predictions on new inputs\n",
    "\n",
    "You will also write a function for gradient checking to verify that your backpropagation implementation is correct."
   ]
  },
  {
   "cell_type": "markdown",
   "metadata": {},
   "source": [
    "Let's define our notation: \n",
    "\n",
    "* The number of nodes in the input, hidden, and output layers are $n_0$, $n_1$, and $n_2$ respectively.\n",
    "\n",
    "* The number of training samples in the data set is $m$.\n",
    "\n",
    "* The input $X$ is a matrix of shape $(m, n_0)$ where each row corresponds to a training example.\n",
    "\n",
    "* The output $Y$ is a matrix of shape $(m, n_2)$ where each row corresponds to a one hot encoded target label.\n",
    "\n",
    "* The weights connecting the input and hidden layer are given by the matrix $W_1$ of shape $(n_0, n_1)$.\n",
    "\n",
    "* The weights connecting the hidden and output layer are given by the matrix $W_2$ of shape $(n_1, n_2)$.\n",
    "\n",
    "* The bias terms feeding into the hidden layer are given by the vector $b_1$ of shape $(1, n_1)$.\n",
    "\n",
    "* The bias terms feeding into the output layer are given by the vector $b_2$ of shape $(1, n_2)$.\n",
    "\n",
    "* The sigmoid activations for the hidden layer are given by the matrix $A_1$ of shape $(m, n_1)$.\n",
    "\n",
    "* The softmax outputs at the output layer are given by the matrix $A_2$ of shape $(m, n_2)$."
   ]
  },
  {
   "cell_type": "markdown",
   "metadata": {
    "deletable": false,
    "editable": false,
    "nbgrader": {
     "grade": false,
     "grade_id": "cell-d38530a1b9120d37",
     "locked": true,
     "schema_version": 1,
     "solution": false
    }
   },
   "source": [
    "##### Forward propagation with vectorization\n",
    "\n",
    "Re-implement the forward propagation function to handle all training samples simultaneously.  Make sure to take advantage of broadcasting!"
   ]
  },
  {
   "cell_type": "code",
   "execution_count": 41,
   "metadata": {
    "deletable": false,
    "nbgrader": {
     "grade": false,
     "grade_id": "cell-5d2b143c49cfe1f8",
     "locked": false,
     "schema_version": 1,
     "solution": true
    }
   },
   "outputs": [],
   "source": [
    "def forward_propagation_using_vectorization(W1, W2, b1, b2, X):\n",
    "    '''\n",
    "    Performs forward propagation on a set of data samples.\n",
    "    X is a matrix of input data, where each row corresponds to a single data sample.\n",
    "    \n",
    "    Returns a tuple of matrices (A1, A2) containing the activations at the hidden and output layers\n",
    "    for all training examples in X.\n",
    "    '''\n",
    "    #Matrix multiply and sigmoid activation\n",
    "    A1 = sigmoid(np.matmul(X,W1) + b1)\n",
    "    #Matrix multiply and softmax activation\n",
    "    A2 = softmax(np.matmul(A1,W2) + b2)\n",
    "    \n",
    "    return (A1, A2)"
   ]
  },
  {
   "cell_type": "code",
   "execution_count": 42,
   "metadata": {
    "deletable": false,
    "editable": false,
    "nbgrader": {
     "grade": false,
     "grade_id": "cell-286bc4d6d399d25d",
     "locked": true,
     "schema_version": 3,
     "solution": false,
     "task": false
    }
   },
   "outputs": [],
   "source": [
    "(A1, A2) = forward_propagation_using_vectorization(W1, W2, b1, b2, X)"
   ]
  },
  {
   "cell_type": "code",
   "execution_count": 43,
   "metadata": {
    "deletable": false,
    "editable": false,
    "nbgrader": {
     "grade": true,
     "grade_id": "cell-207d184f712491b0",
     "locked": true,
     "points": 3,
     "schema_version": 1,
     "solution": false
    }
   },
   "outputs": [],
   "source": [
    "m = X.shape[0]\n",
    "\n",
    "assert A1.shape[0] == m, \"The number of rows in A1 is incorrect.\"\n",
    "assert A1.shape[1] == n1, \"The number of columns in A1 is incorrect.\"\n",
    "\n",
    "assert A2.shape[0] == m, \"The number of rows in A2 is incorrect.\"\n",
    "assert A2.shape[1] == n2, \"The number of columns in A2 is incorrect.\"\n",
    "\n",
    "assert np.allclose(np.round(A1[50,0:4], decimals=8), np.array([9.9999983e-01, 9.9999989e-01, 1.0000000e+00, 1.8640000e-05])), \"Incorrect values in A1.\"\n",
    "assert np.allclose(np.round(A2[80,:], decimals=8), np.array([0.97858353, 0., 0.02141646])), \"Incorrect values in A2.\""
   ]
  },
  {
   "cell_type": "code",
   "execution_count": 44,
   "metadata": {
    "deletable": false,
    "editable": false,
    "nbgrader": {
     "grade": true,
     "grade_id": "cell-e71fc1861eae18cb",
     "locked": true,
     "points": 3,
     "schema_version": 3,
     "solution": false,
     "task": false
    }
   },
   "outputs": [],
   "source": [
    "# This cell has hidden tests, do not delete or edit it."
   ]
  },
  {
   "cell_type": "markdown",
   "metadata": {
    "deletable": false,
    "editable": false,
    "nbgrader": {
     "grade": false,
     "grade_id": "cell-8100d0944daf08bd",
     "locked": true,
     "schema_version": 1,
     "solution": false
    }
   },
   "source": [
    "##### Backward propagation using vectorization.\n",
    "\n",
    "Re-implement the backward propagation function to handle all training samples simultaneously. "
   ]
  },
  {
   "cell_type": "code",
   "execution_count": 45,
   "metadata": {
    "deletable": false,
    "nbgrader": {
     "grade": false,
     "grade_id": "cell-6e63a3081ade3038",
     "locked": false,
     "schema_version": 1,
     "solution": true
    }
   },
   "outputs": [],
   "source": [
    "def back_propagation_using_vectorization(W1, W2, b1, b2, A1, A2, X, Y):\n",
    "    '''\n",
    "    Performs backpropagation on a set of training samples using vectorization.\n",
    "    X is a matrix of input data, where each row corresponds to a single data sample.\n",
    "    Y is a matrix of target labels, where each row corresponds to a one hot encoded label.\n",
    "    \n",
    "    Returns a tuple of matrices (dW1, dW2, db1, db2) containing the average gradients across all training examples.\n",
    "    '''\n",
    "    m = X.shape[0]\n",
    "\n",
    "    # Save the shape of the biases for later\n",
    "    db1Shape = b1.shape\n",
    "    db2Shape = b2.shape\n",
    "    #Run through the gradients from part 1)\n",
    "    #This time, being careful with matrix dimensions\n",
    "    da2 = Y*np.reciprocal(A2)\n",
    "    dz2 = -Y  + A2\n",
    "    db2 = dz2\n",
    "    dW2 = np.matmul(A1.T,-Y) + np.matmul(A1.T, A2)\n",
    "    da1 = np.matmul(-Y,W2.T) + np.matmul(A2, W2.T)\n",
    "    dz1 = da1 *(1-A1)*A1\n",
    "    db1 = dz1\n",
    "    #Shape the biases into the shape of b1 and b2. Make sure to normalize sums\n",
    "    db1 = np.reshape(np.sum(db1, axis=0)/m, db1Shape)\n",
    "    db2 = np.reshape(np.sum(db2, axis=0)/m, db2Shape)\n",
    "    dW1 = np.matmul(X.T,dz1)\n",
    "    \n",
    "    return (dW1/m, dW2/m, db1, db2)"
   ]
  },
  {
   "cell_type": "code",
   "execution_count": 46,
   "metadata": {
    "deletable": false,
    "editable": false,
    "nbgrader": {
     "grade": false,
     "grade_id": "cell-11a32da3b4ff94ca",
     "locked": true,
     "schema_version": 1,
     "solution": false
    }
   },
   "outputs": [],
   "source": [
    "dW1, dW2, db1, db2 = back_propagation_using_vectorization(W1, W2, b1, b2, A1, A2, X, Y)"
   ]
  },
  {
   "cell_type": "code",
   "execution_count": 47,
   "metadata": {
    "deletable": false,
    "editable": false,
    "nbgrader": {
     "grade": true,
     "grade_id": "cell-800d0fae4f1c4077",
     "locked": true,
     "points": 6,
     "schema_version": 1,
     "solution": false
    }
   },
   "outputs": [],
   "source": [
    "assert isinstance(dW1, np.ndarray), \"dW1 should be a numpy array.\"\n",
    "assert isinstance(dW2, np.ndarray), \"dW2 should be a numpy array.\"\n",
    "\n",
    "assert dW2.shape[0] == n1, \"The number of rows in dW2 is incorrect.\"\n",
    "assert dW2.shape[1] == n2, \"The number of columns in dW2 is incorrect.\"\n",
    "\n",
    "assert dW1.shape[0] == n0, \"The number of rows in dW1 is incorrect.\"\n",
    "assert dW1.shape[1] == n1, \"The number of columns in dW1 is incorrect.\"\n",
    "\n",
    "assert isinstance(db1, np.ndarray), \"db1 should be a numpy array.\"\n",
    "assert isinstance(db2, np.ndarray), \"db2 should be a numpy array.\"\n",
    "\n",
    "assert db2.shape[0] == 1, \"The number of rows in db2 is incorrect.\"\n",
    "assert db2.shape[1] == n2, \"The number of columns in db2 is incorrect.\"\n",
    "\n",
    "assert db1.shape[0] == 1, \"The number of rows in db1 is incorrect.\"\n",
    "assert db1.shape[1] == n1, \"The number of columns in db1 is incorrect.\"\n",
    "\n",
    "assert np.allclose(np.round(dW1[:,5], decimals=8), np.array([ 0.00140916, -0.00019847, -0.00077643, -0.00097965])), \"Incorrect values in dW1.\"\n",
    "assert np.allclose(np.round(db1[0,0:4], decimals=8), np.array([-0.00079979, -0.00057636, -0.00034883, -0.00045457])), \"Incorrect values in db1.\""
   ]
  },
  {
   "cell_type": "code",
   "execution_count": 48,
   "metadata": {
    "deletable": false,
    "editable": false,
    "nbgrader": {
     "grade": true,
     "grade_id": "cell-f484c7afa1051b81",
     "locked": true,
     "points": 6,
     "schema_version": 3,
     "solution": false,
     "task": false
    }
   },
   "outputs": [],
   "source": [
    "# This cell has hidden tests, do not delete or edit it."
   ]
  },
  {
   "cell_type": "markdown",
   "metadata": {},
   "source": [
    "#### Gradient Checking\n",
    "\n",
    "You will implement a gradient checking function to verify that your backpropagation implementation is correct.  The gradient checking consists of the following steps:\n",
    "- Set your network weights to arbitrary default values.\n",
    "- Use your forward and backward propagation functions to calculate the gradients of the network weights.  These are the values that we would like to verify.\n",
    "- For each network weight, compute the approximate gradient by doing the following:\n",
    "    - Add a small epsilon to the weight/bias element of interest to create a modified set of network weights.\n",
    "    - Perform forward propagation and calculate the loss for the modified network weights ($J_+$).\n",
    "    - Subtract a small epsilon from the weight/bias element of interest to create another modified set of network weights.\n",
    "    - Perform forward propagation and calculate the loss of these modified network weights ($J_-$).\n",
    "    - Compute the approximate gradient for the element of interest as $\\frac{J_+ - J_-}{2 * \\epsilon}$.\n",
    "- Once you have computed an approximate gradient for each network weight, compare your approximate gradient to your backpropagated gradient to verify that they approximately match.\n",
    "\n",
    "To simplify your implementation, we will provide utility functions for flattening all network weights into a vector and extracting the network weights from a flattened vector."
   ]
  },
  {
   "cell_type": "code",
   "execution_count": 49,
   "metadata": {
    "deletable": false,
    "editable": false,
    "nbgrader": {
     "grade": false,
     "grade_id": "cell-03f94f0db38a2648",
     "locked": true,
     "schema_version": 1,
     "solution": false
    }
   },
   "outputs": [],
   "source": [
    "def flattened(W1, W2, b1, b2):\n",
    "    V = np.concatenate((W1.flatten(), W2.flatten(), b1.flatten(), b2.flatten()))\n",
    "    return V\n",
    "\n",
    "def reshaped(V, n0, n1, n2):\n",
    "    t1 = n0*n1\n",
    "    t2 = t1 + n1*n2\n",
    "    t3 = t2 + n1\n",
    "    W1 = V[:t1].reshape(n0, n1)\n",
    "    W2 = V[t1:t2].reshape(n1, n2)\n",
    "    b1 = V[t2:t3].reshape(1, n1)\n",
    "    b2 = V[t3:].reshape(1, n2)\n",
    "    return W1, W2, b1, b2"
   ]
  },
  {
   "cell_type": "code",
   "execution_count": 50,
   "metadata": {
    "deletable": false,
    "nbgrader": {
     "grade": false,
     "grade_id": "cell-8eed26ec413655ba",
     "locked": false,
     "schema_version": 1,
     "solution": true
    }
   },
   "outputs": [],
   "source": [
    "def gradient_checking(W1, W2, b1, b2, X, Y, epsilon = 1e-8):\n",
    "    \n",
    "    n0, n1, n2 = W1.shape[0], W2.shape[0], W2.shape[1]\n",
    "    (A1, A2) = forward_propagation_using_vectorization(W1, W2, b1, b2, X)\n",
    "    dW1, dW2, db1, db2 = back_propagation_using_vectorization(W1, W2, b1, b2, A1, A2, X, Y)\n",
    "    V = flattened(W1, W2, b1, b2)\n",
    "    grad = flattened(dW1, dW2, db1, db2)\n",
    "    grad_approx = np.zeros_like(grad)\n",
    "    \n",
    "    for i in range(len(V)):\n",
    "        \n",
    "        V_plus = V.copy()\n",
    "        V_plus[i] += epsilon\n",
    "        V_minus = V.copy()\n",
    "        V_minus[i] -= epsilon\n",
    "        \n",
    "        W1_plus, W2_plus, b1_plus, b2_plus = reshaped(V_plus, n0, n1, n2)\n",
    "        W1_minus, W2_minus, b1_minus, b2_minus = reshaped(V_minus, n0, n1, n2)\n",
    "        #Find predictions for the plus and minus conditions\n",
    "        A1p, A2p = forward_propagation_using_vectorization(W1_plus, W2_plus, b1_plus, b2_plus, X)\n",
    "        A1m, A2m = forward_propagation_using_vectorization(W1_minus, W2_minus, b1_minus, b2_minus, X)\n",
    "        #Find loss for each condition\n",
    "        lossp = cross_entropy_loss(A2p, Y)\n",
    "        lossm = cross_entropy_loss(A2m, Y)\n",
    "        #Find the approximate gradient value with the grad checking equation\n",
    "        a_gradval = (lossp - lossm)/(2*epsilon)\n",
    "        #add it to approximate gradients array\n",
    "        grad_approx[i] = a_gradval\n",
    "        \n",
    "    maxerror = np.max(np.abs(grad - grad_approx))\n",
    "    print(\"Max error in gradient approximation: {}\".format(maxerror))\n",
    "    if maxerror < epsilon:\n",
    "        print('Passes gradient checking')\n",
    "    else:\n",
    "        print('Fails gradient checking')\n",
    "    return maxerror"
   ]
  },
  {
   "cell_type": "code",
   "execution_count": 51,
   "metadata": {
    "deletable": false,
    "editable": false,
    "nbgrader": {
     "grade": false,
     "grade_id": "cell-82fa87c2c64e21d3",
     "locked": true,
     "schema_version": 1,
     "solution": false
    }
   },
   "outputs": [
    {
     "name": "stdout",
     "output_type": "stream",
     "text": [
      "Max error in gradient approximation: 1.5818385791770834e-09\n",
      "Passes gradient checking\n"
     ]
    }
   ],
   "source": [
    "maxerror = gradient_checking(W1, W2, b1, b2, X, Y)"
   ]
  },
  {
   "cell_type": "code",
   "execution_count": 52,
   "metadata": {
    "deletable": false,
    "editable": false,
    "nbgrader": {
     "grade": true,
     "grade_id": "cell-9ac25807fda5c343",
     "locked": true,
     "points": 5,
     "schema_version": 1,
     "solution": false
    }
   },
   "outputs": [],
   "source": [
    "assert maxerror < 1e-8, \"Gradient checking fails.\""
   ]
  },
  {
   "cell_type": "markdown",
   "metadata": {
    "deletable": false,
    "editable": false,
    "nbgrader": {
     "grade": false,
     "grade_id": "cell-3a2b9dc065ea4fb5",
     "locked": true,
     "schema_version": 1,
     "solution": false
    }
   },
   "source": [
    "##### Training using vectorization\n",
    "\n",
    "Re-implement the training function with vectorization.  Note that the inner for loop will be eliminated, since the forward and backward propagation functions now process the entire training set simultaneously.  You will still iterate multiple times thru the entire training dataset, so the outer for loop will remain.  Your vectorized implementation should be much, much faster than your earlier implementation!"
   ]
  },
  {
   "cell_type": "code",
   "execution_count": 53,
   "metadata": {
    "deletable": false,
    "nbgrader": {
     "grade": false,
     "grade_id": "cell-236b66d1780cbab5",
     "locked": false,
     "schema_version": 1,
     "solution": true
    }
   },
   "outputs": [],
   "source": [
    "def training_using_vectorization(X, Y, num_hidden, alpha, num_epochs):\n",
    "    '''\n",
    "    Learn the network weights on a set of training examples.  This implementation is vectorized.\n",
    "    \n",
    "    Inputs\n",
    "    ------\n",
    "    X: a matrix containing the training data, where each row corresponds to a single training example\n",
    "    Y: a matrix containing the target labels, where each row contains a one hot encoded target label.\n",
    "    num_hidden: specifies the number of hidden units in the neural network.\n",
    "    alpha: the learning rate for gradient descent\n",
    "    num_epochs: the number of times to iterate over the dataset\n",
    "    \n",
    "    Returns a tuple of matrices (W1, W2, b1, b2) containing the learned network weights.\n",
    "    '''\n",
    "    \n",
    "    n0 = X.shape[1] \n",
    "    n1 = num_hidden\n",
    "    n2 = Y.shape[1]\n",
    "    m = X.shape[0]\n",
    "    \n",
    "    W1, W2 = initialize_weights(n0, n1, n2)\n",
    "    b1, b2 = initialize_bias(n0, n1, n2)\n",
    "    \n",
    "    for epoch in range(num_epochs):\n",
    "        #Find the prediction with all weights\n",
    "        A1, A2 = forward_propagation_using_vectorization(W1, W2, b1, b2, X)\n",
    "        #backpropagate for gradients\n",
    "        dW1, dW2, db1, db2 = back_propagation_using_vectorization(W1, W2, b1, b2, A1, A2, X, Y)\n",
    "        #Calculate loss\n",
    "        loss = cross_entropy_loss(A2, Y)\n",
    "        #Update with gradients\n",
    "        W1, W2, b1, b2 = update_parameters(W1, W2, b1, b2, dW1, dW2, db1, db2, alpha)\n",
    "        \n",
    "        \n",
    "        if epoch % 100 == 0:\n",
    "            print('Epoch {}: Training Loss = {:.8f}'.format(epoch, loss))    \n",
    "    \n",
    "    return W1, W2, b1, b2"
   ]
  },
  {
   "cell_type": "code",
   "execution_count": 54,
   "metadata": {
    "deletable": false,
    "editable": false,
    "nbgrader": {
     "grade": false,
     "grade_id": "cell-27d66c80e96932e6",
     "locked": true,
     "schema_version": 1,
     "solution": false
    }
   },
   "outputs": [
    {
     "name": "stdout",
     "output_type": "stream",
     "text": [
      "Epoch 0: Training Loss = 1.09854246\n",
      "Epoch 100: Training Loss = 0.66769965\n",
      "Epoch 200: Training Loss = 0.62075226\n",
      "Epoch 300: Training Loss = 0.53313843\n",
      "Epoch 400: Training Loss = 0.43255480\n",
      "Epoch 500: Training Loss = 0.37279295\n",
      "Epoch 600: Training Loss = 0.33923461\n",
      "Epoch 700: Training Loss = 0.31482535\n",
      "Epoch 800: Training Loss = 0.29518944\n",
      "Epoch 900: Training Loss = 0.27612031\n",
      "Epoch 1000: Training Loss = 0.25750832\n",
      "Epoch 1100: Training Loss = 0.24231282\n",
      "Epoch 1200: Training Loss = 0.22891277\n",
      "Epoch 1300: Training Loss = 0.21669590\n",
      "Epoch 1400: Training Loss = 0.20563874\n",
      "Epoch 1500: Training Loss = 0.19562613\n",
      "Epoch 1600: Training Loss = 0.18646676\n",
      "Epoch 1700: Training Loss = 0.17798751\n",
      "Epoch 1800: Training Loss = 0.16999538\n",
      "Epoch 1900: Training Loss = 0.16210703\n",
      "Epoch 2000: Training Loss = 0.15379149\n",
      "Epoch 2100: Training Loss = 0.14540899\n",
      "Epoch 2200: Training Loss = 0.13679592\n",
      "Epoch 2300: Training Loss = 0.12806248\n",
      "Epoch 2400: Training Loss = 0.11971815\n",
      "Epoch 2500: Training Loss = 0.11181989\n",
      "Epoch 2600: Training Loss = 0.10432723\n",
      "Epoch 2700: Training Loss = 0.09727166\n",
      "Epoch 2800: Training Loss = 0.09075262\n",
      "Epoch 2900: Training Loss = 0.08483663\n"
     ]
    }
   ],
   "source": [
    "W1, W2, b1, b2 = training_using_vectorization(X, Y, n1, 1, 3000)"
   ]
  },
  {
   "cell_type": "code",
   "execution_count": 55,
   "metadata": {
    "deletable": false,
    "editable": false,
    "nbgrader": {
     "grade": true,
     "grade_id": "cell-efbd6e34ff91e003",
     "locked": true,
     "points": 3,
     "schema_version": 1,
     "solution": false
    }
   },
   "outputs": [],
   "source": [
    "assert isinstance(b1, np.ndarray), \"b1 should be a numpy array.\"\n",
    "assert isinstance(b2, np.ndarray), \"b2 should be a numpy array.\"\n",
    "\n",
    "assert b1.shape[0] == 1, \"The number of rows in b1 is incorrect.\"\n",
    "assert b1.shape[1] == n1, \"The number of columns in b1 is incorrect.\"\n",
    "\n",
    "assert b2.shape[0] == 1, \"The number of rows in b2 is incorrect.\"\n",
    "assert b2.shape[1] == n2, \"The number of columns in b2 is incorrect.\"\n",
    "\n",
    "assert isinstance(W1, np.ndarray), \"W1 should be a numpy array.\"\n",
    "assert isinstance(W2, np.ndarray), \"W2 should be a numpy array.\"\n",
    "\n",
    "assert W1.shape[0] == n0, \"The number of rows in W1 is incorrect.\"\n",
    "assert W1.shape[1] == n1, \"The number of columns in W1 is incorrect.\"\n",
    "\n",
    "assert W2.shape[0] == n1, \"The number of rows in W2 is incorrect.\"\n",
    "assert W2.shape[1] == n2, \"The number of columns in W2 is incorrect.\"\n",
    "\n",
    "assert np.allclose(np.round(W1[0,:], decimals=8), np.array([1.26422707, -0.70762336, 7.20233002, -2.53263138, 3.40793382, -5.59849532, 3.61526723]))\n",
    "assert np.allclose(np.round(b1, decimals = 8), np.array([6.93259983, 6.38592697, -1.368562, 3.32583488, 4.44835927, 2.09694021, -1.09501032]))"
   ]
  },
  {
   "cell_type": "code",
   "execution_count": 56,
   "metadata": {
    "deletable": false,
    "editable": false,
    "nbgrader": {
     "grade": false,
     "grade_id": "cell-2b3da38b1db9f488",
     "locked": true,
     "points": 2,
     "schema_version": 3,
     "solution": false,
     "task": true
    }
   },
   "outputs": [
    {
     "ename": "SyntaxError",
     "evalue": "invalid syntax (37804519.py, line 1)",
     "output_type": "error",
     "traceback": [
      "\u001b[0;36m  File \u001b[0;32m\"/tmp/ipykernel_22274/37804519.py\"\u001b[0;36m, line \u001b[0;32m1\u001b[0m\n\u001b[0;31m    For grading purpose: accuracy\u001b[0m\n\u001b[0m        ^\u001b[0m\n\u001b[0;31mSyntaxError\u001b[0m\u001b[0;31m:\u001b[0m invalid syntax\n"
     ]
    }
   ],
   "source": [
    "For grading purpose: accuracy"
   ]
  },
  {
   "cell_type": "markdown",
   "metadata": {
    "deletable": false,
    "editable": false,
    "nbgrader": {
     "grade": false,
     "grade_id": "cell-14c926d99aa1cf95",
     "locked": true,
     "schema_version": 1,
     "solution": false
    }
   },
   "source": [
    "##### Prediction using vectorization\n",
    "\n",
    "Re-implement the prediction function using vectorization."
   ]
  },
  {
   "cell_type": "code",
   "execution_count": 57,
   "metadata": {
    "deletable": false,
    "nbgrader": {
     "grade": false,
     "grade_id": "cell-07ee2343ff3cedbe",
     "locked": false,
     "schema_version": 3,
     "solution": true,
     "task": false
    }
   },
   "outputs": [],
   "source": [
    "def predict_using_vectorization(W1, W2, b1, b2, X):\n",
    "    '''\n",
    "    Returns the predicted labels 'Y' and class probabilities 'P' for a set of data samples.\n",
    "    X is a matrix specifying the data, where each row corresponds to a single data sample.\n",
    "    Y is a vector of integers specifying the predicted class labels.\n",
    "    P is matrix of probabilities, where each row specifies the class probabilities for a single data sample.\n",
    "    '''\n",
    "    #Forward propagate for predictions\n",
    "    A1, P = forward_propagation_using_vectorization(W1, W2, b1, b2, X)\n",
    "    #Maximum value index is predicted class\n",
    "    Y = np.argmax(P, axis = 1)\n",
    "    return Y, P"
   ]
  },
  {
   "cell_type": "code",
   "execution_count": 58,
   "metadata": {
    "deletable": false,
    "editable": false,
    "nbgrader": {
     "grade": false,
     "grade_id": "cell-aff2ffbdcac1001a",
     "locked": true,
     "schema_version": 1,
     "solution": false
    }
   },
   "outputs": [],
   "source": [
    "Y_pred, P = predict_using_vectorization(W1, W2, b1, b2, X)"
   ]
  },
  {
   "cell_type": "code",
   "execution_count": 59,
   "metadata": {
    "deletable": false,
    "editable": false,
    "nbgrader": {
     "grade": true,
     "grade_id": "cell-747730af2b492951",
     "locked": true,
     "points": 3,
     "schema_version": 3,
     "solution": false,
     "task": false
    }
   },
   "outputs": [],
   "source": [
    "assert isinstance(Y_pred, np.ndarray) and Y_pred.shape == (X.shape[0],), \"Y should be a numpy array of shape (m,)\"\n",
    "assert isinstance(P, np.ndarray) and P.shape == (X.shape[0], n2), \"P should be a numpy array of shape (m, n2).\"\n",
    "assert np.array_equal(Y_pred[0:5], np.array([2, 0, 2, 1, 1])), \"Incorrect predicted labels.\"\n",
    "assert np.allclose(np.round(P[15,:], decimals = 8), np.array([2.8000000e-07, 9.9999825e-01, 1.4700000e-06])), \"Incorrect class probabilities (test 1).\"\n",
    "assert np.allclose(np.round(P[25,:], decimals=8), np.array([0.14677544, 0.06200546, 0.7912191 ])), \"Incorrect class probabilities (test 2).\""
   ]
  },
  {
   "cell_type": "markdown",
   "metadata": {},
   "source": [
    "## Part 3\n",
    "\n",
    "In the third part of this assignment, you will use the functions you implemented to train an autoencoder.  An autoencoder is a neural network whose inputs and outputs are identical.  In other words, it is a network that is trained to learn the identity function.  You will train a neural network with 8 inputs, 3 hidden units, and 8 outputs.\n",
    "\n",
    "Why is learning the identity function useful?  By using a smaller number of hidden units than the number of inputs, we can force the neural network to learn a representation of the input that is more compact.\n",
    "\n",
    "This part of the assignment is open-ended.  Your goal is to do the following:\n",
    "- Create a set of inputs and outputs to train the autoencoder.  The data samples should be one hot encoded labels for eight different classes.  Since there are only 8 different possibilities, your data set should contain 8 data samples.\n",
    "- Train a neural network with 3 hidden units using the functions you implemented in parts 1 and 2.  Train the network until the training loss has approximately converged.\n",
    "- Look at the 3-dimensional representation for each of the 8 possible inputs.  Comment on what you observe.\n",
    "\n",
    "You may use as many cells and code blocks as necessary."
   ]
  },
  {
   "cell_type": "code",
   "execution_count": 60,
   "metadata": {
    "deletable": false,
    "nbgrader": {
     "grade": true,
     "grade_id": "cell-aad55a7c617b447c",
     "locked": false,
     "points": 1,
     "schema_version": 3,
     "solution": true,
     "task": false
    }
   },
   "outputs": [],
   "source": [
    "# Create a set of inputs\n",
    "\n",
    "# Define our network layer sizes and training set size\n",
    "n0 = 8 # size of input layer\n",
    "n1 = 3 # size of hidden layer\n",
    "n2 = 8 # size of output layer\n",
    "N = 100000 # size of training set\n",
    "X = []\n",
    "\n",
    "#Create data:\n",
    "for i in range(N):\n",
    "    index = int(np.random.rand(1) * 8) #Randomly decide a value 1-8\n",
    "    #Create a training sample with a 1 at decided index\n",
    "    temp = np.zeros(8)\n",
    "    temp[index] = 1\n",
    "    X.append(temp)\n",
    "#Make the training set a numpy array and set labels equal to inputs\n",
    "#for autoencoder\n",
    "X = np.array(X)\n",
    "Y = X"
   ]
  },
  {
   "cell_type": "code",
   "execution_count": 61,
   "metadata": {
    "deletable": false,
    "nbgrader": {
     "grade": true,
     "grade_id": "cell-ed724509fb170f58",
     "locked": false,
     "points": 2,
     "schema_version": 3,
     "solution": true,
     "task": false
    }
   },
   "outputs": [
    {
     "name": "stdout",
     "output_type": "stream",
     "text": [
      "Epoch 0: Training Loss = 2.07950805\n",
      "Epoch 100: Training Loss = 2.06730969\n",
      "Epoch 200: Training Loss = 1.39399517\n",
      "Epoch 300: Training Loss = 0.50617516\n",
      "Epoch 400: Training Loss = 0.20823116\n",
      "Epoch 500: Training Loss = 0.12266651\n",
      "Epoch 600: Training Loss = 0.08590644\n",
      "Epoch 700: Training Loss = 0.06587001\n",
      "Epoch 800: Training Loss = 0.05334363\n",
      "Epoch 900: Training Loss = 0.04479530\n",
      "Epoch 1000: Training Loss = 0.03859810\n",
      "Epoch 1100: Training Loss = 0.03390270\n",
      "Epoch 1200: Training Loss = 0.03022369\n",
      "Epoch 1300: Training Loss = 0.02726402\n",
      "Epoch 1400: Training Loss = 0.02483188\n",
      "Epoch 1500: Training Loss = 0.02279797\n",
      "Epoch 1600: Training Loss = 0.02107200\n",
      "Epoch 1700: Training Loss = 0.01958901\n",
      "Epoch 1800: Training Loss = 0.01830112\n",
      "Epoch 1900: Training Loss = 0.01717221\n"
     ]
    }
   ],
   "source": [
    "# Train your network. Use as many cells and code blocks as necessary.\n",
    "\n",
    "# Run the training loop on our dataset\n",
    "# Can reduce the iterations or size of train set to improve runtime\n",
    "W1, W2, b1, b2 = training_using_vectorization(X, Y, n1, 1, 2000)"
   ]
  },
  {
   "cell_type": "markdown",
   "metadata": {
    "deletable": false,
    "nbgrader": {
     "grade": true,
     "grade_id": "cell-ffd7f3754e72c5fd",
     "locked": false,
     "points": 1,
     "schema_version": 3,
     "solution": true,
     "task": false
    }
   },
   "source": [
    "The autoencoder works by encoding the 8 inputs to be as far away from each other as possible in 3D space. This is further explored below. Let's look at the values and a graph of the 8 representations:"
   ]
  },
  {
   "cell_type": "code",
   "execution_count": 62,
   "metadata": {
    "deletable": false,
    "nbgrader": {
     "grade": true,
     "grade_id": "cell-6f81978177a30c69",
     "locked": false,
     "points": 1,
     "schema_version": 3,
     "solution": true,
     "task": false
    }
   },
   "outputs": [
    {
     "name": "stdout",
     "output_type": "stream",
     "text": [
      "Representations generated by the model:\n",
      "[[ 4.   -3.89  2.91]]\n",
      "[[ 3.05  3.47 -3.95]]\n",
      "[[-3.69 -3.38 -2.77]]\n",
      "[[-3.44 -3.9   4.21]]\n",
      "[[3.5  3.4  3.21]]\n",
      "[[-3.96  4.11 -3.38]]\n",
      "[[ 3.4  -3.55 -4.22]]\n",
      "[[-3.69  3.01  3.53]]\n"
     ]
    },
    {
     "data": {
      "image/png": "[encoded data removed]",
      "text/plain": [
       "<Figure size 432x288 with 1 Axes>"
      ]
     },
     "metadata": {
      "needs_background": "light"
     },
     "output_type": "display_data"
    }
   ],
   "source": [
    "# Look at the 3-dimensional representation for each of the 8 possible inputs. \n",
    "#Import tools for graphing\n",
    "from mpl_toolkits import mplot3d\n",
    "import matplotlib.pyplot as plt\n",
    "\n",
    "#Create a figure for 3D plotting\n",
    "fig = plt.figure()\n",
    "ax = plt.axes(projection='3d')\n",
    "plt.title('3D representation from autoencoder')\n",
    "plt.xlabel('x')\n",
    "plt.ylabel('y')\n",
    "#Create a vector for storing the 3D representations of the 8D inputs\n",
    "repns = []\n",
    "print(\"Representations generated by the model:\")\n",
    "#For each representation, plot in 3D space\n",
    "for i in range(8):\n",
    "    x = np.zeros(8)\n",
    "    x[i] = 1 #Create one of the inputs\n",
    "    rep = np.matmul(x, W1)+b1 #Run through model for 3D representation\n",
    "    repns.append(rep) #Save representation for later\n",
    "    #Plot it in 3D!\n",
    "    line = np.array(([0, rep[0][0]],[0, rep[0][1]],[0, rep[0][2]]))\n",
    "    ax.plot3D(line[0], line[1], line[2])\n",
    "    #Also print the vectors for each representation in 3D\n",
    "    print(np.around(rep,2))"
   ]
  },
  {
   "cell_type": "markdown",
   "metadata": {},
   "source": [
    "The Encoder looks like it is building a cube! Each of the representations points towards a different corner of the cube, making the maximum separation of the eight representations in three dimensional space. This makes sense because having the most possible separation in 3D makes it easiest to discern each input when converting back to 8D in the output layer.\n",
    "\n",
    "We can also look at the angle between the representations:"
   ]
  },
  {
   "cell_type": "code",
   "execution_count": 63,
   "metadata": {},
   "outputs": [
    {
     "name": "stdout",
     "output_type": "stream",
     "text": [
      "Angles between the representations in 3D space\n",
      "Row 1 is angles from representation 1 to all other representations, etc\n",
      "\n",
      "[[  0.  109.5 105.5  71.1  74.1 176.5  68.2 115.8]\n",
      " [109.5   0.  110.3 178.5  74.   67.3  68.1 114.1]\n",
      " [105.5 110.3   0.   68.2 175.4  74.6  72.5 100.7]\n",
      " [ 71.1 178.5  68.2   0.  107.5 112.  111.2  66.5]\n",
      " [ 74.1  74.  175.4 107.5   0.  106.1 111.3  75.5]\n",
      " [176.5  67.3  74.6 112.  106.1   0.  108.7  67.4]\n",
      " [ 68.2  68.1  72.5 111.2 111.3 108.7   0.  173.1]\n",
      " [115.8 114.1 100.7  66.5  75.5  67.4 173.1   0. ]]\n"
     ]
    }
   ],
   "source": [
    "#Create some functions for calculating angles between 3d vectors\n",
    "import math\n",
    "def dotproduct(v1, v2):\n",
    "  return sum((a*b) for a, b in zip(v1, v2))\n",
    "\n",
    "def length(v):\n",
    "  return math.sqrt(dotproduct(v, v))\n",
    "\n",
    "def angle(v1, v2):\n",
    "  return math.acos(dotproduct(v1, v2) / (length(v1) * length(v2)))\n",
    "\n",
    "#Find the angle between every representation and all other representations\n",
    "#Put them in a matrix angles\n",
    "angles = np.zeros((8,8))\n",
    "for i in range(8):\n",
    "    for j in range(8):\n",
    "        if i!=j:\n",
    "            angles[i][j]=angle(repns[i][0], repns[j][0])\n",
    "#Convert radians to degrees\n",
    "print(\"Angles between the representations in 3D space\")\n",
    "print(\"Row 1 is angles from representation 1 to all other representations, etc\\n\")\n",
    "print(np.around(angles * 180/math.pi, 1))\n"
   ]
  },
  {
   "cell_type": "markdown",
   "metadata": {},
   "source": [
    "For a perfect cube(which creates the most separation between eight points in 3D), we would expect each representation to have an angle of 0 with itself, angle of 70.5 deg with three other representations, angle of 109.5 deg with three more representations, and angle of 180 deg with the final representation. The angles produced by our autoencoder match this very closely! The neural net was able to produce a nearly optimal separation of the eight representations in 3D space.\n",
    "\n",
    "Generally, it seems that for any number of inputs n and hidden layers h, the autoencoder tries to map the n inputs to h-dimensional vectors with the most separation between them."
   ]
  }
 ],
 "metadata": {
  "kernelspec": {
   "display_name": "Python 3 (ipykernel)",
   "language": "python",
   "name": "python3"
  },
  "language_info": {
   "codemirror_mode": {
    "name": "ipython",
    "version": 3
   },
   "file_extension": ".py",
   "mimetype": "text/x-python",
   "name": "python",
   "nbconvert_exporter": "python",
   "pygments_lexer": "ipython3",
   "version": "3.8.5"
  }
 },
 "nbformat": 4,
 "nbformat_minor": 2
}
