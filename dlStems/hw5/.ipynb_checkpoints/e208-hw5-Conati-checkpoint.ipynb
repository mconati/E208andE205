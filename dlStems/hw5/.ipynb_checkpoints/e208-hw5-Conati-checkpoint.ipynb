{
 "cells": [
  {
   "cell_type": "markdown",
   "metadata": {
    "deletable": false,
    "editable": false,
    "nbgrader": {
     "cell_type": "markdown",
     "checksum": "499bd9686299961c3426d6bb2de4f1df",
     "grade": false,
     "grade_id": "cell-53bb2218cccd55eb",
     "locked": true,
     "schema_version": 3,
     "solution": false
    }
   },
   "source": [
    "# HW 5: Neural Network Improvements\n",
    "\n",
    "In this homework assignment, you will implement a more complex neural network with several improvements.\n",
    "\n",
    "There are three parts to this assignment:\n",
    "- In part 1, you will implement a neural network with 2 hidden layers, rectified linear units, regularization, and mini-batch gradient descent.\n",
    "- In part 2, you will incorporate dropout into your neural network.\n",
    "- In part 3, you will use your neural network to classify handwritten digits.\n",
    "\n",
    "A few important notes:\n",
    "* For autograding purposes, many cells are set in *read-only* mode.  This means you cannot edit, delete, or move these cells. \n",
    "\n",
    "* For part 1, you should not modify any code except where you see `# YOUR CODE HERE`.  Please remove `raise NotImplementedError()` and write your code in its place.\n",
    "\n",
    "* We provide code cells that check your code as you progress through the assignment. These tests will help catch obvious errors, but passing these tests is not a guarantee that your implementation is correct. Your notebook will be graded on a more complete set of tests which are not visible to you.\n",
    "\n",
    "* You may add new cells anywhere in the notebook while working, but make sure to delete them before submitting your assignment.  Please do not change the sequence of the cells.  This is to ensure that autograding works properly.\n",
    "\n",
    "* If you run cells out of order, it may change variable values which may cause tests to fail.  The easiest way to avoid this problem is to use the ***Restart & Run all*** option available in the **Kernel** tab.  Before submitting, you should do this to ensure that your notebook can be run from beginning to end without errors.  This is how your notebook will be graded."
   ]
  },
  {
   "cell_type": "markdown",
   "metadata": {
    "deletable": false,
    "editable": false,
    "nbgrader": {
     "cell_type": "markdown",
     "checksum": "8746473534dd39b0be0a59eedea98aec",
     "grade": false,
     "grade_id": "cell-91dcc7999a9e85dd",
     "locked": true,
     "schema_version": 3,
     "solution": false,
     "task": false
    }
   },
   "source": [
    "## Part 1\n",
    "\n",
    "In the first part of this assignment, you will re-implement the neural network from last week but with the following changes:\n",
    "- two hidden layers instead of one\n",
    "- the activations of the hidden layers are rectified linear units (ReLU), not sigmoid functions\n",
    "- initializing weights with He initialization\n",
    "- adding dropout to the hidden layers\n",
    "- loss function will incorporate a regularization term\n",
    "- mini-batch gradient descent instead of batch gradient descent"
   ]
  },
  {
   "cell_type": "markdown",
   "metadata": {
    "deletable": false,
    "editable": false,
    "nbgrader": {
     "cell_type": "markdown",
     "checksum": "471e2e2af45a59b2f1cbe8de6e4e2bd1",
     "grade": false,
     "grade_id": "cell-cd53681a3204e71b",
     "locked": true,
     "schema_version": 3,
     "solution": false,
     "task": false
    }
   },
   "source": [
    "Let's define our notation:\n",
    "\n",
    "* The number of nodes in the input, first hidden, second hidden, and output layers are $n_0$, $n_1$, $n_2$, and $n_3$ respectively.\n",
    "\n",
    "* The batch size is given by $m$.\n",
    "\n",
    "* Each input batch $X$ is an array of shape $(m, n_0)$, and the corresponding target labels $Y$ is an array of shape $(m, n_3)$.\n",
    "\n",
    "* The weights connecting the layers are given by the matrices $W_1$, $W_2$ and $W_3$ of shapes $(n_0, n_1)$, $(n_1, n_2)$ and $(n_2, n_3)$ respectively.\n",
    "\n",
    "* The bias terms are given by the arrays $b_1$, $b_2$ and $b_3$ of shapes $(1, n_1)$, $(1, n_2)$ and $(1, n_3)$ respectively.\n",
    "\n",
    "* The activation function for the hidden layers is a rectified linear unit (ReLU).\n",
    "\n",
    "* The activation function for the output layer is the softmax function.\n",
    "\n",
    "* The activations for the layers are given by the matrices $A_1$, $A_2$ and $A_3$ of shapes $(m, n_1)$, $(m, n_2)$ and $(m, n_3)$ respectively."
   ]
  },
  {
   "cell_type": "code",
   "execution_count": 1,
   "metadata": {
    "deletable": false,
    "editable": false,
    "nbgrader": {
     "cell_type": "code",
     "checksum": "fe8ba6b7726b0ee5b041eee35b2932da",
     "grade": false,
     "grade_id": "cell-14d8474dec121569",
     "locked": true,
     "schema_version": 3,
     "solution": false
    }
   },
   "outputs": [],
   "source": [
    "n0 = 4 # size of input layer\n",
    "n1 = 3 # size of 1st hidden layer\n",
    "n2 = 5 # size of 2nd hidden layer\n",
    "n3 = 3 # size of output layer\n",
    "m = 50 # batch size\n",
    "N = 1000 # total number of training samples"
   ]
  },
  {
   "cell_type": "code",
   "execution_count": 2,
   "metadata": {
    "deletable": false,
    "editable": false,
    "nbgrader": {
     "cell_type": "code",
     "checksum": "46371e266ddf0f146d984358ea9c36de",
     "grade": false,
     "grade_id": "cell-3398bc2c1228257c",
     "locked": true,
     "schema_version": 3,
     "solution": false
    }
   },
   "outputs": [],
   "source": [
    "import numpy as np"
   ]
  },
  {
   "cell_type": "markdown",
   "metadata": {
    "deletable": false,
    "editable": false,
    "nbgrader": {
     "cell_type": "markdown",
     "checksum": "47adf9142dc6eec3cc0f453160c8515b",
     "grade": false,
     "grade_id": "cell-2275f6e6b316168f",
     "locked": true,
     "schema_version": 3,
     "solution": false
    }
   },
   "source": [
    "To test our functions, we can generate a dataset suitable for a classification task using [`make_classification`](https://scikit-learn.org/stable/modules/generated/sklearn.datasets.make_classification.html) in [scikit-learn](https://scikit-learn.org/stable/)."
   ]
  },
  {
   "cell_type": "code",
   "execution_count": 3,
   "metadata": {
    "deletable": false,
    "editable": false,
    "nbgrader": {
     "cell_type": "code",
     "checksum": "2da7bcdc84b0afde30ec7baed2ad0918",
     "grade": false,
     "grade_id": "cell-5d9607397bc0369f",
     "locked": true,
     "schema_version": 3,
     "solution": false
    }
   },
   "outputs": [],
   "source": [
    "from sklearn.datasets import make_classification\n",
    "\n",
    "X_all, Y_all = make_classification(n_samples=2*N, n_features=n0, n_redundant=0, n_informative=n0, n_classes=n3, random_state=1)\n",
    "Y_all = np.eye(n3)[Y_all] # one hot encode\n",
    "X_train = X_all[0:N,:] # split into train and validation sets\n",
    "Y_train = Y_all[0:N,:]\n",
    "X_val = X_all[N:,:]\n",
    "Y_val = Y_all[N:,:]\n",
    "X = X_train[0:m,:] # single batch of training samples\n",
    "Y = Y_train[0:m, :]\n",
    "x = X_train[0,:].reshape((1,-1)) # single sample\n",
    "y = Y_train[0,:].reshape((1,-1))"
   ]
  },
  {
   "cell_type": "code",
   "execution_count": 4,
   "metadata": {
    "deletable": false,
    "editable": false,
    "nbgrader": {
     "cell_type": "code",
     "checksum": "e19b0ff0ea8ac93dd9870267fd102e6c",
     "grade": false,
     "grade_id": "cell-84fbccbd04359d64",
     "locked": true,
     "schema_version": 3,
     "solution": false
    }
   },
   "outputs": [],
   "source": [
    "assert X.shape[1] == n0\n",
    "assert Y.shape[1] == n3\n",
    "assert X.shape[0] == Y.shape[0]"
   ]
  },
  {
   "cell_type": "markdown",
   "metadata": {
    "deletable": false,
    "editable": false,
    "nbgrader": {
     "cell_type": "markdown",
     "checksum": "326014d869a54b12b472f9264a638f1d",
     "grade": false,
     "grade_id": "cell-b1a4985230a29c6d",
     "locked": true,
     "schema_version": 3,
     "solution": false
    }
   },
   "source": [
    "#### Initialize weight matrices\n",
    "\n",
    "Initialize the weight matrices $W_1$, $W_2$, and $W_3$ using He initialization.  This scheme initializes weight matrices with random normally distributed values with variance $\\frac{2}{n}$, where $n$ is the number of inputs to the layer.  He initialization is specifically designed for neural networks using ReLU activation functions and is described in this [research paper](https://arxiv.org/abs/1502.01852)."
   ]
  },
  {
   "cell_type": "code",
   "execution_count": 5,
   "metadata": {
    "deletable": false,
    "nbgrader": {
     "cell_type": "code",
     "checksum": "385370a79dda44b9baa2b803fecd9921",
     "grade": false,
     "grade_id": "weights",
     "locked": false,
     "schema_version": 3,
     "solution": true
    }
   },
   "outputs": [],
   "source": [
    "def initialize_weights(n0, n1, n2, n3):\n",
    "    '''\n",
    "    Returns a tuple (W1, W2, W3) containing the initialized weight matrices.  Uses He initialization.\n",
    "    '''\n",
    "    np.random.seed(0)\n",
    "    \n",
    "    mu = 0\n",
    "    #Initialize with He initialization. Use the given sizes and find standard deviations\n",
    "    w1Size  = (n0,n1)\n",
    "    w1Sigma = np.sqrt(2/n0)\n",
    "    w2Size = (n1,n2)\n",
    "    w2Sigma = np.sqrt(2/n1)\n",
    "    w3Size = (n2,n3)\n",
    "    w3Sigma = np.sqrt(2/n2)\n",
    "    \n",
    "    #Initialize with the standard deviations\n",
    "    W1 = np.random.normal(mu, w1Sigma, w1Size)\n",
    "    W2 = np.random.normal(mu, w2Sigma, w2Size)\n",
    "    W3 = np.random.normal(mu, w3Sigma, w3Size)\n",
    "    \n",
    "    return (W1, W2, W3)\n"
   ]
  },
  {
   "cell_type": "code",
   "execution_count": 6,
   "metadata": {
    "deletable": false,
    "editable": false,
    "nbgrader": {
     "cell_type": "code",
     "checksum": "a298ad420cc0d1402f3f6144cf3da174",
     "grade": false,
     "grade_id": "cell-83f22147650c23d9",
     "locked": true,
     "schema_version": 3,
     "solution": false
    }
   },
   "outputs": [],
   "source": [
    "W1, W2, W3 = initialize_weights(n0, n1, n2, n3)"
   ]
  },
  {
   "cell_type": "code",
   "execution_count": 7,
   "metadata": {
    "deletable": false,
    "editable": false,
    "nbgrader": {
     "cell_type": "code",
     "checksum": "111868af59ea931249517f9771e76e34",
     "grade": true,
     "grade_id": "weights_test",
     "locked": true,
     "points": 2,
     "schema_version": 3,
     "solution": false
    }
   },
   "outputs": [],
   "source": [
    "assert isinstance(W1, np.ndarray), \"W1 should be a numpy array.\"\n",
    "assert isinstance(W2, np.ndarray), \"W2 should be a numpy array.\"\n",
    "assert isinstance(W3, np.ndarray), \"W3 should be a numpy array.\"\n",
    "\n",
    "assert W1.shape[0] == n0, \"The number of rows in W1 is incorrect.\"\n",
    "assert W1.shape[1] == n1, \"The number of columns in W1 is incorrect.\"\n",
    "\n",
    "assert W2.shape[0] == n1, \"The number of rows in W2 is incorrect.\"\n",
    "assert W2.shape[1] == n2, \"The number of columns in W2 is incorrect.\"\n",
    "\n",
    "assert W3.shape[0] == n2, \"The number of rows in W3 is incorrect.\"\n",
    "assert W3.shape[1] == n3, \"The number of columns in W3 is incorrect.\"\n",
    "\n",
    "assert np.sum(np.abs(W1)) != 0, \"All the elements in W1 should not be zero.\"\n",
    "assert np.sum(np.abs(W2)) != 0, \"All the elements in W2 should not be zero.\"\n",
    "assert np.sum(np.abs(W3)) != 0, \"All the elements in W3 should not be zero.\"\n",
    "\n",
    "assert np.allclose(np.round(W1[0,:], decimals=8), np.array([1.24737338, 0.28295388, 0.69207227])), \"Incorrect variance for weights in W1.\"\n",
    "assert np.allclose(np.round(W2[0,:], decimals=8), np.array([0.6213847 , 0.09934723, 0.36241281, 0.27244395, 1.21991045])), \"Incorrect variance for weights in W2.\"\n",
    "assert np.allclose(np.round(W3[0,:], decimals=8), np.array([-0.11838546,  0.96941469,  0.92930408])), \"Incorrect variance for weights in W3.\""
   ]
  },
  {
   "cell_type": "markdown",
   "metadata": {
    "deletable": false,
    "editable": false,
    "nbgrader": {
     "cell_type": "markdown",
     "checksum": "f03e285a7fd9dcad901f1d8b2e64fecb",
     "grade": false,
     "grade_id": "cell-483ee48adcdd5c99",
     "locked": true,
     "schema_version": 3,
     "solution": false
    }
   },
   "source": [
    "#### Initialize bias terms\n",
    "\n",
    "Initialize the bias terms $b_1$, $b_2$, and $b_3$ to $0.01$.  By using a small positive bias, we ensure that all rectified linear units fire in the beginning and are able to propagate gradients during backpropagation."
   ]
  },
  {
   "cell_type": "code",
   "execution_count": 8,
   "metadata": {
    "deletable": false,
    "nbgrader": {
     "cell_type": "code",
     "checksum": "22debed5a21b2e64a1201f116163c846",
     "grade": false,
     "grade_id": "cell-df2b5c453a4a7798",
     "locked": false,
     "schema_version": 3,
     "solution": true
    }
   },
   "outputs": [],
   "source": [
    "def initialize_bias(n0, n1, n2, n3):\n",
    "    '''\n",
    "    Returns a tuple of vectors (b1, b2, b3) with the initialized bias terms.\n",
    "    '''\n",
    "    \n",
    "    # Initialize the biases to 0.01\n",
    "    b1 = np.zeros((1,n1))+0.01\n",
    "    b2 = np.zeros((1,n2))+0.01\n",
    "    b3 = np.zeros((1,n3))+0.01\n",
    "    return (b1, b2, b3)"
   ]
  },
  {
   "cell_type": "code",
   "execution_count": 9,
   "metadata": {
    "deletable": false,
    "editable": false,
    "nbgrader": {
     "cell_type": "code",
     "checksum": "d7742bb3a941ee47c88026035d4a451c",
     "grade": false,
     "grade_id": "cell-f8f214ee35fb5f3a",
     "locked": true,
     "schema_version": 3,
     "solution": false
    }
   },
   "outputs": [],
   "source": [
    "b1, b2, b3 = initialize_bias(n0, n1, n2, n3)"
   ]
  },
  {
   "cell_type": "code",
   "execution_count": 10,
   "metadata": {
    "deletable": false,
    "editable": false,
    "nbgrader": {
     "cell_type": "code",
     "checksum": "4a312dae46eab70fb09a88e9d146cf47",
     "grade": true,
     "grade_id": "cell-1559c5504a1e54a1",
     "locked": true,
     "points": 1,
     "schema_version": 3,
     "solution": false
    }
   },
   "outputs": [],
   "source": [
    "assert isinstance(b1, np.ndarray), \"b1 should be a numpy array.\"\n",
    "assert isinstance(b2, np.ndarray), \"b2 should be a numpy array.\"\n",
    "assert isinstance(b3, np.ndarray), \"b3 should be a numpy array.\"\n",
    "\n",
    "assert b1.shape[0] == 1, \"The number of rows in b1 is incorrect.\"\n",
    "assert b1.shape[1] == n1, \"The number of columns in b1 is incorrect.\"\n",
    "\n",
    "assert b2.shape[0] == 1, \"The number of rows in b2 is incorrect.\"\n",
    "assert b2.shape[1] == n2, \"The number of columns in b2 is incorrect.\"\n",
    "\n",
    "assert b3.shape[0] == 1, \"The number of rows in b3 is incorrect.\"\n",
    "assert b3.shape[1] == n3, \"The number of columns in b3 is incorrect.\"\n",
    "\n",
    "assert np.all(b1 == .01), \"The values in b1 should be all zeros, but they are not.\"\n",
    "assert np.all(b2 == .01), \"The values in b2 should be all zeros, but they are not.\"\n",
    "assert np.all(b3 == .01), \"The values in b3 should be all zeros, but they are not.\""
   ]
  },
  {
   "cell_type": "markdown",
   "metadata": {
    "deletable": false,
    "editable": false,
    "nbgrader": {
     "cell_type": "markdown",
     "checksum": "c83e06a4f3ab96696d950a6a2d1eb266",
     "grade": false,
     "grade_id": "cell-9833c54bdcbd88c1",
     "locked": true,
     "schema_version": 3,
     "solution": false
    }
   },
   "source": [
    "#### Rectified Linear Unit (ReLU)\n",
    "\n",
    "$$relu(z) = max(0, z)$$\n",
    "\n",
    "Define the rectified linear unit activation function. If the input is a numpy array, the function should be applied to each element.  You can use the [`np.maximum`](https://docs.scipy.org/doc/numpy/reference/generated/numpy.maximum.html) function."
   ]
  },
  {
   "cell_type": "code",
   "execution_count": 11,
   "metadata": {
    "deletable": false,
    "nbgrader": {
     "cell_type": "code",
     "checksum": "0d6bdfe6ad8bdeaa1ab51056828eb55a",
     "grade": false,
     "grade_id": "cell-37c2b10f025bff91",
     "locked": false,
     "schema_version": 3,
     "solution": true
    }
   },
   "outputs": [],
   "source": [
    "def ReLU(z):\n",
    "    '''\n",
    "    Applies the rectified linear unit activation function to each element in z.\n",
    "    '''\n",
    "    #Return the maximum\n",
    "    return np.maximum(0,z)"
   ]
  },
  {
   "cell_type": "code",
   "execution_count": 12,
   "metadata": {
    "deletable": false,
    "editable": false,
    "nbgrader": {
     "cell_type": "code",
     "checksum": "520a7c4733bb4795d143d49939e238ac",
     "grade": true,
     "grade_id": "cell-659fe4f6e526f900",
     "locked": true,
     "points": 1,
     "schema_version": 3,
     "solution": false
    }
   },
   "outputs": [],
   "source": [
    "assert ReLU(0) == 0, \"Incorrect value for t=0\"\n",
    "assert ReLU(1.234) == 1.234, \"Incorrect result for a positive input.\"\n",
    "assert ReLU(-2.35) == 0, \"Incorrect result for a negative input.\"\n",
    "\n",
    "assert np.array_equal(ReLU(np.array([1.15, -2, 3])), np.array([1.15, 0, 3])), \"Incorrect result for 1D numpy array.\"\n",
    "assert np.array_equal(ReLU(np.array([[-1, 6], [-3, 0.1], [4, 7]])), np.array([[0, 6], [0, 0.1], [4, 7]])), \"Incorrect result for 2D numpy array.\""
   ]
  },
  {
   "cell_type": "markdown",
   "metadata": {},
   "source": [
    "##### Softmax function\n",
    "\n",
    "$$ softmax([z_1, \\dots, z_k]) = \\left[\\frac{e^{z_1}}{e^{z_1}+ \\dots + e^{z_k}}, \\dots, \\frac{e^{z_k}}{e^{z_1}+ \\dots + e^{z_k}}\\right]$$\n",
    "\n",
    "Since you implemented this last week, the implementation is provided below."
   ]
  },
  {
   "cell_type": "code",
   "execution_count": 13,
   "metadata": {},
   "outputs": [],
   "source": [
    "def softmax(Z):\n",
    "    '''\n",
    "    Applies the softmax function to each row of a matrix Z.\n",
    "    This implementation should be vectorized, so it should not contain any for loops.\n",
    "    '''\n",
    "    assert isinstance(Z, np.ndarray) and Z.ndim == 2, \"Input should be a 2D numpy array.\"\n",
    "    \n",
    "    maxVals = np.max(Z, axis=1, keepdims=True)\n",
    "\n",
    "    Znorm = Z - maxVals\n",
    "    num = np.exp(Znorm)\n",
    "    den = np.sum(num, axis=1, keepdims=True)\n",
    "    result = num / den\n",
    "    return result"
   ]
  },
  {
   "cell_type": "markdown",
   "metadata": {
    "deletable": false,
    "editable": false,
    "nbgrader": {
     "cell_type": "markdown",
     "checksum": "db4dc054fdd3a697991d63dd7e649181",
     "grade": false,
     "grade_id": "cell-54390a37fc311cc5",
     "locked": true,
     "schema_version": 3,
     "solution": false
    }
   },
   "source": [
    "#### Forward propagation\n",
    "\n",
    "Implement the forward propagation function.  Be sure to check the dimensions of your variables in order to determine the correct order of matrix multiplication."
   ]
  },
  {
   "cell_type": "code",
   "execution_count": 14,
   "metadata": {
    "deletable": false,
    "nbgrader": {
     "cell_type": "code",
     "checksum": "b0af05bce4680d705d7b2b11bb37ff64",
     "grade": false,
     "grade_id": "cell-69573e1f56723449",
     "locked": false,
     "schema_version": 3,
     "solution": true
    }
   },
   "outputs": [],
   "source": [
    "def forward_propagation(W1, W2, W3, b1, b2, b3, X):\n",
    "    '''\n",
    "    Performs forward propagation on a batch of inputs.\n",
    "    X is a matrix containing a batch of inputs, where each row corresponds to a single data sample.\n",
    "    \n",
    "    Returns a tuple of matrices (A1, A2, A3) containing the activations at the hidden and output layers\n",
    "    for all training examples in X.\n",
    "    '''\n",
    "    #Apply first layer and relu\n",
    "    A1 = ReLU(np.matmul(X, W1)+b1)\n",
    "    #Apply second layer and relu\n",
    "    A2 = ReLU(np.matmul(A1, W2)+b2)\n",
    "    #Apply third layer and relu\n",
    "    A3 = softmax(np.matmul(A2, W3)+b3)\n",
    "    return (A1, A2, A3)"
   ]
  },
  {
   "cell_type": "code",
   "execution_count": 15,
   "metadata": {
    "deletable": false,
    "editable": false,
    "nbgrader": {
     "cell_type": "code",
     "checksum": "0b800eb577c4373e3e61d7b18185262e",
     "grade": false,
     "grade_id": "cell-96bfa58c8835a5c0",
     "locked": true,
     "schema_version": 3,
     "solution": false
    }
   },
   "outputs": [],
   "source": [
    "W1, W2, W3 = initialize_weights(n0, n1, n2, n3)\n",
    "b1, b2, b3 = initialize_bias(n0, n1, n2, n3)\n",
    "(A1, A2, A3) = forward_propagation(W1, W2, W3, b1, b2, b3, X)"
   ]
  },
  {
   "cell_type": "code",
   "execution_count": 16,
   "metadata": {
    "deletable": false,
    "editable": false,
    "nbgrader": {
     "cell_type": "code",
     "checksum": "b7ce0a6ea9b10932529c6e91f1ab307e",
     "grade": true,
     "grade_id": "cell-af11f071a11dd0e2",
     "locked": true,
     "points": 5,
     "schema_version": 3,
     "solution": false
    }
   },
   "outputs": [],
   "source": [
    "assert A1.shape[0] == m, \"The number of rows in A1 is incorrect.\"\n",
    "assert A1.shape[1] == n1, \"The number of columns in A1 is incorrect.\"\n",
    "\n",
    "assert A2.shape[0] == m, \"The number of rows in A2 is incorrect.\"\n",
    "assert A2.shape[1] == n2, \"The number of columns in A2 is incorrect.\"\n",
    "\n",
    "assert A3.shape[0] == m, \"The number of rows in A3 is incorrect.\"\n",
    "assert A3.shape[1] == n3, \"The number of columns in A3 is incorrect.\"\n",
    "\n",
    "assert np.allclose(np.round(A1[0,:], decimals=8), np.array([0., 0., 1.00318339])), \"Incorrect values in A1.\"\n",
    "assert np.allclose(np.round(A2[0,:], decimals=8), np.array([0.71805607, 0., 1.86914649, 0., 0.04748061])), \"Incorrect values in A2.\"\n",
    "assert np.allclose(np.round(A3[0,:], decimals=8), np.array([0.02416447, 0.35563074, 0.62020479])), \"Incorrect values in A3.\"\n"
   ]
  },
  {
   "cell_type": "markdown",
   "metadata": {},
   "source": [
    "##### Cross-entropy loss with regularization\n",
    "\n",
    "In last week's assignment we used the cross-entropy loss function:\n",
    "\n",
    "$$ J = - \\frac{1}{m} \\sum_{i=1}^m \\sum_{j=1}^k y^{(i)}_j \\log(p^{(i)}_j)$$\n",
    "\n",
    "where $y^{(i)}$ is the one-hot encoded label for the $i^{th}$ data point and $p^{(i)}_j$ is the probability of the $j^{th}$ class for the $i^{th}$ data point in the batch.\n",
    "\n",
    "This week we will use a cross-entropy loss function with a regularization term:\n",
    "\n",
    "$$ J = - \\frac{1}{m} \\sum_{i=1}^m \\sum_{j=1}^k \\biggl( y^{(i)}_j \\log(p^{(i)}_j) \\biggr) + \\frac{\\lambda}{2m} \\sum_{i=1}^{3} \\lVert W_i \\rVert_F^2$$\n",
    "\n",
    "where the matrix norm is the [Frobenius norm](http://mathworld.wolfram.com/FrobeniusNorm.html) and $\\lambda$ is a hyperparameter that controls the weight of the regularization term.  The regularization term penalizes large weight values, which makes the weights smaller and reduces the risk of overfitting.  Note that only the weights in $W_1$, $W_2$, and $W_3$ are penalized, not the bias terms."
   ]
  },
  {
   "cell_type": "code",
   "execution_count": 17,
   "metadata": {
    "deletable": false,
    "nbgrader": {
     "cell_type": "code",
     "checksum": "91630bcd92c08de6dc3c8c8cc312a328",
     "grade": false,
     "grade_id": "cell-223a535afdfade8c",
     "locked": false,
     "schema_version": 3,
     "solution": true,
     "task": false
    }
   },
   "outputs": [],
   "source": [
    "def cross_entropy_loss_with_regularization(A, Y, W1, W2, W3, lambd):\n",
    "    '''\n",
    "    Calculates the cross-entropy loss for a set of output probabilities and target labels.\n",
    "    The loss also includes a regularization term on the elements of the weight matrices.\n",
    "    \n",
    "    A is a matrix where each row specifies the output layer activations for a single input.\n",
    "    Y is a matrix where each row specifies the one-hot encoded target label for a single input.\n",
    "    W1, W2, and W3 are the weight matrices of the layers in the neural network\n",
    "    lambd is a hyperparameter specifying the weighting of the regularization penalty.\n",
    "    The computed loss should be a scalar.    \n",
    "    '''\n",
    "    m = A.shape[0]\n",
    "    \n",
    "    #Find the norm of each weights matrix\n",
    "    W1f = np.square(np.linalg.norm(W1)) *(lambd/100)\n",
    "    W2f = np.square(np.linalg.norm(W2)) *(lambd/100)\n",
    "    W3f = np.square(np.linalg.norm(W3)) *(lambd/100)\n",
    "    \n",
    "    #return CE loss with the sum of the norms\n",
    "    return np.sum(np.multiply(np.log(A),Y))/(-m) + (np.sum([W1f, W2f, W3f]))\n"
   ]
  },
  {
   "cell_type": "code",
   "execution_count": 18,
   "metadata": {
    "deletable": false,
    "editable": false,
    "nbgrader": {
     "cell_type": "code",
     "checksum": "fbe53fd0977e21c75ad8b4a00cbe9cfe",
     "grade": false,
     "grade_id": "cell-d55cb50af313921f",
     "locked": true,
     "schema_version": 3,
     "solution": false,
     "task": false
    }
   },
   "outputs": [],
   "source": [
    "W1, W2, W3 = initialize_weights(n0, n1, n2, n3)\n",
    "b1, b2, b3 = initialize_bias(n0, n1, n2, n3)\n",
    "(A1, A2, A3) = forward_propagation(W1, W2, W3, b1, b2, b3, X)\n",
    "lambd = .01\n",
    "J = cross_entropy_loss_with_regularization(A3, Y, W1, W2, W3, lambd)"
   ]
  },
  {
   "cell_type": "code",
   "execution_count": 19,
   "metadata": {
    "deletable": false,
    "editable": false,
    "nbgrader": {
     "cell_type": "code",
     "checksum": "a97bb0e275fa793c95cf1d63cc80b809",
     "grade": true,
     "grade_id": "cell-64ef5ff065f08b74",
     "locked": true,
     "points": 5,
     "schema_version": 3,
     "solution": false,
     "task": false
    }
   },
   "outputs": [],
   "source": [
    "assert np.isscalar(J), \"Output is not a scalar.\"\n",
    "assert np.round(J, decimals=8) == 2.65933389, \"Returns incorrect loss value.\"\n"
   ]
  },
  {
   "cell_type": "code",
   "execution_count": null,
   "metadata": {
    "deletable": false,
    "editable": false,
    "nbgrader": {
     "cell_type": "code",
     "checksum": "e1fba75df26cc60bbd5177e48bfa993c",
     "grade": true,
     "grade_id": "cell-55ec1a62d5b60797",
     "locked": true,
     "points": 5,
     "schema_version": 3,
     "solution": false,
     "task": false
    }
   },
   "outputs": [],
   "source": []
  },
  {
   "cell_type": "markdown",
   "metadata": {
    "deletable": false,
    "nbgrader": {
     "cell_type": "markdown",
     "checksum": "757b245c7d70bec1dcf2f558d79924e9",
     "grade": true,
     "grade_id": "cell-88531bd3fc4f91e6",
     "locked": false,
     "points": 0,
     "schema_version": 3,
     "solution": true
    }
   },
   "source": [
    "YOUR ANSWER HERE"
   ]
  },
  {
   "cell_type": "markdown",
   "metadata": {
    "deletable": false,
    "nbgrader": {
     "cell_type": "markdown",
     "checksum": "fde54c00a5cd91e5879937347c46a765",
     "grade": true,
     "grade_id": "cell-0282ebd4ccd9fada",
     "locked": false,
     "points": 15,
     "schema_version": 3,
     "solution": true
    }
   },
   "source": [
    "***Solution:***\n",
    "\n",
    "Write your gradient equations for a single input $x$, followed by the gradient equations for a batch of samples $X$.\n",
    "\n",
    "Following our computation graph:\n",
    "#### For a sample k:\n",
    "\n",
    "$dJ/da_{3}$:  \n",
    "$\\frac{dJ}{da_{3}} = [\\frac{-y_k}{\\hat{y_k}}]$ \n",
    "\n",
    "\n",
    "$dJ/dz_{3}$:\n",
    "\n",
    "$\\frac{dJ}{dz_{3}} = \\bar{-y_k} + \\bar{a_{3k}}$ \n",
    "\n",
    "$dJ/db_{3}$:\n",
    "\n",
    "$\\frac{dJ}{db_{3}} = \\frac{dJ}{dz_{3}}$ \n",
    "\n",
    "$dJ/dW_{3}$:\n",
    "\n",
    "$\\frac{dJ}{dW_{3}} = \\frac{dJ}{dz_{3}}*a_{2k} + lambd*W3$ \n",
    "\n",
    "$dJ/da_2$:  \n",
    "\n",
    "$\\frac{dJ}{da_2} = \\frac{dJ}{dz_3} * W_{3k} $  \n",
    "\n",
    "$dJ/dz_2$:  \n",
    "\n",
    "$\\frac{dJ}{dz_2} = \\frac{dJ}{da_2}* \\frac{da_2}{dz_2}$\n",
    "\n",
    "where $\\frac{da_2}{dz_2}$ is the derivative of reLU with respect to inputs\n",
    "\n",
    "$\\frac{dJ}{dz_2} = \\frac{dJ}{da_2}$ if $z_2 >0$, else 0  \n",
    "\n",
    "$dJ/dW_2$:\n",
    "\n",
    "$\\frac{dJ}{dW_2} = \\frac{dJ}{dz_2}* a_{1k} + lambd*W2$\n",
    "\n",
    "$dJ/db_2$:    \n",
    "\n",
    "$\\frac{dJ}{db_{2}} = \\frac{dJ}{dz_{2}}$ \n",
    "\n",
    "$dJ/da_1$:  \n",
    "\n",
    "$\\frac{dJ}{da_1} = \\frac{dJ}{dz_2} * W_{2k} $  \n",
    "\n",
    "$dJ/dz_1$:  \n",
    "\n",
    "$\\frac{dJ}{dz_1} = \\frac{dJ}{da_1}* \\frac{da_1}{dz_1}$\n",
    "\n",
    "where $\\frac{da_1}{dz_1}$ is the derivative of reLU with respect to inputs\n",
    "\n",
    "$\\frac{dJ}{dz_1} = \\frac{dJ}{da_1}$ if $z_1 >0$, else 0  \n",
    "\n",
    "$dJ/dW_1$:\n",
    "\n",
    "$\\frac{dJ}{dW_1} = \\frac{dJ}{dz_1}* x_{k} + lambd*W1$\n",
    "\n",
    "$dJ/db_1$:    \n",
    "\n",
    "$\\frac{dJ}{db_{1}} = \\frac{dJ}{dz_{1}}$ \n",
    "\n",
    "## For a batch X\n",
    "\n",
    "dJ/da3:  \n",
    "$\\frac{dJ}{da_3} = [\\frac{-y_1}{\\hat{y_1}},\\frac{-y_2}{\\hat{y_2}},...\\frac{-y_{s3}}{\\hat{y_{s3}}}]$  \n",
    "\n",
    "\n",
    "$\\frac{dJ}{da_3} = \\bar{y} .* \\bar{a_3}^{ -1}$ \n",
    "\n",
    "dJ/dz3:\n",
    "\n",
    "$\\frac{dJ}{dz_3} = \\bar{-y} + \\bar{a_3}$ \n",
    "\n",
    "dJ/db3:\n",
    "\n",
    "$\\frac{dJ}{db_3} = sum(\\frac{dJ}{dz_3})/m$ \n",
    "\n",
    "dJ/dW3:\n",
    "\n",
    "$\\frac{dJ}{dW_3} = \\bar{a}_{2}^T*\\frac{dJ}{dz_3} + \\frac{dJ}{dW3}$  \n",
    "\n",
    "$\\frac{dJ}{dW_3} = (\\bar{a}_{2}^T*\\frac{dJ}{dz_3} + lambd*W3)/m$\n",
    "\n",
    "dJ/da2:\n",
    "\n",
    "$\\frac{dJ}{da_2} = \\frac{dJ}{dz_3} * W_3^T $  \n",
    "\n",
    "dJ/dz2:\n",
    "\n",
    "$\\frac{dJ}{dz_2} =  \\frac{dJ}{da_2}$ if $z_2 >0$, else 0 \n",
    "\n",
    "dJ/db2:\n",
    "\n",
    "$\\frac{dJ}{db_2} = sum(\\frac{dJ}{dz_2})/m$ \n",
    "\n",
    "dJ/dW2:\n",
    "\n",
    "$\\frac{dJ}{dW_2} = (\\bar{a}_{1}^T*\\frac{dJ}{dz_2} + lambd*W2)/m$ \n",
    "\n",
    "dJ/da1:\n",
    "\n",
    "$\\frac{dJ}{da_1} = \\frac{dJ}{dz_2} * W_2^T $  \n",
    "\n",
    "dJ/dz1:\n",
    "\n",
    "$\\frac{dJ}{dz_1} =  \\frac{dJ}{da_1}$ if $z_1 >0$, else 0 \n",
    "\n",
    "dJ/db1:\n",
    "\n",
    "$\\frac{dJ}{db_1} = sum(\\frac{dJ}{dz_1})/m$ \n",
    "\n",
    "dJ/dW1:\n",
    "\n",
    "$\\frac{dJ}{dW_1} = (\\bar{X}^T*\\frac{dJ}{dz_1} + lambd*W1)/m$ "
   ]
  },
  {
   "cell_type": "code",
   "execution_count": 20,
   "metadata": {
    "deletable": false,
    "nbgrader": {
     "cell_type": "code",
     "checksum": "d7244e495134fb5231508cebf4241c2d",
     "grade": false,
     "grade_id": "cell-3bd2d0321e6a270f",
     "locked": false,
     "schema_version": 3,
     "solution": true
    }
   },
   "outputs": [],
   "source": [
    "def back_propagation(W1, W2, W3, b1, b2, b3, A1, A2, A3, X, Y, lambd):\n",
    "    '''    \n",
    "    Performs backpropagation on a batch of training samples using vectorization.\n",
    "    X is a matrix containing a batch of data, where each row corresponds to a single data sample.\n",
    "    Y is a matrix containing the target labels, where each row corresponds to a one hot encoded label.\n",
    "    lambd is a hyperparameter specifying the weight of the regularization term.\n",
    "    \n",
    "    Returns a tuple of matrices (dW1, dW2, dW3, db1, db2, db3) containing the gradients averaged across the batch.\n",
    "    '''\n",
    "    m = X.shape[0]\n",
    "    #Save the bias shapes\n",
    "    db1Shape = b1.shape\n",
    "    db2Shape = b2.shape\n",
    "    db3Shape = b3.shape\n",
    "    \n",
    "    #Calculate the derivatives based on the equations above\n",
    "    da3 = -Y*np.reciprocal(A3)\n",
    "    dz3 = -Y+A3\n",
    "    db3 =  np.reshape(np.sum(dz3, axis=0)/m, db3Shape)\n",
    "    dW3 = (np.matmul(A2.T, dz3) +lambd*W3)/m\n",
    "    da2 = np.matmul(dz3, W3.T)\n",
    "    dz2 = np.multiply(da2, np.where(A2>0, 1, 0))\n",
    "    db2 =  np.reshape(np.sum(dz2, axis=0)/m, db2Shape)\n",
    "    dW2 = (np.matmul(A1.T,dz2) + lambd*W2)/m\n",
    "    da1 = np.matmul(dz2, W2.T)\n",
    "    dz1 = np.multiply(da1, np.where(A1>0, 1, 0))\n",
    "    db1 =  np.reshape(np.sum(dz1, axis=0)/m, db1Shape)\n",
    "    dW1 = (np.matmul(X.T,dz1) + lambd*W1)/m\n",
    "\n",
    "    return (dW1, dW2, dW3, db1, db2, db3)"
   ]
  },
  {
   "cell_type": "code",
   "execution_count": 21,
   "metadata": {
    "deletable": false,
    "editable": false,
    "nbgrader": {
     "cell_type": "code",
     "checksum": "f14f27988fa68c389bf9054953181bcd",
     "grade": false,
     "grade_id": "cell-c45f5e70697e5bec",
     "locked": true,
     "schema_version": 3,
     "solution": false
    }
   },
   "outputs": [],
   "source": [
    "W1, W2, W3 = initialize_weights(n0, n1, n2, n3)\n",
    "b1, b2, b3 = initialize_bias(n0, n1, n2, n3)\n",
    "(A1, A2, A3) = forward_propagation(W1, W2, W3, b1, b2, b3, X)\n",
    "lambd = .01\n",
    "dW1, dW2, dW3, db1, db2, db3 = back_propagation(W1, W2, W3, b1, b2, b3, A1, A2, A3, X, Y, lambd)"
   ]
  },
  {
   "cell_type": "code",
   "execution_count": 22,
   "metadata": {
    "deletable": false,
    "editable": false,
    "nbgrader": {
     "cell_type": "code",
     "checksum": "c588bf26a935891131a3ffff68bb8540",
     "grade": true,
     "grade_id": "cell-20ac674e23f838da",
     "locked": true,
     "points": 5,
     "schema_version": 3,
     "solution": false
    }
   },
   "outputs": [],
   "source": [
    "assert isinstance(dW1, np.ndarray), \"dW1 should be a numpy array.\"\n",
    "assert isinstance(dW2, np.ndarray), \"dW2 should be a numpy array.\"\n",
    "assert isinstance(dW3, np.ndarray), \"dW3 should be a numpy array.\"\n",
    "\n",
    "assert dW3.shape[0] == n2, \"The number of rows in dW3 is incorrect.\"\n",
    "assert dW3.shape[1] == n3, \"The number of columns in dW3 is incorrect.\"\n",
    "\n",
    "assert dW2.shape[0] == n1, \"The number of rows in dW2 is incorrect.\"\n",
    "assert dW2.shape[1] == n2, \"The number of columns in dW2 is incorrect.\"\n",
    "\n",
    "assert dW1.shape[0] == n0, \"The number of rows in dW1 is incorrect.\"\n",
    "assert dW1.shape[1] == n1, \"The number of columns in dW1 is incorrect.\"\n",
    "\n",
    "\n",
    "assert isinstance(db1, np.ndarray), \"db1 should be a numpy array.\"\n",
    "assert isinstance(db2, np.ndarray), \"db2 should be a numpy array.\"\n",
    "assert isinstance(db3, np.ndarray), \"db3 should be a numpy array.\"\n",
    "\n",
    "assert db3.shape[0] == 1, \"The number of rows in db3 is incorrect.\"\n",
    "assert db3.shape[1] == n3, \"The number of columns in db3 is incorrect.\"\n",
    "\n",
    "assert db2.shape[0] == 1, \"The number of rows in db2 is incorrect.\"\n",
    "assert db2.shape[1] == n2, \"The number of columns in db2 is incorrect.\"\n",
    "\n",
    "assert db1.shape[0] == 1, \"The number of rows in db1 is incorrect.\"\n",
    "assert db1.shape[1] == n1, \"The number of columns in db1 is incorrect.\"\n",
    "\n",
    "assert np.allclose(np.round(dW3[0,:], decimals=8), np.array([-0.33152692, -0.16852274,  0.50040573])), \"Incorrect values for dW3.\"\n",
    "assert np.allclose(np.round(dW2[0,:], decimals=8), np.array([-0.12900891,  0.10285185, -0.10161577, -0.00150705,  0.06391473])), \"Incorrect values for dW2.\"\n",
    "assert np.allclose(np.round(dW1[0,:], decimals=8), np.array([-0.0194978 ,  0.00929456, -0.1503903 ])), \"Incorrect values for dW1.\"\n",
    "assert np.allclose(np.round(db3, decimals=8), np.array([-0.29658961,  0.02880348,  0.26778614])), \"Incorrect values for db3.\"\n",
    "assert np.allclose(np.round(db2, decimals=8), np.array([ 0.30485599,  0.01887831,  0.38868551, -0.01298385, -0.20289378])), \"Incorrect values for db2.\"\n",
    "assert np.allclose(np.round(db1, decimals=8), np.array([-0.01850444, -0.05875769,  0.95161451])), \"Incorrect values for db1.\"\n"
   ]
  },
  {
   "cell_type": "code",
   "execution_count": null,
   "metadata": {
    "deletable": false,
    "editable": false,
    "nbgrader": {
     "cell_type": "code",
     "checksum": "a0e0a883387cb37337a1dd825a7714df",
     "grade": true,
     "grade_id": "cell-739f93c6194a9758",
     "locked": true,
     "points": 5,
     "schema_version": 3,
     "solution": false,
     "task": false
    }
   },
   "outputs": [],
   "source": []
  },
  {
   "cell_type": "markdown",
   "metadata": {
    "deletable": false,
    "editable": false,
    "nbgrader": {
     "cell_type": "markdown",
     "checksum": "e277ecd55d6c84ed92b16fcdb5d258cf",
     "grade": false,
     "grade_id": "cell-bc2f8ca5ae03dc3a",
     "locked": true,
     "schema_version": 3,
     "solution": false,
     "task": false
    }
   },
   "source": [
    "#### Gradient Checking\n",
    "\n",
    "You will implement a gradient checking function to verify that your backpropagation implementation is correct.  The gradient checking consists of the following steps:\n",
    "- Set your network weights to arbitrary default values.\n",
    "- Use your forward and backward propagation functions to calculate the gradients of the network weights.  These are the values that we would like to verify.\n",
    "- For each network weight, compute the approximate gradient by doing the following:\n",
    "    - Add a small epsilon to the weight/bias element of interest to create a modified set of network weights.\n",
    "    - Perform forward propagation and calculate the loss for the modified network weights ($J_+$).\n",
    "    - Subtract a small epsilon from the weight/bias element of interest to create another modified set of network weights.\n",
    "    - Perform forward propagation and calculate the loss of these modified network weights ($J_-$).\n",
    "    - Compute the approximate gradient for the element of interest as $\\frac{J_+ - J_-}{2 * \\epsilon}$.\n",
    "- Once you have computed an approximate gradient for each network weight, compare your approximate gradient to your backpropagated gradient to verify that they approximately match.\n",
    "\n",
    "To simplify your implementation, we will provide utility functions for flattening all network weights into a vector and extracting the network weights from a flattened vector."
   ]
  },
  {
   "cell_type": "code",
   "execution_count": 23,
   "metadata": {
    "deletable": false,
    "editable": false,
    "nbgrader": {
     "cell_type": "code",
     "checksum": "1dea04790ab50b5586b15e56a7dcc249",
     "grade": false,
     "grade_id": "cell-31864df829254e48",
     "locked": true,
     "schema_version": 3,
     "solution": false,
     "task": false
    }
   },
   "outputs": [],
   "source": [
    "def flattened(W1, W2, W3, b1, b2, b3):\n",
    "    V = np.concatenate((W1.flatten(), W2.flatten(), W3.flatten(), b1.flatten(), b2.flatten(), b3.flatten()))\n",
    "    return V\n",
    "\n",
    "def reshaped(V, n0, n1, n2, n3):\n",
    "    t1 = n0*n1\n",
    "    t2 = t1 + n1*n2\n",
    "    t3 = t2 + n2*n3\n",
    "    t4 = t3 + n1\n",
    "    t5 = t4 + n2\n",
    "    W1 = V[:t1].reshape(n0, n1)\n",
    "    W2 = V[t1:t2].reshape(n1, n2)\n",
    "    W3 = V[t2:t3].reshape(n2, n3)\n",
    "    b1 = V[t3:t4].reshape(1, n1)\n",
    "    b2 = V[t4:t5].reshape(1, n2)\n",
    "    b3 = V[t5:].reshape(1, n3)\n",
    "    return W1, W2, W3, b1, b2, b3 "
   ]
  },
  {
   "cell_type": "code",
   "execution_count": 24,
   "metadata": {
    "deletable": false,
    "nbgrader": {
     "cell_type": "code",
     "checksum": "2b86e5f8abe43daaaee77ffe413bd9d0",
     "grade": false,
     "grade_id": "cell-adfe37aab91a69f3",
     "locked": false,
     "schema_version": 3,
     "solution": true,
     "task": false
    }
   },
   "outputs": [],
   "source": [
    "def gradient_checking(W1, W2, W3, b1, b2, b3, X, Y, lambd, epsilon = 1e-8):\n",
    "    '''\n",
    "    Performs gradient checking to verify that the backpropagation function is correct.\n",
    "    '''\n",
    "    \n",
    "    n0, n1, n2, n3 = W1.shape[0], W2.shape[0], W3.shape[0], W3.shape[1]\n",
    "    (A1, A2, A3) = forward_propagation(W1, W2, W3, b1, b2, b3, X)\n",
    "    dW1, dW2, dW3, db1, db2, db3 = back_propagation(W1, W2, W3, b1, b2, b3, A1, A2, A3, X, Y, lambd)\n",
    "    V = flattened(W1, W2, W3, b1, b2, b3)\n",
    "    grad = flattened(dW1, dW2, dW3, db1, db2, db3)\n",
    "    grad_approx = np.zeros_like(grad)\n",
    "    \n",
    "    for i in range(len(V)):\n",
    "        \n",
    "        V_plus = V.copy()\n",
    "        V_plus[i] += epsilon\n",
    "        V_minus = V.copy()\n",
    "        V_minus[i] -= epsilon\n",
    "        \n",
    "        #Calculate the slightly shifted weights\n",
    "        W1_plus, W2_plus, W3_plus, b1_plus, b2_plus, b3_plus = reshaped(V_plus, n0, n1, n2, n3)\n",
    "        W1_minus, W2_minus, W3_minus, b1_minus, b2_minus, b3_minus = reshaped(V_minus, n0, n1, n2, n3)\n",
    "        #Forward propagate\n",
    "        A1p, A2p, A3p = forward_propagation(W1_plus, W2_plus, W3_plus, b1_plus, b2_plus, b3_plus, X)\n",
    "        A1m, A2m, A3m = forward_propagation(W1_minus, W2_minus, W3_minus, b1_minus, b2_minus, b3_minus, X)\n",
    "        \n",
    "        #Find losses for each\n",
    "        lossp = cross_entropy_loss_with_regularization(A3p, Y, W1_plus, W2_plus, W3_plus, lambd)\n",
    "        lossm = cross_entropy_loss_with_regularization(A3m, Y, W1_minus, W2_minus, W3_minus, lambd)\n",
    "        \n",
    "        #Calculate the approximate grad based on the difference in losses\n",
    "        a_gradval = (lossp-lossm)/(2*epsilon)\n",
    "        grad_approx[i] = a_gradval\n",
    "        \n",
    "    err = np.linalg.norm(grad - grad_approx)\n",
    "    rel_err = err/(np.linalg.norm(grad) + np.linalg.norm(grad_approx))\n",
    "    print(\"Relative error in gradient approximation: {}\".format(rel_err))\n",
    "    if rel_err < 1e-7:\n",
    "        print('Passes gradient checking')\n",
    "    else:\n",
    "        print('Fails gradient checking')\n",
    "    return rel_err, grad, grad_approx"
   ]
  },
  {
   "cell_type": "code",
   "execution_count": 25,
   "metadata": {
    "deletable": false,
    "editable": false,
    "nbgrader": {
     "cell_type": "code",
     "checksum": "5762d903a8b2f03d953c517db31322f3",
     "grade": false,
     "grade_id": "cell-19d5a4352b92062e",
     "locked": true,
     "schema_version": 3,
     "solution": false,
     "task": false
    }
   },
   "outputs": [
    {
     "name": "stdout",
     "output_type": "stream",
     "text": [
      "Relative error in gradient approximation: 2.4243895879131173e-08\n",
      "Passes gradient checking\n"
     ]
    }
   ],
   "source": [
    "W1, W2, W3 = initialize_weights(n0, n1, n2, n3)\n",
    "b1, b2, b3 = initialize_bias(n0, n1, n2, n3)\n",
    "lambd = .01\n",
    "maxerror, g, ga = gradient_checking(W1, W2, W3, b1, b2, b3, X, Y, lambd)"
   ]
  },
  {
   "cell_type": "code",
   "execution_count": 26,
   "metadata": {
    "deletable": false,
    "editable": false,
    "nbgrader": {
     "cell_type": "code",
     "checksum": "e5c16d6b34fce26c05319c9a3425b8c1",
     "grade": true,
     "grade_id": "cell-b289facaa43db6ec",
     "locked": true,
     "points": 5,
     "schema_version": 3,
     "solution": false,
     "task": false
    }
   },
   "outputs": [],
   "source": [
    "assert maxerror < 1e-7, \"Gradient checking fails.\""
   ]
  },
  {
   "cell_type": "markdown",
   "metadata": {},
   "source": [
    "#### Updating network weights\n",
    "\n",
    "The network weights are updated as follows:\n",
    "\n",
    "$W_1 = W_1 - \\alpha * \\frac{dJ}{dW_1}$  \n",
    "\n",
    "$W_2 = W_2 - \\alpha * \\frac{dJ}{dW_2}$  \n",
    "\n",
    "$W_3 = W_3 - \\alpha * \\frac{dJ}{dW_3}$  \n",
    "\n",
    "$b_1 = b_1 - \\alpha * \\frac{dJ}{db_1}$  \n",
    "\n",
    "$b_2 = b_2 - \\alpha * \\frac{dJ}{db_2}$\n",
    "\n",
    "$b_3 = b_3 - \\alpha * \\frac{dJ}{db_3}$\n",
    "\n",
    "where $\\alpha$ is the learning rate and the gradients are estimated across a batch of training samples."
   ]
  },
  {
   "cell_type": "code",
   "execution_count": 27,
   "metadata": {
    "deletable": false,
    "nbgrader": {
     "cell_type": "code",
     "checksum": "a7a3f8e5b1f489d57856f9718e62dc81",
     "grade": false,
     "grade_id": "cell-74a044a2af474a7d",
     "locked": false,
     "schema_version": 3,
     "solution": true
    }
   },
   "outputs": [],
   "source": [
    "def update_parameters(W1, W2, W3, b1, b2, b3, dW1, dW2, dW3, db1, db2, db3, alpha):\n",
    "    '''\n",
    "    Returns the weights after a single gradient descent update.\n",
    "    dW1, dW2, dW3, db1, db2, db3 are the gradients averaged across a batch of training samples.\n",
    "    W1, W2, W3, b1, b2, b3 are the network weights, which should be updated and returned.\n",
    "    '''\n",
    "    \n",
    "    # Modify weights based on learning rates and grads\n",
    "    W1 = W1-alpha*dW1\n",
    "    W2 = W2-alpha*dW2\n",
    "    W3 = W3-alpha*dW3\n",
    "    b1 = b1-alpha*db1\n",
    "    b2 = b2-alpha*db2\n",
    "    b3 = b3-alpha*db3\n",
    "    return (W1, W2, W3, b1, b2, b3 )"
   ]
  },
  {
   "cell_type": "code",
   "execution_count": 28,
   "metadata": {
    "deletable": false,
    "editable": false,
    "nbgrader": {
     "cell_type": "code",
     "checksum": "db130d28b3e6272a35277e5c773bb97d",
     "grade": false,
     "grade_id": "cell-de672d58d3aab116",
     "locked": true,
     "schema_version": 3,
     "solution": false,
     "task": false
    }
   },
   "outputs": [],
   "source": [
    "alpha = .1\n",
    "W1, W2, W3 = initialize_weights(n0, n1, n2, n3)\n",
    "b1, b2, b3 = initialize_bias(n0, n1, n2, n3)\n",
    "(A1, A2, A3) = forward_propagation(W1, W2, W3, b1, b2, b3, X)\n",
    "lambd = .01\n",
    "dW1, dW2, dW3, db1, db2, db3 = back_propagation(W1, W2, W3, b1, b2, b3, A1, A2, A3, X, Y, lambd)\n",
    "W1, W2, W3, b1, b2, b3 = update_parameters(W1, W2, W3, b1, b2, b3, dW1, dW2, dW3, db1, db2, db3, alpha)"
   ]
  },
  {
   "cell_type": "code",
   "execution_count": 29,
   "metadata": {
    "deletable": false,
    "editable": false,
    "nbgrader": {
     "cell_type": "code",
     "checksum": "e815afddc6bb07e2f8f094fe2faaf617",
     "grade": true,
     "grade_id": "cell-669871e75c09473",
     "locked": true,
     "points": 2,
     "schema_version": 3,
     "solution": false
    }
   },
   "outputs": [],
   "source": [
    "assert isinstance(W1, np.ndarray), \"W1 should be a numpy array.\"\n",
    "assert isinstance(W2, np.ndarray), \"W2 should be a numpy array.\"\n",
    "assert isinstance(W3, np.ndarray), \"W3 should be a numpy array.\"\n",
    "\n",
    "assert W1.shape[0] == n0, \"The number of rows in W1 is incorrect.\"\n",
    "assert W1.shape[1] == n1, \"The number of columns in W1 is incorrect.\"\n",
    "\n",
    "assert W2.shape[0] == n1, \"The number of rows in W2 is incorrect.\"\n",
    "assert W2.shape[1] == n2, \"The number of columns in W2 is incorrect.\"\n",
    "\n",
    "assert W3.shape[0] == n2, \"The number of rows in W3 is incorrect.\"\n",
    "assert W3.shape[1] == n3, \"The number of columns in W3 is incorrect.\"\n",
    "\n",
    "assert isinstance(b1, np.ndarray), \"b1 should be a numpy array.\"\n",
    "assert isinstance(b2, np.ndarray), \"b2 should be a numpy array.\"\n",
    "assert isinstance(b3, np.ndarray), \"b3 should be a numpy array.\"\n",
    "\n",
    "assert b1.shape[0] == 1, \"The number of rows in b1 is incorrect.\"\n",
    "assert b1.shape[1] == n1, \"The number of columns in b1 is incorrect.\"\n",
    "\n",
    "assert b2.shape[0] == 1, \"The number of rows in b2 is incorrect.\"\n",
    "assert b2.shape[1] == n2, \"The number of columns in b2 is incorrect.\"\n",
    "\n",
    "assert b3.shape[0] == 1, \"The number of rows in b3 is incorrect.\"\n",
    "assert b3.shape[1] == n3, \"The number of columns in b3 is incorrect.\"\n",
    "\n",
    "assert np.allclose(np.round(W1[0,:], decimals=8), np.array([1.24932316, 0.28202442, 0.7071113 ])), \"Incorrect values for W1.\"\n",
    "assert np.allclose(np.round(b1[0,:], decimals=8), np.array([ 0.01185044,  0.01587577, -0.08516145])), \"Incorrect values for b1.\""
   ]
  },
  {
   "cell_type": "markdown",
   "metadata": {
    "deletable": false,
    "editable": false,
    "nbgrader": {
     "cell_type": "markdown",
     "checksum": "be0a4ebf231f94bd76e1dd206dffb2c0",
     "grade": false,
     "grade_id": "cell-9584d9af97aac2af",
     "locked": true,
     "schema_version": 3,
     "solution": false,
     "task": false
    }
   },
   "source": [
    "#### Training\n",
    "\n",
    "In this function we will bring all the functions together to update the network weights using mini-batch gradient descent.  There are three main differences from the batch gradient descent training function you implemented last week:\n",
    "1.  Instead of estimating the gradients on the entire training set, we will estimate the gradients and update the weights on small batches of samples.  This means that we will make many updates to the weights in a single epoch.\n",
    "2.  After each epoch, we will shuffle the order of the training samples.  This avoids learning characteristics that are specific to particular groupings of data points in the batches.\n",
    "3.  After each epoch, we will also evaluate the performance of the neural network on a separate validation set.  This is necessary to identify how much we are overfitting to the training data."
   ]
  },
  {
   "cell_type": "code",
   "execution_count": 30,
   "metadata": {
    "deletable": false,
    "nbgrader": {
     "cell_type": "code",
     "checksum": "7b972a16f18777fce422b1452098ec66",
     "grade": false,
     "grade_id": "cell-1d845cae609b7243",
     "locked": false,
     "schema_version": 3,
     "solution": true,
     "task": false
    }
   },
   "outputs": [],
   "source": [
    "def training(X_train, Y_train, X_val, Y_val, n1, n2, batch_size, alpha, lambd, num_epochs):\n",
    "    '''\n",
    "    Learn the network weights on a set of training examples using mini-batch gradient descent.\n",
    "    \n",
    "    Inputs\n",
    "    ------\n",
    "    X_train: a matrix containing the training data, where each row corresponds to a single training example\n",
    "    Y_train: a matrix containing the training target labels, where each row contains a one hot encoded target label.\n",
    "    X_val: a matrix containing the validation data\n",
    "    Y_val: a matrix containing the validation target labels\n",
    "    n1: the number of units in the first hidden layer\n",
    "    n2: the number of units in the second hidden layer\n",
    "    batch_size: size of each batch used in mini-batch gradient descent\n",
    "    alpha: the learning rate for gradient descent\n",
    "    lambd: hyperparameter specifying the weight of the regularization term\n",
    "    num_epochs: the number of times to iterate over the dataset\n",
    "    \n",
    "    Returns a tuple of matrices (W1, W2, W3, b1, b2, b3, hist) containing the learned network weights,\n",
    "    along with a history of the training and validation loss values after each training epoch.\n",
    "    '''\n",
    "    np.random.seed(0)\n",
    "    \n",
    "    n0 = X_train.shape[1] \n",
    "    n3 = Y_train.shape[1]\n",
    "    N = X_train.shape[0]\n",
    "    \n",
    "    W1, W2, W3 = initialize_weights(n0, n1, n2, n3)\n",
    "    b1, b2, b3 = initialize_bias(n0, n1, n2, n3)\n",
    "    hist = []\n",
    "\n",
    "    for epoch in range(num_epochs):\n",
    "        \n",
    "        train_idxs_all = np.arange(N) # shuffle training data\n",
    "        np.random.shuffle(train_idxs_all) \n",
    "        train_loss = 0 # accumulate losses from mini-batches \n",
    "        \n",
    "        for i in range(0, N, batch_size):\n",
    "            \n",
    "            idxs_batch = train_idxs_all[i:min(i+batch_size,N)]\n",
    "            X_batch = X_train[idxs_batch,:]\n",
    "            Y_batch = Y_train[idxs_batch,:]\n",
    "            \n",
    "            #Forward propagate for predictions/intermediate vals\n",
    "            (A1, A2, A3) = forward_propagation(W1, W2, W3, b1, b2, b3, X_batch)\n",
    "            \n",
    "            #backpropagate for grads\n",
    "            dW1,dW2,dW3,db1,db2,db3 = back_propagation(W1, W2, W3, b1, b2, b3, A1, A2, A3, X_batch, Y_batch, lambd)\n",
    "            \n",
    "            #Calculate the loss\n",
    "            batch_loss = cross_entropy_loss_with_regularization(A3, Y_batch, W1, W2, W3, lambd)\n",
    "            \n",
    "            #Add it to total loss\n",
    "            train_loss += batch_loss * X_batch.shape[0]\n",
    "            \n",
    "            #Update params\n",
    "            W1, W2, W3, b1, b2, b3 = update_parameters(W1, W2, W3, b1, b2, b3, dW1, dW2, dW3, db1, db2, db3, alpha)\n",
    "            \n",
    "        train_loss = train_loss / N\n",
    "        \n",
    "        #Calculate valid loss\n",
    "        A1,A2,A3 = forward_propagation(W1,W2,W3,b1,b2,b3,X_val)\n",
    "        val_loss = cross_entropy_loss_with_regularization(A3, Y_val, W1, W2, W3, lambd)\n",
    "        if (epoch+1) % 10 == 0:\n",
    "            print('Epoch {}: Training Loss = {:.6f}, Validation Loss = {:.6f}'.format(epoch+1, train_loss, val_loss))    \n",
    "        hist.append((train_loss, val_loss))\n",
    "    \n",
    "    return W1, W2, W3, b1, b2, b3, hist"
   ]
  },
  {
   "cell_type": "code",
   "execution_count": 31,
   "metadata": {
    "deletable": false,
    "editable": false,
    "nbgrader": {
     "cell_type": "code",
     "checksum": "11db266daba5e6518a32cc2de8d0626b",
     "grade": false,
     "grade_id": "cell-993e7f2f2d75ae32",
     "locked": true,
     "schema_version": 3,
     "solution": false,
     "task": false
    }
   },
   "outputs": [
    {
     "name": "stdout",
     "output_type": "stream",
     "text": [
      "Epoch 10: Training Loss = 0.842556, Validation Loss = 0.833713\n",
      "Epoch 20: Training Loss = 0.816144, Validation Loss = 0.890102\n",
      "Epoch 30: Training Loss = 0.790352, Validation Loss = 0.795190\n",
      "Epoch 40: Training Loss = 0.770361, Validation Loss = 0.764392\n",
      "Epoch 50: Training Loss = 0.755709, Validation Loss = 0.738133\n"
     ]
    }
   ],
   "source": [
    "W1, W2, W3 = initialize_weights(n0, n1, n2, n3)\n",
    "alpha = .1\n",
    "lambd = .01\n",
    "W1, W2, W3, b1, b2, b3, _ = training(X_train, Y_train, X_val, Y_val, n1, n2, m, alpha, lambd, 50)"
   ]
  },
  {
   "cell_type": "code",
   "execution_count": 32,
   "metadata": {
    "deletable": false,
    "editable": false,
    "nbgrader": {
     "cell_type": "code",
     "checksum": "b41ae096e784ecf789febcaeb087210b",
     "grade": true,
     "grade_id": "cell-a5fc87554a198e20",
     "locked": true,
     "points": 5,
     "schema_version": 3,
     "solution": false,
     "task": false
    }
   },
   "outputs": [],
   "source": [
    "assert isinstance(b1, np.ndarray), \"b1 should be a numpy array.\"\n",
    "assert isinstance(b2, np.ndarray), \"b2 should be a numpy array.\"\n",
    "assert isinstance(b3, np.ndarray), \"b3 should be a numpy array.\"\n",
    "\n",
    "assert b1.shape[0] == 1, \"The number of rows in b1 is incorrect.\"\n",
    "assert b1.shape[1] == n1, \"The number of columns in b1 is incorrect.\"\n",
    "\n",
    "assert b2.shape[0] == 1, \"The number of rows in b2 is incorrect.\"\n",
    "assert b2.shape[1] == n2, \"The number of columns in b2 is incorrect.\"\n",
    "\n",
    "assert b3.shape[0] == 1, \"The number of rows in b3 is incorrect.\"\n",
    "assert b3.shape[1] == n3, \"The number of columns in b3 is incorrect.\"\n",
    "\n",
    "assert isinstance(W1, np.ndarray), \"W1 should be a numpy array.\"\n",
    "assert isinstance(W2, np.ndarray), \"W2 should be a numpy array.\"\n",
    "assert isinstance(W3, np.ndarray), \"W3 should be a numpy array.\"\n",
    "\n",
    "assert W1.shape[0] == n0, \"The number of rows in W1 is incorrect.\"\n",
    "assert W1.shape[1] == n1, \"The number of columns in W1 is incorrect.\"\n",
    "\n",
    "assert W2.shape[0] == n1, \"The number of rows in W2 is incorrect.\"\n",
    "assert W2.shape[1] == n2, \"The number of columns in W2 is incorrect.\"\n",
    "\n",
    "assert W3.shape[0] == n2, \"The number of rows in W3 is incorrect.\"\n",
    "assert W3.shape[1] == n3, \"The number of columns in W3 is incorrect.\"\n",
    "\n",
    "assert np.allclose(np.round(W1[0,:], decimals=8), np.array([ 1.00874988, -0.17402805,  0.39194318])), \"Incorrect learned weights for W1.\"\n",
    "assert np.allclose(np.round(b1[0,:], decimals=8), np.array([1.35886379, 0.19199265, 0.54218461])), \"Incorrect learned values for b1.\""
   ]
  },
  {
   "cell_type": "markdown",
   "metadata": {
    "deletable": false,
    "editable": false,
    "nbgrader": {
     "cell_type": "markdown",
     "checksum": "33b706887ba9832b07a4a78766f8a508",
     "grade": false,
     "grade_id": "cell-7bc30eaf343fd46c",
     "locked": true,
     "schema_version": 3,
     "solution": false,
     "task": false
    }
   },
   "source": [
    "##### Prediction\n",
    "\n",
    "Implement a function to make predictions on a batch of samples."
   ]
  },
  {
   "cell_type": "code",
   "execution_count": 33,
   "metadata": {
    "deletable": false,
    "nbgrader": {
     "cell_type": "code",
     "checksum": "4026830516f9714365f7b2bedcd773ca",
     "grade": false,
     "grade_id": "cell-270ecea5c6c3df85",
     "locked": false,
     "schema_version": 3,
     "solution": true,
     "task": false
    }
   },
   "outputs": [],
   "source": [
    "def predict(W1, W2, W3, b1, b2, b3, X):\n",
    "    '''\n",
    "    Returns the predicted labels 'Y' and class probabilities 'P' for a set of data samples.\n",
    "    \n",
    "    X is a matrix specifying the data, where each row corresponds to a single data sample.\n",
    "    Y is a vector of integers specifying the predicted class labels.\n",
    "    P is matrix of probabilities, where each row specifies the class probabilities for a single data sample.\n",
    "    '''\n",
    "    \n",
    "    (A1, A2, P) = forward_propagation(W1, W2, W3, b1, b2, b3, X)\n",
    "    Y = np.argmax(P, axis = 1)\n",
    "    \n",
    "    return Y, P"
   ]
  },
  {
   "cell_type": "code",
   "execution_count": 34,
   "metadata": {
    "deletable": false,
    "editable": false,
    "nbgrader": {
     "cell_type": "code",
     "checksum": "54876e280311f565e07a4116aa9822f9",
     "grade": false,
     "grade_id": "cell-701c72964f8c67c",
     "locked": true,
     "schema_version": 3,
     "solution": false
    }
   },
   "outputs": [],
   "source": [
    "Y_pred, P = predict(W1, W2, W3, b1, b2, b3, X)"
   ]
  },
  {
   "cell_type": "code",
   "execution_count": 35,
   "metadata": {
    "deletable": false,
    "editable": false,
    "nbgrader": {
     "cell_type": "code",
     "checksum": "f17a6779757e1995cfad502cb29a5af2",
     "grade": true,
     "grade_id": "cell-0f07e123d68eeff3",
     "locked": true,
     "points": 5,
     "schema_version": 3,
     "solution": false,
     "task": false
    }
   },
   "outputs": [],
   "source": [
    "assert isinstance(Y_pred, np.ndarray) and Y_pred.shape == (X.shape[0],), \"Y should be a numpy array of shape (m,)\"\n",
    "assert isinstance(P, np.ndarray) and P.shape == (X.shape[0], n3), \"P should be a numpy array of shape (m, n3).\"\n",
    "assert np.array_equal(Y_pred[5:10], np.array([1, 2, 0, 2, 1])), \"Incorrect predicted labels.\"\n",
    "assert np.allclose(np.round(P[15,:], decimals=8), np.array([0.01476187, 0.64671651, 0.33852162])), \"Incorrect class probabilities.\""
   ]
  },
  {
   "cell_type": "markdown",
   "metadata": {
    "deletable": false,
    "editable": false,
    "nbgrader": {
     "cell_type": "markdown",
     "checksum": "c27b07ed63243671574155de53be400b",
     "grade": false,
     "grade_id": "cell-df08f7ee3ea1fa85",
     "locked": true,
     "schema_version": 3,
     "solution": false
    }
   },
   "source": [
    "## Part 2\n",
    "\n",
    "In the second part of this assignment, you will implement and incorporate dropout into your neural network.  Dropout is a powerful technique for reducing overfitting that has become a standard tool in the literature.\n",
    "\n",
    "Dropout is usually applied to the output of a hidden layer.  A dropout layer is unique in that it has different behavior during training and during testing:\n",
    "- During training, it will randomly ignore or \"drop out\" some of the layer outputs on each training sample with some probability $p$.  This makes the layer appear as if it has a different number of nodes with different connections to the previous and succeeding layers.  This forces the network to make good predictions even when some of its nodes are absent, which makes the network more robust.  To account for the fact that fewer units are active, the layer outputs are scaled by $\\frac{1}{1-p}$.  Note that if there is no dropout (i.e. $p=0$), then all units are active and the layer outputs are scaled by $1$.  If the dropout rate is $p=0.5$, then on average half of the units will be active and the layer outputs are scaled by $2$.\n",
    "- During testing, all of the layer outputs are kept and the layer outputs are not scaled.  This is equivalent to applying dropout with $p=0$.\n",
    "\n",
    "In the functions below, we will apply dropout to the outputs of both hidden layers.\n"
   ]
  },
  {
   "cell_type": "markdown",
   "metadata": {
    "deletable": false,
    "editable": false,
    "nbgrader": {
     "cell_type": "markdown",
     "checksum": "9d6cd9e9f06ff6cd52f7a6fee270b67a",
     "grade": false,
     "grade_id": "cell-553d2b70587a1115",
     "locked": true,
     "schema_version": 3,
     "solution": false,
     "task": false
    }
   },
   "source": [
    "##### Forward propagation with dropout\n",
    "\n",
    "Implement forward propagation with dropout.  Dropout can be implemented in the following way:\n",
    "\n",
    "* Calculate the hidden layer activations `A1`, which is a matrix of shape `(m, n1)`.\n",
    "* Generate a binary matrix `D1` to apply dropout.  `D1` has the same shape as `A1` and each of its elements is a random Bernoulli variable.  You can implement this by creating a matrix of random values uniformly distributed between $0$ and $1$ using [`np.random.random()`](https://docs.scipy.org/doc/numpy-1.15.0/reference/generated/numpy.random.random.html), and then thresholding at a value `keep_prob`.  Note: our autograding tests assume that the entries of D1 and D2 are floats, not boolean. \n",
    "* Multiply `A1` and `D1` elementwise to drop out some of the nodes in `A1` and normalize the result by `keep_prob`.\n",
    "* Repeat the above steps with dropout for calculating `A2`.\n",
    "\n",
    "Note that dropout should not be applied to the final output layer."
   ]
  },
  {
   "cell_type": "code",
   "execution_count": 36,
   "metadata": {
    "deletable": false,
    "nbgrader": {
     "cell_type": "code",
     "checksum": "51f65f41e6ffa036e19b895e7f48d55d",
     "grade": false,
     "grade_id": "cell-0ded528c4ccfbd84",
     "locked": false,
     "schema_version": 3,
     "solution": true
    }
   },
   "outputs": [],
   "source": [
    "def forward_propagation_with_dropout(W1, W2, W3, b1, b2, b3, X, keep_prob, seed = None):\n",
    "    '''\n",
    "    Performs forward propagation on a batch of inputs, where dropout is applied to the output of both hidden layers.\n",
    "    X is a matrix containing a batch of inputs, where each row corresponds to a single data sample.\n",
    "    keep_prob specifies the probability of keeping a node in dropout.\n",
    "    seed is for the random number generator.  Specify a value if you want a deterministic output (e.g. for gradient checking)\n",
    "    \n",
    "    Returns a tuple of matrices (A1, A2, A3, D1, D2) containing the activations at the hidden and output layers\n",
    "    for all training examples in X, as well as the binary masks for applying dropout.  The activations A1 and A2\n",
    "    should be taken before dropout is applied.\n",
    "    '''\n",
    "    if seed is not None:\n",
    "        np.random.seed(seed)\n",
    "        \n",
    "    normFact = 1/keep_prob\n",
    "    \n",
    "    A1 = ReLU(np.matmul(X, W1)+b1)\n",
    "    randomD1 = np.random.random(A1.shape)\n",
    "    D1 = np.where(randomD1<keep_prob, 1,0)\n",
    "    A2 = ReLU(np.matmul(np.multiply(A1, D1)*normFact, W2)+b2)\n",
    "    randomD2 = np.random.random(A2.shape)\n",
    "    D2 = np.where(randomD2<keep_prob, 1,0)\n",
    "    A3 = softmax(np.matmul(np.multiply(A2, D2)*normFact, W3)+b3)\n",
    "    \n",
    "    return (A1, A2, A3, D1, D2)"
   ]
  },
  {
   "cell_type": "code",
   "execution_count": 37,
   "metadata": {
    "deletable": false,
    "editable": false,
    "nbgrader": {
     "cell_type": "code",
     "checksum": "5bba35de624246a5b1f901b4ca746365",
     "grade": false,
     "grade_id": "cell-46ce774ee00d4f0e",
     "locked": true,
     "schema_version": 3,
     "solution": false,
     "task": false
    }
   },
   "outputs": [],
   "source": [
    "keep_prob=0.8\n",
    "W1, W2, W3 = initialize_weights(n0, n1, n2, n3)\n",
    "b1, b2, b3 = initialize_bias(n0, n1, n2, n3)\n",
    "(A1, A2, A3, D1, D2) = forward_propagation_with_dropout(W1, W2, W3, b1, b2, b3, X, keep_prob, 0)"
   ]
  },
  {
   "cell_type": "code",
   "execution_count": 38,
   "metadata": {
    "deletable": false,
    "editable": false,
    "nbgrader": {
     "cell_type": "code",
     "checksum": "20872d41f1f0c8ab09f3ef638018cacd",
     "grade": true,
     "grade_id": "cell-c67aaf0218c689fc",
     "locked": true,
     "points": 10,
     "schema_version": 3,
     "solution": false,
     "task": false
    }
   },
   "outputs": [],
   "source": [
    "assert A1.shape[0] == m, \"The number of rows in A1 is incorrect.\"\n",
    "assert A1.shape[1] == n1, \"The number of columns in A1 is incorrect.\"\n",
    "\n",
    "assert A2.shape[0] == m, \"The number of rows in A2 is incorrect.\"\n",
    "assert A2.shape[1] == n2, \"The number of columns in A2 is incorrect.\"\n",
    "\n",
    "assert A3.shape[0] == m, \"The number of rows in A3 is incorrect.\"\n",
    "assert A3.shape[1] == n3, \"The number of columns in A3 is incorrect.\"\n",
    "\n",
    "assert np.allclose(np.round( A1[0], decimals=8), np.array( [0.        , 0.        , 1.00318339] )), \"Incorrect values for A1 .\"\n",
    "assert np.allclose(np.round( A2[0], decimals=8), np.array( [0.89507008, 0.        , 2.33393312, 0.        , 0.05685076] )), \"Incorrect values for  A2 .\"\n",
    "assert np.allclose(np.round( A3[0], decimals=8), np.array( [0.00442725, 0.2941838 , 0.70138895] )), \"Incorrect values for  A3 .\"\n",
    "assert np.allclose(np.round( D1[0], decimals=8), np.array( [1, 1, 1] )), \"Incorrect values for  D1 .\"\n",
    "assert np.allclose(np.round( D2[0], decimals=8), np.array( [1, 0, 1, 1, 1] )), \"Incorrect values for  D2 .\""
   ]
  },
  {
   "cell_type": "markdown",
   "metadata": {
    "deletable": false,
    "editable": false,
    "nbgrader": {
     "cell_type": "markdown",
     "checksum": "ec130c3b8724b03419fce9f611aaa0a8",
     "grade": false,
     "grade_id": "cell-d80e28a0b07d3e91",
     "locked": true,
     "schema_version": 3,
     "solution": false
    }
   },
   "source": [
    "##### Backward propagation with dropout\n",
    "\n",
    "Implement backward propagation with dropout.  Think about how elementwise multiplication with a binary mask matrix or a constant scalar will affect your backpropagation equations."
   ]
  },
  {
   "cell_type": "code",
   "execution_count": 39,
   "metadata": {
    "deletable": false,
    "nbgrader": {
     "cell_type": "code",
     "checksum": "4526fea1486f84415358eaf5a64023dd",
     "grade": false,
     "grade_id": "cell-c5b22dc09f94ad45",
     "locked": false,
     "schema_version": 3,
     "solution": true
    }
   },
   "outputs": [],
   "source": [
    "def back_propagation_with_dropout(W1, W2, W3, b1, b2, b3, A1, A2, A3, D1, D2, X, Y, lambd, keep_prob):\n",
    "    '''\n",
    "    Performs backpropagation on a batch of training samples, where dropout has been applied to the output of both hidden layers.\n",
    "    X is a matrix containing a batch of data, where each row corresponds to a single data sample.\n",
    "    Y is a matrix containing the target labels, where each row corresponds to a one hot encoded label.\n",
    "    D1 and D2 specify the binary mask matrices used to apply dropout to the current batch of samples.\n",
    "    lambd is a hyperparameter specifying the weight of the regularization term.\n",
    "    keep_prob specifies the probability of keeping a node when applying dropout.\n",
    "    \n",
    "    Returns a tuple of matrices (dW1, dW2, dW3, db1, db2, db3) containing the gradients averaged across the batch.\n",
    "    '''\n",
    "    \n",
    "    m = X.shape[0]\n",
    "    \n",
    "    #Save shapes of biases\n",
    "    db1Shape = b1.shape\n",
    "    db2Shape = b2.shape\n",
    "    db3Shape = b3.shape\n",
    "    \n",
    "    #Calculate a normalization factor for dropout layers\n",
    "    normFact = 1/keep_prob\n",
    "\n",
    "    #Find intermediate grads with chain rule\n",
    "    da3 = -Y*np.reciprocal(A3)\n",
    "    dz3 = -Y+A3\n",
    "    db3 =  np.reshape(np.sum(dz3, axis=0)/m, db3Shape)\n",
    "    dW3 = (np.matmul(np.multiply(A2, D2).T * normFact, dz3) + lambd*W3)/m\n",
    "    dd2 = D2 * normFact\n",
    "    da2 = np.multiply(dd2, np.matmul(dz3, W3.T))\n",
    "    dz2 = np.multiply(da2, np.where(A2>0, 1, 0))\n",
    "    db2 =  np.reshape(np.sum(dz2, axis=0)/m, db2Shape)\n",
    "    dW2 = (np.matmul(np.multiply(A1, D1).T * normFact, dz2) + lambd*W2)/m\n",
    "    dd1 = D1 * normFact\n",
    "    da1 = np.multiply(dd1, np.matmul(dz2, W2.T))\n",
    "    dz1 = np.multiply(da1, np.where(A1>0, 1, 0))\n",
    "    db1 =  np.reshape(np.sum(dz1, axis=0)/m, db1Shape)\n",
    "    dW1 = (np.matmul(X.T,dz1) + lambd*W1)/m\n",
    "    \n",
    "    return (dW1, dW2, dW3, db1, db2, db3)"
   ]
  },
  {
   "cell_type": "code",
   "execution_count": 40,
   "metadata": {
    "deletable": false,
    "editable": false,
    "nbgrader": {
     "cell_type": "code",
     "checksum": "3744d31fbbf5214b561cb093f61d452a",
     "grade": false,
     "grade_id": "cell-6adf7ad55a14b27d",
     "locked": true,
     "schema_version": 3,
     "solution": false
    }
   },
   "outputs": [],
   "source": [
    "keep_prob=0.8\n",
    "lambd=.01\n",
    "W1, W2, W3 = initialize_weights(n0, n1, n2, n3)\n",
    "b1, b2, b3 = initialize_bias(n0, n1, n2, n3)\n",
    "(A1, A2, A3, D1, D2) = forward_propagation_with_dropout(W1, W2, W3, b1, b2, b3, X, keep_prob)\n",
    "dW1, dW2, dW3, db1, db2, db3 = back_propagation_with_dropout(W1, W2, W3, b1, b2, b3, A1, A2, A3, D1, D2, X, Y, lambd, keep_prob)"
   ]
  },
  {
   "cell_type": "code",
   "execution_count": 41,
   "metadata": {
    "deletable": false,
    "editable": false,
    "nbgrader": {
     "cell_type": "code",
     "checksum": "7292627415cd6df2f7dc40b235e6a359",
     "grade": true,
     "grade_id": "cell-4253c7acb8ae128a",
     "locked": true,
     "points": 10,
     "schema_version": 3,
     "solution": false
    }
   },
   "outputs": [],
   "source": [
    "assert isinstance(dW1, np.ndarray), \"dW1 should be a numpy array.\"\n",
    "assert isinstance(dW2, np.ndarray), \"dW2 should be a numpy array.\"\n",
    "assert isinstance(dW3, np.ndarray), \"dW3 should be a numpy array.\"\n",
    "\n",
    "assert dW3.shape[0] == n2, \"The number of rows in dW3 is incorrect.\"\n",
    "assert dW3.shape[1] == n3, \"The number of columns in dW3 is incorrect.\"\n",
    "\n",
    "assert dW2.shape[0] == n1, \"The number of rows in dW2 is incorrect.\"\n",
    "assert dW2.shape[1] == n2, \"The number of columns in dW2 is incorrect.\"\n",
    "\n",
    "assert dW1.shape[0] == n0, \"The number of rows in dW1 is incorrect.\"\n",
    "assert dW1.shape[1] == n1, \"The number of columns in dW1 is incorrect.\"\n",
    "\n",
    "\n",
    "assert isinstance(db1, np.ndarray), \"db1 should be a numpy array.\"\n",
    "assert isinstance(db2, np.ndarray), \"db2 should be a numpy array.\"\n",
    "assert isinstance(db3, np.ndarray), \"db3 should be a numpy array.\"\n",
    "\n",
    "assert db3.shape[0] == 1, \"The number of rows in db3 is incorrect.\"\n",
    "assert db3.shape[1] == n3, \"The number of columns in db3 is incorrect.\"\n",
    "\n",
    "assert db2.shape[0] == 1, \"The number of rows in db2 is incorrect.\"\n",
    "assert db2.shape[1] == n2, \"The number of columns in db2 is incorrect.\"\n",
    "\n",
    "assert db1.shape[0] == 1, \"The number of rows in db1 is incorrect.\"\n",
    "assert db1.shape[1] == n1, \"The number of columns in db1 is incorrect.\"\n",
    "\n",
    "assert np.allclose(np.round( dW3[0], decimals=8), np.array( [-0.55225924, -0.07843022,  0.63104553] )), \"Incorrect values for dW3 .\"\n",
    "assert np.allclose(np.round( dW2[0], decimals=8), np.array( [ 0.11682459,  0.12856525,  0.04817769, -0.04148614,  0.04113111] )), \"Incorrect values for  dW2 .\"\n",
    "assert np.allclose(np.round( dW1[0], decimals=8), np.array( [-0.02193494, -0.01868819,  0.17371224])), \"Incorrect values for  dW1 .\"\n",
    "assert np.allclose(np.round( db3[0], decimals=8), np.array( [-0.27999885,  0.01612187,  0.26387698] )), \"Incorrect values for  db3 .\"\n",
    "assert np.allclose(np.round( db2[0], decimals=8), np.array( [ 0.39026195,  0.06514925,  0.4973931 , -0.03334392, -0.20734988] )), \"Incorrect values for  db2 .\"\n",
    "assert np.allclose(np.round( db1[0], decimals=8), np.array( [ 0.03812913, -0.07847543,  1.14225253] )), \"Incorrect values for  db1 .\""
   ]
  },
  {
   "cell_type": "markdown",
   "metadata": {
    "deletable": false,
    "editable": false,
    "nbgrader": {
     "cell_type": "markdown",
     "checksum": "a752336200469547f0602318c377e97e",
     "grade": false,
     "grade_id": "cell-2788c5bd712338f6",
     "locked": true,
     "schema_version": 3,
     "solution": false,
     "task": false
    }
   },
   "source": [
    "Let's do gradient checking to verify our implementation of backpropagation with dropout."
   ]
  },
  {
   "cell_type": "code",
   "execution_count": 42,
   "metadata": {
    "deletable": false,
    "nbgrader": {
     "cell_type": "code",
     "checksum": "affb336cb90ec980d38c021441c9f883",
     "grade": false,
     "grade_id": "cell-fd2fb743ae58607f",
     "locked": false,
     "schema_version": 3,
     "solution": true,
     "task": false
    }
   },
   "outputs": [],
   "source": [
    "def gradient_checking_with_dropout(W1, W2, W3, b1, b2, b3, X, Y, lambd, keep_prob, epsilon = 1e-8):\n",
    "    '''\n",
    "    Performs gradient checking to verify that the backpropagation with dropout is correct.\n",
    "    When doing forward propagation, make sure to set the random seed so the computation is deterministic.\n",
    "    '''\n",
    "    \n",
    "    n0, n1, n2, n3 = W1.shape[0], W2.shape[0], W3.shape[0], W3.shape[1]\n",
    "    (A1, A2, A3, D1, D2) = forward_propagation_with_dropout(W1, W2, W3, b1, b2, b3, X, keep_prob, 0)\n",
    "    dW1, dW2, dW3, db1, db2, db3 = back_propagation_with_dropout(W1, W2, W3, b1, b2, b3, A1, A2, A3, D1, D2, X, Y, lambd, keep_prob)\n",
    "    V = flattened(W1, W2, W3, b1, b2, b3)\n",
    "    grad = flattened(dW1, dW2, dW3, db1, db2, db3)\n",
    "    grad_approx = np.zeros_like(grad)\n",
    "    \n",
    "    for i in range(len(V)):\n",
    "        \n",
    "        V_plus = V.copy()\n",
    "        V_plus[i] += epsilon\n",
    "        V_minus = V.copy()\n",
    "        V_minus[i] -= epsilon\n",
    "        \n",
    "        W1_plus, W2_plus, W3_plus, b1_plus, b2_plus, b3_plus = reshaped(V_plus, n0, n1, n2, n3)\n",
    "        W1_minus, W2_minus, W3_minus, b1_minus, b2_minus, b3_minus = reshaped(V_minus, n0, n1, n2, n3)\n",
    "        \n",
    "        A1p, A2p, A3p, D1p, D2p = forward_propagation_with_dropout(W1_plus, W2_plus, W3_plus, b1_plus, b2_plus, b3_plus, X, keep_prob, 0)\n",
    "        A1m, A2m, A3m, D1p, D2p = forward_propagation_with_dropout(W1_minus, W2_minus, W3_minus, b1_minus, b2_minus, b3_minus, X, keep_prob, 0)\n",
    "        \n",
    "        lossp = cross_entropy_loss_with_regularization(A3p, Y, W1_plus, W2_plus, W3_plus, lambd)\n",
    "        lossm = cross_entropy_loss_with_regularization(A3m, Y, W1_minus, W2_minus, W3_minus, lambd)\n",
    "        a_gradval = (lossp-lossm)/(2*epsilon)\n",
    "        grad_approx[i] = a_gradval\n",
    "    \n",
    "    \n",
    "    err = np.linalg.norm(grad - grad_approx)\n",
    "    rel_err = err/(np.linalg.norm(grad) + np.linalg.norm(grad_approx))\n",
    "    print(\"Relative error in gradient approximation: {}\".format(rel_err))\n",
    "    if rel_err < 1e-7:\n",
    "        print('Passes gradient checking')\n",
    "    else:\n",
    "        print('Fails gradient checking')\n",
    "    return rel_err, grad, grad_approx"
   ]
  },
  {
   "cell_type": "code",
   "execution_count": 43,
   "metadata": {
    "deletable": false,
    "editable": false,
    "nbgrader": {
     "cell_type": "code",
     "checksum": "3140801996ce3a57e6efa60f268eed84",
     "grade": false,
     "grade_id": "cell-6a8dc2cb614e8756",
     "locked": true,
     "schema_version": 3,
     "solution": false,
     "task": false
    }
   },
   "outputs": [
    {
     "name": "stdout",
     "output_type": "stream",
     "text": [
      "Relative error in gradient approximation: 2.3907054916213286e-08\n",
      "Passes gradient checking\n"
     ]
    }
   ],
   "source": [
    "W1, W2, W3 = initialize_weights(n0, n1, n2, n3)\n",
    "b1, b2, b3 = initialize_bias(n0, n1, n2, n3)\n",
    "lambd = 0 # .01\n",
    "keep_prob = 1\n",
    "rel_err, g, ga = gradient_checking_with_dropout(W1, W2, W3, b1, b2, b3, X, Y, lambd, keep_prob)"
   ]
  },
  {
   "cell_type": "code",
   "execution_count": 44,
   "metadata": {
    "deletable": false,
    "editable": false,
    "nbgrader": {
     "cell_type": "code",
     "checksum": "639378c3dd3a0279eeeff5cc243c2f89",
     "grade": true,
     "grade_id": "cell-10dee55611bc4509",
     "locked": true,
     "points": 5,
     "schema_version": 3,
     "solution": false,
     "task": false
    }
   },
   "outputs": [],
   "source": [
    "assert maxerror < 1e-7, \"Gradient checking fails.\""
   ]
  },
  {
   "cell_type": "markdown",
   "metadata": {},
   "source": [
    "#### Prediction with dropout\n",
    "\n",
    "At test time, the forward propagation is identical to a model without dropout.  So we can simply reuse our `predict()` function from part 1."
   ]
  },
  {
   "cell_type": "markdown",
   "metadata": {
    "deletable": false,
    "editable": false,
    "nbgrader": {
     "cell_type": "markdown",
     "checksum": "be3374f2b32c137420dd649bf35983c3",
     "grade": false,
     "grade_id": "cell-b46dd3d6d7060f5b",
     "locked": true,
     "schema_version": 3,
     "solution": false
    }
   },
   "source": [
    "##### Training with dropout\n",
    "\n",
    "Re-implement the training function for updating the weights for the network with dropout."
   ]
  },
  {
   "cell_type": "code",
   "execution_count": 45,
   "metadata": {
    "deletable": false,
    "nbgrader": {
     "cell_type": "code",
     "checksum": "d1ca86df32568a245192715a7e54378f",
     "grade": false,
     "grade_id": "cell-42886100828ecf8e",
     "locked": false,
     "schema_version": 3,
     "solution": true,
     "task": false
    }
   },
   "outputs": [],
   "source": [
    "def training_with_dropout(X_train, Y_train, X_val, Y_val, n1, n2, batch_size, alpha, lambd, keep_prob, num_epochs):\n",
    "    '''\n",
    "    Learn the network weights on a set of training examples using mini-batch gradient descent.\n",
    "    In this network, dropout has been applied to the output of both hidden layers.\n",
    "    \n",
    "    Inputs\n",
    "    ------\n",
    "    X_train: a matrix containing the training data, where each row corresponds to a single training example\n",
    "    Y_train: a matrix containing the training target labels, where each row contains a one hot encoded target label.\n",
    "    X_val: a matrix containing the validation data\n",
    "    Y_val: a matrix containing the validation target labels\n",
    "    n1: the number of units in the first hidden layer\n",
    "    n2: the number of units in the second hidden layer\n",
    "    batch_size: size of each batch used in mini-batch gradient descent\n",
    "    alpha: the learning rate for gradient descent\n",
    "    lambd: hyperparameter specifying the weight of the regularization term\n",
    "    keep_prob: a scalar specifying the amount of dropout to apply at the output of both hidden layers\n",
    "    num_epochs: the number of times to iterate over the dataset\n",
    "    \n",
    "    Returns a tuple of matrices (W1, W2, W3, b1, b2, b3, hist) containing the learned network weights,\n",
    "    along with a history of the training and validation loss values after each training epoch.\n",
    "    '''\n",
    "    np.random.seed(0)\n",
    "    \n",
    "    n0 = X_train.shape[1] \n",
    "    n3 = Y_train.shape[1]\n",
    "    N = X_train.shape[0]\n",
    "    \n",
    "    W1, W2, W3 = initialize_weights(n0, n1, n2, n3)\n",
    "    b1, b2, b3 = initialize_bias(n0, n1, n2, n3)\n",
    "    hist = []\n",
    "\n",
    "    for epoch in range(num_epochs):\n",
    "        \n",
    "        train_idxs_all = np.arange(N) # shuffle training data\n",
    "        np.random.shuffle(train_idxs_all) \n",
    "        train_loss = 0 # accumulate losses from mini-batches \n",
    "        \n",
    "        for i in range(0, N, batch_size):\n",
    "            \n",
    "            idxs_batch = train_idxs_all[i:min(i+batch_size,N)]\n",
    "            X_batch = X_train[idxs_batch,:]\n",
    "            Y_batch = Y_train[idxs_batch,:]\n",
    "            \n",
    "            #Forward prop for intermediate vals/predictions\n",
    "            (A1, A2, A3, D1, D2) = forward_propagation_with_dropout(W1, W2, W3, b1, b2, b3, X_batch, keep_prob)\n",
    "            #Back prop for grads\n",
    "            dW1, dW2, dW3, db1, db2, db3 = back_propagation_with_dropout(W1, W2, W3, b1, b2, b3, A1, A2, A3, D1, D2, X_batch, Y_batch, lambd, keep_prob)\n",
    "            #Calculate loss\n",
    "            batch_loss = cross_entropy_loss_with_regularization(A3, Y_batch, W1, W2, W3, lambd)\n",
    "            #Update params\n",
    "            W1, W2, W3, b1, b2, b3 = update_parameters(W1, W2, W3, b1, b2, b3, dW1, dW2, dW3, db1, db2, db3, alpha)\n",
    "            #Increment loss\n",
    "            train_loss += batch_loss * X_batch.shape[0]\n",
    "\n",
    "        train_loss = train_loss / N\n",
    "        \n",
    "        A1,A2,A3 = forward_propagation(W1, W2, W3, b1, b2, b3, X_val)\n",
    "        val_loss = cross_entropy_loss_with_regularization(A3, Y_val, W1, W2, W3, lambd)\n",
    "        \n",
    "        if (epoch+1) % 10 == 0:\n",
    "            print('Epoch {}: Training Loss = {:.6f}, Validation Loss = {:.6f}'.format(epoch+1, train_loss, val_loss))    \n",
    "        hist.append((train_loss, val_loss))\n",
    "    \n",
    "    return W1, W2, W3, b1, b2, b3, hist"
   ]
  },
  {
   "cell_type": "code",
   "execution_count": 46,
   "metadata": {
    "deletable": false,
    "editable": false,
    "nbgrader": {
     "cell_type": "code",
     "checksum": "f9c3e9b5ed91e33c3f72926f1d5ae434",
     "grade": false,
     "grade_id": "cell-152432545e070e9f",
     "locked": true,
     "schema_version": 3,
     "solution": false,
     "task": false
    }
   },
   "outputs": [
    {
     "name": "stdout",
     "output_type": "stream",
     "text": [
      "Epoch 10: Training Loss = 0.956371, Validation Loss = 0.891655\n",
      "Epoch 20: Training Loss = 0.949176, Validation Loss = 0.876674\n",
      "Epoch 30: Training Loss = 0.912268, Validation Loss = 0.877019\n",
      "Epoch 40: Training Loss = 0.917550, Validation Loss = 0.864338\n",
      "Epoch 50: Training Loss = 0.901149, Validation Loss = 0.850146\n",
      "Epoch 60: Training Loss = 0.878729, Validation Loss = 0.841563\n",
      "Epoch 70: Training Loss = 0.882632, Validation Loss = 0.836226\n",
      "Epoch 80: Training Loss = 0.885223, Validation Loss = 0.834332\n",
      "Epoch 90: Training Loss = 0.863555, Validation Loss = 0.821191\n",
      "Epoch 100: Training Loss = 0.874188, Validation Loss = 0.811248\n",
      "Epoch 110: Training Loss = 0.846191, Validation Loss = 0.801888\n",
      "Epoch 120: Training Loss = 0.849830, Validation Loss = 0.802251\n",
      "Epoch 130: Training Loss = 0.849176, Validation Loss = 0.797540\n",
      "Epoch 140: Training Loss = 0.867697, Validation Loss = 0.800399\n",
      "Epoch 150: Training Loss = 0.858307, Validation Loss = 0.797226\n",
      "Epoch 160: Training Loss = 0.866312, Validation Loss = 0.797272\n",
      "Epoch 170: Training Loss = 0.866645, Validation Loss = 0.823274\n",
      "Epoch 180: Training Loss = 0.845612, Validation Loss = 0.796513\n",
      "Epoch 190: Training Loss = 0.858935, Validation Loss = 0.800636\n",
      "Epoch 200: Training Loss = 0.862859, Validation Loss = 0.803363\n",
      "Epoch 210: Training Loss = 0.852364, Validation Loss = 0.800615\n",
      "Epoch 220: Training Loss = 0.863342, Validation Loss = 0.799987\n",
      "Epoch 230: Training Loss = 0.858290, Validation Loss = 0.805379\n",
      "Epoch 240: Training Loss = 0.850377, Validation Loss = 0.802343\n",
      "Epoch 250: Training Loss = 0.850265, Validation Loss = 0.797179\n",
      "Epoch 260: Training Loss = 0.867191, Validation Loss = 0.803563\n",
      "Epoch 270: Training Loss = 0.851659, Validation Loss = 0.807147\n",
      "Epoch 280: Training Loss = 0.857810, Validation Loss = 0.803252\n",
      "Epoch 290: Training Loss = 0.871014, Validation Loss = 0.805253\n",
      "Epoch 300: Training Loss = 0.856887, Validation Loss = 0.806811\n",
      "Epoch 310: Training Loss = 0.853417, Validation Loss = 0.801310\n",
      "Epoch 320: Training Loss = 0.835137, Validation Loss = 0.805030\n",
      "Epoch 330: Training Loss = 0.849580, Validation Loss = 0.804103\n",
      "Epoch 340: Training Loss = 0.846316, Validation Loss = 0.806971\n",
      "Epoch 350: Training Loss = 0.856424, Validation Loss = 0.802499\n",
      "Epoch 360: Training Loss = 0.857968, Validation Loss = 0.806323\n",
      "Epoch 370: Training Loss = 0.849821, Validation Loss = 0.807120\n",
      "Epoch 380: Training Loss = 0.857460, Validation Loss = 0.806496\n",
      "Epoch 390: Training Loss = 0.853521, Validation Loss = 0.810007\n",
      "Epoch 400: Training Loss = 0.872678, Validation Loss = 0.806212\n",
      "Epoch 410: Training Loss = 0.863673, Validation Loss = 0.798947\n",
      "Epoch 420: Training Loss = 0.849506, Validation Loss = 0.806847\n",
      "Epoch 430: Training Loss = 0.860220, Validation Loss = 0.804235\n",
      "Epoch 440: Training Loss = 0.856372, Validation Loss = 0.809207\n",
      "Epoch 450: Training Loss = 0.862298, Validation Loss = 0.804661\n",
      "Epoch 460: Training Loss = 0.851561, Validation Loss = 0.800003\n",
      "Epoch 470: Training Loss = 0.857703, Validation Loss = 0.802246\n",
      "Epoch 480: Training Loss = 0.861088, Validation Loss = 0.808943\n",
      "Epoch 490: Training Loss = 0.845570, Validation Loss = 0.806965\n",
      "Epoch 500: Training Loss = 0.843344, Validation Loss = 0.809864\n"
     ]
    }
   ],
   "source": [
    "alpha = .1\n",
    "lambd = .01\n",
    "keep_prob = .8\n",
    "num_iters = 500\n",
    "W1, W2, W3, b1, b2, b3, _ = training_with_dropout(X_train, Y_train, X_val, Y_val, n1, n2, m, alpha, lambd, keep_prob, num_iters)"
   ]
  },
  {
   "cell_type": "code",
   "execution_count": 47,
   "metadata": {
    "deletable": false,
    "editable": false,
    "nbgrader": {
     "cell_type": "code",
     "checksum": "771b6c2bbee20379c95dc7b68657ec9a",
     "grade": true,
     "grade_id": "cell-c3922de82e24a5cd",
     "locked": true,
     "points": 5,
     "schema_version": 3,
     "solution": false,
     "task": false
    }
   },
   "outputs": [],
   "source": [
    "assert isinstance(b1, np.ndarray), \"b1 should be a numpy array.\"\n",
    "assert isinstance(b2, np.ndarray), \"b2 should be a numpy array.\"\n",
    "assert isinstance(b3, np.ndarray), \"b3 should be a numpy array.\"\n",
    "\n",
    "assert b1.shape[0] == 1, \"The number of rows in b1 is incorrect.\"\n",
    "assert b1.shape[1] == n1, \"The number of columns in b1 is incorrect.\"\n",
    "\n",
    "assert b2.shape[0] == 1, \"The number of rows in b2 is incorrect.\"\n",
    "assert b2.shape[1] == n2, \"The number of columns in b2 is incorrect.\"\n",
    "\n",
    "assert b3.shape[0] == 1, \"The number of rows in b3 is incorrect.\"\n",
    "assert b3.shape[1] == n3, \"The number of columns in b3 is incorrect.\"\n",
    "\n",
    "assert isinstance(W1, np.ndarray), \"W1 should be a numpy array.\"\n",
    "assert isinstance(W2, np.ndarray), \"W2 should be a numpy array.\"\n",
    "assert isinstance(W3, np.ndarray), \"W3 should be a numpy array.\"\n",
    "\n",
    "assert W1.shape[0] == n0, \"The number of rows in W1 is incorrect.\"\n",
    "assert W1.shape[1] == n1, \"The number of columns in W1 is incorrect.\"\n",
    "\n",
    "assert W2.shape[0] == n1, \"The number of rows in W2 is incorrect.\"\n",
    "assert W2.shape[1] == n2, \"The number of columns in W2 is incorrect.\"\n",
    "\n",
    "assert W3.shape[0] == n2, \"The number of rows in W3 is incorrect.\"\n",
    "assert W3.shape[1] == n3, \"The number of columns in W3 is incorrect.\"\n",
    "\n",
    "assert np.allclose(np.round(W1[0,:], decimals=8), np.array([ 0.98400256, -0.90958075,  0.69564401])), \"Incorrect learned weights for W1.\"\n",
    "assert np.allclose(np.round(b1[0,:], decimals=8), np.array([ 0.83243119, -0.99671026, -0.05940563])), \"Incorrect learned values for b1.\""
   ]
  },
  {
   "cell_type": "markdown",
   "metadata": {},
   "source": [
    "## Part 3\n",
    "\n",
    "In the third part of this assignment, you will use your neural network implementation to classify handwritten digits on the MNIST dataset.  You should explore different settings for various hyperparameters, including the hidden layer sizes, batch size, learning rate, regularization weight, dropout rate, and number of training epochs.  \n",
    "\n",
    "There are two deliverables for this part:\n",
    "- A well-labeled figure that shows the training and validation loss vs epoch.  Be careful to avoid overfitting on the training data.\n",
    "- A cell that prints out the classification accuracy of your trained neural network on the validation data.  Classification accuracy is simply the percent of the images that are classified as the correct digit.  You should aim for an accuracy percentage in the high 90s.\n",
    "\n",
    "You may use as many code and Markdown cells as needed.  We have included some code to retrieve the data.  You will need to set up and activate your virtual environment (see instructions posted on Sakai).  Also, make sure your jupyter notebook is running in your virtual environment by following [these instructions](https://anbasile.github.io/programming/2017/06/25/jupyter-venv/)."
   ]
  },
  {
   "cell_type": "code",
   "execution_count": 48,
   "metadata": {
    "deletable": false,
    "editable": false,
    "nbgrader": {
     "cell_type": "code",
     "checksum": "62d138375cd2f346f0b28750a6e6bfa3",
     "grade": false,
     "grade_id": "cell-c1c552e95bb6a257",
     "locked": true,
     "schema_version": 3,
     "solution": false,
     "task": false
    }
   },
   "outputs": [],
   "source": [
    "%matplotlib inline\n",
    "import matplotlib.pyplot as plt\n",
    "import tensorflow as tf\n",
    "import pandas as pd"
   ]
  },
  {
   "cell_type": "code",
   "execution_count": 49,
   "metadata": {
    "deletable": false,
    "editable": false,
    "nbgrader": {
     "cell_type": "code",
     "checksum": "dd8c656f234743914e7cf2536016380d",
     "grade": false,
     "grade_id": "cell-d8ffbd9f0acd9bec",
     "locked": true,
     "schema_version": 3,
     "solution": false,
     "task": false
    }
   },
   "outputs": [],
   "source": [
    "def load_mnist_data():\n",
    "    '''\n",
    "    Retrieves and formats the MNIST data.\n",
    "    '''\n",
    "    (X_train, Y_train), (X_val, Y_val) = tf.keras.datasets.mnist.load_data()\n",
    "    X_train = X_train.reshape((X_train.shape[0], -1))/255.0\n",
    "    X_val = X_val.reshape((X_val.shape[0],-1))/255.0\n",
    "    Y_train = pd.get_dummies(Y_train).to_numpy() # convert to one-hot encoding\n",
    "    Y_val = pd.get_dummies(Y_val).to_numpy()\n",
    "    return X_train, Y_train, X_val, Y_val"
   ]
  },
  {
   "cell_type": "code",
   "execution_count": 50,
   "metadata": {
    "deletable": false,
    "editable": false,
    "nbgrader": {
     "cell_type": "code",
     "checksum": "9016e4c1ca8277a46f52fc68a5a71f55",
     "grade": false,
     "grade_id": "cell-c70911c050f7077a",
     "locked": true,
     "schema_version": 3,
     "solution": false,
     "task": false
    }
   },
   "outputs": [],
   "source": [
    "X_train, Y_train, X_val, Y_val = load_mnist_data()"
   ]
  },
  {
   "cell_type": "code",
   "execution_count": 51,
   "metadata": {
    "deletable": false,
    "editable": false,
    "nbgrader": {
     "cell_type": "code",
     "checksum": "56b3c839b283595435d39ecc5ba34a4b",
     "grade": false,
     "grade_id": "cell-e738f8e623c6f8d2",
     "locked": true,
     "schema_version": 3,
     "solution": false,
     "task": false
    }
   },
   "outputs": [
    {
     "data": {
      "text/plain": [
       "<matplotlib.image.AxesImage at 0x7f9e54cfa430>"
      ]
     },
     "execution_count": 51,
     "metadata": {},
     "output_type": "execute_result"
    },
    {
     "data": {
      "image/png": "[encoded data removed]",
      "text/plain": [
       "<Figure size 432x288 with 1 Axes>"
      ]
     },
     "metadata": {
      "needs_background": "light"
     },
     "output_type": "display_data"
    }
   ],
   "source": [
    "sample_img = X_train[0,:].reshape((28,28))\n",
    "plt.imshow(sample_img, cmap='gray')"
   ]
  },
  {
   "cell_type": "markdown",
   "metadata": {
    "deletable": false,
    "editable": false,
    "nbgrader": {
     "cell_type": "markdown",
     "checksum": "7f3f2fad791f0427f685f7d5bcd6441c",
     "grade": false,
     "grade_id": "cell-c1bc754a3f03ce26",
     "locked": true,
     "points": 5,
     "schema_version": 3,
     "solution": false,
     "task": true
    }
   },
   "source": [
    "For grading purpose: \n",
    "\n",
    "A well-labeled figure that shows the training and validation loss vs epoch. Be careful to avoid overfitting on the training data."
   ]
  },
  {
   "cell_type": "markdown",
   "metadata": {
    "deletable": false,
    "editable": false,
    "nbgrader": {
     "cell_type": "markdown",
     "checksum": "39d8d91e2e056c118945dd782bb17a40",
     "grade": false,
     "grade_id": "cell-5fab5bf8c9befea9",
     "locked": true,
     "points": 4,
     "schema_version": 3,
     "solution": false,
     "task": true
    }
   },
   "source": [
    "For grading purpose: \n",
    "\n",
    "A cell that prints out the classification accuracy of your trained neural network on the validation data. Classification accuracy is simply the percent of the images that are classified as the correct digit. You should aim for an accuracy percentage in the high 90s."
   ]
  },
  {
   "cell_type": "code",
   "execution_count": 52,
   "metadata": {},
   "outputs": [],
   "source": [
    "#Define network parameters\n",
    "n0 = 784\n",
    "n1 = 50\n",
    "n2 = 20\n",
    "n3 = 10\n",
    "m = 5000\n",
    "#I had to cast Y_train and Y_val to floats in order for training to work as expected. When they were left\n",
    "#as uint8, taking -Y like I did in backpropagation would underflow 1 to 255 instead of -1 and break everything\n",
    "Y_train = Y_train.astype(float)\n",
    "Y_val = Y_val.astype(float)"
   ]
  },
  {
   "cell_type": "code",
   "execution_count": 53,
   "metadata": {
    "deletable": false,
    "editable": false,
    "nbgrader": {
     "cell_type": "code",
     "checksum": "e261611cf4755b0ecb57df705db8d7e5",
     "grade": true,
     "grade_id": "cell-23f81057f8ed7781",
     "locked": true,
     "points": 0,
     "schema_version": 3,
     "solution": false,
     "task": false
    }
   },
   "outputs": [],
   "source": [
    "# Intentionally Empty\n"
   ]
  },
  {
   "cell_type": "code",
   "execution_count": 54,
   "metadata": {},
   "outputs": [
    {
     "name": "stdout",
     "output_type": "stream",
     "text": [
      "Epoch 10: Training Loss = 0.492185, Validation Loss = 0.287728\n",
      "Epoch 20: Training Loss = 0.385185, Validation Loss = 0.218936\n",
      "Epoch 30: Training Loss = 0.340737, Validation Loss = 0.194006\n",
      "Epoch 40: Training Loss = 0.305232, Validation Loss = 0.176432\n",
      "Epoch 50: Training Loss = 0.282605, Validation Loss = 0.167479\n",
      "Epoch 60: Training Loss = 0.268287, Validation Loss = 0.163203\n",
      "Epoch 70: Training Loss = 0.254828, Validation Loss = 0.158843\n",
      "Epoch 80: Training Loss = 0.240960, Validation Loss = 0.154281\n",
      "Epoch 90: Training Loss = 0.234467, Validation Loss = 0.151893\n",
      "Epoch 100: Training Loss = 0.226780, Validation Loss = 0.149808\n",
      "Epoch 110: Training Loss = 0.221223, Validation Loss = 0.149520\n",
      "Epoch 120: Training Loss = 0.215786, Validation Loss = 0.149554\n",
      "Epoch 130: Training Loss = 0.213429, Validation Loss = 0.148986\n",
      "Epoch 140: Training Loss = 0.206807, Validation Loss = 0.149318\n",
      "Epoch 150: Training Loss = 0.204138, Validation Loss = 0.147594\n",
      "Epoch 160: Training Loss = 0.200916, Validation Loss = 0.148716\n",
      "Epoch 170: Training Loss = 0.194821, Validation Loss = 0.147933\n",
      "Epoch 180: Training Loss = 0.191161, Validation Loss = 0.150129\n",
      "Epoch 190: Training Loss = 0.190549, Validation Loss = 0.150481\n",
      "Epoch 200: Training Loss = 0.188055, Validation Loss = 0.151293\n"
     ]
    }
   ],
   "source": [
    "#Additional parameters for learning rate, dropout, and regularization. Train for many iterations to see the training\n",
    "#curve\n",
    "alpha = .5\n",
    "lambd = .01\n",
    "keep_prob = .8\n",
    "num_iters = 200\n",
    "W1, W2, W3, b1, b2, b3, losses = training_with_dropout(X_train, Y_train, X_val, Y_val, n1, n2, m, alpha, lambd, keep_prob, num_iters)"
   ]
  },
  {
   "cell_type": "code",
   "execution_count": 55,
   "metadata": {},
   "outputs": [
    {
     "data": {
      "text/plain": [
       "<matplotlib.legend.Legend at 0x7f9e54cb79d0>"
      ]
     },
     "execution_count": 55,
     "metadata": {},
     "output_type": "execute_result"
    },
    {
     "data": {
      "image/png": "[encoded data removed]",
      "text/plain": [
       "<Figure size 432x288 with 1 Axes>"
      ]
     },
     "metadata": {
      "needs_background": "light"
     },
     "output_type": "display_data"
    }
   ],
   "source": [
    "#Plot the training curve\n",
    "#Separate out the losses from training and the epochs\n",
    "valLosses = [x[1] for x in losses]\n",
    "trainLosses = [x[0] for x in losses]\n",
    "epochs = np.arange(num_iters)\n",
    "\n",
    "#Plot them \n",
    "plt.title('Losses vs epoch')\n",
    "plt.plot(epochs, valLosses, label='Validation loss')\n",
    "plt.plot(epochs, trainLosses, label='Train loss')\n",
    "plt.xlabel('Epochs')\n",
    "plt.ylabel('Losses(Cross Entropy with Regularization)')\n",
    "plt.legend()\n"
   ]
  },
  {
   "cell_type": "markdown",
   "metadata": {},
   "source": [
    "#### Valdation loss looked  good at epoch 130, since it increases at epoch 140. Also, validation loss\n",
    "#### is lower than training loss since it doesn't use dropout. Using Epoch 130 for our weights:\n",
    "\n",
    "Let's find the classification accuracy"
   ]
  },
  {
   "cell_type": "code",
   "execution_count": 56,
   "metadata": {},
   "outputs": [
    {
     "name": "stdout",
     "output_type": "stream",
     "text": [
      "Epoch 10: Training Loss = 0.492185, Validation Loss = 0.287728\n",
      "Epoch 20: Training Loss = 0.385185, Validation Loss = 0.218936\n",
      "Epoch 30: Training Loss = 0.340737, Validation Loss = 0.194006\n",
      "Epoch 40: Training Loss = 0.305232, Validation Loss = 0.176432\n",
      "Epoch 50: Training Loss = 0.282605, Validation Loss = 0.167479\n",
      "Epoch 60: Training Loss = 0.268287, Validation Loss = 0.163203\n",
      "Epoch 70: Training Loss = 0.254828, Validation Loss = 0.158843\n",
      "Epoch 80: Training Loss = 0.240960, Validation Loss = 0.154281\n",
      "Epoch 90: Training Loss = 0.234467, Validation Loss = 0.151893\n",
      "Epoch 100: Training Loss = 0.226780, Validation Loss = 0.149808\n",
      "Epoch 110: Training Loss = 0.221223, Validation Loss = 0.149520\n",
      "Epoch 120: Training Loss = 0.215786, Validation Loss = 0.149554\n",
      "Epoch 130: Training Loss = 0.213429, Validation Loss = 0.148986\n"
     ]
    }
   ],
   "source": [
    "#This time, stop at 130 epochs since those weights didn't seem to overfit. At epoch 140, valid loss increases\n",
    "num_iters = 130\n",
    "W1, W2, W3, b1, b2, b3, losses = training_with_dropout(X_train, Y_train, X_val, Y_val, n1, n2, m, alpha, lambd, keep_prob, num_iters)"
   ]
  },
  {
   "cell_type": "code",
   "execution_count": 57,
   "metadata": {},
   "outputs": [
    {
     "name": "stdout",
     "output_type": "stream",
     "text": [
      "Confusion matrix for validation set:\n",
      "[[ 968    0    6    1    1    3    6    1    5    5]\n",
      " [   1 1118    4    1    0    1    3    7    2    4]\n",
      " [   0    3 1002   12    2    1    1   21    2    0]\n",
      " [   0    3    1  970    0    9    0    2    8    7]\n",
      " [   0    0    7    0  949    0    4    2    6   19]\n",
      " [   1    1    0    5    0  855    6    0    5    7]\n",
      " [   5    2    3    0   10    9  935    0    5    2]\n",
      " [   1    1    6   11    1    1    0  987    3    7]\n",
      " [   4    7    3    8    2    8    3    1  934    6]\n",
      " [   0    0    0    2   17    5    0    7    4  952]]\n",
      "Accuracy:\n",
      "96.7%\n"
     ]
    }
   ],
   "source": [
    "#Run the predict function \n",
    "Y_pred, P = predict(W1, W2, W3, b1, b2, b3, X_val)\n",
    "#Extract the actual values\n",
    "Y_act = np.argmax(Y_val, axis = 1)\n",
    "\n",
    "#Make a confusion matrix and a tally for correct predictions\n",
    "confMat = np.zeros((n3,n3))\n",
    "correct = 0\n",
    "\n",
    "#Iterate through predictions, increment confusion matrix and correct tally\n",
    "for x in range(len(Y_pred)):\n",
    "    confMat[Y_pred[x]][Y_act[x]] +=1\n",
    "    if Y_pred[x] ==Y_act[x]:\n",
    "        correct +=1\n",
    "    \n",
    "print(\"Confusion matrix for validation set:\")\n",
    "print(confMat.astype(int))\n",
    "print(\"Accuracy:\")\n",
    "print(str(correct*100/len(Y_pred)) + '%')"
   ]
  },
  {
   "cell_type": "markdown",
   "metadata": {},
   "source": [
    "The neural net worked well on the validation set with a classification accuracy of 96.7%!"
   ]
  }
 ],
 "metadata": {
  "kernelspec": {
   "display_name": "Python 3 (ipykernel)",
   "language": "python",
   "name": "python3"
  },
  "language_info": {
   "codemirror_mode": {
    "name": "ipython",
    "version": 3
   },
   "file_extension": ".py",
   "mimetype": "text/x-python",
   "name": "python",
   "nbconvert_exporter": "python",
   "pygments_lexer": "ipython3",
   "version": "3.8.5"
  }
 },
 "nbformat": 4,
 "nbformat_minor": 2
}
